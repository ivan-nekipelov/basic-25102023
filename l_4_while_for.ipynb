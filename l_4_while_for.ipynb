{
 "cells": [
  {
   "cell_type": "markdown",
   "metadata": {
    "pycharm": {
     "name": "#%% md\n"
    }
   },
   "source": [
    "# Циклы\n"
   ]
  },
  {
   "cell_type": "markdown",
   "metadata": {
    "pycharm": {
     "name": "#%% md\n"
    }
   },
   "source": [
    "**Цикл** — разновидность управляющей конструкции в высокоуровневых языках программирования,\n",
    "предназначенная для организации многократного исполнения набора инструкций.\n",
    "Последовательность инструкций, предназначенная для многократного исполнения, называется **телом цикла**.\n",
    "Единичное выполнение тела цикла называется **итерацией**.\n",
    "Выражение, определяющее, будет в очередной раз выполняться итерация, или цикл завершится, называется\n",
    "**условием выхода** или **условием окончания цикла** (либо условием продолжения в зависимости от того, как\n",
    "интерпретируется его истинность — как признак необходимости завершения или продолжения цикла).\n"
   ]
  },
  {
   "cell_type": "markdown",
   "metadata": {
    "pycharm": {
     "name": "#%% md\n"
    }
   },
   "source": [
    "### Типы циклов в Python\n",
    "В Python существует два вида циклов:\n",
    "**while** -  используется в Python для неоднократного исполнения определенной инструкции до тех пор, пока заданное условие остается истинным..\n",
    "**for** - узкоспециализированная версия цикла. Предназначен для прохода по итерируемым последовательностям.\n"
   ]
  },
  {
   "cell_type": "markdown",
   "metadata": {
    "pycharm": {
     "name": "#%% md\n"
    }
   },
   "source": [
    "### Пример использования цикла while\n",
    "Предположим, что перед вами поставили задачу вывести на экран все числа от 1 до 10. Написать 10 строк с\n",
    "функцией print() явно не самый хороший выход. Так вот, когда нужно повторить какую-то\n",
    "последовательность операторов много раз, и используются циклы.\n"
   ]
  },
  {
   "cell_type": "code",
   "execution_count": 4,
   "metadata": {
    "scrolled": false
   },
   "outputs": [
    {
     "name": "stdout",
     "output_type": "stream",
     "text": [
      "1\n",
      "2\n",
      "3\n",
      "4\n",
      "5\n",
      "6\n",
      "7\n",
      "8\n",
      "9\n",
      "10\n",
      "End\n"
     ]
    }
   ],
   "source": [
    "number = 1\n",
    "\n",
    "while number <= 10:\n",
    "    print(number)\n",
    "    number = number + 1\n",
    "print('End')"
   ]
  },
  {
   "cell_type": "code",
   "execution_count": null,
   "metadata": {},
   "outputs": [],
   "source": [
    "number\n"
   ]
  },
  {
   "cell_type": "markdown",
   "metadata": {
    "pycharm": {
     "name": "#%% md\n"
    }
   },
   "source": [
    "**continue** — прерывает текущую итерацию цикла и сразу переходит к следующей."
   ]
  },
  {
   "cell_type": "code",
   "execution_count": 5,
   "metadata": {
    "scrolled": false
   },
   "outputs": [
    {
     "name": "stdout",
     "output_type": "stream",
     "text": [
      "1\n",
      "2\n",
      "3\n",
      "4\n",
      "6\n",
      "7\n",
      "8\n",
      "9\n",
      "10\n"
     ]
    }
   ],
   "source": [
    "number = 0\n",
    "\n",
    "while number < 10:\n",
    "    number += 1\n",
    "    if number == 3:\n",
    "        continue\n",
    "    print(number)"
   ]
  },
  {
   "cell_type": "code",
   "execution_count": 6,
   "metadata": {},
   "outputs": [
    {
     "data": {
      "text/plain": [
       "False"
      ]
     },
     "execution_count": 6,
     "metadata": {},
     "output_type": "execute_result"
    }
   ],
   "source": [
    "bool([])"
   ]
  },
  {
   "cell_type": "code",
   "execution_count": 7,
   "metadata": {},
   "outputs": [
    {
     "data": {
      "text/plain": [
       "True"
      ]
     },
     "execution_count": 7,
     "metadata": {},
     "output_type": "execute_result"
    }
   ],
   "source": [
    "bool([1])"
   ]
  },
  {
   "cell_type": "code",
   "execution_count": 9,
   "metadata": {},
   "outputs": [
    {
     "name": "stdout",
     "output_type": "stream",
     "text": [
      "2 --- [1, 2, 3]\n",
      "1 --- [4, 5, 6]\n",
      "OK\n"
     ]
    }
   ],
   "source": [
    "lst = [1, 3, 5, 6]\n",
    "\n",
    "while lst:\n",
    "    print(len(lst), '---', lst.pop(0))\n",
    "print('OK')"
   ]
  },
  {
   "cell_type": "markdown",
   "metadata": {
    "pycharm": {
     "name": "#%% md\n"
    }
   },
   "source": [
    "**break** — прекращает выполнение цикла."
   ]
  },
  {
   "cell_type": "code",
   "execution_count": 10,
   "metadata": {
    "scrolled": true
   },
   "outputs": [
    {
     "name": "stdout",
     "output_type": "stream",
     "text": [
      "1\n",
      "2\n",
      "3\n",
      "4\n",
      "End\n"
     ]
    }
   ],
   "source": [
    "number = 0\n",
    "\n",
    "while number <= 10:\n",
    "    number = number + 1\n",
    "    if number == 5:\n",
    "        break\n",
    "    print(number)\n",
    "print('End')"
   ]
  },
  {
   "cell_type": "code",
   "execution_count": null,
   "metadata": {},
   "outputs": [],
   "source": [
    "print(number)"
   ]
  },
  {
   "cell_type": "code",
   "execution_count": 11,
   "metadata": {},
   "outputs": [
    {
     "name": "stdout",
     "output_type": "stream",
     "text": [
      "2\n",
      "4\n",
      "6\n",
      "8\n",
      "10\n"
     ]
    }
   ],
   "source": [
    "number = 0\n",
    "while True: # Если есть break то можно делать и так :)\n",
    "    number += 2\n",
    "    if number >= 11:\n",
    "        break\n",
    "    print(number)"
   ]
  },
  {
   "cell_type": "code",
   "execution_count": null,
   "metadata": {
    "pycharm": {
     "name": "#%%\n"
    }
   },
   "outputs": [],
   "source": [
    "number = 0\n",
    "while True: # continue и break в одном цикле\n",
    "    number = number + 1\n",
    "    if number == 5:\n",
    "        continue\n",
    "    if number == 11:\n",
    "        break\n",
    "    print(number)\n"
   ]
  },
  {
   "cell_type": "markdown",
   "metadata": {
    "pycharm": {
     "name": "#%% md\n"
    }
   },
   "source": [
    "### Дополнение блока while оператором else\n",
    "Как и условный оператор **if**, так и цикл **while** можно дополнить\n",
    "блоком **else**. Принцип работы такого оператора довольно интересен. Блок **else** выполнится лишь в том случае, если цикл\n",
    "завершится нормально. Если же цикл будет прерван с помощью оператора **break** или еще каким образом, то этот блок будет\n",
    "пропущен."
   ]
  },
  {
   "cell_type": "code",
   "execution_count": null,
   "metadata": {},
   "outputs": [],
   "source": [
    "# Проверка простоты числа с помощью цикла\n",
    "number = int(input(\"input positive number \"))\n",
    "i = 2\n",
    "\n",
    "while i < number: # number // 2 + 1\n",
    "    # print(i)\n",
    "    if number % i == 0:\n",
    "        print(\"It is not a prime number\")\n",
    "        break\n",
    "    i = i + 1\n",
    "else: # выполнится, только если break в цикле не будет вызван.\n",
    "    print(\"It is a prime number\")"
   ]
  },
  {
   "cell_type": "markdown",
   "metadata": {
    "pycharm": {
     "name": "#%% md\n"
    }
   },
   "source": [
    "### Использование вложенных циклов while\n",
    "Как и условный оператор **if**, так и цикл **while** можно вложить внутрь другого цикла **while**. Получится цикл в цикле."
   ]
  },
  {
   "cell_type": "code",
   "execution_count": 19,
   "metadata": {
    "scrolled": true
   },
   "outputs": [
    {
     "name": "stdout",
     "output_type": "stream",
     "text": [
      "*****\n",
      "\n",
      "\n",
      "\n",
      "\n"
     ]
    }
   ],
   "source": [
    "# выведет на экран прямоугольник из символов «*».\n",
    "a = int(input(\"Input a \"))\n",
    "b = int(input(\"Input b \"))\n",
    "i = 0\n",
    "while i < a: # Высота\n",
    "    j = 0\n",
    "    while j < b: # ширина\n",
    "        print(\"*\", end='') # строка не будет переведена\n",
    "        j += 1\n",
    "    print()\n",
    "    i += 1"
   ]
  },
  {
   "cell_type": "code",
   "execution_count": 20,
   "metadata": {},
   "outputs": [
    {
     "name": "stdout",
     "output_type": "stream",
     "text": [
      "ok\n",
      "ok1\n"
     ]
    }
   ],
   "source": [
    "print('ok'); print('ok1')\n"
   ]
  },
  {
   "cell_type": "code",
   "execution_count": 22,
   "metadata": {},
   "outputs": [
    {
     "name": "stdout",
     "output_type": "stream",
     "text": [
      "ok1 ok3//ok2\n"
     ]
    }
   ],
   "source": [
    "print('ok1', 'ok3', end='//')\n",
    "print('ok2')"
   ]
  },
  {
   "cell_type": "code",
   "execution_count": 23,
   "metadata": {},
   "outputs": [
    {
     "name": "stdout",
     "output_type": "stream",
     "text": [
      "ok\n",
      "ok\n",
      "ok\n"
     ]
    }
   ],
   "source": [
    "print('ok')\n",
    "print('ok')\n",
    "print('ok')"
   ]
  },
  {
   "cell_type": "markdown",
   "metadata": {
    "pycharm": {
     "name": "#%% md\n"
    }
   },
   "source": [
    "### Дополнительный параметр для функции print\n",
    "Функция **print** может принимать несколько необязательных параметров - *end* и *sep*.\n"
   ]
  },
  {
   "cell_type": "code",
   "execution_count": 24,
   "metadata": {
    "scrolled": true
   },
   "outputs": [
    {
     "name": "stdout",
     "output_type": "stream",
     "text": [
      "1 2 3 4 5 6 7\n"
     ]
    }
   ],
   "source": [
    "print(1, 2, 3, 4, 5, 6, 7)"
   ]
  },
  {
   "cell_type": "code",
   "execution_count": 27,
   "metadata": {
    "scrolled": false
   },
   "outputs": [
    {
     "name": "stdout",
     "output_type": "stream",
     "text": [
      "1&6&9\t481\n"
     ]
    }
   ],
   "source": [
    "print(1, 6, 9, sep='&', end='\\t')\n",
    "print(4,6,7,8,9,10,sep='')"
   ]
  },
  {
   "cell_type": "markdown",
   "metadata": {
    "pycharm": {
     "name": "#%% md\n"
    }
   },
   "source": [
    "### Цикл for в Python\n",
    "\n",
    "**for** *`имя_итерационной_переменной`* **in** *`имя_списка`*:\n",
    "\n",
    "Операторы для работы с итерационной_переменной На каждой итерации такого цикла итерационная\n",
    "переменная принимает значение текущего элемента списка и будет сдвинута на следующий элемент во время следующей\n",
    "итерации. Таким образом этот цикл по очереди переберет все элементы списка.\n",
    " Перевести конструкцию с языка программирования на человеческий можно так:\n",
    " для каждого элемента в списке делать следующее (то, что в теле цикла).\n"
   ]
  },
  {
   "cell_type": "code",
   "execution_count": 28,
   "metadata": {},
   "outputs": [
    {
     "name": "stdout",
     "output_type": "stream",
     "text": [
      "4\n",
      "6\n",
      "8\n",
      "7\n"
     ]
    }
   ],
   "source": [
    "# Доступ к элементам списка с помощью цикла while\n",
    "lst = [4, 6, 8, 7]\n",
    "i = 0\n",
    "while i < len(lst):\n",
    "    l = lst[i]\n",
    "    print(l)\n",
    "    i += 1"
   ]
  },
  {
   "cell_type": "code",
   "execution_count": 29,
   "metadata": {},
   "outputs": [
    {
     "name": "stdout",
     "output_type": "stream",
     "text": [
      "4\n",
      "6\n",
      "8\n",
      "7\n"
     ]
    }
   ],
   "source": [
    "# То же самое, но с помощью цикла for\n",
    "for l in lst:\n",
    "    print(l)"
   ]
  },
  {
   "cell_type": "code",
   "execution_count": 31,
   "metadata": {},
   "outputs": [
    {
     "name": "stdout",
     "output_type": "stream",
     "text": [
      "[4, 6, 8, 7]\n",
      "9\n",
      "11\n",
      "13\n",
      "12\n",
      "[4, 6, 8, 7]\n"
     ]
    }
   ],
   "source": [
    "print(lst)\n",
    "for el in lst:\n",
    "    el = el + 5\n",
    "    print(el)\n",
    "print(lst)"
   ]
  },
  {
   "cell_type": "code",
   "execution_count": null,
   "metadata": {},
   "outputs": [],
   "source": [
    "print(lst)"
   ]
  },
  {
   "cell_type": "code",
   "execution_count": 35,
   "metadata": {
    "scrolled": false
   },
   "outputs": [
    {
     "name": "stdout",
     "output_type": "stream",
     "text": [
      "[4, 6, 8, 7]\n",
      "[9, 11, 13, 12]\n"
     ]
    }
   ],
   "source": [
    "i = 0\n",
    "lst = [4, 6, 8, 7]\n",
    "print(lst)\n",
    "for el in lst:\n",
    "    lst[i] = el + 5\n",
    "    i += 1\n",
    "print(lst)"
   ]
  },
  {
   "cell_type": "code",
   "execution_count": null,
   "metadata": {},
   "outputs": [],
   "source": [
    "print(lst)"
   ]
  },
  {
   "cell_type": "code",
   "execution_count": 36,
   "metadata": {},
   "outputs": [
    {
     "name": "stdout",
     "output_type": "stream",
     "text": [
      "[9, 11, 13, 12]\n"
     ]
    }
   ],
   "source": [
    "lst = [4, 6, 8, 7]\n",
    "i = 0\n",
    "while i < len(lst):\n",
    "    lst[i] += 5\n",
    "    i += 1\n",
    "print(lst)"
   ]
  },
  {
   "cell_type": "code",
   "execution_count": null,
   "metadata": {},
   "outputs": [],
   "source": [
    "print(lst)\n"
   ]
  },
  {
   "cell_type": "code",
   "execution_count": 38,
   "metadata": {
    "scrolled": true
   },
   "outputs": [
    {
     "name": "stdout",
     "output_type": "stream",
     "text": [
      "0 4\n",
      "1 6\n",
      "2 8\n",
      "3 7\n",
      "[9, 11, 13, 12]\n"
     ]
    }
   ],
   "source": [
    "lst = [4, 6, 8, 7]\n",
    "for i, el in enumerate(lst):\n",
    "    print(i, end=' ')\n",
    "    lst[i] = el + 5\n",
    "    print(el)\n",
    "print(lst)"
   ]
  },
  {
   "cell_type": "code",
   "execution_count": null,
   "metadata": {},
   "outputs": [],
   "source": [
    "print(lst)"
   ]
  },
  {
   "cell_type": "markdown",
   "metadata": {
    "pycharm": {
     "name": "#%% md\n"
    }
   },
   "source": [
    "### Генератор числовой последовательности *range*"
   ]
  },
  {
   "cell_type": "code",
   "execution_count": 39,
   "metadata": {},
   "outputs": [
    {
     "data": {
      "text/plain": [
       "range(0, 10)"
      ]
     },
     "execution_count": 39,
     "metadata": {},
     "output_type": "execute_result"
    }
   ],
   "source": [
    "range(10)\n"
   ]
  },
  {
   "cell_type": "code",
   "execution_count": 40,
   "metadata": {},
   "outputs": [
    {
     "name": "stdout",
     "output_type": "stream",
     "text": [
      "<class 'range'>\n"
     ]
    }
   ],
   "source": [
    "print(type(range(10)))"
   ]
  },
  {
   "cell_type": "code",
   "execution_count": 41,
   "metadata": {
    "scrolled": true
   },
   "outputs": [
    {
     "data": {
      "text/plain": [
       "[0, 1, 2, 3, 4, 5, 6, 7, 8, 9]"
      ]
     },
     "execution_count": 41,
     "metadata": {},
     "output_type": "execute_result"
    }
   ],
   "source": [
    "list(range(10))"
   ]
  },
  {
   "cell_type": "code",
   "execution_count": 43,
   "metadata": {},
   "outputs": [
    {
     "name": "stdout",
     "output_type": "stream",
     "text": [
      "48\n",
      "48\n"
     ]
    }
   ],
   "source": [
    "import sys\n",
    "print(sys.getsizeof(range(10)))\n",
    "print(sys.getsizeof(range(100000000)))"
   ]
  },
  {
   "cell_type": "code",
   "execution_count": 45,
   "metadata": {},
   "outputs": [
    {
     "data": {
      "text/plain": [
       "800000056"
      ]
     },
     "execution_count": 45,
     "metadata": {},
     "output_type": "execute_result"
    }
   ],
   "source": [
    "sys.getsizeof(list(range(10_000_000)))"
   ]
  },
  {
   "cell_type": "code",
   "execution_count": 47,
   "metadata": {},
   "outputs": [
    {
     "name": "stdout",
     "output_type": "stream",
     "text": [
      "False\n",
      "False\n",
      "False\n"
     ]
    }
   ],
   "source": [
    "lst = [4, 6, 8, 7]\n",
    "\n",
    "for i in range(len(lst)):\n",
    "    print(i)\n",
    "    lst[i] = lst[i] + 5\n",
    "lst"
   ]
  },
  {
   "cell_type": "code",
   "execution_count": 48,
   "metadata": {},
   "outputs": [
    {
     "data": {
      "text/plain": [
       "[3, 4, 5, 6, 7, 8, 9]"
      ]
     },
     "execution_count": 48,
     "metadata": {},
     "output_type": "execute_result"
    }
   ],
   "source": [
    "list(range(3, 10))"
   ]
  },
  {
   "cell_type": "code",
   "execution_count": 49,
   "metadata": {
    "scrolled": true
   },
   "outputs": [
    {
     "data": {
      "text/plain": [
       "[3, 5, 7, 9]"
      ]
     },
     "execution_count": 49,
     "metadata": {},
     "output_type": "execute_result"
    }
   ],
   "source": [
    "list(range(3, 10, 2))"
   ]
  },
  {
   "cell_type": "code",
   "execution_count": 52,
   "metadata": {},
   "outputs": [
    {
     "data": {
      "text/plain": [
       "[-10, -11, -12]"
      ]
     },
     "execution_count": 52,
     "metadata": {},
     "output_type": "execute_result"
    }
   ],
   "source": [
    "list(range(-13, -10))"
   ]
  },
  {
   "cell_type": "code",
   "execution_count": 54,
   "metadata": {},
   "outputs": [
    {
     "data": {
      "text/plain": [
       "[0, -2, -4, -6, -8]"
      ]
     },
     "execution_count": 54,
     "metadata": {},
     "output_type": "execute_result"
    }
   ],
   "source": [
    "list(range(0, -10, -1))"
   ]
  },
  {
   "cell_type": "code",
   "execution_count": 55,
   "metadata": {},
   "outputs": [
    {
     "ename": "TypeError",
     "evalue": "'float' object cannot be interpreted as an integer",
     "output_type": "error",
     "traceback": [
      "\u001b[0;31m---------------------------------------------------------------------------\u001b[0m",
      "\u001b[0;31mTypeError\u001b[0m                                 Traceback (most recent call last)",
      "\u001b[1;32m/Users/ivan.niekipielov/courses/basic-25102023/l_4_while_for.ipynb Cell 49\u001b[0m line \u001b[0;36m1\n\u001b[0;32m----> <a href='vscode-notebook-cell:/Users/ivan.niekipielov/courses/basic-25102023/l_4_while_for.ipynb#X66sZmlsZQ%3D%3D?line=0'>1</a>\u001b[0m \u001b[39mlist\u001b[39m(\u001b[39mrange\u001b[39;49m(\u001b[39m0.5\u001b[39;49m, \u001b[39m10.5\u001b[39;49m)) \u001b[39m# TypeError: 'float' object cannot be interpreted as an integer\u001b[39;00m\n",
      "\u001b[0;31mTypeError\u001b[0m: 'float' object cannot be interpreted as an integer"
     ]
    }
   ],
   "source": [
    "list(range(0.5, 10.5)) # TypeError: 'float' object cannot be interpreted as an integer"
   ]
  },
  {
   "cell_type": "markdown",
   "metadata": {
    "pycharm": {
     "name": "#%% md\n"
    }
   },
   "source": [
    "#### заполнить список десятью случайными числами от 1 до 100 и посчитать их сумму."
   ]
  },
  {
   "cell_type": "code",
   "execution_count": 56,
   "metadata": {},
   "outputs": [
    {
     "name": "stdout",
     "output_type": "stream",
     "text": [
      "[14, 99, 35, 137, 69, 617]\n",
      "971\n"
     ]
    }
   ],
   "source": [
    "import random\n",
    "my_list = []\n",
    "\n",
    "for i in range(random.randint(6, 15)):\n",
    "    my_list.append(random.randint(1, 1000))\n",
    "print(my_list)\n",
    "\n",
    "summa = 0\n",
    "for element in my_list:\n",
    "    summa += element\n",
    "print(summa)"
   ]
  },
  {
   "cell_type": "code",
   "execution_count": 58,
   "metadata": {
    "scrolled": true
   },
   "outputs": [
    {
     "name": "stdout",
     "output_type": "stream",
     "text": [
      "[1, 2, 3, 4, 5, 6, 7, 8, 9]\n",
      "[76, 67, 97, 4, 38, 79]\n"
     ]
    }
   ],
   "source": [
    "my_list = [random.randint(1, 100) for i in range(random.randint(6, 15))]\n",
    "print(my_list)"
   ]
  },
  {
   "cell_type": "code",
   "execution_count": 63,
   "metadata": {},
   "outputs": [
    {
     "name": "stdout",
     "output_type": "stream",
     "text": [
      "361\n",
      "10.5\n"
     ]
    }
   ],
   "source": [
    "print(sum(my_list))"
   ]
  },
  {
   "cell_type": "code",
   "execution_count": null,
   "metadata": {},
   "outputs": [],
   "source": [
    "lst = [88, 13, 6, 79, 1, 19, 79, 17, 1, 70]\n",
    "y = 10\n",
    "# my_list = [i + random.randint(1,100) for i in lst]\n",
    "my_list = [i + y for i in lst]\n",
    "print(my_list)\n",
    "print(sum(my_list))"
   ]
  },
  {
   "cell_type": "markdown",
   "metadata": {
    "pycharm": {
     "name": "#%% md\n"
    }
   },
   "source": [
    "#### Модуль random\n",
    "Несколько основных методов"
   ]
  },
  {
   "cell_type": "code",
   "execution_count": 64,
   "metadata": {
    "pycharm": {
     "name": "#%%\n"
    },
    "scrolled": false
   },
   "outputs": [
    {
     "name": "stdout",
     "output_type": "stream",
     "text": [
      "Вывод случайного числа от 0 до 1\n",
      "0.8361661120982409\n"
     ]
    }
   ],
   "source": [
    "print(\"Вывод случайного числа от 0 до 1\")\n",
    "print(random.random())"
   ]
  },
  {
   "cell_type": "code",
   "execution_count": 66,
   "metadata": {
    "pycharm": {
     "name": "#%%\n"
    },
    "scrolled": true
   },
   "outputs": [
    {
     "name": "stdout",
     "output_type": "stream",
     "text": [
      "Вывод случайного целого числа randint\n",
      "22\n",
      "Вывод случайного целого числа randrange\n",
      "360\n",
      "40\n"
     ]
    }
   ],
   "source": [
    "import random\n",
    "print(\"Вывод случайного целого числа randint\")\n",
    "print( random.randint(0, 100))\n",
    "\n",
    "print(\"Вывод случайного целого числа randrange\")\n",
    "print(random.randrange(0, 500, 5))\n"
   ]
  },
  {
   "cell_type": "code",
   "execution_count": 76,
   "metadata": {
    "pycharm": {
     "name": "#%%\n"
    },
    "scrolled": true
   },
   "outputs": [
    {
     "name": "stdout",
     "output_type": "stream",
     "text": [
      "Выбор случайного города из списка \n",
      "Los Angeles\n",
      "random.choice используется для выбора случайного элемента из списка - \n",
      "77\n"
     ]
    }
   ],
   "source": [
    "city_list = ['New York', 'Los Angeles', 'Chicago', 'Houston', 'Philadelphia']\n",
    "print(\"Выбор случайного города из списка \")\n",
    "print(random.choice(city_list))\n",
    "\n",
    "lst = [55, 66, 77, 88, 99]\n",
    "print(\"random.choice используется для выбора случайного элемента из списка - \")\n",
    "print(random.choice(lst))"
   ]
  },
  {
   "cell_type": "code",
   "execution_count": 77,
   "metadata": {
    "pycharm": {
     "name": "#%%\n"
    },
    "scrolled": true
   },
   "outputs": [
    {
     "name": "stdout",
     "output_type": "stream",
     "text": [
      "Вывод перемешанного списка  [9, 66, 88, 99, 8, 2, 77, 5, 55, 12]\n"
     ]
    }
   ],
   "source": [
    "lst = [2, 5, 8, 9, 12, 55, 66, 77, 88, 99]\n",
    "\n",
    "random.shuffle(lst)\n",
    "print (\"Вывод перемешанного списка \", lst)"
   ]
  },
  {
   "cell_type": "code",
   "execution_count": null,
   "metadata": {},
   "outputs": [],
   "source": [
    "random.shuffle(range(15)) # TypeError"
   ]
  },
  {
   "cell_type": "code",
   "execution_count": null,
   "metadata": {},
   "outputs": [],
   "source": [
    "# Пример создания и заполнения списка списков\n",
    "import random\n",
    "\n",
    "matrix = []\n",
    "for i in range(5):\n",
    "    col = []\n",
    "    for j in range(4):\n",
    "        col.append(random.randint(0, 100))\n",
    "    matrix.append(col)\n",
    "print(matrix)"
   ]
  },
  {
   "cell_type": "code",
   "execution_count": null,
   "metadata": {},
   "outputs": [],
   "source": [
    "for lst in matrix:\n",
    "    print(lst)"
   ]
  },
  {
   "cell_type": "code",
   "execution_count": null,
   "metadata": {},
   "outputs": [],
   "source": [
    "matrix = [[random.randint(0, 100) for i in range(4)] for j in range(5)]\n",
    "print(matrix)\n"
   ]
  },
  {
   "cell_type": "code",
   "execution_count": null,
   "metadata": {
    "scrolled": false
   },
   "outputs": [],
   "source": [
    "# Плохая идея в цикле проходить по элементам списка и изменять его!\n",
    "lst = [56, 6, 8, 7]\n",
    "for i in range(len(lst)):\n",
    "    print(i , end=' ')\n",
    "    print(' -- ' , lst[i])\n",
    "    if lst[i] == 6:\n",
    "        _ = lst.pop(i)\n",
    "    print(lst[i])\n",
    "print(lst)"
   ]
  },
  {
   "cell_type": "code",
   "execution_count": null,
   "metadata": {
    "scrolled": true
   },
   "outputs": [],
   "source": [
    "# Ошибки нет\n",
    "lst = [56, 6, 8, 7]\n",
    "for el in lst:\n",
    "    if el == 6:\n",
    "        lst.remove(6)\n",
    "    print(el)"
   ]
  },
  {
   "cell_type": "code",
   "execution_count": null,
   "metadata": {},
   "outputs": [],
   "source": [
    "# while and for\n",
    "i = 0\n",
    "lst = [56, 6, 8, 7]\n",
    "while i < 6:\n",
    "    for e in lst:\n",
    "        print(e + i, end=' ')\n",
    "    print()\n",
    "    i += 1\n",
    "    "
   ]
  }
 ],
 "metadata": {
  "kernelspec": {
   "display_name": "Python 3 (ipykernel)",
   "language": "python",
   "name": "python3"
  },
  "language_info": {
   "codemirror_mode": {
    "name": "ipython",
    "version": 3
   },
   "file_extension": ".py",
   "mimetype": "text/x-python",
   "name": "python",
   "nbconvert_exporter": "python",
   "pygments_lexer": "ipython3",
   "version": "3.12.0"
  }
 },
 "nbformat": 4,
 "nbformat_minor": 2
}
