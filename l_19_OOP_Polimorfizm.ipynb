{
 "cells": [
  {
   "cell_type": "markdown",
   "metadata": {},
   "source": [
    "## Перегрузка операторов \n",
    "\n",
    "### Полиморфизм в действии"
   ]
  },
  {
   "cell_type": "markdown",
   "metadata": {},
   "source": [
    "**Перегрузка операторов** — один из способов реализации полиморфизма, заключающийся в возможности одновременного существования в одной области видимости нескольких различных вариантов применения оператора, имеющих одно и то же имя, но различающихся типами параметров, к которым они применяются."
   ]
  },
  {
   "cell_type": "markdown",
   "metadata": {},
   "source": [
    "#### Как перегрузить операторы в Python?  \n",
    "На самом деле при выполнении того или иного оператора интерпретатор вызывает «магический метод» для соответствующего типа данных. Например, когда используется оператор «+», вызывается метод `__add__()` соответствующего типа данных.\n",
    "Таким образом для переопределения операторов экземплярам ваших классов достаточно просто реализовать эти «магические»  методы."
   ]
  },
  {
   "cell_type": "markdown",
   "metadata": {},
   "source": [
    "в Python есть ограничения на перегрузку операторов это:\n",
    "* Запрещено перегружать операторы для встроенных типов\n",
    "* Запрещено создавать новые операторы\n",
    "* Некоторые операторы перегружать нельзя"
   ]
  },
  {
   "cell_type": "code",
   "execution_count": null,
   "metadata": {},
   "outputs": [],
   "source": [
    "%%html\n",
    "<style>\n",
    "table {float:left}\n",
    "table th, table td {text-align:center !important; font-size: 150%;}\n",
    "</style>"
   ]
  },
  {
   "cell_type": "markdown",
   "metadata": {},
   "source": [
    "### Таблица соответствий инфиксных операторов и методов для их реализации\n",
    "|Оператор |Прямой |Инверсный |На месте |Описание|\n",
    "| :---: | :---: | :---: | :---: | :---: |\n",
    "|`+` |`__add__`| `__radd__` |`__iadd__` |Сложение или конкатенация|\n",
    "|`-`| `__sub__` |`__rsub__` |`__isub__` |Вычитание|\n",
    "|`*` |`__mul__` |`__rmul__` | `__imul__` |Умножение или повторение|\n",
    "|`/`| `__truediv__` |`__rtruediv__`| `__itruediv__` |Истинное деление|\n",
    "|`//` |`__floordiv__`| `__rfloordiv__` |`__ifloordiv__` |Деление с округлением|\n",
    "|`%` |`__mod__`| `__rmod__` |`__imod__`| Деление по модулю|\n",
    "|`**`, `pow()`| `__pow__` |`__rpow__`| `__ipow__` |Возведение в степень|"
   ]
  },
  {
   "cell_type": "markdown",
   "metadata": {},
   "source": [
    "Если для x определен метод `__add__` , то вызовется метод `x.__add__(y)`. Если результат его работы не равен NotImplemented, то возвращается полученный результат. Это **прямой** оператор. \n",
    "Если для x метод `__add__` не реализован или вернул ***NotImplemented***, то проверяется, реализован ли для y метод\n",
    "`__radd__`. Если да, то будет вызван метод `y.__radd__(x)`. Если результат его работы не равен NotImplemented, то возвращается полученный результат. Если же метода нет или вернулся ***NotImplemented***, то возбуждается ***TypeError***. Это **инверсный** оператор.\n",
    "\n",
    "\n",
    "Оператор вычисления на месте используется в выражениях вида `x += y`. В таком случае будет вызван метод `__iadd__`. Если он есть и результат его работы не равен ***NotImplenented***, то возвращается полученный результат. Это вычисление на\n",
    "месте. Если этого метода нет или возвращен **NotImplemented**, то вызывается метод **сложения**.\n",
    "\n",
    "**NotImplemented** - это переменная специального типа. Она определена в стандартной библиотеке Python и должна быть\n",
    "возвращена, если ваш метод не поддерживает нужный тип объектов, для которых вызывается оператор."
   ]
  },
  {
   "cell_type": "code",
   "execution_count": 1,
   "metadata": {
    "scrolled": true
   },
   "outputs": [
    {
     "data": {
      "text/plain": [
       "'Hello world'"
      ]
     },
     "execution_count": 1,
     "metadata": {},
     "output_type": "execute_result"
    }
   ],
   "source": [
    "'Hello'.__add__(' world')"
   ]
  },
  {
   "cell_type": "code",
   "execution_count": 2,
   "metadata": {},
   "outputs": [
    {
     "data": {
      "text/plain": [
       "'Hello world'"
      ]
     },
     "execution_count": 2,
     "metadata": {},
     "output_type": "execute_result"
    }
   ],
   "source": [
    "'Hello' + ' world'\n"
   ]
  },
  {
   "cell_type": "code",
   "execution_count": 3,
   "metadata": {
    "scrolled": true
   },
   "outputs": [
    {
     "data": {
      "text/plain": [
       "3.5"
      ]
     },
     "execution_count": 3,
     "metadata": {},
     "output_type": "execute_result"
    }
   ],
   "source": [
    "1 + 2.5"
   ]
  },
  {
   "cell_type": "code",
   "execution_count": 4,
   "metadata": {},
   "outputs": [
    {
     "data": {
      "text/plain": [
       "[1, 2]"
      ]
     },
     "execution_count": 4,
     "metadata": {},
     "output_type": "execute_result"
    }
   ],
   "source": [
    "[1] + [2]"
   ]
  },
  {
   "cell_type": "code",
   "execution_count": 5,
   "metadata": {},
   "outputs": [
    {
     "name": "stdout",
     "output_type": "stream",
     "text": [
      "3\n"
     ]
    }
   ],
   "source": [
    "x = 1\n",
    "x += 2\n",
    "print(x)"
   ]
  },
  {
   "cell_type": "code",
   "execution_count": 6,
   "metadata": {},
   "outputs": [
    {
     "ename": "TypeError",
     "evalue": "unsupported operand type(s) for +: 'int' and 'str'",
     "output_type": "error",
     "traceback": [
      "\u001b[0;31m---------------------------------------------------------------------------\u001b[0m",
      "\u001b[0;31mTypeError\u001b[0m                                 Traceback (most recent call last)",
      "\u001b[1;32m/Users/ivan.niekipielov/courses/basic-25102023/l_19_OOP_Polimorfizm.ipynb Cell 13\u001b[0m line \u001b[0;36m1\n\u001b[0;32m----> <a href='vscode-notebook-cell:/Users/ivan.niekipielov/courses/basic-25102023/l_19_OOP_Polimorfizm.ipynb#X15sZmlsZQ%3D%3D?line=0'>1</a>\u001b[0m \u001b[39m1\u001b[39;49m \u001b[39m+\u001b[39;49m \u001b[39m'\u001b[39;49m\u001b[39m1\u001b[39;49m\u001b[39m'\u001b[39;49m\n",
      "\u001b[0;31mTypeError\u001b[0m: unsupported operand type(s) for +: 'int' and 'str'"
     ]
    }
   ],
   "source": [
    "1 + '1'"
   ]
  },
  {
   "cell_type": "code",
   "execution_count": 7,
   "metadata": {
    "pycharm": {
     "name": "#%%\n"
    }
   },
   "outputs": [],
   "source": [
    "class Box:\n",
    "    def __init__(self, x, y, z):\n",
    "        self.x = x\n",
    "        self.y = y\n",
    "        self.z = z\n",
    "\n",
    "    def __str__(self):\n",
    "        return f\"Box [x = {self.x}, y = {self.y}, z = {self.z}]\"\n",
    "\n"
   ]
  },
  {
   "cell_type": "code",
   "execution_count": 8,
   "metadata": {},
   "outputs": [],
   "source": [
    "box_a = Box(1, 2, 3)\n",
    "box_b = Box(2, 3, 4)"
   ]
  },
  {
   "cell_type": "code",
   "execution_count": 9,
   "metadata": {
    "pycharm": {
     "name": "#%%\n"
    },
    "scrolled": true
   },
   "outputs": [
    {
     "ename": "TypeError",
     "evalue": "unsupported operand type(s) for +: 'Box' and 'Box'",
     "output_type": "error",
     "traceback": [
      "\u001b[0;31m---------------------------------------------------------------------------\u001b[0m",
      "\u001b[0;31mTypeError\u001b[0m                                 Traceback (most recent call last)",
      "\u001b[1;32m/Users/ivan.niekipielov/courses/basic-25102023/l_19_OOP_Polimorfizm.ipynb Cell 16\u001b[0m line \u001b[0;36m1\n\u001b[0;32m----> <a href='vscode-notebook-cell:/Users/ivan.niekipielov/courses/basic-25102023/l_19_OOP_Polimorfizm.ipynb#X21sZmlsZQ%3D%3D?line=0'>1</a>\u001b[0m box_c \u001b[39m=\u001b[39m box_a \u001b[39m+\u001b[39;49m box_b\n\u001b[1;32m      <a href='vscode-notebook-cell:/Users/ivan.niekipielov/courses/basic-25102023/l_19_OOP_Polimorfizm.ipynb#X21sZmlsZQ%3D%3D?line=1'>2</a>\u001b[0m \u001b[39mprint\u001b[39m(box_c)\n\u001b[1;32m      <a href='vscode-notebook-cell:/Users/ivan.niekipielov/courses/basic-25102023/l_19_OOP_Polimorfizm.ipynb#X21sZmlsZQ%3D%3D?line=2'>3</a>\u001b[0m \u001b[39mprint\u001b[39m(box_a)\n",
      "\u001b[0;31mTypeError\u001b[0m: unsupported operand type(s) for +: 'Box' and 'Box'"
     ]
    }
   ],
   "source": [
    "\n",
    "\n",
    "box_c = box_a + box_b\n",
    "print(box_c)\n",
    "print(box_a)\n",
    "\n",
    "box_a += box_b\n",
    "print(box_a)\n"
   ]
  },
  {
   "cell_type": "code",
   "execution_count": 10,
   "metadata": {},
   "outputs": [
    {
     "ename": "TypeError",
     "evalue": "unsupported operand type(s) for +=: 'Box' and 'Box'",
     "output_type": "error",
     "traceback": [
      "\u001b[0;31m---------------------------------------------------------------------------\u001b[0m",
      "\u001b[0;31mTypeError\u001b[0m                                 Traceback (most recent call last)",
      "\u001b[1;32m/Users/ivan.niekipielov/courses/basic-25102023/l_19_OOP_Polimorfizm.ipynb Cell 17\u001b[0m line \u001b[0;36m1\n\u001b[0;32m----> <a href='vscode-notebook-cell:/Users/ivan.niekipielov/courses/basic-25102023/l_19_OOP_Polimorfizm.ipynb#X22sZmlsZQ%3D%3D?line=0'>1</a>\u001b[0m box_a \u001b[39m+\u001b[39;49m\u001b[39m=\u001b[39;49m box_a\n\u001b[1;32m      <a href='vscode-notebook-cell:/Users/ivan.niekipielov/courses/basic-25102023/l_19_OOP_Polimorfizm.ipynb#X22sZmlsZQ%3D%3D?line=1'>2</a>\u001b[0m \u001b[39mstr\u001b[39m(box_a)\n",
      "\u001b[0;31mTypeError\u001b[0m: unsupported operand type(s) for +=: 'Box' and 'Box'"
     ]
    }
   ],
   "source": [
    "box_a += box_a\n",
    "str(box_a)"
   ]
  },
  {
   "cell_type": "code",
   "execution_count": 11,
   "metadata": {},
   "outputs": [],
   "source": [
    "class Box:\n",
    "    def __init__(self, x, y, z):\n",
    "        self.x = x\n",
    "        self.y = y\n",
    "        self.z = z\n",
    "\n",
    "    def __str__(self):\n",
    "        return f\"Box [x = {self.x}, y = {self.y}, z = {self.z}]\"\n",
    "\n",
    "    def __iadd__(self, other):\n",
    "        print(\"iadd\")\n",
    "        return Box(self.x + other.x, self.y + other.y, self.z + other.z)\n",
    "\n",
    "    def __add__(self, other):\n",
    "        print(\"add\")\n",
    "        return Box(self.x + other.x, self.y + other.y, self.z + other.z)"
   ]
  },
  {
   "cell_type": "code",
   "execution_count": 12,
   "metadata": {
    "scrolled": true
   },
   "outputs": [
    {
     "name": "stdout",
     "output_type": "stream",
     "text": [
      "iadd\n",
      "Box [x = 3, y = 5, z = 7]\n",
      "add\n",
      "Box [x = 5, y = 8, z = 11]\n"
     ]
    }
   ],
   "source": [
    "box_a = Box(1, 2, 3)\n",
    "box_b = Box(2, 3, 4)\n",
    "\n",
    "box_a += box_b\n",
    "print(box_a)\n",
    "\n",
    "box_c = box_a + box_b\n",
    "print(box_c)"
   ]
  },
  {
   "cell_type": "code",
   "execution_count": 13,
   "metadata": {},
   "outputs": [
    {
     "name": "stdout",
     "output_type": "stream",
     "text": [
      "iadd\n"
     ]
    },
    {
     "ename": "AttributeError",
     "evalue": "'int' object has no attribute 'x'",
     "output_type": "error",
     "traceback": [
      "\u001b[0;31m---------------------------------------------------------------------------\u001b[0m",
      "\u001b[0;31mAttributeError\u001b[0m                            Traceback (most recent call last)",
      "\u001b[1;32m/Users/ivan.niekipielov/courses/basic-25102023/l_19_OOP_Polimorfizm.ipynb Cell 20\u001b[0m line \u001b[0;36m1\n\u001b[0;32m----> <a href='vscode-notebook-cell:/Users/ivan.niekipielov/courses/basic-25102023/l_19_OOP_Polimorfizm.ipynb#X25sZmlsZQ%3D%3D?line=0'>1</a>\u001b[0m box_a \u001b[39m+\u001b[39;49m\u001b[39m=\u001b[39;49m \u001b[39m1\u001b[39;49m \u001b[39m# error\u001b[39;00m\n",
      "\u001b[1;32m/Users/ivan.niekipielov/courses/basic-25102023/l_19_OOP_Polimorfizm.ipynb Cell 20\u001b[0m line \u001b[0;36m1\n\u001b[1;32m     <a href='vscode-notebook-cell:/Users/ivan.niekipielov/courses/basic-25102023/l_19_OOP_Polimorfizm.ipynb#X25sZmlsZQ%3D%3D?line=9'>10</a>\u001b[0m \u001b[39mdef\u001b[39;00m \u001b[39m__iadd__\u001b[39m(\u001b[39mself\u001b[39m, other):\n\u001b[1;32m     <a href='vscode-notebook-cell:/Users/ivan.niekipielov/courses/basic-25102023/l_19_OOP_Polimorfizm.ipynb#X25sZmlsZQ%3D%3D?line=10'>11</a>\u001b[0m     \u001b[39mprint\u001b[39m(\u001b[39m\"\u001b[39m\u001b[39miadd\u001b[39m\u001b[39m\"\u001b[39m)\n\u001b[0;32m---> <a href='vscode-notebook-cell:/Users/ivan.niekipielov/courses/basic-25102023/l_19_OOP_Polimorfizm.ipynb#X25sZmlsZQ%3D%3D?line=11'>12</a>\u001b[0m     \u001b[39mreturn\u001b[39;00m Box(\u001b[39mself\u001b[39m\u001b[39m.\u001b[39mx \u001b[39m+\u001b[39m other\u001b[39m.\u001b[39;49mx, \u001b[39mself\u001b[39m\u001b[39m.\u001b[39my \u001b[39m+\u001b[39m other\u001b[39m.\u001b[39my, \u001b[39mself\u001b[39m\u001b[39m.\u001b[39mz \u001b[39m+\u001b[39m other\u001b[39m.\u001b[39mz)\n",
      "\u001b[0;31mAttributeError\u001b[0m: 'int' object has no attribute 'x'"
     ]
    }
   ],
   "source": [
    "box_a += 1 # error"
   ]
  },
  {
   "cell_type": "markdown",
   "metadata": {},
   "source": [
    "### Проверка типа второго аргумента\n"
   ]
  },
  {
   "cell_type": "code",
   "execution_count": 14,
   "metadata": {
    "pycharm": {
     "name": "#%%\n"
    }
   },
   "outputs": [],
   "source": [
    "class Box:\n",
    "    def __init__(self, x, y, z):\n",
    "        self.x = x\n",
    "        self.y = y\n",
    "        self.z = z\n",
    "\n",
    "    def __str__(self):\n",
    "        return \"Box [x = {}, y = {}, z = {}]\".format(self.x, self.y, self.z)\n",
    "\n",
    "    def __iadd__(self, other):\n",
    "        if isinstance(other, Box):\n",
    "            print(\"iadd\")\n",
    "            return Box(self.x + other.x, self.y + other.y, self.z + other.z)\n",
    "        return NotImplemented\n",
    "\n",
    "    def __add__(self, other):\n",
    "        print(type(other))\n",
    "        if isinstance(other, Box):\n",
    "            print(\"add\")\n",
    "            return Box(self.x + other.x, self.y + other.y, self.z + other.z)\n",
    "        return NotImplemented"
   ]
  },
  {
   "cell_type": "code",
   "execution_count": 15,
   "metadata": {
    "pycharm": {
     "name": "#%%\n"
    }
   },
   "outputs": [
    {
     "name": "stdout",
     "output_type": "stream",
     "text": [
      "iadd\n",
      "Box [x = 3, y = 5, z = 7]\n",
      "<class '__main__.Box'>\n",
      "add\n",
      "Box [x = 3, y = 5, z = 7]\n"
     ]
    }
   ],
   "source": [
    "box_a = Box(1, 2, 3)\n",
    "box_b = Box(2, 3, 4)\n",
    "\n",
    "box_a += box_b\n",
    "print(box_a)\n",
    "\n",
    "box_c = box_a + box_b\n",
    "print(box_a)"
   ]
  },
  {
   "cell_type": "code",
   "execution_count": 20,
   "metadata": {
    "pycharm": {
     "name": "#%%\n"
    },
    "scrolled": true
   },
   "outputs": [
    {
     "name": "stdout",
     "output_type": "stream",
     "text": [
      "<class 'int'>\n",
      "NotImplemented\n",
      "NotImplemented\n"
     ]
    }
   ],
   "source": [
    "box_d = box_a + 1 # TypeError"
   ]
  },
  {
   "cell_type": "code",
   "execution_count": 22,
   "metadata": {},
   "outputs": [
    {
     "name": "stdout",
     "output_type": "stream",
     "text": [
      "<class 'int'>\n",
      "NotImplemented\n",
      "NotImplemented\n"
     ]
    },
    {
     "ename": "TypeError",
     "evalue": "",
     "output_type": "error",
     "traceback": [
      "\u001b[0;31m---------------------------------------------------------------------------\u001b[0m",
      "\u001b[0;31mTypeError\u001b[0m                                 Traceback (most recent call last)",
      "\u001b[1;32m/Users/ivan.niekipielov/courses/basic-25102023/l_19_OOP_Polimorfizm.ipynb Cell 25\u001b[0m line \u001b[0;36m4\n\u001b[1;32m      <a href='vscode-notebook-cell:/Users/ivan.niekipielov/courses/basic-25102023/l_19_OOP_Polimorfizm.ipynb#Y106sZmlsZQ%3D%3D?line=1'>2</a>\u001b[0m \u001b[39mprint\u001b[39m(box_a\u001b[39m.\u001b[39m\u001b[39m__add__\u001b[39m(\u001b[39m1\u001b[39m)) \u001b[39m# Перший крок\u001b[39;00m\n\u001b[1;32m      <a href='vscode-notebook-cell:/Users/ivan.niekipielov/courses/basic-25102023/l_19_OOP_Polimorfizm.ipynb#Y106sZmlsZQ%3D%3D?line=2'>3</a>\u001b[0m \u001b[39mprint\u001b[39m(x\u001b[39m.\u001b[39m\u001b[39m__radd__\u001b[39m(box_a)) \u001b[39m# Другий крок\u001b[39;00m\n\u001b[0;32m----> <a href='vscode-notebook-cell:/Users/ivan.niekipielov/courses/basic-25102023/l_19_OOP_Polimorfizm.ipynb#Y106sZmlsZQ%3D%3D?line=3'>4</a>\u001b[0m \u001b[39mraise\u001b[39;00m \u001b[39mTypeError\u001b[39;00m()\n",
      "\u001b[0;31mTypeError\u001b[0m: "
     ]
    }
   ],
   "source": [
    "x = 1\n",
    "print(box_a.__add__(1)) # Перший крок\n",
    "print(x.__radd__(box_a)) # Другий крок\n",
    "raise TypeError()"
   ]
  },
  {
   "cell_type": "code",
   "execution_count": 17,
   "metadata": {
    "scrolled": true
   },
   "outputs": [
    {
     "ename": "TypeError",
     "evalue": "unsupported operand type(s) for +: 'int' and 'str'",
     "output_type": "error",
     "traceback": [
      "\u001b[0;31m---------------------------------------------------------------------------\u001b[0m",
      "\u001b[0;31mTypeError\u001b[0m                                 Traceback (most recent call last)",
      "\u001b[1;32m/Users/ivan.niekipielov/courses/basic-25102023/l_19_OOP_Polimorfizm.ipynb Cell 25\u001b[0m line \u001b[0;36m1\n\u001b[0;32m----> <a href='vscode-notebook-cell:/Users/ivan.niekipielov/courses/basic-25102023/l_19_OOP_Polimorfizm.ipynb#X33sZmlsZQ%3D%3D?line=0'>1</a>\u001b[0m \u001b[39m1\u001b[39;49m \u001b[39m+\u001b[39;49m \u001b[39m'\u001b[39;49m\u001b[39m1\u001b[39;49m\u001b[39m'\u001b[39;49m\n",
      "\u001b[0;31mTypeError\u001b[0m: unsupported operand type(s) for +: 'int' and 'str'"
     ]
    }
   ],
   "source": [
    "1 + '1'"
   ]
  },
  {
   "cell_type": "code",
   "execution_count": 23,
   "metadata": {
    "pycharm": {
     "name": "#%%\n"
    }
   },
   "outputs": [],
   "source": [
    "class Box:\n",
    "    def __init__(self, x, y, z):\n",
    "        self.x = x\n",
    "        self.y = y\n",
    "        self.z = z\n",
    "\n",
    "    def __str__(self):\n",
    "        return \"Box [x = {}, y = {}, z = {}]\".format(self.x, self.y, self.z)\n",
    "\n",
    "    def __iadd__(self, other):\n",
    "        if isinstance(other, Box):\n",
    "            print(\"iadd\")\n",
    "            return Box(self.x + other.x, self.y + other.y, self.z + other.z)\n",
    "        return NotImplemented\n",
    "\n",
    "    def __add__(self, other):\n",
    "        if isinstance(other, Box):\n",
    "            print(\"add\")\n",
    "            return Box(self.x + other.x, self.y + other.y, self.z + other.z)\n",
    "        if isinstance(other, (int, float)):\n",
    "            return Box(self.x + other, self.y + other, self.z + other)\n",
    "        return NotImplemented\n"
   ]
  },
  {
   "cell_type": "code",
   "execution_count": 24,
   "metadata": {
    "pycharm": {
     "name": "#%%\n"
    }
   },
   "outputs": [
    {
     "name": "stdout",
     "output_type": "stream",
     "text": [
      "Box [x = 11, y = 12, z = 13]\n"
     ]
    }
   ],
   "source": [
    "box_a = Box(1, 2, 3)\n",
    "box_d = box_a + 10\n",
    "print(box_d)"
   ]
  },
  {
   "cell_type": "code",
   "execution_count": 25,
   "metadata": {
    "pycharm": {
     "name": "#%%\n"
    }
   },
   "outputs": [
    {
     "name": "stdout",
     "output_type": "stream",
     "text": [
      "Box [x = 11.0, y = 12.0, z = 13.0]\n"
     ]
    }
   ],
   "source": [
    "box_e = box_a + 10.0 \n",
    "print(box_e)\n"
   ]
  },
  {
   "cell_type": "code",
   "execution_count": 26,
   "metadata": {},
   "outputs": [
    {
     "ename": "TypeError",
     "evalue": "unsupported operand type(s) for +: 'float' and 'Box'",
     "output_type": "error",
     "traceback": [
      "\u001b[0;31m---------------------------------------------------------------------------\u001b[0m",
      "\u001b[0;31mTypeError\u001b[0m                                 Traceback (most recent call last)",
      "\u001b[1;32m/Users/ivan.niekipielov/courses/basic-25102023/l_19_OOP_Polimorfizm.ipynb Cell 30\u001b[0m line \u001b[0;36m1\n\u001b[0;32m----> <a href='vscode-notebook-cell:/Users/ivan.niekipielov/courses/basic-25102023/l_19_OOP_Polimorfizm.ipynb#X40sZmlsZQ%3D%3D?line=0'>1</a>\u001b[0m box_d \u001b[39m=\u001b[39m \u001b[39m10.0\u001b[39;49m \u001b[39m+\u001b[39;49m box_a \u001b[39m#  __radd__ not implemented\u001b[39;00m\n",
      "\u001b[0;31mTypeError\u001b[0m: unsupported operand type(s) for +: 'float' and 'Box'"
     ]
    }
   ],
   "source": [
    "box_d = 10.0 + box_a #  __radd__ not implemented"
   ]
  },
  {
   "cell_type": "code",
   "execution_count": 27,
   "metadata": {},
   "outputs": [],
   "source": [
    "class Box:\n",
    "    def __init__(self, x, y, z):\n",
    "        self.x = x\n",
    "        self.y = y\n",
    "        self.z = z\n",
    "\n",
    "    def __str__(self):\n",
    "        return \"Box [x = {}, y = {}, z = {}]\".format(self.x, self.y, self.z)\n",
    "\n",
    "    def __iadd__(self, other):\n",
    "        if isinstance(other, Box):\n",
    "            print(\"iadd\")\n",
    "            return Box(self.x + other.x, self.y + other.y, self.z + other.z)\n",
    "        return NotImplemented\n",
    "\n",
    "    def __radd__(self, other):\n",
    "        print(\"radd\")\n",
    "        return self.__add__(other)\n",
    "\n",
    "    \n",
    "    def __add__(self, other):\n",
    "        print(\"add\")\n",
    "        if isinstance(other, Box):\n",
    "            return Box(self.x + other.x, self.y + other.y, self.z + other.z)\n",
    "        if isinstance(other, (int, float)):\n",
    "            return Box(self.x + other, self.y + other, self.z + other)\n",
    "        return NotImplemented"
   ]
  },
  {
   "cell_type": "code",
   "execution_count": 28,
   "metadata": {},
   "outputs": [
    {
     "name": "stdout",
     "output_type": "stream",
     "text": [
      "add\n"
     ]
    }
   ],
   "source": [
    "box_a = Box(1, 2, 3)\n",
    "box_b = Box(2, 3, 4)\n",
    "\n",
    "box_c = box_a + box_b"
   ]
  },
  {
   "cell_type": "code",
   "execution_count": 29,
   "metadata": {},
   "outputs": [
    {
     "name": "stdout",
     "output_type": "stream",
     "text": [
      "radd\n",
      "add\n"
     ]
    }
   ],
   "source": [
    "box_d = 10 + box_a"
   ]
  },
  {
   "cell_type": "code",
   "execution_count": 30,
   "metadata": {
    "scrolled": true
   },
   "outputs": [
    {
     "name": "stdout",
     "output_type": "stream",
     "text": [
      "radd\n",
      "add\n"
     ]
    }
   ],
   "source": [
    "# Когда у левого объекта нет корректного метода сложения, этот метод ищется у правого\n",
    "box_d = 1 + box_a #  radd, add\n"
   ]
  },
  {
   "cell_type": "code",
   "execution_count": 31,
   "metadata": {},
   "outputs": [
    {
     "name": "stdout",
     "output_type": "stream",
     "text": [
      "add\n"
     ]
    }
   ],
   "source": [
    "box_d = box_a + 1 # add"
   ]
  },
  {
   "cell_type": "code",
   "execution_count": null,
   "metadata": {},
   "outputs": [],
   "source": [
    "hash(box_d)"
   ]
  },
  {
   "cell_type": "markdown",
   "metadata": {},
   "source": [
    "Чтобы не проверять все варианты чисел, можно прибегнуть к абстракции"
   ]
  },
  {
   "cell_type": "code",
   "execution_count": 39,
   "metadata": {
    "pycharm": {
     "name": "#%%\n"
    }
   },
   "outputs": [],
   "source": [
    "import numbers\n",
    "\n",
    "class Box:\n",
    "    def __init__(self, x, y, z):\n",
    "        self.x = x\n",
    "        self.y = y\n",
    "        self.z = z\n",
    "\n",
    "    def __str__(self):\n",
    "        return \"Box [x = {}, y = {}, z = {}]\".format(self.x, self.y, self.z)\n",
    "\n",
    "    def __iadd__(self, other):\n",
    "        if isinstance(other, Box):\n",
    "            print(\"iadd\")\n",
    "            return Box(self.x + other.x, self.y + other.y, self.z + other.z)\n",
    "        return NotImplemented\n",
    "\n",
    "    def __add__(self, other):\n",
    "        if isinstance(other, Box):\n",
    "            print(\"add\")\n",
    "            return Box(self.x + other.x, self.y + other.y, self.z + other.z)\n",
    "        if isinstance(other, numbers.Real):\n",
    "            return Box(self.x + other, self.y + other, self.z + other)\n",
    "        return NotImplemented\n",
    "    \n",
    "    # умножить Box на число\n",
    "    def __mul__(self, other):\n",
    "        if isinstance(other, numbers.Real):\n",
    "            return Box(self.x * other, self.y * other, self.z * other)\n",
    "        else:\n",
    "            return NotImplemented\n"
   ]
  },
  {
   "cell_type": "code",
   "execution_count": 34,
   "metadata": {},
   "outputs": [
    {
     "name": "stdout",
     "output_type": "stream",
     "text": [
      "Box [x = 34, y = 68, z = 102]\n"
     ]
    }
   ],
   "source": [
    "box_a = Box(1, 2, 3)\n",
    "b = box_a * 34\n",
    "print(b)"
   ]
  },
  {
   "cell_type": "markdown",
   "metadata": {},
   "source": [
    "## Перегрузка операторов сравнения.\n",
    "Стандартная реализация оператора == для пользовательских классов не сравнивает\n",
    "значение полей, а сравнивает просто ссылки на экземпляры."
   ]
  },
  {
   "cell_type": "code",
   "execution_count": null,
   "metadata": {
    "pycharm": {
     "name": "#%%\n"
    }
   },
   "outputs": [],
   "source": [
    "box_a = Box(1, 2, 3)\n",
    "box_b = Box(1, 2, 3)\n",
    "print(box_a == box_b)"
   ]
  },
  {
   "cell_type": "code",
   "execution_count": null,
   "metadata": {},
   "outputs": [],
   "source": [
    "box = box_a\n",
    "print(box_a == box)"
   ]
  },
  {
   "cell_type": "code",
   "execution_count": null,
   "metadata": {
    "pycharm": {
     "name": "#%%\n"
    }
   },
   "outputs": [],
   "source": [
    "print(id(box_a))\n",
    "print(id(box_b))"
   ]
  },
  {
   "cell_type": "markdown",
   "metadata": {},
   "source": [
    "### Таблица методов для перегрузки операторов сравнения.\n",
    "|Оператор |Прямой |Инверсный |Описание|\n",
    "| :---: | :---: | :---: | :---: |\n",
    "|**x == y**| `x.__eq__(y)` |`y.__eq__(x)` |Равно|\n",
    "|**x != y** |`x.__ne__(y)` |`y.__ne__(x)` |Не равно|\n",
    "|**x > y**| `x.__gt__(y)` |`y.__lt__(x)`| x больше y|\n",
    "|**x < y** | `x.__lt__(y)` | `y.__gt__(x)` | x меньше y|\n",
    "|**x >= y** |`x.__ge__(y)` | `y.__le__(x)` | x больше или равен y|\n",
    "|**x <= y**|`x.__le__(y)` | `y.__ge__(x)` |x меньше или равен y|"
   ]
  },
  {
   "cell_type": "code",
   "execution_count": 41,
   "metadata": {
    "pycharm": {
     "name": "#%%\n"
    }
   },
   "outputs": [],
   "source": [
    "# Реализуем сравнение коробков по объему\n",
    "class Box:\n",
    "    def __init__(self, x, y, z):\n",
    "        self.x = x\n",
    "        self.y = y\n",
    "        self.z = z\n",
    "\n",
    "    def __str__(self):\n",
    "        return \"Box [x = {}, y = {}, z = {}]\".format(self.x, self.y, self.z)\n",
    "\n",
    "    def __iadd__(self, other):\n",
    "        if isinstance(other, Box):\n",
    "            print(\"iadd\")\n",
    "            return Box(self.x + other.x, self.y + other.y, self.z + other.z)\n",
    "        return NotImplemented\n",
    "\n",
    "    def __add__(self, other):\n",
    "        if isinstance(other, Box):\n",
    "            print(\"add\")\n",
    "            return Box(self.x + other.x, self.y + other.y, self.z + other.z)\n",
    "        if isinstance(other, numbers.Real):\n",
    "            return Box(self.x + other, self.y + other, self.z + other)\n",
    "        return NotImplemented\n",
    "\n",
    "    def __mul__(self, other):\n",
    "        if isinstance(other, numbers.Real):\n",
    "            return Box(self.x * other, self.y * other, self.z * other)\n",
    "        else:\n",
    "            return NotImplemented\n",
    "\n",
    "    def volume(self):\n",
    "        return self.x * self.y * self.z\n",
    "\n",
    "    def __eq__(self, other):\n",
    "        if isinstance(other, Box):\n",
    "            # два коробка считаются равными в случае равенства объемов\n",
    "            return self.volume() == other.volume()\n",
    "        return NotImplemented\n",
    "\n",
    "    def __gt__(self, other):\n",
    "        if isinstance(other, Box):\n",
    "            return self.volume() > other.volume()\n",
    "        return NotImplemented\n",
    "\n",
    "    def __lt__(self, other):\n",
    "        #if isinstance(other, Box):\n",
    "           # return self.volume(self) < self.volume(other)\n",
    "        #return NotImplemented\n",
    "        return not self > other"
   ]
  },
  {
   "cell_type": "code",
   "execution_count": 44,
   "metadata": {
    "pycharm": {
     "name": "#%%\n"
    }
   },
   "outputs": [
    {
     "name": "stdout",
     "output_type": "stream",
     "text": [
      "True\n",
      "False\n",
      "False\n"
     ]
    }
   ],
   "source": [
    "box_a = Box(1, 2, 3)\n",
    "box_b = Box(3, 2, 1)\n",
    "print(box_a == box_b)\n",
    "print(box_a != box_b)\n",
    "print(not box_a.__eq__(box_b))\n"
   ]
  },
  {
   "cell_type": "code",
   "execution_count": null,
   "metadata": {
    "pycharm": {
     "name": "#%%\n"
    },
    "scrolled": true
   },
   "outputs": [],
   "source": [
    "box_c = box_a + box_b\n",
    "print(box_c == box_b)\n",
    "print(box_c > box_b)"
   ]
  },
  {
   "cell_type": "code",
   "execution_count": null,
   "metadata": {
    "scrolled": false
   },
   "outputs": [],
   "source": [
    "print(box_b < box_c)"
   ]
  },
  {
   "cell_type": "code",
   "execution_count": null,
   "metadata": {
    "pycharm": {
     "name": "#%%\n"
    }
   },
   "outputs": [],
   "source": [
    "print(box_c >= box_b) # TypeError"
   ]
  },
  {
   "cell_type": "code",
   "execution_count": null,
   "metadata": {
    "pycharm": {
     "name": "#%%\n"
    }
   },
   "outputs": [],
   "source": [
    "class Box:\n",
    "    def __init__(self, x, y, z):\n",
    "        self.x = x\n",
    "        self.y = y\n",
    "        self.z = z\n",
    "\n",
    "    def __str__(self):\n",
    "        return \"Box [x = {}, y = {}, z = {}]\".format(self.x, self.y, self.z)\n",
    "\n",
    "    def __iadd__(self, other):\n",
    "        if isinstance(other, Box):\n",
    "            print(\"iadd\")\n",
    "            return Box(self.x + other.x, self.y + other.y, self.z + other.z)\n",
    "        return NotImplemented\n",
    "\n",
    "    def __add__(self, other):\n",
    "        if isinstance(other, Box):\n",
    "            print(\"add\")\n",
    "            return Box(self.x + other.x, self.y + other.y, self.z + other.z)\n",
    "        if isinstance(other, numbers.Real):\n",
    "            return Box(self.x + other, self.y + other, self.z + other)\n",
    "        return NotImplemented\n",
    "\n",
    "    def __mul__(self, other):\n",
    "        if isinstance(other, numbers.Real):\n",
    "            return Box(self.x * other, self.y * other, self.z * other)\n",
    "        else:\n",
    "            return NotImplemented\n",
    "\n",
    "    @staticmethod\n",
    "    def volume(box):\n",
    "        return box.x * box.y * box.z\n",
    "\n",
    "    def __eq__(self, other):\n",
    "        if isinstance(other, Box):\n",
    "            return self.volume(self) == self.volume(other)\n",
    "        return NotImplemented\n",
    "\n",
    "    def __gt__(self, other):\n",
    "        if isinstance(other, Box):\n",
    "            return self.volume(self) > self.volume(other)\n",
    "        return NotImplemented\n",
    "\n",
    "    def __lt__(self, other):\n",
    "        if isinstance(other, Box):\n",
    "            return not self > other\n",
    "        return NotImplemented\n",
    "\n",
    "    def __ge__(self, other):\n",
    "        if isinstance(other, Box):\n",
    "            return any((self > other, self == other))\n",
    "        return NotImplemented\n",
    "    \n",
    "    def __le__(self, other):\n",
    "        if isinstance(other, Box):\n",
    "            return  any((self < other, self == other))\n",
    "        return NotImplemented\n",
    "    \n",
    "    def __ne__(self, other):\n",
    "        return not self == other"
   ]
  },
  {
   "cell_type": "code",
   "execution_count": null,
   "metadata": {
    "pycharm": {
     "name": "#%%\n"
    }
   },
   "outputs": [],
   "source": [
    "box_a = Box(1, 2, 3)\n",
    "box_b = Box(1, 2, 3)\n",
    "print(box_a >= box_b)"
   ]
  },
  {
   "cell_type": "code",
   "execution_count": null,
   "metadata": {
    "pycharm": {
     "name": "#%%\n"
    },
    "scrolled": true
   },
   "outputs": [],
   "source": [
    "box_c = box_a + box_b\n",
    "print(box_c >= box_b)"
   ]
  },
  {
   "cell_type": "code",
   "execution_count": null,
   "metadata": {},
   "outputs": [],
   "source": [
    "print(box_a <= box_b)"
   ]
  },
  {
   "cell_type": "code",
   "execution_count": null,
   "metadata": {},
   "outputs": [],
   "source": [
    "all([1, 0, True])"
   ]
  },
  {
   "cell_type": "code",
   "execution_count": null,
   "metadata": {},
   "outputs": [],
   "source": [
    "any([1, 0, True])"
   ]
  }
 ],
 "metadata": {
  "kernelspec": {
   "display_name": "Python 3 (ipykernel)",
   "language": "python",
   "name": "python3"
  },
  "language_info": {
   "codemirror_mode": {
    "name": "ipython",
    "version": 3
   },
   "file_extension": ".py",
   "mimetype": "text/x-python",
   "name": "python",
   "nbconvert_exporter": "python",
   "pygments_lexer": "ipython3",
   "version": "3.12.1"
  }
 },
 "nbformat": 4,
 "nbformat_minor": 1
}
