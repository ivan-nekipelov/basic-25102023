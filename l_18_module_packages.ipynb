{
 "cells": [
  {
   "cell_type": "markdown",
   "metadata": {
    "pycharm": {
     "name": "#%% md\n"
    }
   },
   "source": [
    "## Модули и пакеты"
   ]
  },
  {
   "cell_type": "markdown",
   "metadata": {},
   "source": [
    "В книге **“Совершенный Код”** Стив Макконнелл формулирует главный технический императив программирования – это управление сложностью. Основная суть, которого заключается в том, что на каждом этапе разработки ПО мы должны прикладывать максимум усилий для того чтобы **сложность нашего проекта не “вышла из берегов”**.\n",
    "\n",
    "Показателем этого является возможность одновременно удержать в голове основные компоненты проекта на всех уровнях абстракции. В моделировании систем (да и не только там) выделят такой инструмент как **декомпозиция – разделение целого на части,** этот принцип является одним из наиболее часто используемых способов работать со сложностью.\n",
    "\n",
    "Декомпозицию можно делать на логическом и на физическом уровне. Для реализации последней цели (декомпозиция на физическом уровне) в программном проекте на Python могут служить модули и пакеты."
   ]
  },
  {
   "cell_type": "markdown",
   "metadata": {
    "pycharm": {
     "name": "#%%\n"
    }
   },
   "source": [
    "Модули и пакеты являются неотъемлемой частью модульного программирования - организации программы как совокупности небольших независимых блоков, структура и поведение которых подчиняются определенным правилам.\n",
    "\n",
    "Разработка программы как совокупности модулей позволяет:\n",
    "\n",
    "\n",
    " - упростить задачи проектирования программы и распределения процесса разработки между группами разработчиков;\n",
    "\n",
    "\n",
    " - предоставить возможность обновления (замены) модуля, без необходимости изменения остальной системы;\n",
    "\n",
    "\n",
    " - упростить тестирование программы;\n",
    "\n",
    "\n",
    " - упростить обнаружение ошибок.\n",
    "\n",
    "\n",
    "Программный код часто разбивается на несколько файлов, каждый из которых используется отдельно от остальных."
   ]
  },
  {
   "cell_type": "markdown",
   "metadata": {},
   "source": [
    "**Модуль** (англ. *Module*) - специальное средство языка программирования, позволяющее объединить вместе данные и функции и использовать их как одну функционально-законченную единицу (например, математический модуль, содержащий тригонометрические и прочие функции, константы , и т.д.)."
   ]
  },
  {
   "cell_type": "markdown",
   "metadata": {},
   "source": [
    "Модуль - отдельный файл с кодом на Python, содержащий функции и данные:\n",
    "\n",
    "\n",
    " - имеет расширение *.py (имя файла является именем модуля);\n",
    "\n",
    "\n",
    " - может быть импортирован (подключен) (директива import ...);\n",
    "\n",
    "\n",
    " - может быть многократно использован.\n",
    "\n"
   ]
  },
  {
   "cell_type": "code",
   "execution_count": null,
   "metadata": {},
   "outputs": [],
   "source": [
    "import math # Модуль, поскольку все, что есть в нем, содержится в одном файле."
   ]
  },
  {
   "cell_type": "code",
   "execution_count": null,
   "metadata": {},
   "outputs": [],
   "source": [
    "math.pi"
   ]
  },
  {
   "cell_type": "code",
   "execution_count": null,
   "metadata": {},
   "outputs": [],
   "source": [
    "import simplemath # модуль в корневом каталоге проекта\n",
    "\n",
    "print(simplemath.add(1, 2))\n",
    "print(simplemath.sub(1, 2))\n",
    "print(simplemath.mul(1, 2))\n",
    "print(simplemath.div(1, 2))"
   ]
  },
  {
   "cell_type": "code",
   "execution_count": null,
   "metadata": {},
   "outputs": [],
   "source": [
    "print(simplemath.x)\n",
    "print(simplemath._y)"
   ]
  },
  {
   "cell_type": "markdown",
   "metadata": {},
   "source": [
    "### Теже действия, но внутри файла (другого модуля) use_module.py"
   ]
  },
  {
   "cell_type": "code",
   "execution_count": null,
   "metadata": {},
   "outputs": [],
   "source": [
    "from simplemath import add, div # Если нам нужна только функция сложения\n",
    "\n",
    "print(add(1, 2))\n"
   ]
  },
  {
   "cell_type": "code",
   "execution_count": null,
   "metadata": {},
   "outputs": [],
   "source": [
    "print(simplemath.add(3, 2))"
   ]
  },
  {
   "cell_type": "code",
   "execution_count": null,
   "metadata": {},
   "outputs": [],
   "source": [
    "print(sub(1, 2)) # NameError: name 'sub' is not defined\n"
   ]
  },
  {
   "cell_type": "code",
   "execution_count": null,
   "metadata": {},
   "outputs": [],
   "source": [
    "from simplemath import *\n",
    "print(x)"
   ]
  },
  {
   "cell_type": "markdown",
   "metadata": {},
   "source": [
    "#### О работе операторов import и from\n",
    "Как и оператор **import**, так и оператор **from** выполняются один раз. Все последующие вызовы уже не проводят вычитку из файла с байт кодом, а просто возвращают загруженный объект модуля.\n",
    "Также оба этих оператора являются операторами выполнения (они исполняются в момент выполнения программы, а не на этапе компиляции). Т.е. можно вызвать операцию импорта в условном операторе.\n",
    "Однако правилами оформления кода предписано помещать операторы импорта в начале файла."
   ]
  },
  {
   "cell_type": "markdown",
   "metadata": {},
   "source": [
    "#### Расширение операторов import и from с помощью оператора as\n",
    "Оба оператора (*import* и *from*) могут быть дополнены инструкцией **as**. Эта инструкция предназначена для того, чтобы дать иные имена импортируемым модулям.\n",
    "Ее синтаксис таков:\n",
    "\n",
    "***import module_name as new_name***\n",
    "\n",
    "Где:\n",
    "\n",
    "**module_name** — Имя импортируемого модуля\n",
    "\n",
    "**new_name** — Новое имя, которое получит объект импортируемого модуля\n",
    "\n",
    "Этот оператор используют для сокращения длинных имен модулей в короткие - удобные для последующего использования имена. Либо для случаев, когда из разных модулей, нужно импортировать что-то, что имеет одинаковое название (такое тоже бывает)"
   ]
  },
  {
   "cell_type": "code",
   "execution_count": null,
   "metadata": {},
   "outputs": [],
   "source": [
    "import datetime as dt\n",
    "print(dt.datetime.now())"
   ]
  },
  {
   "cell_type": "code",
   "execution_count": null,
   "metadata": {},
   "outputs": [],
   "source": [
    "from math import pi as PI\n",
    "\n",
    "print(PI)"
   ]
  },
  {
   "cell_type": "code",
   "execution_count": null,
   "metadata": {},
   "outputs": [],
   "source": [
    "print(pi)"
   ]
  },
  {
   "cell_type": "markdown",
   "metadata": {},
   "source": [
    "### Пакеты \n",
    "**Пакеты** в Python - это способ структуризации модулей. Пакет представляет собой папку, в которой содержатся модули и другие пакеты и обязательный файл `__init__.py`, отвечающий за инициализацию пакета."
   ]
  },
  {
   "cell_type": "markdown",
   "metadata": {},
   "source": [
    "Посмотреть содержимое модуля или пакета и справку по нему возможно с помощью функций dir() и help():"
   ]
  },
  {
   "cell_type": "code",
   "execution_count": null,
   "metadata": {},
   "outputs": [],
   "source": [
    "import math\n",
    "\n",
    "dir(math)"
   ]
  },
  {
   "cell_type": "code",
   "execution_count": null,
   "metadata": {
    "scrolled": false
   },
   "outputs": [],
   "source": [
    "help(math)"
   ]
  },
  {
   "cell_type": "markdown",
   "metadata": {},
   "source": [
    "Простейший пакет\n",
    "\n",
    "Давайте рассмотрим пример простейшего пакета. Пусть пакет состоит из каталога simple_package и модуля `__init__.py`\n",
    "\n",
    "Файл `__init__.py` содержит код:\n",
    "\n",
    "\n",
    "NAME = 'Super_package'"
   ]
  },
  {
   "cell_type": "markdown",
   "metadata": {},
   "source": [
    "Это, хотя и небольшой, но уже полноценный пакет. Его можно импортировать так же, как мы импортировали бы модуль:"
   ]
  },
  {
   "cell_type": "code",
   "execution_count": null,
   "metadata": {},
   "outputs": [],
   "source": [
    "import simple_package\n",
    "print(simple_package.NAME)\n"
   ]
  },
  {
   "cell_type": "code",
   "execution_count": null,
   "metadata": {},
   "outputs": [],
   "source": []
  },
  {
   "cell_type": "markdown",
   "metadata": {},
   "source": [
    "Заметьте — мы не импортировали файл `__init__.py` непосредственно. При первом обращении к пакету Python автоматически импортирует модуль `__init__.py` в этом пакете. Поэтому, очевидно, нельзя импортировать \"просто каталог\" — ведь каталог без файла `__init__.py` не будет полноценным пакетом!"
   ]
  },
  {
   "cell_type": "markdown",
   "metadata": {},
   "source": [
    "Допустим, мы пишем пакет модулей для вычисления площадей и периметров фигур. Пакет будет состоять из двух модулей. В одном будут описаны классы двумерных фигур, в другом – трехмерных.\n",
    "\n",
    "Каталог-пакет назовем **geometry**. Один модуль – **planimetry.py**, другой – **stereometry.py**"
   ]
  },
  {
   "cell_type": "code",
   "execution_count": null,
   "metadata": {},
   "outputs": [],
   "source": [
    "import geometry.planimetry as pl\n",
    "import geometry.stereometry as st\n",
    "a = pl.Rectangle(3, 4)\n",
    "b = st.Ball(5)\n",
    "\n",
    "a.area()\n"
   ]
  },
  {
   "cell_type": "code",
   "execution_count": null,
   "metadata": {},
   "outputs": [],
   "source": [
    "b.volume()"
   ]
  },
  {
   "cell_type": "markdown",
   "metadata": {},
   "source": [
    "Если сделать импорт только пакета, то мы не сможем обращаться к модулям (Нужно это сделать в другом шелле или обновить ядро)"
   ]
  },
  {
   "cell_type": "code",
   "execution_count": null,
   "metadata": {},
   "outputs": [],
   "source": [
    "import geometry\n",
    "c = geometry.stereometry.Ball(7) # AttributeError: module 'geometry' has no attribute 'stereometry'\n",
    "\n",
    "c.volume()"
   ]
  },
  {
   "cell_type": "markdown",
   "metadata": {},
   "source": [
    "Но можно сделать по другому, добавить импорты в `__init__.py`"
   ]
  },
  {
   "cell_type": "code",
   "execution_count": null,
   "metadata": {},
   "outputs": [],
   "source": [
    "from new_geometry import *\n",
    "\n",
    "b = Ball(7)\n",
    "a = Rectangle(3, 4)"
   ]
  },
  {
   "cell_type": "code",
   "execution_count": null,
   "metadata": {},
   "outputs": [],
   "source": [
    "b.volume()"
   ]
  },
  {
   "cell_type": "code",
   "execution_count": null,
   "metadata": {},
   "outputs": [],
   "source": [
    "a.perimeter()"
   ]
  },
  {
   "cell_type": "code",
   "execution_count": null,
   "metadata": {},
   "outputs": [],
   "source": [
    "from new_geometry.stereometry import Cube\n",
    "Cube"
   ]
  },
  {
   "cell_type": "code",
   "execution_count": null,
   "metadata": {},
   "outputs": [],
   "source": [
    "import new_geometry\n",
    "df = new_geometry.Cube(2)"
   ]
  },
  {
   "cell_type": "code",
   "execution_count": null,
   "metadata": {},
   "outputs": [],
   "source": [
    "df.area()"
   ]
  },
  {
   "cell_type": "markdown",
   "metadata": {},
   "source": [
    "### Классификация\n",
    "\n",
    "Все модули/пакеты в Python можно разделить на 4 категории:\n",
    "\n"
   ]
  },
  {
   "cell_type": "markdown",
   "metadata": {},
   "source": [
    "#### 1. Встроенные (англ. Built-in).\n",
    "Модули, встроенные в язык и предоставляющие базовые возможности языка (написаны на языке Си).\n",
    "\n",
    "К встроенным относятся как модули общего назначения (например, math или random), так и плаиформозависимые модули (например, модуль winreg, предназначенный для работы с реестром ОС Windows, устанавливается только на соответствующей ОС).\n",
    "\n",
    "Список установленных встроенных модулей можно посмотреть следующим образом:"
   ]
  },
  {
   "cell_type": "code",
   "execution_count": null,
   "metadata": {
    "scrolled": true
   },
   "outputs": [],
   "source": [
    "import sys\n",
    "print(sys.builtin_module_names)"
   ]
  },
  {
   "cell_type": "markdown",
   "metadata": {},
   "source": [
    "#### 2. Стандартная библиотека (англ. Standard Library).\n",
    "\n",
    "Модули и пакеты, написанные на Python, предоставляющие расширенные возможности, например, **json** или **os**.\n",
    "\n"
   ]
  },
  {
   "cell_type": "markdown",
   "metadata": {},
   "source": [
    "#### 3. Сторонние (англ. 3rd Party).\n",
    "\n",
    "Модули и пакеты, которые не входят в дистрибутив Python, и могут быть установлены из каталога пакетов Python (англ. PyPI - the Python Package Index, более 90.000 пакетов) с помощью утилиты pip:"
   ]
  },
  {
   "cell_type": "code",
   "execution_count": null,
   "metadata": {
    "scrolled": true
   },
   "outputs": [],
   "source": [
    "pip list"
   ]
  },
  {
   "cell_type": "markdown",
   "metadata": {},
   "source": [
    "#### 4. Пользовательские (собственные).\n",
    "\n",
    "Модули и пакеты, создаваемые разработчиком."
   ]
  },
  {
   "cell_type": "markdown",
   "metadata": {},
   "source": [
    "В собственной программе рекомендуется выполнять импорт именно в таком порядке: от встроенных до собственных модулей/пакетов."
   ]
  },
  {
   "cell_type": "markdown",
   "metadata": {},
   "source": [
    "#### Как работает импорт модулей в Python?\n",
    "\n",
    "Импорт модуля последовательно выполняет такие действия:\n",
    "\n",
    "1) Поиск файла модуля;\n",
    "\n",
    "2) Компиляция в байт-код. Если модуль уже откомпилирован,то этот этап пропускается;\n",
    "\n",
    "3) Запуск модуля на выполнение для создания и загрузки всего содержимого модуля. После этого создается объект модуля с атрибутами, который и можно использовать по имени.\n",
    "\n",
    "**Стоит отметить, что такая последовательность выполняется только при первом импорте модуля!**"
   ]
  },
  {
   "cell_type": "markdown",
   "metadata": {},
   "source": [
    "При импорте модуля или пакета Python выполняет его поиск в следующем порядке:\n",
    "\n",
    "- Каталог вашего приложения\n",
    "\n",
    "- Каталоги, на которые указывает переменная окружения PYTHONPATH (она может быть и неопределенна)\n",
    "\n",
    "- Каталоги стандартной библиотеки\n",
    "\n",
    "\n",
    "Если модуль не удается найти, возбуждается исключение **ModuleNotFoundError**. При ошибке загрузки существующего модуля - **ImportError**."
   ]
  },
  {
   "cell_type": "markdown",
   "metadata": {},
   "source": [
    "Для проверки содержимого sys.path можно выполнить следующий код:"
   ]
  },
  {
   "cell_type": "code",
   "execution_count": null,
   "metadata": {},
   "outputs": [],
   "source": [
    "import sys\n",
    "print(sys.path)"
   ]
  },
  {
   "cell_type": "markdown",
   "metadata": {},
   "source": [
    "#### Специальные атрибуты\n",
    "\n",
    "Каждый модуль имеет специальные и дополнительные атрибуты.\n",
    "\n",
    "Специальные атрибуты содержат системную информацию о модуле (путь запуска, имя модуля и др.) и доступны всегда. Некоторые из них:\n",
    "\n",
    "`__name__` - Полное имя модуля.\n"
   ]
  },
  {
   "cell_type": "code",
   "execution_count": null,
   "metadata": {},
   "outputs": [],
   "source": [
    "import math\n",
    "math.__name__"
   ]
  },
  {
   "cell_type": "markdown",
   "metadata": {},
   "source": [
    "`__doc__` - Строка документации.\n",
    "\n",
    "`__file__` - Полный путь к файлу, из которого модуль был создан (загружен)."
   ]
  },
  {
   "cell_type": "code",
   "execution_count": null,
   "metadata": {},
   "outputs": [],
   "source": [
    "import geometry.planimetry as pl\n",
    "pl.__file__"
   ]
  },
  {
   "cell_type": "markdown",
   "metadata": {},
   "source": [
    "### Выполнение модуля как скрипта\n",
    "\n",
    "В Python обычный файл-скрипт, или файл-программа, не отличается от файла-модуля почти ничем. Нет команд языка, которые бы \"говорили\", что вот это – модуль, а это – скрипт. Отличие заключается лишь в том, что обычно модули не содержат команды вызова функций и создания экземпляров в основной ветке. В модуле обычно происходит только определение классов и функций.\n",
    "\n",
    "\n",
    "\n",
    "- запущен автономно (как скрипт, например, в командной строке или через IDE);\n",
    "\n",
    "- импортирован (через import).\n"
   ]
  },
  {
   "cell_type": "markdown",
   "metadata": {},
   "source": [
    "Добавлю в модуль fibonacci1 строку print(list_le_than(10))"
   ]
  },
  {
   "cell_type": "code",
   "execution_count": 1,
   "metadata": {
    "scrolled": true
   },
   "outputs": [
    {
     "name": "stdout",
     "output_type": "stream",
     "text": [
      "Module opened\n",
      "Module name dumb_module\n"
     ]
    }
   ],
   "source": [
    "import dumb_module # будет \"неожиданный\" вывод на экран: \"I'm dumb module\""
   ]
  },
  {
   "cell_type": "markdown",
   "metadata": {},
   "source": [
    "Чтобы выполнить различный код в зависимости от того, запущен модуль или импортирован, достаточно использовать специальный идентификатор `__name__`"
   ]
  },
  {
   "cell_type": "code",
   "execution_count": null,
   "metadata": {},
   "outputs": [],
   "source": [
    "from math import (\n",
    "    pi as PI, \n",
    "    tan, \n",
    "    sqrt\n",
    ")"
   ]
  },
  {
   "cell_type": "code",
   "execution_count": null,
   "metadata": {},
   "outputs": [],
   "source": [
    "from math import pi as PI, \\\n",
    "    tan, \\\n",
    "    sqrt"
   ]
  }
 ],
 "metadata": {
  "kernelspec": {
   "display_name": "Python 3 (ipykernel)",
   "language": "python",
   "name": "python3"
  },
  "language_info": {
   "codemirror_mode": {
    "name": "ipython",
    "version": 3
   },
   "file_extension": ".py",
   "mimetype": "text/x-python",
   "name": "python",
   "nbconvert_exporter": "python",
   "pygments_lexer": "ipython3",
   "version": "3.12.1"
  }
 },
 "nbformat": 4,
 "nbformat_minor": 2
}
