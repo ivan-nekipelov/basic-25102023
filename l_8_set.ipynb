{
 "cells": [
  {
   "cell_type": "markdown",
   "metadata": {},
   "source": [
    "#  Множества"
   ]
  },
  {
   "cell_type": "markdown",
   "metadata": {},
   "source": [
    "## Set (множество)\n",
    "Множества - это **неупорядоченные** коллекции уникальных и **неизменяемых** объектов в случайном порядке (неупорядоченный список).\n",
    "Множества примечательны тем, что операция проверки \"принадлежит ли объект множеству\" происходит значительно быстрее аналогичных операций в других структурах данных."
   ]
  },
  {
   "cell_type": "code",
   "execution_count": null,
   "metadata": {
    "pycharm": {
     "name": "#%%\n"
    }
   },
   "outputs": [],
   "source": [
    "my_set = {1, 2, 3, 4, 5, 6, 2, 4}\n",
    "print(type(my_set))\n",
    "print(my_set)"
   ]
  },
  {
   "cell_type": "code",
   "execution_count": null,
   "metadata": {
    "pycharm": {
     "name": "#%%\n"
    }
   },
   "outputs": [],
   "source": [
    "my_set = set()\n",
    "print(type(my_set))"
   ]
  },
  {
   "cell_type": "code",
   "execution_count": null,
   "metadata": {
    "pycharm": {
     "name": "#%%\n"
    }
   },
   "outputs": [],
   "source": [
    "my_set = {}  # is not a set!\n",
    "print(type(my_set))"
   ]
  },
  {
   "cell_type": "code",
   "execution_count": null,
   "metadata": {
    "pycharm": {
     "name": "#%%\n"
    }
   },
   "outputs": [],
   "source": [
    "my_set = set('Hello world! Hi there!')\n",
    "print(my_set)\n",
    "print(type(my_set))"
   ]
  },
  {
   "cell_type": "code",
   "execution_count": null,
   "metadata": {},
   "outputs": [],
   "source": [
    "print(my_set)"
   ]
  },
  {
   "cell_type": "code",
   "execution_count": null,
   "metadata": {
    "pycharm": {
     "name": "#%%\n"
    }
   },
   "outputs": [],
   "source": [
    "my_list = list('Hello world! Hi there!')\n",
    "print(my_list)\n",
    "print(type(my_list))"
   ]
  },
  {
   "cell_type": "code",
   "execution_count": null,
   "metadata": {
    "pycharm": {
     "name": "#%%\n"
    },
    "scrolled": true
   },
   "outputs": [],
   "source": [
    "my_set = set([2, 1, 1, 2, 3, 2, 1])\n",
    "print(my_set)"
   ]
  },
  {
   "cell_type": "code",
   "execution_count": null,
   "metadata": {
    "pycharm": {
     "name": "#%%\n"
    }
   },
   "outputs": [],
   "source": [
    "my_set = {1, 2, [3, 4]} # коллекции уникальных и неизменяемых! объектов"
   ]
  },
  {
   "cell_type": "code",
   "execution_count": null,
   "metadata": {
    "pycharm": {
     "name": "#%%\n"
    }
   },
   "outputs": [],
   "source": [
    "lst = [(1, 2), (2, 2), (1, 2), (1, 2), (2, 1), (1, 2)]\n",
    "my_set = set(lst)\n",
    "print(my_set)"
   ]
  },
  {
   "cell_type": "code",
   "execution_count": null,
   "metadata": {
    "pycharm": {
     "name": "#%%\n"
    },
    "scrolled": true
   },
   "outputs": [],
   "source": [
    "hash((1, 2))"
   ]
  },
  {
   "cell_type": "code",
   "execution_count": null,
   "metadata": {},
   "outputs": [],
   "source": [
    "tpl = (1, 2, [3, 4])\n",
    "print(tpl)"
   ]
  },
  {
   "cell_type": "code",
   "execution_count": null,
   "metadata": {},
   "outputs": [],
   "source": [
    "hash(tpl)"
   ]
  },
  {
   "cell_type": "code",
   "execution_count": null,
   "metadata": {
    "pycharm": {
     "name": "#%%\n"
    }
   },
   "outputs": [],
   "source": [
    "lst = [(1, 2, (3, 4)), (2, 2), (1, 2), (1, 2), (2, 1), (1, 2)]\n"
   ]
  },
  {
   "cell_type": "code",
   "execution_count": null,
   "metadata": {},
   "outputs": [],
   "source": [
    "my_set = set(lst)"
   ]
  },
  {
   "cell_type": "code",
   "execution_count": null,
   "metadata": {
    "pycharm": {
     "name": "#%%\n"
    }
   },
   "outputs": [],
   "source": [
    "my_set = set('Hello world! Hi there!')\n",
    "print(my_set)\n",
    "my_set[0] # Python не предоставляет прямой способ получения значения к отдельным элементам множества."
   ]
  },
  {
   "cell_type": "code",
   "execution_count": null,
   "metadata": {
    "pycharm": {
     "name": "#%%\n"
    },
    "scrolled": false
   },
   "outputs": [],
   "source": [
    "months = set([\"Jan\", \"Feb\", \"March\", \"Apr\", \"May\", \"June\", \"July\", \"Aug\", \"Sep\", \"Oct\", \"Nov\", \"Dec\"])\n",
    "\n",
    "for m in months:\n",
    "    print(m, hash(m), )"
   ]
  },
  {
   "cell_type": "code",
   "execution_count": null,
   "metadata": {
    "pycharm": {
     "name": "#%%\n"
    }
   },
   "outputs": [],
   "source": [
    "print(\"May\" in months)"
   ]
  },
  {
   "cell_type": "markdown",
   "metadata": {},
   "source": [
    "### *Доступные методы*"
   ]
  },
  {
   "cell_type": "markdown",
   "metadata": {},
   "source": [
    "### *add(x)* добавляет x во множество"
   ]
  },
  {
   "cell_type": "code",
   "execution_count": null,
   "metadata": {
    "pycharm": {
     "name": "#%%\n"
    }
   },
   "outputs": [],
   "source": [
    "num_set = {1, 2, 3}\n",
    "num_set.add(4)\n",
    "\n",
    "print(num_set)"
   ]
  },
  {
   "cell_type": "code",
   "execution_count": null,
   "metadata": {
    "pycharm": {
     "name": "#%%\n"
    }
   },
   "outputs": [],
   "source": [
    "num_set.add(4)\n",
    "\n",
    "print(num_set)"
   ]
  },
  {
   "cell_type": "markdown",
   "metadata": {},
   "source": [
    "### *set.update(x)* добавляет в set все элементы из множества x"
   ]
  },
  {
   "cell_type": "code",
   "execution_count": null,
   "metadata": {
    "pycharm": {
     "name": "#%%\n"
    }
   },
   "outputs": [],
   "source": [
    "set_a = {1, 2, 3, 4, 5}\n",
    "set_b = {4, 5, 6, 7, 8}\n",
    "set_a.update(set_b)\n",
    "\n",
    "print(set_a)"
   ]
  },
  {
   "cell_type": "code",
   "execution_count": null,
   "metadata": {},
   "outputs": [],
   "source": [
    "set_b\n"
   ]
  },
  {
   "cell_type": "markdown",
   "metadata": {},
   "source": [
    "###  *set.difference(x)* возвращает множество элементов, которые не входят во множество x"
   ]
  },
  {
   "cell_type": "code",
   "execution_count": null,
   "metadata": {
    "pycharm": {
     "name": "#%%\n"
    }
   },
   "outputs": [],
   "source": [
    "set_a = {1, 2, 3, 4, 5}\n",
    "set_b = {4, 5, 6, 7, 8}\n",
    "\n",
    "diff_set = set_a.difference(set_b)\n",
    "\n",
    "print(diff_set)"
   ]
  },
  {
   "cell_type": "code",
   "execution_count": null,
   "metadata": {
    "pycharm": {
     "name": "#%%\n"
    },
    "scrolled": true
   },
   "outputs": [],
   "source": [
    "diff_set = set_b.difference(set_a)\n",
    "print(diff_set)"
   ]
  },
  {
   "cell_type": "code",
   "execution_count": null,
   "metadata": {
    "pycharm": {
     "name": "#%%\n"
    }
   },
   "outputs": [],
   "source": [
    "diff_set = set_a.difference(set_a)\n",
    "print(diff_set)"
   ]
  },
  {
   "cell_type": "code",
   "execution_count": null,
   "metadata": {
    "pycharm": {
     "name": "#%%\n"
    }
   },
   "outputs": [],
   "source": [
    "print(set_a, set_b)\n"
   ]
  },
  {
   "cell_type": "markdown",
   "metadata": {},
   "source": [
    "### *set.symmetric_difference(x)* возвращает все элементы из x и set за исключением тех элементов, которые являются общими для обеих множеств."
   ]
  },
  {
   "cell_type": "code",
   "execution_count": null,
   "metadata": {
    "pycharm": {
     "name": "#%%\n"
    }
   },
   "outputs": [],
   "source": [
    "set_a = {1, 2, 3, 4, 5}\n",
    "set_b = {4, 5, 6, 7, 8}\n",
    "\n",
    "diff_set = set_a.symmetric_difference(set_b)\n",
    "print(diff_set)"
   ]
  },
  {
   "cell_type": "code",
   "execution_count": null,
   "metadata": {
    "pycharm": {
     "name": "#%%\n"
    }
   },
   "outputs": [],
   "source": [
    "diff_set = set_b.symmetric_difference(set_a)\n",
    "print(diff_set)"
   ]
  },
  {
   "cell_type": "code",
   "execution_count": null,
   "metadata": {
    "pycharm": {
     "name": "#%%\n"
    }
   },
   "outputs": [],
   "source": [
    "print(set_a ^ set_b) # symmetric_difference"
   ]
  },
  {
   "cell_type": "markdown",
   "metadata": {},
   "source": [
    "### *set.difference_update(x)* удаляет из множества set все элементы, которые являются общими со множеством x"
   ]
  },
  {
   "cell_type": "code",
   "execution_count": null,
   "metadata": {
    "pycharm": {
     "name": "#%%\n"
    }
   },
   "outputs": [],
   "source": [
    "set_a = {1, 2, 3, 4, 5}\n",
    "set_b = {4, 5, 6, 7, 8}\n",
    "\n",
    "set_a.difference_update(set_b)\n",
    "print(set_a)"
   ]
  },
  {
   "cell_type": "code",
   "execution_count": null,
   "metadata": {
    "pycharm": {
     "name": "#%%\n"
    }
   },
   "outputs": [],
   "source": [
    "set_a = {1, 2, 3, 4, 5}\n",
    "set_b = {4, 5, 6, 7, 8}\n",
    "\n",
    "set_b.difference_update(set_a)\n",
    "print(set_b)"
   ]
  },
  {
   "cell_type": "markdown",
   "metadata": {},
   "source": [
    "### *set.discard(x)* удаляет элемент x из set"
   ]
  },
  {
   "cell_type": "code",
   "execution_count": null,
   "metadata": {
    "pycharm": {
     "name": "#%%\n"
    }
   },
   "outputs": [],
   "source": [
    "set_a = {1, 2, 3, 4, 5}\n",
    "set_a.discard(2)\n",
    "\n",
    "print(set_a)"
   ]
  },
  {
   "cell_type": "code",
   "execution_count": null,
   "metadata": {
    "pycharm": {
     "name": "#%%\n"
    }
   },
   "outputs": [],
   "source": [
    "set_a.discard(55) # удаление отсутствующего элемента не вызывает ошибки!"
   ]
  },
  {
   "cell_type": "markdown",
   "metadata": {},
   "source": [
    "### *set.remove(x)* удаляет x из множества"
   ]
  },
  {
   "cell_type": "code",
   "execution_count": null,
   "metadata": {
    "pycharm": {
     "name": "#%%\n"
    }
   },
   "outputs": [],
   "source": [
    "set_a = {1, 2, 3, 4, 5}\n",
    "set_a.remove(2)\n",
    "\n",
    "print(set_a)"
   ]
  },
  {
   "cell_type": "code",
   "execution_count": null,
   "metadata": {
    "pycharm": {
     "name": "#%%\n"
    }
   },
   "outputs": [],
   "source": [
    "set_a.remove(2) # удаление отсутствующего элемента вызывает ошибку"
   ]
  },
  {
   "cell_type": "markdown",
   "metadata": {},
   "source": [
    "### *set.clear()* Очистка множества от содержимого"
   ]
  },
  {
   "cell_type": "code",
   "execution_count": null,
   "metadata": {
    "pycharm": {
     "name": "#%%\n"
    }
   },
   "outputs": [],
   "source": [
    "num_set = {1, 2, 3, 4, 5, 6}\n",
    "num_set.clear()\n",
    "print(num_set)"
   ]
  },
  {
   "cell_type": "markdown",
   "metadata": {},
   "source": [
    "### *set.pop()* возвращает и удаляет случайный элемент множества"
   ]
  },
  {
   "cell_type": "code",
   "execution_count": null,
   "metadata": {
    "pycharm": {
     "name": "#%%\n"
    }
   },
   "outputs": [],
   "source": [
    "set_a = set('Hello')\n",
    "print(set_a)\n",
    "x = set_a.pop()\n",
    "print(set_a)\n",
    "print(x)"
   ]
  },
  {
   "cell_type": "code",
   "execution_count": null,
   "metadata": {
    "pycharm": {
     "name": "#%%\n"
    },
    "scrolled": true
   },
   "outputs": [],
   "source": [
    "set_a.clear()\n",
    "x = set_a.pop() # error for empty set"
   ]
  },
  {
   "cell_type": "code",
   "execution_count": null,
   "metadata": {},
   "outputs": [],
   "source": [
    "set_a = set('Hello')\n",
    "while set_a:\n",
    "    x = set_a.pop()\n",
    "    print(x)"
   ]
  },
  {
   "cell_type": "markdown",
   "metadata": {},
   "source": [
    "### *set.union(x, y, z)* возвращает **новое** множество, состоящее из всех элементов set, x, y и z"
   ]
  },
  {
   "cell_type": "code",
   "execution_count": null,
   "metadata": {
    "pycharm": {
     "name": "#%%\n"
    }
   },
   "outputs": [],
   "source": [
    "months_a = set([\"Jan\", \"Feb\", \"March\", \"Apr\", \"May\", \"July\", \"June\"])\n",
    "months_b = set([\"July\", \"Aug\", \"Sep\", \"Oct\", \"Nov\", \"Dec\"])\n",
    "\n",
    "all_months = months_a.union(months_b)\n",
    "print(all_months)"
   ]
  },
  {
   "cell_type": "code",
   "execution_count": null,
   "metadata": {
    "pycharm": {
     "name": "#%%\n"
    }
   },
   "outputs": [],
   "source": [
    "print(months_a)"
   ]
  },
  {
   "cell_type": "code",
   "execution_count": null,
   "metadata": {
    "pycharm": {
     "name": "#%%\n"
    }
   },
   "outputs": [],
   "source": [
    "x = {1, 2, 3}\n",
    "y = {4, 3, 6}\n",
    "z = {7, 4, 9}\n",
    "\n",
    "output = x.union(y, z)\n",
    "\n",
    "print(output)"
   ]
  },
  {
   "cell_type": "code",
   "execution_count": null,
   "metadata": {
    "pycharm": {
     "name": "#%%\n"
    }
   },
   "outputs": [],
   "source": [
    "all_months = months_a | months_b\n",
    "print(all_months)\n",
    "\n",
    "\n",
    "output = x | y | z\n",
    "\n",
    "print(output)"
   ]
  },
  {
   "cell_type": "markdown",
   "metadata": {},
   "source": [
    "### *set.intersection(x)* возвращает элементы общие для множеств set и x"
   ]
  },
  {
   "cell_type": "code",
   "execution_count": null,
   "metadata": {
    "pycharm": {
     "name": "#%%\n"
    }
   },
   "outputs": [],
   "source": [
    "x = {1, 2, 3}\n",
    "y = {4, 3, 6}\n",
    "\n",
    "z = x.intersection(y)\n",
    "print(z)\n",
    "print(x & y)"
   ]
  },
  {
   "cell_type": "markdown",
   "metadata": {},
   "source": [
    "### *set.intersection_update(x)* удаляет из множества set элементы, которых нет во множестве x. Или иначе, оставляет в set те элементы, которые являются общие и для множеств set и для множества x"
   ]
  },
  {
   "cell_type": "code",
   "execution_count": null,
   "metadata": {
    "pycharm": {
     "name": "#%%\n"
    }
   },
   "outputs": [],
   "source": [
    "x = {1, 2, 3}\n",
    "y = {4, 3, 6}\n",
    "\n",
    "x.intersection_update(y)\n",
    "print(x)\n",
    "print(y)"
   ]
  },
  {
   "cell_type": "code",
   "execution_count": null,
   "metadata": {
    "pycharm": {
     "name": "#%%\n"
    }
   },
   "outputs": [],
   "source": [
    "x = {1, 2, 3}\n",
    "y = {4, 3, 6}\n",
    "\n",
    "y.intersection_update(x)\n",
    "print(x)\n",
    "print(y)"
   ]
  },
  {
   "cell_type": "code",
   "execution_count": null,
   "metadata": {
    "pycharm": {
     "name": "#%%\n"
    }
   },
   "outputs": [],
   "source": [
    "x = {1, 2, 3}\n",
    "\n",
    "x.intersection_update(x)\n",
    "print(x)"
   ]
  },
  {
   "cell_type": "markdown",
   "metadata": {},
   "source": [
    "### *set.copy()* возвращает копию множества"
   ]
  },
  {
   "cell_type": "code",
   "execution_count": null,
   "metadata": {
    "pycharm": {
     "name": "#%%\n"
    }
   },
   "outputs": [],
   "source": [
    "set_a = {1, 2, 3, 4, 5}\n",
    "set_b = set_a.copy()\n",
    "print(set_b)"
   ]
  },
  {
   "cell_type": "code",
   "execution_count": null,
   "metadata": {
    "pycharm": {
     "name": "#%%\n"
    }
   },
   "outputs": [],
   "source": [
    "print(id(set_b))\n",
    "print(id(set_a))"
   ]
  },
  {
   "cell_type": "code",
   "execution_count": null,
   "metadata": {
    "pycharm": {
     "name": "#%%\n"
    }
   },
   "outputs": [],
   "source": [
    "set_b.update({4, 5, 6, 7, 8})\n",
    "print(set_a)\n",
    "print(set_b)"
   ]
  },
  {
   "cell_type": "code",
   "execution_count": null,
   "metadata": {
    "pycharm": {
     "name": "#%%\n"
    }
   },
   "outputs": [],
   "source": [
    "set_c = set_a\n",
    "set_c.update({4, 5, 6, 7, 8})\n",
    "print(set_a)"
   ]
  },
  {
   "cell_type": "markdown",
   "metadata": {},
   "source": [
    "## Сравнение множеств\n",
    "\n",
    "Мы можем сравнить множества в зависимости от того, какие элементы в них\n",
    "содержатся. Таким образом, мы можем сказать, является ли множество\n",
    "родительским, или дочерним от другого множества. Результат такого сравнения\n",
    "будет либо *True*, либо *False*."
   ]
  },
  {
   "cell_type": "markdown",
   "metadata": {},
   "source": [
    "### *set.issubset(x)* возвращает True если все элементы set входят во множество x. Т.е. является ли множество set частью множества х"
   ]
  },
  {
   "cell_type": "code",
   "execution_count": null,
   "metadata": {
    "pycharm": {
     "name": "#%%\n"
    }
   },
   "outputs": [],
   "source": [
    "months_a = set([\"Jan\",\"Feb\", \"March\", \"Apr\", \"May\", \"June\"])\n",
    "months_b = set([\"Jan\",\"Feb\", \"March\", \"Apr\", \"May\", \"June\", \"July\", \"Aug\", \"Sep\", \"Oct\", \"Nov\", \"Dec\"])\n",
    "\n",
    "subset_check = months_a.issubset(months_b)\n",
    "\n",
    "print(subset_check)"
   ]
  },
  {
   "cell_type": "code",
   "execution_count": null,
   "metadata": {},
   "outputs": [],
   "source": [
    "months_a = set([\"Jan\",\"Feb\", \"March\", \"Apr\", \"May\", \"June\", \"hi\"])\n",
    "months_b = set([\"Jan\",\"Feb\", \"March\", \"Apr\", \"May\", \"June\", \"July\", \"Aug\", \"Sep\", \"Oct\", \"Nov\", \"Dec\"])\n",
    "\n",
    "subset_check = months_a.issubset(months_b)\n",
    "\n",
    "print(subset_check)"
   ]
  },
  {
   "cell_type": "code",
   "execution_count": null,
   "metadata": {
    "pycharm": {
     "name": "#%%\n"
    }
   },
   "outputs": [],
   "source": [
    "months_a = set([\"Jan\",\"Feb\", \"March\", \"Apr\", \"May\", \"June\"])\n",
    "months_b = set([\"Jan\",\"Feb\", \"March\", \"Apr\", \"May\", \"June\", \"July\", \"Aug\", \"Sep\", \"Oct\", \"Nov\", \"Dec\"])\n",
    "\n",
    "subset_check = months_b.issubset(months_a)\n",
    "\n",
    "print(subset_check)"
   ]
  },
  {
   "cell_type": "markdown",
   "metadata": {},
   "source": [
    "### *set.issuperset(x)* возвращает true если все элементы x входят во множество set"
   ]
  },
  {
   "cell_type": "code",
   "execution_count": null,
   "metadata": {
    "pycharm": {
     "name": "#%%\n"
    }
   },
   "outputs": [],
   "source": [
    "months_a = set([\"Jan\",\"Feb\", \"March\", \"Apr\", \"May\", \"June\"])\n",
    "months_b = set([\"Jan\",\"Feb\", \"March\", \"Apr\", \"May\", \"June\", \"July\", \"Aug\", \"Sep\", \"Oct\", \"Nov\", \"Dec\"])\n",
    "\n",
    "superset_check = months_b.issuperset(months_a)\n",
    "\n",
    "print(superset_check)"
   ]
  },
  {
   "cell_type": "code",
   "execution_count": null,
   "metadata": {
    "pycharm": {
     "name": "#%%\n"
    }
   },
   "outputs": [],
   "source": [
    "superset_check = months_a.issuperset(months_b)\n",
    "\n",
    "print(superset_check)"
   ]
  },
  {
   "cell_type": "markdown",
   "metadata": {},
   "source": [
    "### *set.isdisjoint(x)* возвращает True если set и x не содержат одинаковых значений"
   ]
  },
  {
   "cell_type": "code",
   "execution_count": null,
   "metadata": {
    "pycharm": {
     "name": "#%%\n"
    }
   },
   "outputs": [],
   "source": [
    "names_a = {\"Nicholas\", \"Michelle\", \"John\", \"Mercy\"}\n",
    "names_b = {\"Jeff\", \"Bosco\", \"Teddy\", \"Milly\"}\n",
    "\n",
    "print(names_a.isdisjoint(names_b))"
   ]
  },
  {
   "cell_type": "code",
   "execution_count": null,
   "metadata": {
    "pycharm": {
     "name": "#%%\n"
    }
   },
   "outputs": [],
   "source": [
    "names_a = {\"Nicholas\", \"Michelle\", \"John\", \"Mercy\"}\n",
    "names_b = {\"Jeff\", \"Bosco\", \"Teddy\", \"Milly\", \"Mercy\"}\n",
    "\n",
    "print(names_a.isdisjoint(names_b))"
   ]
  },
  {
   "cell_type": "code",
   "execution_count": null,
   "metadata": {},
   "outputs": [],
   "source": [
    "names_a = {\"Nicholas\", \"Michelle\", \"John\", \"Mercy\"}\n",
    "names_b = {\"Jeff\", \"Bosco\", \"Teddy\", \"Milly\"}\n",
    "names_a.intersection(names_b)"
   ]
  },
  {
   "cell_type": "code",
   "execution_count": null,
   "metadata": {
    "pycharm": {
     "name": "#%%\n"
    }
   },
   "outputs": [],
   "source": [
    "names_a = {\"Nicholas\", \"Michelle\", \"John\", \"Mercy\"}\n",
    "names_b = {\"Jeff\", \"Bosco\", \"Teddy\", \"Milly\"}\n",
    "z = not bool(names_a.intersection(names_b))\n",
    "print(z)\n"
   ]
  },
  {
   "cell_type": "markdown",
   "metadata": {},
   "source": [
    "## Встроенные (built-in) функции, которые работают с множествами и кортежами"
   ]
  },
  {
   "cell_type": "markdown",
   "metadata": {},
   "source": [
    "### *len()*"
   ]
  },
  {
   "cell_type": "code",
   "execution_count": null,
   "metadata": {
    "pycharm": {
     "name": "#%%\n"
    }
   },
   "outputs": [],
   "source": [
    "names_a = {\"Jeff\", \"Bosco\", \"Teddy\", \"Milly\", \"Mercy\"}\n",
    "print(len(names_a))\n",
    "\n",
    "names_b = (\"Jeff\", \"Bosco\", \"Teddy\", \"Milly\", \"Mercy\")\n",
    "print(len(names_b))"
   ]
  },
  {
   "cell_type": "markdown",
   "metadata": {},
   "source": [
    "### *all()*"
   ]
  },
  {
   "cell_type": "code",
   "execution_count": null,
   "metadata": {
    "pycharm": {
     "name": "#%%\n"
    }
   },
   "outputs": [],
   "source": [
    "set_a = {1, 2, 3, 4, 5}\n",
    "set_b = {0, 2, 3, 4, 5}\n",
    "\n",
    "print(all(set_a))\n",
    "print(all(set_b))"
   ]
  },
  {
   "cell_type": "code",
   "execution_count": null,
   "metadata": {
    "pycharm": {
     "name": "#%%\n"
    }
   },
   "outputs": [],
   "source": [
    "a = (1, 2, 3, 4, 5)\n",
    "b = (0, 2, 3, 4, 5)\n",
    "\n",
    "print(all(a))\n",
    "print(all(b))"
   ]
  },
  {
   "cell_type": "markdown",
   "metadata": {},
   "source": [
    "### *any()*"
   ]
  },
  {
   "cell_type": "code",
   "execution_count": null,
   "metadata": {
    "pycharm": {
     "name": "#%%\n"
    },
    "scrolled": true
   },
   "outputs": [],
   "source": [
    "set_b = {0, 2, 3, 4, 5}\n",
    "\n",
    "print(any(set_b))"
   ]
  },
  {
   "cell_type": "code",
   "execution_count": null,
   "metadata": {
    "pycharm": {
     "name": "#%%\n"
    }
   },
   "outputs": [],
   "source": [
    "b = (0, 2, 3, 4, 5)\n",
    "\n",
    "\n",
    "print(any(b))"
   ]
  },
  {
   "cell_type": "code",
   "execution_count": null,
   "metadata": {},
   "outputs": [],
   "source": [
    "b = (0, 0.0, '', [], {}, (), set())\n",
    "\n",
    "\n",
    "print(any(b))"
   ]
  },
  {
   "cell_type": "markdown",
   "metadata": {},
   "source": [
    "### *max(), min(), sum()*"
   ]
  },
  {
   "cell_type": "code",
   "execution_count": null,
   "metadata": {
    "pycharm": {
     "name": "#%%\n"
    }
   },
   "outputs": [],
   "source": [
    "set_a = {1, 2, 3, 4, 5}\n",
    "a = (1, 2, 3, 4, 5)\n",
    "\n",
    "print(min(set_a), min(a))\n",
    "print(max(set_a), max(a))\n",
    "print(sum(set_a), sum(a))"
   ]
  },
  {
   "cell_type": "markdown",
   "metadata": {},
   "source": [
    "### *sorted()*"
   ]
  },
  {
   "cell_type": "code",
   "execution_count": null,
   "metadata": {
    "pycharm": {
     "name": "#%%\n"
    }
   },
   "outputs": [],
   "source": [
    "set_a = {3, 4, 1, 2, 5}\n",
    "a = (1, 5, 2, 3, 4)\n",
    "\n",
    "print(sorted(set_a))\n",
    "print(sorted(a))"
   ]
  },
  {
   "cell_type": "markdown",
   "metadata": {},
   "source": [
    "### *enumerate()*"
   ]
  },
  {
   "cell_type": "code",
   "execution_count": null,
   "metadata": {
    "pycharm": {
     "name": "#%%\n"
    }
   },
   "outputs": [],
   "source": [
    "months_set = set([\"Jan\",\"Feb\", \"March\", \"Apr\", \"May\", \"June\", \"July\", \"Aug\", \"Sep\", \"Oct\", \"Nov\", \"Dec\"])\n",
    "# i = 0\n",
    "for i, m in enumerate(months_set):\n",
    "    print(f'{i} -> {m}')\n",
    "    # i += 1\n"
   ]
  },
  {
   "cell_type": "code",
   "execution_count": null,
   "metadata": {
    "pycharm": {
     "name": "#%%\n"
    }
   },
   "outputs": [],
   "source": [
    "for i, m in enumerate(months_set, 61):\n",
    "    print(f'{i} -> {m}')"
   ]
  },
  {
   "cell_type": "code",
   "execution_count": null,
   "metadata": {
    "pycharm": {
     "name": "#%%\n"
    }
   },
   "outputs": [],
   "source": [
    "months = tuple([\"Jan\",\"Feb\", \"March\", \"Apr\", \"May\", \"June\", \"July\", \"Aug\", \"Sep\", \"Oct\", \"Nov\", \"Dec\"])\n",
    "for i, m in enumerate(months, 1):\n",
    "    print(f'{i} -> {m}')"
   ]
  },
  {
   "cell_type": "markdown",
   "metadata": {},
   "source": [
    "## Frozenset в Python\n"
   ]
  },
  {
   "cell_type": "markdown",
   "metadata": {},
   "source": [
    "Frozenset (замороженное множество) – это класс с характеристиками множества, однако, как только элементы становятся назначенными, их нельзя менять. Кортежи могут рассматриваться как неизменяемые списки, в то время как frozenset-ы — как неизменные множества.\n",
    "\n",
    "Множества являются изменяемыми и нехешируемыми, это значит, что мы не можем использовать их как словарные ключи. Замороженные множества (frozenset) являются хешированными и могут использоваться в качестве ключей словаря."
   ]
  },
  {
   "cell_type": "code",
   "execution_count": null,
   "metadata": {
    "pycharm": {
     "name": "#%%\n"
    }
   },
   "outputs": [],
   "source": [
    "x = frozenset([1, 2, 3, 4, 5, 6, 1, 2, 3, 4, 5, 6, 1, 2, 3, 4, 5, 6])\n",
    "y = frozenset([4, 5, 6, 7, 8, 9])\n",
    "\n",
    "print(x)\n",
    "print(y)"
   ]
  },
  {
   "cell_type": "code",
   "execution_count": null,
   "metadata": {
    "pycharm": {
     "name": "#%%\n"
    }
   },
   "outputs": [],
   "source": [
    "print(hash(x))\n",
    "print(hash(y))\n"
   ]
  },
  {
   "cell_type": "code",
   "execution_count": null,
   "metadata": {
    "pycharm": {
     "name": "#%%\n"
    }
   },
   "outputs": [],
   "source": [
    "names_b = {\"Jeff\", \"Bosco\", \"Teddy\", \"Milly\", \"Mercy\"}\n",
    "hash(names_b) # error"
   ]
  },
  {
   "cell_type": "code",
   "execution_count": null,
   "metadata": {
    "pycharm": {
     "name": "#%%\n"
    }
   },
   "outputs": [],
   "source": [
    "dct = {x: 'Frozenset', y: 'Python'}\n",
    "print(dct)"
   ]
  },
  {
   "cell_type": "code",
   "execution_count": null,
   "metadata": {},
   "outputs": [],
   "source": [
    "x.add(2)"
   ]
  },
  {
   "cell_type": "markdown",
   "metadata": {},
   "source": [
    "Замороженные множества поддерживают использование методов, которые не влияют на него -\n",
    " `copy()`, `difference()`, `symmetric_difference()`, `isdisjoint()`,\n",
    "`issubset()`, `intersection()`, `issuperset()` и `union()`."
   ]
  },
  {
   "cell_type": "code",
   "execution_count": null,
   "metadata": {
    "pycharm": {
     "name": "#%%\n"
    }
   },
   "outputs": [],
   "source": [
    "# Преобразование \"замороженного множества\" в обычное\n",
    "xx = set(x)\n",
    "print(type(xx))"
   ]
  },
  {
   "cell_type": "code",
   "execution_count": null,
   "metadata": {},
   "outputs": [],
   "source": [
    "b = x.copy()\n"
   ]
  },
  {
   "cell_type": "code",
   "execution_count": null,
   "metadata": {},
   "outputs": [],
   "source": [
    "b\n",
    "s = set([1,2,3,4,5])\n",
    "f_s = frozenset(s)\n",
    "print(type(s), s)\n",
    "print(type(f_s), f_s)"
   ]
  }
 ],
 "metadata": {
  "kernelspec": {
   "display_name": "Python 3 (ipykernel)",
   "language": "python",
   "name": "python3"
  },
  "language_info": {
   "codemirror_mode": {
    "name": "ipython",
    "version": 3
   },
   "file_extension": ".py",
   "mimetype": "text/x-python",
   "name": "python",
   "nbconvert_exporter": "python",
   "pygments_lexer": "ipython3",
   "version": "3.12.0"
  }
 },
 "nbformat": 4,
 "nbformat_minor": 2
}
