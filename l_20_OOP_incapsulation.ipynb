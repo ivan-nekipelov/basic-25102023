{
 "cells": [
  {
   "cell_type": "markdown",
   "metadata": {
    "collapsed": true,
    "pycharm": {
     "name": "#%% md\n"
    }
   },
   "source": [
    "## Управление полями класса. Дескрипторы."
   ]
  },
  {
   "cell_type": "markdown",
   "metadata": {},
   "source": [
    "Поля класса наиболее часто используемые элементы программ в Python. Поля используются для хранения\n",
    "состояния объекта. Поля обычно присоединяются сразу к объекту или наследуются от родительского класса.\n",
    "\n",
    "Обычно доступ к полям класса осуществляется через имя объекта простым обращением по имени поля через точечную нотацию. Однако в ряде\n",
    "случаев требуется более полный и тонкий контроль над процессами получения и изменения значения поля, или\n",
    "удаления поля целиком."
   ]
  },
  {
   "cell_type": "code",
   "execution_count": null,
   "metadata": {
    "pycharm": {
     "name": "#%%\n"
    }
   },
   "outputs": [],
   "source": [
    "class Cat:\n",
    "    def __init__(self, name, age, color):\n",
    "        self.name = name\n",
    "        self.age = age\n",
    "        self.color = color\n",
    "\n",
    "    def __str__(self):\n",
    "        msg = \"Cat [ name = {}, age = {}, color ={}]\"\n",
    "        return msg.format(self.name, self.age, self.color)\n",
    "\n",
    "cat = Cat('Barsik', 3, 'black')\n",
    "print(cat.color)\n"
   ]
  },
  {
   "cell_type": "code",
   "execution_count": null,
   "metadata": {},
   "outputs": [],
   "source": [
    "cat.color = 'white'\n",
    "print(cat.color)"
   ]
  },
  {
   "cell_type": "code",
   "execution_count": null,
   "metadata": {
    "pycharm": {
     "name": "#%%\n"
    },
    "scrolled": true
   },
   "outputs": [],
   "source": [
    "class Cat:\n",
    "    def __init__(self, name, age, color):\n",
    "        self.name = name\n",
    "        self._age = age\n",
    "        self.__color = color # почти Инкапсуляция\n",
    "\n",
    "    def __str__(self):\n",
    "        msg = \"Cat [ name = {}, age = {}, color ={}]\"\n",
    "        return msg.format(self.name, self._age, self.__color)\n",
    "\n",
    "cat = Cat('Barsik', 3, 'black')\n",
    "print(cat._age)\n"
   ]
  },
  {
   "cell_type": "code",
   "execution_count": null,
   "metadata": {},
   "outputs": [],
   "source": [
    "cat._age = 5\n",
    "print(cat._age)"
   ]
  },
  {
   "cell_type": "code",
   "execution_count": null,
   "metadata": {},
   "outputs": [],
   "source": [
    "# print(cat.color) # AttributeError\n",
    "print(cat.__color) # AttributeError"
   ]
  },
  {
   "cell_type": "code",
   "execution_count": null,
   "metadata": {},
   "outputs": [],
   "source": [
    "print(cat._Cat__color)"
   ]
  },
  {
   "cell_type": "code",
   "execution_count": null,
   "metadata": {
    "pycharm": {
     "name": "#%%\n"
    },
    "scrolled": true
   },
   "outputs": [],
   "source": [
    "\n",
    "cat._Cat__color = 'white'\n",
    "print(cat._Cat__color)\n",
    "print(cat._age)\n",
    "cat._age = 4\n",
    "print(cat._age)\n",
    "print(cat)"
   ]
  },
  {
   "cell_type": "code",
   "execution_count": null,
   "metadata": {},
   "outputs": [],
   "source": [
    "cat.a"
   ]
  },
  {
   "cell_type": "markdown",
   "metadata": {},
   "source": [
    "В Python существует следующие способы управления доступа к полям класса:\n",
    "* Методы `__getattr__` , `__setattr__` , `__getattribute__` , `__delattr__`\n",
    "* Встроенная функция *property*\n",
    "* Протокол дескрипторов"
   ]
  },
  {
   "cell_type": "markdown",
   "metadata": {},
   "source": [
    "### Работа с методами `__getattribute__` , `__getattr__`, `__setattr__`  и `__delattr__`\n",
    "Метод `__getattribute__` - вызывается автоматически при попытке получть значение **определенного** или\n",
    "**неопределенного** (отсутствующего) поля класса.\n",
    "\n",
    "Метод `__getattr__` - вызывается автоматически при попытке получить значение **неопределенного** поля класса.\n",
    "\n",
    "Метод `__setattr__` - вызывается при попытке присвоить значение любому полю класса ( определенного и неопределенного)\n",
    "\n",
    "Метод `__delattr__` - вызывается при удалении поля."
   ]
  },
  {
   "cell_type": "markdown",
   "metadata": {},
   "source": [
    "### Как поля хранятся в объекте?\n",
    "Для хранения полей в объекте используются два способа:\n",
    "* Каждый объект обладает встроенным словарем с названием `__dict__` в котором и хранятся поля. Ключи этого словаря это\n",
    "строки с названием полей, а значения — значения полей. Позволяет добавление новых полей к объекту.\n",
    "* Можно использовать `__slots__` - поле класса, в котором поля также описываются в виде строк. По умолчанию отключает\n",
    "`__dict__` . Не позволяет добавлять к объекту поля, кроме указанных в `__slots__` . Это связанно с тем, что `__slots__`, по факту,\n",
    "это кортеж!"
   ]
  },
  {
   "cell_type": "code",
   "execution_count": null,
   "metadata": {
    "pycharm": {
     "name": "#%%\n"
    }
   },
   "outputs": [],
   "source": [
    "from sys import  getsizeof\n",
    "dct = {'name':'Barsik', 'age': 3, 'color': 'black'}\n",
    "tpl = ('Barsik', 3, 'black')\n",
    "print(getsizeof(dct))\n",
    "print(getsizeof(tpl))"
   ]
  },
  {
   "cell_type": "code",
   "execution_count": null,
   "metadata": {},
   "outputs": [],
   "source": [
    "dct = {'name':'Barsik', 'age': 3, 'color': 'black', 1: 8, 3: 766}\n",
    "print(getsizeof(dct))"
   ]
  },
  {
   "cell_type": "code",
   "execution_count": null,
   "metadata": {
    "pycharm": {
     "name": "#%%\n"
    }
   },
   "outputs": [],
   "source": [
    "class Cat:\n",
    "    def __init__(self, name, age, color):\n",
    "        self.name = name\n",
    "        self.age = age\n",
    "        self.color = color\n",
    "\n",
    "    def __str__(self):\n",
    "        msg = \"Cat [ name = {}, age = {}, color ={}]\"\n",
    "        return msg.format(self.name, self.age, self.color)\n",
    "\n",
    "cat = Cat('Barsik', 3, 'black')\n",
    "print(cat.__dict__)\n"
   ]
  },
  {
   "cell_type": "code",
   "execution_count": null,
   "metadata": {},
   "outputs": [],
   "source": [
    "print(getsizeof(cat))"
   ]
  },
  {
   "cell_type": "code",
   "execution_count": null,
   "metadata": {},
   "outputs": [],
   "source": [
    "cat.type = \"Home cat\"\n",
    "print(cat.__dict__)"
   ]
  },
  {
   "cell_type": "code",
   "execution_count": null,
   "metadata": {
    "pycharm": {
     "name": "#%%\n"
    },
    "scrolled": true
   },
   "outputs": [],
   "source": [
    "class Cat:\n",
    "    __slots__ = (\"name\", \"age\", \"color\")\n",
    "    def __init__(self, name, age, color):\n",
    "        self.name = name\n",
    "        self.age = age\n",
    "        self.color = color\n",
    "\n",
    "    def __str__(self):\n",
    "        msg = \"Cat [ name = {}, age = {}, color ={}]\"\n",
    "        return msg.format(self.name, self.age, self.color)\n",
    "\n",
    "cat = Cat('Barsik', 3, 'black')\n",
    "print(cat.__slots__)\n",
    "print(cat.age)"
   ]
  },
  {
   "cell_type": "code",
   "execution_count": null,
   "metadata": {},
   "outputs": [],
   "source": [
    "print(getsizeof(cat))"
   ]
  },
  {
   "cell_type": "code",
   "execution_count": null,
   "metadata": {
    "pycharm": {
     "name": "#%%\n"
    }
   },
   "outputs": [],
   "source": [
    "print(cat.__dict__) # AttributeError\n"
   ]
  },
  {
   "cell_type": "code",
   "execution_count": null,
   "metadata": {},
   "outputs": [],
   "source": [
    "cat.__slots__"
   ]
  },
  {
   "cell_type": "code",
   "execution_count": null,
   "metadata": {},
   "outputs": [],
   "source": [
    "cat.type = \"Home cat\"\n"
   ]
  },
  {
   "cell_type": "markdown",
   "metadata": {},
   "source": [
    "### Существуют ли возможность одновременного использования `__slots__` и `__dict__` ?\n",
    "Да. Но это лишено смысла!!!\n",
    "\n",
    "`__slots__ = (\"name\", \"age\", \"color\", \"__dict__\")`"
   ]
  },
  {
   "cell_type": "markdown",
   "metadata": {
    "pycharm": {
     "name": "#%% md\n"
    }
   },
   "source": [
    "### Метод `__getattr__`\n",
    "Метод `__getattr__` - автоматически вызывается интерпретатором при попытке\n",
    "получить значение неопределенных полей класса. Т.е. полей которые отсутствуют\n",
    "в классе и не были прикреплены к объекту после его создания.\n",
    "Для определенных полей класса (т. е. те которые могут быть обнаружены интерпретатором в результате восходящего\n",
    "поиска) этот метод не вызывается.\n",
    "Синтаксис его реализации таков:\n",
    "\n",
    "`__getattr__ (self, attrname)`\n",
    "\n",
    "где: **self** — ссылка на объект для которого происходит обращение к неопределенному полю, а **attrname** — строка с\n",
    "названием поля."
   ]
  },
  {
   "cell_type": "code",
   "execution_count": null,
   "metadata": {
    "pycharm": {
     "name": "#%%\n"
    }
   },
   "outputs": [],
   "source": [
    "class Cat:\n",
    "    def __init__(self, name, age, color):\n",
    "        self.name = name\n",
    "        self.age = age\n",
    "        self.color = color\n",
    "\n",
    "    def __str__(self):\n",
    "        msg = \"Cat [ name = {}, age = {}, color ={}]\"\n",
    "        return msg.format(self.name, self.age, self.color)\n",
    "\n",
    "\n",
    "cat = Cat('Barsik', 3, 'black')\n",
    "print(cat.name)\n",
    "print(cat.type) # Обращение к неопределенному полю\n"
   ]
  },
  {
   "cell_type": "code",
   "execution_count": null,
   "metadata": {},
   "outputs": [],
   "source": [
    "class Cat:\n",
    "    def __init__(self, name, age, color):\n",
    "        self.name = name\n",
    "        self.age = age\n",
    "        self.color = color\n",
    "\n",
    "    def __str__(self):\n",
    "        msg = \"Cat [ name = {}, age = {}, color ={}]\"\n",
    "        return msg.format(self.name, self.age, self.color)\n",
    "\n",
    "    def __getattr__(self, atr_name):\n",
    "        print(atr_name)\n",
    "        return None # pass\n",
    "\n",
    "cat = Cat('Barsik', 3, 'black')\n",
    "print(cat.type) # Обращение к неопределенному полю\n",
    "print(cat.name)"
   ]
  },
  {
   "cell_type": "code",
   "execution_count": null,
   "metadata": {},
   "outputs": [],
   "source": [
    "cat.namedflkgdflkgfdsklg\n"
   ]
  },
  {
   "cell_type": "markdown",
   "metadata": {},
   "source": [
    "### Функция `getattr(object, attribute)` — возвращает значение (объект) из объекта (класс, модуль), по заданному атрибуту."
   ]
  },
  {
   "cell_type": "code",
   "execution_count": null,
   "metadata": {
    "pycharm": {
     "name": "#%%\n"
    }
   },
   "outputs": [],
   "source": [
    "getattr(cat, 'age')\n"
   ]
  },
  {
   "cell_type": "code",
   "execution_count": null,
   "metadata": {
    "pycharm": {
     "name": "#%%\n"
    }
   },
   "outputs": [],
   "source": [
    "print(getattr(cat, 'type'))\n"
   ]
  },
  {
   "cell_type": "code",
   "execution_count": null,
   "metadata": {},
   "outputs": [],
   "source": [
    "getattr(cat, 'x')"
   ]
  },
  {
   "cell_type": "code",
   "execution_count": null,
   "metadata": {},
   "outputs": [],
   "source": [
    "print(getattr(cat, 'x'))"
   ]
  },
  {
   "cell_type": "code",
   "execution_count": null,
   "metadata": {
    "pycharm": {
     "name": "#%%\n"
    }
   },
   "outputs": [],
   "source": [
    "import math\n",
    "PI = getattr(math, 'pi')\n",
    "print(PI)"
   ]
  },
  {
   "cell_type": "code",
   "execution_count": null,
   "metadata": {},
   "outputs": [],
   "source": [
    "pow_math = getattr(math, 'pow')\n",
    "print(pow_math)"
   ]
  },
  {
   "cell_type": "code",
   "execution_count": null,
   "metadata": {},
   "outputs": [],
   "source": [
    "pow_math(4, 2)"
   ]
  },
  {
   "cell_type": "code",
   "execution_count": null,
   "metadata": {
    "scrolled": true
   },
   "outputs": [],
   "source": [
    "fields = ['age', 'name', 'color']\n",
    "for field in fields:\n",
    "    print(getattr(cat, field))\n"
   ]
  },
  {
   "cell_type": "code",
   "execution_count": null,
   "metadata": {},
   "outputs": [],
   "source": [
    "getattr(math, 'okras')"
   ]
  },
  {
   "cell_type": "code",
   "execution_count": null,
   "metadata": {
    "scrolled": true
   },
   "outputs": [],
   "source": [
    "hasattr(math, 'okras')"
   ]
  },
  {
   "cell_type": "code",
   "execution_count": null,
   "metadata": {},
   "outputs": [],
   "source": [
    "hasattr(math, 'pow')"
   ]
  },
  {
   "cell_type": "code",
   "execution_count": null,
   "metadata": {
    "scrolled": true
   },
   "outputs": [],
   "source": [
    "getattr(math, 'piii')\n"
   ]
  },
  {
   "cell_type": "code",
   "execution_count": null,
   "metadata": {},
   "outputs": [],
   "source": [
    "getattr(math, 'piii', None) # None"
   ]
  },
  {
   "cell_type": "markdown",
   "metadata": {},
   "source": [
    "### Использование метода `__getattribute__`\n",
    "Метод должен вернуть вычисленное значение для указанного атрибута, либо поднять исключение **AttributeError**.\n",
    "Метод `__getattribute__`  автоматически вызывается интерпретатором при получении значения любого поля. Из за\n",
    "этого работать с таким методом особенно сложно, так как велик риск попадания в бесконечный рекурсивный вызов. Это\n",
    "происходит потому, что попытка обращения из этого метода к любому из полей (даже к `__dict__` ) приводит к его повторному\n",
    "вызову."
   ]
  },
  {
   "cell_type": "code",
   "execution_count": null,
   "metadata": {
    "pycharm": {
     "name": "#%%\n"
    }
   },
   "outputs": [],
   "source": [
    "# KeyError никогда не сработает, потому что self.__dict__[attr]\n",
    "# вызовет  __getattribute__(self, attr) и это приведет к зацикливанию\n",
    "class Foo(object):\n",
    "    def __init__(self, a):\n",
    "        self.a = 1\n",
    "    # Вызывается для поиска всех атрибутов\n",
    "    def __getattribute__(self, attr):\n",
    "        try:\n",
    "            return self.__dict__[attr] # Попытка получить значение по ключу\n",
    "        except KeyError:\n",
    "            return 'default'"
   ]
  },
  {
   "cell_type": "markdown",
   "metadata": {},
   "source": [
    "Чтобы избежать в методе бесконечной рекурсии, вместо прямого доступа к своим\n",
    "атрибутам он должен обратиться к одноимённому методу базового класса, например: `object.__getattribute__(self, name)`."
   ]
  },
  {
   "cell_type": "code",
   "execution_count": null,
   "metadata": {
    "pycharm": {
     "name": "#%%\n"
    }
   },
   "outputs": [],
   "source": [
    "class Cat:\n",
    "    def __init__(self, name, age, color):\n",
    "        self.name = name\n",
    "        self.age = age\n",
    "        self.color = color\n",
    "\n",
    "    def __str__(self):\n",
    "        msg = \"Cat [ name = {}, age = {}, color ={}]\"\n",
    "        return msg.format(self.name, self.age, self.color)\n",
    "\n",
    "    def __getattribute__(self, atr_name):\n",
    "        try:\n",
    "            return object.__getattribute__(self, atr_name)\n",
    "        except AttributeError:\n",
    "            if atr_name == \"type\":\n",
    "                return \"Home Cat\"\n",
    "            print(atr_name)\n",
    "            return None\n",
    "\n",
    "cat = Cat('Barsik', 3, 'black')\n",
    "print(cat.type) # Обращение к неопределенному полю\n",
    "print(cat.name)\n",
    "print(cat.okras)"
   ]
  },
  {
   "cell_type": "markdown",
   "metadata": {},
   "source": [
    "Если кроме этого метода для класса также определён `__getattr__`, то он будет вызван в двух случаях:\n",
    "* Если `__getattribute__` поднимет исключение **AttributeError**;\n",
    "* Если `__getattribute__` вызовет его явно."
   ]
  },
  {
   "cell_type": "code",
   "execution_count": null,
   "metadata": {
    "pycharm": {
     "name": "#%%\n"
    }
   },
   "outputs": [],
   "source": [
    "class Cat:\n",
    "    def __init__(self, name, age, color):\n",
    "        self.name = name\n",
    "        self.age = age\n",
    "        self.color = color\n",
    "\n",
    "    def __str__(self):\n",
    "        msg = \"Cat [ name = {}, age = {}, color ={}]\"\n",
    "        return msg.format(self.name, self.age, self.color)\n",
    "\n",
    "    def __getattr__(self, atr_name):\n",
    "        if atr_name == \"type\":\n",
    "                return \"Home Cat\"\n",
    "        return None\n",
    "\n",
    "    def __getattribute__(self, atr_name):\n",
    "#         if atr_name == 'type':\n",
    "#         print(f'----{atr_name}----')\n",
    "        return object.__getattribute__(self, atr_name)\n",
    "\n",
    "cat = Cat('Barsik', 3, 'black')\n",
    "print(cat.type) # Обращение к неопределенному полю\n",
    "print(cat.name)\n"
   ]
  },
  {
   "cell_type": "code",
   "execution_count": null,
   "metadata": {},
   "outputs": [],
   "source": [
    "cat.x"
   ]
  },
  {
   "cell_type": "markdown",
   "metadata": {},
   "source": [
    "### Метод по установке значений поля `__setattr__`\n",
    "Метод `__setattr__` автоматически вызывается интерпретатором при установке значения любого поля. Работа\n",
    "с таким методом также может быть проблематичной потому, что этот метод вызывается при попытке установки любого\n",
    "поля. Как и в случае с методом `__getattribute__`, это может привести к бесконечному рекурсивному вызову.\n",
    "Однако, эта проблема, решается намного проще - достаточно выполнить запись в уже существующее поле\n",
    "`__dict__`\n",
    "\n",
    "Примечательным фактом является то, что этот метод вызывается даже при работе\n",
    "конструктора (метод `__init__` ). Таким образом этот метод вызывается и при\n",
    "инициализации объекта и при попытке присвоения значения любому полю."
   ]
  },
  {
   "cell_type": "code",
   "execution_count": null,
   "metadata": {
    "pycharm": {
     "name": "#%%\n"
    },
    "scrolled": true
   },
   "outputs": [],
   "source": [
    "class Cat:\n",
    "    def __init__(self, name, age, color):\n",
    "        self.name = name\n",
    "        self.age = age\n",
    "        self.color = color\n",
    "\n",
    "    def __str__(self):\n",
    "        msg = \"Cat [ name = {}, age = {}, color ={}]\"\n",
    "        return msg.format(self.name, self.age, self.color)\n",
    "\n",
    "    def __getattr__(self, atr_name):\n",
    "        if atr_name == \"type\":\n",
    "                return \"Home Cat\"\n",
    "        print(atr_name)\n",
    "        return \"11\"\n",
    "\n",
    "    def __getattribute__(self, atr_name):\n",
    "        return object.__getattribute__(self, atr_name)\n",
    "\n",
    "    def __setattr__(self, attr_name, attr_value):\n",
    "        print(\"set field -> \", attr_name)\n",
    "        # self.attr_name = attr_value Бесконечная рекурсия,\n",
    "        # попытка установить значение для поля,\n",
    "        # снова вызовет __setattr__(self, attr_name, attr_value)\n",
    "        super().__setattr__(attr_name, attr_value)\n",
    "\n",
    "cat = Cat('Barsik', 3, 'black')\n"
   ]
  },
  {
   "cell_type": "code",
   "execution_count": null,
   "metadata": {},
   "outputs": [],
   "source": [
    "cat.type =  \"Devil\"\n",
    "print(cat.type)"
   ]
  },
  {
   "cell_type": "code",
   "execution_count": null,
   "metadata": {},
   "outputs": [],
   "source": [
    "import math\n",
    "setattr(math, 'piii', 1254)"
   ]
  },
  {
   "cell_type": "code",
   "execution_count": null,
   "metadata": {
    "scrolled": true
   },
   "outputs": [],
   "source": [
    "math.piii"
   ]
  },
  {
   "cell_type": "code",
   "execution_count": null,
   "metadata": {},
   "outputs": [],
   "source": [
    "cat.name = 'Bob'"
   ]
  },
  {
   "cell_type": "code",
   "execution_count": null,
   "metadata": {},
   "outputs": [],
   "source": [
    "dct = {'name': \"Voland\", \"age\": 45}\n",
    "for key in dct:\n",
    "    print(getattr(cat, key))"
   ]
  },
  {
   "cell_type": "code",
   "execution_count": null,
   "metadata": {
    "scrolled": true
   },
   "outputs": [],
   "source": [
    "for key, val in dct.items():\n",
    "    print(setattr(cat, key, val))"
   ]
  },
  {
   "cell_type": "code",
   "execution_count": null,
   "metadata": {},
   "outputs": [],
   "source": [
    "print(cat)"
   ]
  },
  {
   "cell_type": "markdown",
   "metadata": {},
   "source": [
    "### Метод `__delattr__`\n",
    "Метод `__delattr__` вызывается в случае попытки удаления любого поля. Как и в\n",
    "случае метода `__setattr__` нужно принять меры по предотвращению бесконечного\n",
    "рекурсивного вызова. Это можно реализовать или с помощью делегирования этой\n",
    "операции суперклассу, или используя напрямую словарь    `__dict__` .\n",
    "Сигнатура метода `__delattr__` такова:\n",
    "\n",
    "`__delattr__ (self, attr_name)`\n",
    "\n",
    "**self** — ссылка на объект\n",
    "\n",
    "**attr_name** — имя поля в виде строки"
   ]
  },
  {
   "cell_type": "code",
   "execution_count": 28,
   "metadata": {
    "pycharm": {
     "name": "#%%\n"
    }
   },
   "outputs": [
    {
     "name": "stdout",
     "output_type": "stream",
     "text": [
      "set field ->  name\n",
      "set field ->  age\n",
      "set field ->  color\n",
      "set field ->  type\n"
     ]
    },
    {
     "ename": "NotImplementedError",
     "evalue": "",
     "output_type": "error",
     "traceback": [
      "\u001b[0;31m---------------------------------------------------------------------------\u001b[0m",
      "\u001b[0;31mNotImplementedError\u001b[0m                       Traceback (most recent call last)",
      "Cell \u001b[0;32mIn[28], line 31\u001b[0m\n\u001b[1;32m     29\u001b[0m cat \u001b[38;5;241m=\u001b[39m Cat(\u001b[38;5;124m'\u001b[39m\u001b[38;5;124mBarsik\u001b[39m\u001b[38;5;124m'\u001b[39m, \u001b[38;5;241m3\u001b[39m, \u001b[38;5;124m'\u001b[39m\u001b[38;5;124mblack\u001b[39m\u001b[38;5;124m'\u001b[39m)\n\u001b[1;32m     30\u001b[0m cat\u001b[38;5;241m.\u001b[39mtype \u001b[38;5;241m=\u001b[39m  \u001b[38;5;124m\"\u001b[39m\u001b[38;5;124mDevil\u001b[39m\u001b[38;5;124m\"\u001b[39m\n\u001b[0;32m---> 31\u001b[0m \u001b[38;5;28;01mdel\u001b[39;00m \u001b[43mcat\u001b[49m\u001b[38;5;241;43m.\u001b[39;49m\u001b[43mtype\u001b[49m\n",
      "Cell \u001b[0;32mIn[28], line 25\u001b[0m, in \u001b[0;36mCat.__delattr__\u001b[0;34m(self, attr_name)\u001b[0m\n\u001b[1;32m     24\u001b[0m \u001b[38;5;28;01mdef\u001b[39;00m \u001b[38;5;21m__delattr__\u001b[39m(\u001b[38;5;28mself\u001b[39m, attr_name):\n\u001b[0;32m---> 25\u001b[0m     \u001b[38;5;28;01mraise\u001b[39;00m \u001b[38;5;167;01mNotImplementedError\u001b[39;00m()\n\u001b[1;32m     26\u001b[0m     \u001b[38;5;28mprint\u001b[39m(\u001b[38;5;124m\"\u001b[39m\u001b[38;5;124mremove field \u001b[39m\u001b[38;5;124m\"\u001b[39m, attr_name)\n\u001b[1;32m     27\u001b[0m     \u001b[38;5;28msuper\u001b[39m()\u001b[38;5;241m.\u001b[39m\u001b[38;5;21m__delattr__\u001b[39m(attr_name)\n",
      "\u001b[0;31mNotImplementedError\u001b[0m: "
     ]
    }
   ],
   "source": [
    "class Cat:\n",
    "    def __init__(self, name, age, color):\n",
    "        self.name = name\n",
    "        self.age = age\n",
    "        self.color = color\n",
    "\n",
    "    def __str__(self):\n",
    "        msg = \"Cat [ name = {}, age = {}, color ={}]\"\n",
    "        return msg.format(self.name, self.age, self.color)\n",
    "\n",
    "    def __getattr__(self, atr_name):\n",
    "        if atr_name == \"type\":\n",
    "                return \"Home Cat\"\n",
    "        print(atr_name)\n",
    "        return \"11\"\n",
    "\n",
    "    def __getattribute__(self, atr_name):\n",
    "        return object.__getattribute__(self, atr_name)\n",
    "\n",
    "    def __setattr__(self, attr_name, attr_value):\n",
    "        print(\"set field -> \", attr_name)\n",
    "        self.__dict__[attr_name] = attr_value\n",
    "\n",
    "    def __delattr__(self, attr_name):\n",
    "        print(\"remove field \", attr_name)\n",
    "        super().__delattr__(attr_name)\n",
    "\n",
    "cat = Cat('Barsik', 3, 'black')\n",
    "cat.type =  \"Devil\"\n",
    "del cat.type"
   ]
  },
  {
   "cell_type": "markdown",
   "metadata": {},
   "source": [
    "**Методы получения значений также вызываются и при обращении к пользовательским методам.**"
   ]
  },
  {
   "cell_type": "markdown",
   "metadata": {},
   "source": [
    "### Свойства property\n",
    "Вышеописанные методы позволяют управлять общим доступом к полям класса. Т.е. они вызываются при обращении к любому полю. Если же нужно\n",
    "управлять доступом к каждому полю индивидуально для этого может использоваться протокол свойств.\n",
    "\n",
    "**Протокол свойств** позволяет направлять операции чтения и записи для отдельных полей пользовательским функциям и методам, что позволяет\n",
    "добавлять программный код, который будет вызываться автоматически при попытках обращения к полю.\n",
    "\n",
    "С точки зрения информатики свойство - способ доступа к внутреннему состоянию объекта, имитирующий переменную некоторого типа. Обращение\n",
    "к свойству объекта выглядит так же, как и обращение к обычному полю , но в действительности, реализовано через вызов функции. При попытке задать\n",
    "значение данного свойства вызывается один метод, а при попытке получить значение данного свойства — другой.\n",
    "\n",
    "В Python свойства создаются с помощью встроенной функции **property** и присваиваются атрибутам классов, точно так же, как выполняется\n",
    "присваивание функций методам."
   ]
  },
  {
   "cell_type": "markdown",
   "metadata": {},
   "source": [
    "**Встроенная функция property**\n",
    "\n",
    "Свойство создается путем присваивания полю класса результата возвращаемого встроенной функцией property.\n",
    "Сигнатура этой функции такова:\n",
    "\n",
    "**property(f_get, f_set, f_del, doc)**\n",
    "\n",
    "* f_get — функция или метод вызываемая при чтения значения поля\n",
    "* f_set — функция или метод вызываемая при установке значения поля\n",
    "* f_del — функция или метод вызываемая при удалении поля\n",
    "* doc — строка документирования с описанием поля\n",
    "\n",
    "Все эти параметры могут быть опущены и по умолчанию равны **None**."
   ]
  },
  {
   "cell_type": "code",
   "execution_count": 36,
   "metadata": {
    "pycharm": {
     "name": "#%%\n"
    }
   },
   "outputs": [
    {
     "ename": "AttributeError",
     "evalue": "'OldStyleCat' object has no attribute '__name'",
     "output_type": "error",
     "traceback": [
      "\u001b[0;31m---------------------------------------------------------------------------\u001b[0m",
      "\u001b[0;31mAttributeError\u001b[0m                            Traceback (most recent call last)",
      "Cell \u001b[0;32mIn[36], line 43\u001b[0m\n\u001b[1;32m     40\u001b[0m         \u001b[38;5;28;01mreturn\u001b[39;00m msg\u001b[38;5;241m.\u001b[39mformat(\u001b[38;5;28mself\u001b[39m\u001b[38;5;241m.\u001b[39m__name, \u001b[38;5;28mself\u001b[39m\u001b[38;5;241m.\u001b[39mage)\n\u001b[1;32m     42\u001b[0m oldCat \u001b[38;5;241m=\u001b[39m OldStyleCat(\u001b[38;5;124m\"\u001b[39m\u001b[38;5;124mJoffrey\u001b[39m\u001b[38;5;124m\"\u001b[39m, \u001b[38;5;241m20\u001b[39m)\n\u001b[0;32m---> 43\u001b[0m \u001b[38;5;28mprint\u001b[39m(\u001b[43moldCat\u001b[49m\u001b[38;5;241;43m.\u001b[39;49m\u001b[43m__name\u001b[49m)\n",
      "\u001b[0;31mAttributeError\u001b[0m: 'OldStyleCat' object has no attribute '__name'"
     ]
    }
   ],
   "source": [
    "class Cat:\n",
    "    def __init__(self, _name, age):\n",
    "        self.__name = _name\n",
    "        self.age = age\n",
    "\n",
    "    def get_name(self): # Метод для чтения\n",
    "        print(\"call get name\")\n",
    "        return self.__name\n",
    "\n",
    "    def set_name(self, name_value): #  Метод для записи\n",
    "        print(\"call set name\")\n",
    "        self.__name = name_value\n",
    "\n",
    "    def del_name(self): # Метод для удаления\n",
    "        print(\"call remove name\")\n",
    "        del self.__name\n",
    "\n",
    "    # Создание свойства name\n",
    "    name = property(get_name, set_name, del_name, \" Cat name\")\n",
    "\n",
    "    def __str__(self):\n",
    "        msg = \"Cat [ name = {}, age = {}]\"\n",
    "        return msg.format(self.__name, self.age)"
   ]
  },
  {
   "cell_type": "code",
   "execution_count": 34,
   "metadata": {
    "pycharm": {
     "name": "#%%\n"
    }
   },
   "outputs": [
    {
     "name": "stdout",
     "output_type": "stream",
     "text": [
      "call set name\n",
      "call get name\n",
      "Barsic\n",
      "Cat [ name = Barsic, age = 6]\n"
     ]
    }
   ],
   "source": [
    "cat1 = Cat(\"Vaska\", 6)\n",
    "cat1.name = \"Barsic\"\n",
    "print(cat1.name)\n",
    "print(cat1)"
   ]
  },
  {
   "cell_type": "markdown",
   "metadata": {},
   "source": [
    "### Определение свойств с помощью декораторов\n",
    "Функция **property** может принимать только один первый аргумент\n",
    "(остальные по умолчанию None) и возвращать свойство. Свойство в свою\n",
    "очередь является вызываемым объектом, так как при обращении к нему\n",
    "вызываются функции. Это означает что функцию **property** можно\n",
    "использовать как декоратор для определения функции получения значения поля.\n",
    "В свою очередь объекты свойств обладают методами `getter, setter,\n",
    "deleter`. Которые в свою очередь возвращают также свойство прибавив к\n",
    "нему методы доступа.\n",
    "Как следствие эти методы также можно использовать в качестве декораторов.\n",
    "* getter — получение значения поля\n",
    "* setter — установка значения поля\n",
    "* deleter — удаление поля\n",
    "\n",
    "Внимание! Важно что бы все методы к которым вы хотите применить вышеперечисленные декораторы носили имя свойства."
   ]
  },
  {
   "cell_type": "code",
   "execution_count": 37,
   "metadata": {
    "pycharm": {
     "name": "#%%\n"
    }
   },
   "outputs": [],
   "source": [
    "class Cat:\n",
    "    def __init__(self, _name, age):\n",
    "        self.__name = _name\n",
    "        self.age = age\n",
    "\n",
    "    name = property() # Создание свойства name без методов контроля\n",
    "\n",
    "    @name.getter\n",
    "    def name(self):\n",
    "        print(\"call get name\")\n",
    "        return self.__name\n",
    "\n",
    "    @name.setter\n",
    "    def name(self, name_value):\n",
    "        print(\"call set name\")\n",
    "        self.__name = name_value"
   ]
  },
  {
   "cell_type": "code",
   "execution_count": 38,
   "metadata": {
    "pycharm": {
     "name": "#%%\n"
    }
   },
   "outputs": [
    {
     "name": "stdout",
     "output_type": "stream",
     "text": [
      "call get name\n",
      "Barsik\n",
      "call set name\n"
     ]
    }
   ],
   "source": [
    "cat = Cat('Barsik', 3)\n",
    "print(cat.name )\n",
    "cat.name =  \"Devil\""
   ]
  },
  {
   "cell_type": "code",
   "execution_count": 42,
   "metadata": {
    "pycharm": {
     "name": "#%%\n"
    }
   },
   "outputs": [],
   "source": [
    "\n",
    "class Cat:\n",
    "    def __init__(self, _name, age):\n",
    "        self.__name = _name\n",
    "        self.age = age\n",
    "\n",
    "    @property\n",
    "    def name(self):\n",
    "        return self.__name\n",
    "    \n",
    "    \n",
    "    @name.setter\n",
    "    def name(self, value):\n",
    "        self.__name = value"
   ]
  },
  {
   "cell_type": "code",
   "execution_count": 40,
   "metadata": {
    "pycharm": {
     "name": "#%%\n"
    }
   },
   "outputs": [
    {
     "name": "stdout",
     "output_type": "stream",
     "text": [
      "Barsik\n"
     ]
    }
   ],
   "source": [
    "cat = Cat('Barsik', 3)\n",
    "print(cat.name )\n"
   ]
  },
  {
   "cell_type": "code",
   "execution_count": null,
   "metadata": {},
   "outputs": [],
   "source": [
    "cat.name =  \"Devil\" # AttributeError: can't set attribute"
   ]
  },
  {
   "cell_type": "code",
   "execution_count": null,
   "metadata": {
    "pycharm": {
     "name": "#%%\n"
    }
   },
   "outputs": [],
   "source": [
    "del cat.name # AttributeError: can't delete attribute"
   ]
  },
  {
   "cell_type": "code",
   "execution_count": 43,
   "metadata": {
    "pycharm": {
     "name": "#%%\n"
    }
   },
   "outputs": [
    {
     "name": "stdout",
     "output_type": "stream",
     "text": [
      "Лихачёв Бенедикт Дамирович\n",
      "Лихачёв Б.Д.\n",
      "Лихачёв\n"
     ]
    }
   ],
   "source": [
    "# Упрощенный вариант применения property\n",
    "class Human:\n",
    "\n",
    "    def __init__(self, last_name, first_name, patronymic, gender, age, height, weight):\n",
    "        self.last_name = last_name\n",
    "        self.first_name = first_name\n",
    "        self.patronymic = patronymic\n",
    "        self.gender = gender\n",
    "        self.age = age\n",
    "        self.height = height\n",
    "        self.weight = weight\n",
    "\n",
    "    def show_inform(self):\n",
    "        full_name = f'Full Name: {self.full_name}\\n'\n",
    "        gender_age = f'Gender: {self.gender}\\nAge: {self.age}\\n'\n",
    "        height_weight = f'Height: {self.height} cm\\nWeight: {self.weight} kg'\n",
    "        all_info = full_name + gender_age + height_weight\n",
    "        return all_info\n",
    "\n",
    "    @property  #cashed_property\n",
    "    def full_name(self):\n",
    "        return f'{self.last_name} {self.first_name} {self.patronymic}'\n",
    "\n",
    "    @property\n",
    "    def short_full_name(self):\n",
    "        return f'{self.last_name} {self.first_name[0].title()}.{self.patronymic[0].title()}.'\n",
    "\n",
    "h = Human('Лихачёв', 'Бенедикт', 'Дамирович', 'male', 25, 185, 91)\n",
    "\n",
    "print(h.full_name)\n",
    "print(h.short_full_name)\n",
    "print(h.last_name)"
   ]
  },
  {
   "cell_type": "code",
   "execution_count": null,
   "metadata": {
    "scrolled": true
   },
   "outputs": [],
   "source": [
    "print(h.show_inform)"
   ]
  },
  {
   "cell_type": "code",
   "execution_count": null,
   "metadata": {},
   "outputs": [],
   "source": [
    "print(h.show_inform())"
   ]
  },
  {
   "cell_type": "markdown",
   "metadata": {},
   "source": [
    "## Дескрипторы"
   ]
  },
  {
   "cell_type": "markdown",
   "metadata": {},
   "source": [
    "Дескрипторы — обеспечивают альтернативный вариант управления полями. И хотя похожий механизм предоставляют свойства, дескрипторы\n",
    "способны предоставить более богатый функционал. С технической точки зрения свойства являются частным случаем дескрипторов. Функция **property**\n",
    "— просто упрощает процесс создания дескриптора определенного типа.\n",
    "\n",
    "Дескрипторы способны передать выполнение операций получения и установки значений отдельным методам объектов специально созданных для\n",
    "этого классов. Дескрипторы создаются как отдельные классы. Объекты этих классов и присваиваются при создании управляемых полей классов. Это\n",
    "имеет определенное преимущество, так как объекты классов дескрипторов способны хранить значения, которых нет в классах, в которых они будут\n",
    "использованы. Однако это же добавляет наиболее сложный аспект при их использовании, необходимость передачи ссылки на объект который\n",
    "использует дескрипторы и ссылки на сам объект дескриптора."
   ]
  },
  {
   "cell_type": "markdown",
   "metadata": {},
   "source": [
    "### Создание дескриптора\n",
    "Для создания дескриптора нужно создать класс в котором будут реализованы следующие методы:\n",
    "* Для получение значения `__get__(self, instance_self, instance_class)`\n",
    "*self* — ссылка на объект дескриптора\n",
    "*instance_self* — ссылка на объект который использует поля управляемые\n",
    "дескриптором\n",
    "*instance_class* — класс к которому прикреплено поле управляемое\n",
    "дескриптором\n",
    "* Для установки значения `__set__(self, instance_self, value)`\n",
    "*value* — новое значение\n",
    "* Для удаления `__delete__(self, instance_self)`\n",
    "\n",
    "Любой класс где реализованы эти методы является дескриптором.\n",
    "\n",
    "В случае отсутствия реализации того или иного метода, эта операция просто не будет поддерживаться."
   ]
  },
  {
   "cell_type": "markdown",
   "metadata": {},
   "source": [
    "### О реализации метода __get__ дескриптора\n",
    "Метод `__get__` принимает следующий ряд параметров  `__get__(self, instance_self, instance_class)`\n",
    "\n",
    "* **self** — ссылка на объект дескриптора\n",
    "* **instance_self** — ссылка на объект который использует поля управляемые дескриптором. Если к полю выполнено обращение через имя класса, то этот параметр равен None\n",
    "* **instance_class** — класс к которому прикреплено поле управляемое дескриптором"
   ]
  },
  {
   "cell_type": "code",
   "execution_count": 44,
   "metadata": {
    "pycharm": {
     "name": "#%%\n"
    }
   },
   "outputs": [
    {
     "name": "stdout",
     "output_type": "stream",
     "text": [
      "<__main__.MyDescriptor object at 0x10750eab0>\n",
      "<__main__.Box object at 0x10750c7d0>\n",
      "<class '__main__.Box'>\n",
      "12\n"
     ]
    }
   ],
   "source": [
    "class MyDescriptor:\n",
    "    def __init__(self, n):\n",
    "        self.n = n\n",
    "\n",
    "    def __get__(self, instance_self, instance_class):\n",
    "        print(self)\n",
    "        print(instance_self)\n",
    "        print(instance_class)\n",
    "        return self.n * instance_self.p\n",
    "\n",
    "\n",
    "class Box:\n",
    "    volume = MyDescriptor(2) #Создание поля управляемого дескриптором\n",
    "    \n",
    "    def __init__(self, x, y, z):\n",
    "        self.p = x * y * z\n",
    "\n",
    "box1 = Box(1, 2, 3)\n",
    "print(box1.volume)"
   ]
  },
  {
   "cell_type": "code",
   "execution_count": null,
   "metadata": {},
   "outputs": [],
   "source": [
    "box1.volume = 4\n",
    "print(box1.volume)"
   ]
  },
  {
   "cell_type": "code",
   "execution_count": null,
   "metadata": {
    "pycharm": {
     "name": "#%%\n"
    }
   },
   "outputs": [],
   "source": [
    "class NameDescriptor:\n",
    "    def __init__(self, field):\n",
    "        self.field = field\n",
    "\n",
    "    def __get__(self, instance_self, instance_class):\n",
    "        field = f'_{instance_class.__name__}{self.field}' # _Cat__name\n",
    "        return getattr(instance_self, field)\n",
    "\n",
    "class Cat:\n",
    "    name = NameDescriptor('__name')\n",
    "    age = NameDescriptor('__age')\n",
    "    \n",
    "    def __init__(self, _name, age):\n",
    "        self.__name = _name\n",
    "        self.__age = age\n",
    "\n",
    "cat = Cat('Barsik', 3)\n",
    "print(cat._Cat__name )\n",
    "print(cat.name )\n",
    "print(cat.age )"
   ]
  },
  {
   "cell_type": "markdown",
   "metadata": {},
   "source": [
    "### О реализации метода __set__ дескриптора\n",
    "\n",
    "Метод __set__ принимает следующий ряд параметров `__set__(self, instance_self, value)`\n",
    "* **self** — ссылка на объект дескриптора\n",
    "* **instance_self** — ссылка на объект который использует поля управляемые дескриптором. Если к полю выполнено обращение через имя класса, то этот параметр равен None\n",
    "* **value** — значение которое нужно присвоить полю\n",
    "\n",
    "В случае отсутствия реализации метода `__set__` первая попытка установить значение такого поля просто заменит\n",
    "дескриптор. По сути просто отключит его."
   ]
  },
  {
   "cell_type": "code",
   "execution_count": null,
   "metadata": {},
   "outputs": [],
   "source": [
    "class NameDescriptor:\n",
    "\n",
    "    def __get__(self, instance_self, instance_class):\n",
    "        field = f'_name'\n",
    "        return getattr(instance_self, field)\n",
    "\n",
    "class Cat:\n",
    "    name = NameDescriptor()\n",
    "    def __init__(self, _name, age):\n",
    "        self._name = _name\n",
    "        self.age = age\n",
    "\n",
    "cat = Cat('Barsik', 3)\n",
    "print(cat._name )\n",
    "print(cat.name )"
   ]
  },
  {
   "cell_type": "code",
   "execution_count": null,
   "metadata": {
    "pycharm": {
     "name": "#%%\n"
    }
   },
   "outputs": [],
   "source": [
    "print(cat._name )\n",
    "print(cat.name )\n",
    "cat.name = \"Devil\""
   ]
  },
  {
   "cell_type": "code",
   "execution_count": null,
   "metadata": {
    "pycharm": {
     "name": "#%%\n"
    }
   },
   "outputs": [],
   "source": [
    "print(cat._name )\n",
    "print(cat.name )"
   ]
  },
  {
   "cell_type": "markdown",
   "metadata": {},
   "source": [
    "Чтобы сделать поле доступным только для чтения с использованием дескриптора, необходимо\n",
    "реализовать метод `__set__` дескриптора в кототорм, возбудить исключение. В таком случае при попытке\n",
    "изменения поля будет возбужденно исключение.\n"
   ]
  },
  {
   "cell_type": "code",
   "execution_count": null,
   "metadata": {
    "pycharm": {
     "name": "#%%\n"
    },
    "scrolled": true
   },
   "outputs": [],
   "source": [
    "class MyDescriptor:\n",
    "    def __init__(self, n):\n",
    "        self.n = n\n",
    "\n",
    "    def __get__(self, instance_self, instance_class):\n",
    "        print(self)\n",
    "        print(instance_self)\n",
    "        print(instance_class)\n",
    "        return self.n * instance_self.p\n",
    "\n",
    "    def __set__(self, instance_self, value):\n",
    "        raise AttributeError(\"field is read-only\")\n",
    "\n",
    "\n",
    "class Box:\n",
    "    volume = MyDescriptor(2) #Создание поля управляемого дескриптором\n",
    "    def __init__(self, x, y, z):\n",
    "        self.p = x * y * z\n",
    "\n",
    "box1 = Box(1, 2, 3)\n",
    "print(box1.volume)\n",
    "box1.volume = 50 # AttributeError: field is read-only"
   ]
  },
  {
   "cell_type": "code",
   "execution_count": null,
   "metadata": {},
   "outputs": [],
   "source": [
    "box1.volume "
   ]
  },
  {
   "cell_type": "code",
   "execution_count": null,
   "metadata": {
    "pycharm": {
     "name": "#%%\n"
    }
   },
   "outputs": [],
   "source": [
    "class NameDescriptor:\n",
    "\n",
    "    def __get__(self, instance_self, instance_class):\n",
    "        return instance_self._name\n",
    "\n",
    "    def __set__(self, instance_self, value):\n",
    "        instance_self._name = value\n",
    "\n",
    "class Cat:\n",
    "    name = NameDescriptor()\n",
    "    def __init__(self, _name, age):\n",
    "        self._name = _name\n",
    "        self.age = age\n",
    "\n",
    "cat = Cat('Barsik', 3)\n",
    "print(cat.name )\n",
    "cat.name = \"Devil\"\n",
    "print(cat.name )"
   ]
  },
  {
   "cell_type": "markdown",
   "metadata": {},
   "source": [
    "### О реализации метода `__delete__` дескриптора\n",
    "Метод `__delete__` принимает следующий ряд параметров `__delete__(self, instance_self)`\n",
    "* **self** — ссылка на объект дескриптора\n",
    "* **instance_self** — ссылка на объект который использует поля управляемые дескриптором. Если к полю выполнено обращение через имя класса, то этот параметр равен None"
   ]
  },
  {
   "cell_type": "code",
   "execution_count": null,
   "metadata": {
    "pycharm": {
     "name": "#%%\n"
    }
   },
   "outputs": [],
   "source": [
    "class NameDescriptor:\n",
    "\n",
    "    def __get__(self, instance_self, instance_class):\n",
    "        return instance_self._name\n",
    "\n",
    "    def __set__(self, instance_self, value):\n",
    "        instance_self._name = value\n",
    "\n",
    "    def __delete__(self, instance_self):\n",
    "        raise AttributeError(\"cannot delete field\")\n",
    "\n",
    "class Cat:\n",
    "    name = NameDescriptor()\n",
    "    def __init__(self, _name, age):\n",
    "        self._name = _name\n",
    "        self.age = age\n",
    "\n",
    "cat = Cat('Barsik', 3)\n",
    "print(cat.name )\n",
    "del cat.name # AttributeError: cannot delete field\n"
   ]
  },
  {
   "cell_type": "code",
   "execution_count": null,
   "metadata": {},
   "outputs": [],
   "source": [
    "class PositiveValue:\n",
    "\n",
    "    def __init__(self):\n",
    "        self.val = None\n",
    "\n",
    "    def __get__(self, instance_self, instance_class):\n",
    "        return self.val\n",
    "\n",
    "    def __set__(self, instance_self, value):\n",
    "        if value < 0:\n",
    "            raise ValueError('Value must be greater than zero')\n",
    "        self.val = value\n",
    "\n",
    "\n",
    "class Box:\n",
    "    x = PositiveValue()\n",
    "    y = PositiveValue()\n",
    "    z = PositiveValue()\n",
    "\n",
    "    def __init__(self, x, y, z):\n",
    "        self.x = x\n",
    "        self.y = y\n",
    "        self.z = z"
   ]
  },
  {
   "cell_type": "code",
   "execution_count": null,
   "metadata": {},
   "outputs": [],
   "source": [
    "box = Box(1, 2, 3)\n",
    "print(box.x)"
   ]
  },
  {
   "cell_type": "code",
   "execution_count": null,
   "metadata": {},
   "outputs": [],
   "source": [
    "box.x = -1  # ValueError"
   ]
  },
  {
   "cell_type": "code",
   "execution_count": null,
   "metadata": {},
   "outputs": [],
   "source": [
    "box = Box(1, 2, -3)  # ValueError"
   ]
  }
 ],
 "metadata": {
  "kernelspec": {
   "display_name": "Python 3 (ipykernel)",
   "language": "python",
   "name": "python3"
  },
  "language_info": {
   "codemirror_mode": {
    "name": "ipython",
    "version": 3
   },
   "file_extension": ".py",
   "mimetype": "text/x-python",
   "name": "python",
   "nbconvert_exporter": "python",
   "pygments_lexer": "ipython3",
   "version": "3.12.1"
  }
 },
 "nbformat": 4,
 "nbformat_minor": 1
}
