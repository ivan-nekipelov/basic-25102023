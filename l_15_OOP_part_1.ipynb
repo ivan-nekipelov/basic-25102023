{
 "cells": [
  {
   "cell_type": "markdown",
   "metadata": {},
   "source": [
    "## Знакомство с объектно-ориентированным программированием"
   ]
  },
  {
   "cell_type": "markdown",
   "metadata": {},
   "source": [
    "**Парадигма программирования** - это совокупность идей и понятий, определяющих стиль написания компьютерных\n",
    "программ (подход к программированию).Современные языки программирования могут реализовывать несколько парадигм\n",
    "программирования одновременно.\n",
    "\n",
    "\n",
    "Python реализует следующие парадигмы программирования:\n",
    "\n",
    "1) Императивное программирование;\n",
    "\n",
    "2) Структурное программирование;\n",
    "\n",
    "3) Объектно-ориентированное программирование;\n",
    "\n",
    "4) Функциональное программирование.\n"
   ]
  },
  {
   "cell_type": "markdown",
   "metadata": {},
   "source": [
    "**Императивное программирование**, для которого характерно следующее:\n",
    "* в исходном коде программы записываются инструкции (команды);\n",
    "* инструкции должны выполняться последовательно;\n",
    "* при выполнении инструкции данные, полученные при выполнении предыдущих инструкций, могут читаться из памяти;\n",
    "* данные, полученные при выполнении инструкции, могут записываться в память."
   ]
  },
  {
   "cell_type": "markdown",
   "metadata": {},
   "source": [
    "**Структурное программирование**, для которого характерно следующее:\n",
    "* Разбиение программы на иерархическую структуру блоков. Такими блоками выступали: условные операторы, циклы и функции."
   ]
  },
  {
   "cell_type": "markdown",
   "metadata": {},
   "source": [
    "**Объектно-ориентированное программирование (ООП)** - методология программирования, основанная на представлении\n",
    "программы в виде совокупности объектов, каждый из которых является экземпляром определенного класса, а классы образуют\n",
    "иерархию наследования.\n",
    "\n",
    "**Класс** - универсальный, комплексный тип данных, состоящий из набора «полей» (переменных более элементарных типов) и\n",
    "«методов» (функций для работы с этими полями). Он является моделью сущности с внутренним и внешним интерфейсами для\n",
    "оперирования своим содержимым.\n",
    "\n",
    "**Объект** - экземпляр класса. Т.е. переменная созданная на основе класса."
   ]
  },
  {
   "cell_type": "code",
   "execution_count": 2,
   "metadata": {},
   "outputs": [
    {
     "name": "stdout",
     "output_type": "stream",
     "text": [
      "<class '__main__.Car'>\n",
      "red\n"
     ]
    }
   ],
   "source": [
    "class Car:\n",
    "    color = 'red'\n",
    "    engine = 5.0\n",
    "    brand = \"Ford\"\n",
    "print(type(Car()))\n",
    "print(Car.color)"
   ]
  },
  {
   "cell_type": "code",
   "execution_count": 3,
   "metadata": {},
   "outputs": [
    {
     "name": "stdout",
     "output_type": "stream",
     "text": [
      "<class 'str'>\n"
     ]
    }
   ],
   "source": [
    "print(type(''))"
   ]
  },
  {
   "cell_type": "code",
   "execution_count": 8,
   "metadata": {},
   "outputs": [
    {
     "data": {
      "text/plain": [
       "type"
      ]
     },
     "execution_count": 8,
     "metadata": {},
     "output_type": "execute_result"
    }
   ],
   "source": [
    "type(Car)"
   ]
  },
  {
   "cell_type": "code",
   "execution_count": 9,
   "metadata": {},
   "outputs": [
    {
     "data": {
      "text/plain": [
       "type"
      ]
     },
     "execution_count": 9,
     "metadata": {},
     "output_type": "execute_result"
    }
   ],
   "source": [
    "type(object)"
   ]
  },
  {
   "cell_type": "code",
   "execution_count": 11,
   "metadata": {},
   "outputs": [
    {
     "data": {
      "text/plain": [
       "type"
      ]
     },
     "execution_count": 11,
     "metadata": {},
     "output_type": "execute_result"
    }
   ],
   "source": [
    "type(type)"
   ]
  },
  {
   "cell_type": "code",
   "execution_count": 12,
   "metadata": {},
   "outputs": [
    {
     "name": "stdout",
     "output_type": "stream",
     "text": [
      "<__main__.Car object at 0x1133a8b00>\n",
      "red\n"
     ]
    }
   ],
   "source": [
    "c1 = Car()\n",
    "\n",
    "print(c1)\n",
    "print(c1.color)"
   ]
  },
  {
   "cell_type": "code",
   "execution_count": 13,
   "metadata": {},
   "outputs": [
    {
     "name": "stdout",
     "output_type": "stream",
     "text": [
      "blue\n",
      "5.0\n",
      "Ford\n"
     ]
    }
   ],
   "source": [
    "c1.color = 'blue'\n",
    "print(c1.color)\n",
    "print(c1.engine)\n",
    "print(c1.brand)"
   ]
  },
  {
   "cell_type": "code",
   "execution_count": 14,
   "metadata": {
    "scrolled": true
   },
   "outputs": [
    {
     "name": "stdout",
     "output_type": "stream",
     "text": [
      "red\n"
     ]
    }
   ],
   "source": [
    "print(Car.color)"
   ]
  },
  {
   "cell_type": "code",
   "execution_count": 15,
   "metadata": {},
   "outputs": [
    {
     "data": {
      "text/plain": [
       "False"
      ]
     },
     "execution_count": 15,
     "metadata": {},
     "output_type": "execute_result"
    }
   ],
   "source": [
    "''.istitle()"
   ]
  },
  {
   "cell_type": "code",
   "execution_count": 16,
   "metadata": {},
   "outputs": [
    {
     "data": {
      "text/plain": [
       "<function str.istitle()>"
      ]
     },
     "execution_count": 16,
     "metadata": {},
     "output_type": "execute_result"
    }
   ],
   "source": [
    "''.istitle"
   ]
  },
  {
   "cell_type": "code",
   "execution_count": 17,
   "metadata": {},
   "outputs": [
    {
     "name": "stdout",
     "output_type": "stream",
     "text": [
      "Ford\n",
      "red\n"
     ]
    }
   ],
   "source": [
    "class Ford(Car): # Наследование (простейший вариант)\n",
    "    pass\n",
    "\n",
    "print(Ford.brand)\n",
    "print(Ford.color)"
   ]
  },
  {
   "cell_type": "markdown",
   "metadata": {},
   "source": [
    "критерии, которым должен соответствовать язык программирования, и которые указывают на то, что ООП реализовано.\n",
    "\n",
    "1) Абстракция;\n",
    "\n",
    "2) Инкапсуляция;\n",
    "\n",
    "3) Наследование;\n",
    "\n",
    "4) Полиморфизм;\n",
    "\n",
    "5) Композиция."
   ]
  },
  {
   "cell_type": "markdown",
   "metadata": {},
   "source": [
    "#### Абстракция\n",
    "Абстрагирование означает выделение значимой информации и исключение из рассмотрения незначимой. В ООП рассматривают лишь абстракцию данных (нередко называя её просто «абстракцией»), подразумевая набор значимых характеристик объекта, доступный остальной программе.\n",
    "Сам Кот очень сложная и своенравная сущность. Однако для нашей модели мы выбрали только те свойства, которые нужны для решения задачи. Т.е. взяли только имя, возраст и цвет. Это и есть пример абстракции."
   ]
  },
  {
   "cell_type": "markdown",
   "metadata": {},
   "source": [
    "#### Инкапсуляция\n",
    "Инкапсуляция - возможность описания полей и методов внутри класса. Также к инкапсуляции относят возможность сокрытия полей и реализации методов класса.\n",
    "Кот может исчезать, а может появляться. Но как именно он это делает, никто не знает. Это и есть инкапсуляция."
   ]
  },
  {
   "cell_type": "markdown",
   "metadata": {},
   "source": [
    "#### Наследование\n",
    "Наследование - свойство системы, позволяющее описать новый класс на основе уже существующего с частично или полностью\n",
    "заимствующейся функциональностью.\n",
    "Класс, от которого производится наследование, называется базовым, родительским или суперклассом.Новый класс называется потомком, наследником, дочерним или производным классом."
   ]
  },
  {
   "cell_type": "markdown",
   "metadata": {},
   "source": [
    "#### Полиморфизм\n",
    "Полиморфизм подтипов (в ООП называемый просто «полиморфизмом») — свойство системы, позволяющее использовать объекты с одинаковым интерфейсом без информации о типе и внутренней структуре объекта."
   ]
  },
  {
   "cell_type": "markdown",
   "metadata": {},
   "source": [
    "#### Композиция\n",
    "Композиция (ассоциация) — это концепция, которая моделирует отношения. Она позволяет создавать сложные типы, комбинируя объекты других типов. Это означает, что класс Composite может содержать объект другого класса Component.\n",
    "\n",
    "Классы, содержащие объекты других классов, обычно называются композитами (composites), а классы, используемые для создания более сложных типов, называются компонентами (components)."
   ]
  },
  {
   "cell_type": "markdown",
   "metadata": {},
   "source": [
    "### Внимание! Классы в Python - это обычные переменные. Поэтому класс должен быть описан в коде выше, чем его первое использование."
   ]
  },
  {
   "cell_type": "markdown",
   "metadata": {},
   "source": [
    "#### Экземпляры класса"
   ]
  },
  {
   "cell_type": "code",
   "execution_count": 18,
   "metadata": {},
   "outputs": [
    {
     "name": "stdout",
     "output_type": "stream",
     "text": [
      "5\n",
      "<__main__.Cat object at 0x1133aa0f0>\n"
     ]
    }
   ],
   "source": [
    "class Cat:\n",
    "    animal_type = 'mammal'\n",
    "    def __init__(self, name, age, color): # «магический» метод \"создания\" экземпляра класса\n",
    "        # Поля экземпляра, не класса!!\n",
    "        self.name = name\n",
    "        self.age = age\n",
    "        self.color = color\n",
    "\n",
    "cat = Cat('Barsik', 5, 'black')\n",
    "print(cat.age)\n",
    "print(cat)"
   ]
  },
  {
   "cell_type": "code",
   "execution_count": 19,
   "metadata": {},
   "outputs": [
    {
     "data": {
      "text/plain": [
       "'Barsik'"
      ]
     },
     "execution_count": 19,
     "metadata": {},
     "output_type": "execute_result"
    }
   ],
   "source": [
    "cat.name"
   ]
  },
  {
   "cell_type": "code",
   "execution_count": 20,
   "metadata": {},
   "outputs": [
    {
     "ename": "AttributeError",
     "evalue": "type object 'Cat' has no attribute 'age'",
     "output_type": "error",
     "traceback": [
      "\u001b[0;31m---------------------------------------------------------------------------\u001b[0m",
      "\u001b[0;31mAttributeError\u001b[0m                            Traceback (most recent call last)",
      "\u001b[1;32m/Users/ivan.niekipielov/courses/basic-25102023/l_15_OOP_part_1.ipynb Cell 27\u001b[0m line \u001b[0;36m1\n\u001b[0;32m----> <a href='vscode-notebook-cell:/Users/ivan.niekipielov/courses/basic-25102023/l_15_OOP_part_1.ipynb#X35sZmlsZQ%3D%3D?line=0'>1</a>\u001b[0m \u001b[39mprint\u001b[39m(Cat\u001b[39m.\u001b[39;49mage) \u001b[39m#error\u001b[39;00m\n",
      "\u001b[0;31mAttributeError\u001b[0m: type object 'Cat' has no attribute 'age'"
     ]
    }
   ],
   "source": [
    "print(Cat.age) #error"
   ]
  },
  {
   "cell_type": "code",
   "execution_count": 21,
   "metadata": {},
   "outputs": [],
   "source": [
    "cat2 = Cat('Murchik', 3, 'black')"
   ]
  },
  {
   "cell_type": "code",
   "execution_count": 22,
   "metadata": {},
   "outputs": [
    {
     "data": {
      "text/plain": [
       "3"
      ]
     },
     "execution_count": 22,
     "metadata": {},
     "output_type": "execute_result"
    }
   ],
   "source": [
    "cat2.age\n"
   ]
  },
  {
   "cell_type": "code",
   "execution_count": 47,
   "metadata": {
    "scrolled": true
   },
   "outputs": [
    {
     "name": "stdout",
     "output_type": "stream",
     "text": [
      "Creating Cat instance\n",
      "<__main__.Cat object at 0x1133f5e50>\n",
      "Cat instance fields\n",
      "5\n"
     ]
    }
   ],
   "source": [
    "class Cat:\n",
    "    a = 1\n",
    "\n",
    "    def __new__(cls, *args, **kwargs): # метод создания экземпляра класса\n",
    "        print(\"Creating Cat instance\")\n",
    "        self = super().__new__(cls) # про super() больше в следующей теме\n",
    "        print(self)\n",
    "        return self # instance\n",
    "\n",
    "    def __init__(self, name, age, color): # метод добавления атрибутов в экземпляр класса\n",
    "        print(\"Cat instance fields\")\n",
    "        self.name = name\n",
    "        self.age = age\n",
    "        self.color = color\n",
    "\n",
    "cat = Cat('Barsik', 5, 'black')\n",
    "print(cat.age)"
   ]
  },
  {
   "cell_type": "code",
   "execution_count": null,
   "metadata": {},
   "outputs": [],
   "source": [
    "print(cat)"
   ]
  },
  {
   "cell_type": "code",
   "execution_count": 36,
   "metadata": {},
   "outputs": [
    {
     "name": "stdout",
     "output_type": "stream",
     "text": [
      "4386980784\n"
     ]
    }
   ],
   "source": [
    "Cat.a\n",
    "print(id(Cat.a))\n"
   ]
  },
  {
   "cell_type": "code",
   "execution_count": 37,
   "metadata": {},
   "outputs": [
    {
     "name": "stdout",
     "output_type": "stream",
     "text": [
      "4386980784\n"
     ]
    }
   ],
   "source": [
    "cat.a\n",
    "print(id(cat.a))"
   ]
  },
  {
   "cell_type": "code",
   "execution_count": 38,
   "metadata": {},
   "outputs": [
    {
     "name": "stdout",
     "output_type": "stream",
     "text": [
      "4386980912\n",
      "4386980784\n"
     ]
    }
   ],
   "source": [
    "\n"
   ]
  },
  {
   "cell_type": "code",
   "execution_count": 39,
   "metadata": {},
   "outputs": [
    {
     "data": {
      "text/plain": [
       "28"
      ]
     },
     "execution_count": 39,
     "metadata": {},
     "output_type": "execute_result"
    }
   ],
   "source": [
    "import sys\n",
    "sys.getsizeof(1)\n"
   ]
  },
  {
   "cell_type": "code",
   "execution_count": 52,
   "metadata": {},
   "outputs": [
    {
     "data": {
      "text/plain": [
       "48"
      ]
     },
     "execution_count": 52,
     "metadata": {},
     "output_type": "execute_result"
    }
   ],
   "source": [
    "import sys\n",
    "sys.getsizeof(cat)"
   ]
  },
  {
   "cell_type": "code",
   "execution_count": 43,
   "metadata": {},
   "outputs": [
    {
     "data": {
      "text/plain": [
       "44"
      ]
     },
     "execution_count": 43,
     "metadata": {},
     "output_type": "execute_result"
    }
   ],
   "source": [
    "import sys\n",
    "sys.getsizeof('1')"
   ]
  },
  {
   "cell_type": "code",
   "execution_count": 42,
   "metadata": {},
   "outputs": [
    {
     "name": "stdout",
     "output_type": "stream",
     "text": [
      "<__main__.Cat object at 0x1136d3380>\n"
     ]
    }
   ],
   "source": [
    "print(cat)"
   ]
  },
  {
   "cell_type": "markdown",
   "metadata": {},
   "source": [
    "#### Атрибуты класса, можно условно разделить на поля и методы. Поля - это данные, которые описывают внутреннее состояние экземпляра класса. Методы - это функции, которые способны внести изменения во внутреннее состояние экземпляра.\n"
   ]
  },
  {
   "cell_type": "code",
   "execution_count": 53,
   "metadata": {},
   "outputs": [
    {
     "data": {
      "text/plain": [
       "<bound method Cat.meow of <__main__.Cat object at 0x1133f7b60>>"
      ]
     },
     "execution_count": 53,
     "metadata": {},
     "output_type": "execute_result"
    }
   ],
   "source": [
    "class Cat:\n",
    "\n",
    "    def __init__(self, name, age, color):\n",
    "        self.name = name\n",
    "        self.age = age\n",
    "        self.color = color\n",
    "\n",
    "    def meow(self):\n",
    "        print(self)\n",
    "        print(\"Meow meow\")\n",
    "\n",
    "barsik = Cat('Barsik', 5, 'black')\n",
    "barsik.meow"
   ]
  },
  {
   "cell_type": "code",
   "execution_count": 54,
   "metadata": {
    "scrolled": true
   },
   "outputs": [
    {
     "name": "stdout",
     "output_type": "stream",
     "text": [
      "<__main__.Cat object at 0x1133f7b60>\n"
     ]
    }
   ],
   "source": [
    "print(barsik)"
   ]
  },
  {
   "cell_type": "code",
   "execution_count": 55,
   "metadata": {},
   "outputs": [
    {
     "name": "stdout",
     "output_type": "stream",
     "text": [
      "<__main__.Cat object at 0x1133f7b60>\n",
      "Meow meow\n"
     ]
    }
   ],
   "source": [
    "barsik.meow()"
   ]
  },
  {
   "cell_type": "code",
   "execution_count": 56,
   "metadata": {},
   "outputs": [
    {
     "ename": "TypeError",
     "evalue": "Cat.meow() missing 1 required positional argument: 'self'",
     "output_type": "error",
     "traceback": [
      "\u001b[0;31m---------------------------------------------------------------------------\u001b[0m",
      "\u001b[0;31mTypeError\u001b[0m                                 Traceback (most recent call last)",
      "\u001b[1;32m/Users/ivan.niekipielov/courses/basic-25102023/l_15_OOP_part_1.ipynb Cell 43\u001b[0m line \u001b[0;36m1\n\u001b[0;32m----> <a href='vscode-notebook-cell:/Users/ivan.niekipielov/courses/basic-25102023/l_15_OOP_part_1.ipynb#X60sZmlsZQ%3D%3D?line=0'>1</a>\u001b[0m Cat\u001b[39m.\u001b[39;49mmeow()\n",
      "\u001b[0;31mTypeError\u001b[0m: Cat.meow() missing 1 required positional argument: 'self'"
     ]
    }
   ],
   "source": [
    "Cat.meow()"
   ]
  },
  {
   "cell_type": "code",
   "execution_count": 57,
   "metadata": {},
   "outputs": [
    {
     "name": "stdout",
     "output_type": "stream",
     "text": [
      "<__main__.Cat object at 0x1133f7b60>\n",
      "Meow meow\n"
     ]
    }
   ],
   "source": [
    "Cat.meow(barsik)"
   ]
  },
  {
   "cell_type": "code",
   "execution_count": null,
   "metadata": {},
   "outputs": [],
   "source": [
    "class Cat:\n",
    "\n",
    "#     def __init__(self, name, age, color):\n",
    "#         self.name = name\n",
    "#         self.age = age\n",
    "#         self.color = color\n",
    "\n",
    "    def meow(self):\n",
    "#         print(self.age)\n",
    "        print(self)\n",
    "        print(\"Meow meow\")\n",
    "\n",
    "cat = Cat()\n",
    "cat.meow()"
   ]
  },
  {
   "cell_type": "code",
   "execution_count": 58,
   "metadata": {},
   "outputs": [],
   "source": [
    "class Cat:\n",
    "\n",
    "    def __init__(self, name, age, color, ration='Meat'):\n",
    "        self.name = name\n",
    "        self.age = age\n",
    "        self.color = color\n",
    "        self.ration = ration\n",
    "\n",
    "    def meow(self):\n",
    "        print(self.name)\n",
    "        print(\"Meow meow\")\n",
    "\n",
    "cat = Cat('Barsik', 5, 'black')\n",
    "cat2 = Cat('Black', 2, 'black')"
   ]
  },
  {
   "cell_type": "code",
   "execution_count": 59,
   "metadata": {},
   "outputs": [
    {
     "name": "stdout",
     "output_type": "stream",
     "text": [
      "Barsik\n",
      "Meow meow\n"
     ]
    }
   ],
   "source": [
    "cat.meow() # Cat.meow(cat)"
   ]
  },
  {
   "cell_type": "code",
   "execution_count": 60,
   "metadata": {},
   "outputs": [],
   "source": [
    "cat2 = Cat('Murchik', 3, 'white')"
   ]
  },
  {
   "cell_type": "code",
   "execution_count": 61,
   "metadata": {
    "scrolled": true
   },
   "outputs": [
    {
     "name": "stdout",
     "output_type": "stream",
     "text": [
      "Murchik\n",
      "Meow meow\n"
     ]
    }
   ],
   "source": [
    "cat2.meow()"
   ]
  },
  {
   "cell_type": "code",
   "execution_count": 62,
   "metadata": {},
   "outputs": [
    {
     "ename": "TypeError",
     "evalue": "Cat.__init__() missing 1 required positional argument: 'color'",
     "output_type": "error",
     "traceback": [
      "\u001b[0;31m---------------------------------------------------------------------------\u001b[0m",
      "\u001b[0;31mTypeError\u001b[0m                                 Traceback (most recent call last)",
      "\u001b[1;32m/Users/ivan.niekipielov/courses/basic-25102023/l_15_OOP_part_1.ipynb Cell 50\u001b[0m line \u001b[0;36m1\n\u001b[0;32m----> <a href='vscode-notebook-cell:/Users/ivan.niekipielov/courses/basic-25102023/l_15_OOP_part_1.ipynb#Y100sZmlsZQ%3D%3D?line=0'>1</a>\u001b[0m cat3 \u001b[39m=\u001b[39m Cat(\u001b[39m'\u001b[39;49m\u001b[39mMurchik\u001b[39;49m\u001b[39m'\u001b[39;49m, \u001b[39m3\u001b[39;49m)\n",
      "\u001b[0;31mTypeError\u001b[0m: Cat.__init__() missing 1 required positional argument: 'color'"
     ]
    }
   ],
   "source": [
    "cat3 = Cat('Murchik', 3)"
   ]
  },
  {
   "cell_type": "code",
   "execution_count": 63,
   "metadata": {},
   "outputs": [],
   "source": [
    "cat3 = Cat('Murchik', 3, 'red', 'fish')"
   ]
  },
  {
   "cell_type": "code",
   "execution_count": 64,
   "metadata": {},
   "outputs": [
    {
     "data": {
      "text/plain": [
       "'fish'"
      ]
     },
     "execution_count": 64,
     "metadata": {},
     "output_type": "execute_result"
    }
   ],
   "source": [
    "cat3.ration"
   ]
  },
  {
   "cell_type": "code",
   "execution_count": 65,
   "metadata": {},
   "outputs": [
    {
     "data": {
      "text/plain": [
       "'Meat'"
      ]
     },
     "execution_count": 65,
     "metadata": {},
     "output_type": "execute_result"
    }
   ],
   "source": [
    "cat2.ration"
   ]
  },
  {
   "cell_type": "code",
   "execution_count": 66,
   "metadata": {},
   "outputs": [
    {
     "data": {
      "text/plain": [
       "['__class__',\n",
       " '__delattr__',\n",
       " '__dict__',\n",
       " '__dir__',\n",
       " '__doc__',\n",
       " '__eq__',\n",
       " '__format__',\n",
       " '__ge__',\n",
       " '__getattribute__',\n",
       " '__getstate__',\n",
       " '__gt__',\n",
       " '__hash__',\n",
       " '__init__',\n",
       " '__init_subclass__',\n",
       " '__le__',\n",
       " '__lt__',\n",
       " '__module__',\n",
       " '__ne__',\n",
       " '__new__',\n",
       " '__reduce__',\n",
       " '__reduce_ex__',\n",
       " '__repr__',\n",
       " '__setattr__',\n",
       " '__sizeof__',\n",
       " '__str__',\n",
       " '__subclasshook__',\n",
       " '__weakref__',\n",
       " 'meow']"
      ]
     },
     "execution_count": 66,
     "metadata": {},
     "output_type": "execute_result"
    }
   ],
   "source": [
    "dir(Cat)"
   ]
  },
  {
   "cell_type": "code",
   "execution_count": 67,
   "metadata": {},
   "outputs": [
    {
     "name": "stdout",
     "output_type": "stream",
     "text": [
      "<__main__.Cat object at 0x1133f5280>\n"
     ]
    }
   ],
   "source": [
    "print(cat) # не очень информативно :)"
   ]
  },
  {
   "cell_type": "markdown",
   "metadata": {},
   "source": [
    "`__str__()` - «магический» метод. Его назначение - вернуть строку с описанием объекта. Именно этот метод вызывает `print()`, если в него подставить экземпляр класса."
   ]
  },
  {
   "cell_type": "code",
   "execution_count": 68,
   "metadata": {},
   "outputs": [
    {
     "name": "stdout",
     "output_type": "stream",
     "text": [
      "Cat:  name = Barsik, age = 5, color = black Meow meow\n"
     ]
    }
   ],
   "source": [
    "class Cat:\n",
    "\n",
    "    def __init__(self, name, age, color):\n",
    "        self.name = name\n",
    "        self.age = age\n",
    "        self.color = color\n",
    "\n",
    "    def meow(self):\n",
    "        return \"Meow meow\"\n",
    "\n",
    "    def __str__(self):\n",
    "        return f\"Cat:  name = {self.name}, age = {self.age}, color = {self.color} {self.meow()}\"\n",
    "\n",
    "cat = Cat('Barsik', 5, 'black')\n",
    "print(cat) # так то лучше!"
   ]
  },
  {
   "cell_type": "code",
   "execution_count": 69,
   "metadata": {
    "scrolled": false
   },
   "outputs": [
    {
     "name": "stdout",
     "output_type": "stream",
     "text": [
      "Cat:  name = Barsik, age = 5, color = black Meow meow\n"
     ]
    }
   ],
   "source": [
    "c = str(cat)\n",
    "print(c)"
   ]
  },
  {
   "cell_type": "code",
   "execution_count": null,
   "metadata": {},
   "outputs": [],
   "source": [
    "cat.__str__()"
   ]
  },
  {
   "cell_type": "code",
   "execution_count": null,
   "metadata": {},
   "outputs": [],
   "source": [
    "print(type(1))"
   ]
  },
  {
   "cell_type": "code",
   "execution_count": 73,
   "metadata": {},
   "outputs": [
    {
     "name": "stdout",
     "output_type": "stream",
     "text": [
      "Hi\n",
      "there\n",
      "'Hi\\nthere'\n"
     ]
    }
   ],
   "source": [
    "s = \"Hi\\nthere\"\n",
    "print(s)\n",
    "print(repr(s))"
   ]
  },
  {
   "cell_type": "code",
   "execution_count": 71,
   "metadata": {},
   "outputs": [
    {
     "data": {
      "text/plain": [
       "<__main__.Cat at 0x1136f3260>"
      ]
     },
     "execution_count": 71,
     "metadata": {},
     "output_type": "execute_result"
    }
   ],
   "source": [
    "cat"
   ]
  },
  {
   "cell_type": "code",
   "execution_count": 70,
   "metadata": {},
   "outputs": [
    {
     "data": {
      "text/plain": [
       "'<__main__.Cat object at 0x1136f3260>'"
      ]
     },
     "execution_count": 70,
     "metadata": {},
     "output_type": "execute_result"
    }
   ],
   "source": [
    "repr(cat)\n"
   ]
  },
  {
   "cell_type": "markdown",
   "metadata": {},
   "source": [
    "Создать класс Телефон и класс Склад. В классе Телефон несколько полей, характеризующих телефон. Класс Склад, должен содержать несколько методов, позволяющих управлять наличием телефонов на складе. На складе должны храниться экземпляры класса Телефон."
   ]
  },
  {
   "cell_type": "code",
   "execution_count": 74,
   "metadata": {},
   "outputs": [],
   "source": [
    "class Phone:\n",
    "    def __init__(self, brand, model, price):\n",
    "        self.brand = brand\n",
    "        self.price = price\n",
    "        self.model = model\n",
    "\n",
    "    def __str__(self):\n",
    "        return f'Phone {self.brand} {self.model} {self.price}'\n",
    "\n",
    "\n"
   ]
  },
  {
   "cell_type": "code",
   "execution_count": 80,
   "metadata": {},
   "outputs": [
    {
     "name": "stdout",
     "output_type": "stream",
     "text": [
      "Phone Samsung A52 7000\n",
      "Phone Xiaomi 12 Lite 17000\n"
     ]
    }
   ],
   "source": [
    "phone1 = Phone('Samsung', 'A52', 7000)\n",
    "print(phone1)\n",
    "phone2 = Phone('Samsung', 'S11', 37000)\n",
    "phone3 = Phone('Samsung', 'A12', 4000)\n",
    "phone4 = Phone('Xiaomi', 'Redmi Note 11 ', 8700)\n",
    "phone5 = Phone('Xiaomi', '12 Lite', 17000)\n",
    "phone6 = Phone('Samsung', 'A52', 7000)\n",
    "print(phone5)"
   ]
  },
  {
   "cell_type": "code",
   "execution_count": 82,
   "metadata": {},
   "outputs": [
    {
     "data": {
      "text/plain": [
       "False"
      ]
     },
     "execution_count": 82,
     "metadata": {},
     "output_type": "execute_result"
    }
   ],
   "source": [
    "hash(phone1)"
   ]
  },
  {
   "cell_type": "code",
   "execution_count": 83,
   "metadata": {},
   "outputs": [],
   "source": [
    "class Warehouse:\n",
    "\n",
    "    def __init__(self, address):\n",
    "        self.address = address\n",
    "        self.storage = {}\n",
    "\n",
    "    def add_to_storage(self, item, value):\n",
    "        self.storage[item] = value\n",
    "\n",
    "    def remove_from_storage(self, item):\n",
    "        value = self.storage.pop(item, None)\n",
    "        return value\n",
    "\n",
    "    def get_item_value(self, item):\n",
    "        return self.storage.get(item)\n",
    "\n",
    "    def get_total_value(self):\n",
    "        total = 0\n",
    "        for key, cnt in self.storage.items():\n",
    "            total += key.price * cnt\n",
    "        return total\n",
    "\n",
    "    def __str__(self):\n",
    "        tmp = ''\n",
    "        for item, cnt in self.storage.items():\n",
    "            tmp += f'{str(item)}: {cnt} pcs. \\n'\n",
    "        return f'Warehouse at {self.address} contains:\\n{tmp} '\n"
   ]
  },
  {
   "cell_type": "code",
   "execution_count": 84,
   "metadata": {},
   "outputs": [
    {
     "name": "stdout",
     "output_type": "stream",
     "text": [
      "0\n"
     ]
    }
   ],
   "source": [
    "wh = Warehouse('Kyiv, pr. Peremogy, 135')\n",
    "print(wh.get_total_value())"
   ]
  },
  {
   "cell_type": "code",
   "execution_count": 85,
   "metadata": {},
   "outputs": [
    {
     "name": "stdout",
     "output_type": "stream",
     "text": [
      "1131000\n",
      "23\n"
     ]
    }
   ],
   "source": [
    "wh.add_to_storage(phone1, 40)\n",
    "wh.add_to_storage(phone2, 23)\n",
    "print(wh.get_total_value())\n",
    "print(wh.get_item_value(phone2))\n"
   ]
  },
  {
   "cell_type": "code",
   "execution_count": 86,
   "metadata": {},
   "outputs": [
    {
     "name": "stdout",
     "output_type": "stream",
     "text": [
      "1973400\n",
      "Warehouse at Kyiv, pr. Peremogy, 135 contains:\n",
      "Phone Samsung A52 7000: 40 pcs. \n",
      "Phone Samsung S11 37000: 23 pcs. \n",
      "Phone Samsung A12 4000: 4 pcs. \n",
      "Phone Xiaomi Redmi Note 11  8700: 52 pcs. \n",
      "Phone Xiaomi 12 Lite 17000: 22 pcs. \n",
      " \n"
     ]
    }
   ],
   "source": [
    "wh.add_to_storage(phone3, 4)\n",
    "wh.add_to_storage(phone4, 52)\n",
    "wh.add_to_storage(phone5, 22)\n",
    "print(wh.get_total_value())\n",
    "print(wh)"
   ]
  },
  {
   "cell_type": "code",
   "execution_count": 87,
   "metadata": {},
   "outputs": [
    {
     "name": "stdout",
     "output_type": "stream",
     "text": [
      "23\n",
      "None\n",
      "Warehouse at Kyiv, pr. Peremogy, 135 contains:\n",
      "Phone Samsung A52 7000: 40 pcs. \n",
      "Phone Samsung A12 4000: 4 pcs. \n",
      "Phone Xiaomi Redmi Note 11  8700: 52 pcs. \n",
      "Phone Xiaomi 12 Lite 17000: 22 pcs. \n",
      " \n"
     ]
    }
   ],
   "source": [
    "print(wh.remove_from_storage(phone2))\n",
    "print(wh.get_item_value(phone2))\n",
    "print(wh)"
   ]
  },
  {
   "cell_type": "code",
   "execution_count": 88,
   "metadata": {},
   "outputs": [
    {
     "name": "stdout",
     "output_type": "stream",
     "text": [
      "Warehouse at Kyiv, pr. Peremogy, 135 contains:\n",
      "Phone Samsung A52 7000: 40 pcs. \n",
      "Phone Samsung A12 4000: 4 pcs. \n",
      "Phone Xiaomi Redmi Note 11  8700: 52 pcs. \n",
      "Phone Xiaomi 12 Lite 17000: 22 pcs. \n",
      "Phone Samsung A52 7000: 100 pcs. \n",
      " \n"
     ]
    }
   ],
   "source": [
    "wh.add_to_storage(phone6, 100)\n",
    "print(wh)"
   ]
  },
  {
   "cell_type": "markdown",
   "metadata": {},
   "source": [
    "Можно дополнить склад экземплярами любых классов. Например, создадим класс для Ноутбука"
   ]
  },
  {
   "cell_type": "code",
   "execution_count": 89,
   "metadata": {},
   "outputs": [],
   "source": [
    "class Laptop:\n",
    "    def __init__(self, brand, model, price):\n",
    "        # Важно, чтобы набор полей был схожим с другими классами, которые хранятся на складе\n",
    "        self.brand = brand\n",
    "        self.price = price\n",
    "        self.model = model\n",
    "\n",
    "    def __str__(self):\n",
    "        return f'Laptop {self.brand} {self.model} {self.price}'\n"
   ]
  },
  {
   "cell_type": "code",
   "execution_count": 90,
   "metadata": {},
   "outputs": [
    {
     "name": "stdout",
     "output_type": "stream",
     "text": [
      "2298400\n",
      "Warehouse at Kyiv, pr. Peremogy, 135 contains:\n",
      "Phone Samsung A52 7000: 40 pcs. \n",
      "Phone Samsung A12 4000: 4 pcs. \n",
      "Phone Xiaomi Redmi Note 11  8700: 52 pcs. \n",
      "Phone Xiaomi 12 Lite 17000: 22 pcs. \n",
      "Phone Samsung A52 7000: 100 pcs. \n",
      "Laptop HP ProBook 450 35000: 10 pcs. \n",
      "Laptop HP Laptop 15s-eq2054ur 42000: 3 pcs. \n",
      " \n"
     ]
    }
   ],
   "source": [
    "notebook = Laptop('HP', 'ProBook 450', 35000)\n",
    "notebook1 = Laptop('HP', 'Laptop 15s-eq2054ur', 42000)\n",
    "wh.add_to_storage(notebook, 10)\n",
    "wh.add_to_storage(notebook1, 3)\n",
    "print(wh.get_total_value())\n",
    "print(wh)"
   ]
  },
  {
   "cell_type": "markdown",
   "metadata": {},
   "source": [
    "#### метод класса - обычные и статические"
   ]
  },
  {
   "cell_type": "code",
   "execution_count": 91,
   "metadata": {},
   "outputs": [],
   "source": [
    "class Cat:\n",
    "\n",
    "    def __init__(self, name, age, color):\n",
    "        self.name = name\n",
    "        self.age = age\n",
    "        self.color = color\n",
    "\n",
    "    def meow(self):\n",
    "        print(\"Meow meow\")\n",
    "\n",
    "    def __str__(self):\n",
    "        return f\"Cat [name = {self.name}, age = {self.age}, color = {self.color}]\"\n",
    "\n",
    "    def say_hello(): # метод класса, не экземпляра!!!\n",
    "        print(\"Hello\")"
   ]
  },
  {
   "cell_type": "code",
   "execution_count": 92,
   "metadata": {},
   "outputs": [
    {
     "name": "stdout",
     "output_type": "stream",
     "text": [
      "Hello\n"
     ]
    }
   ],
   "source": [
    "Cat.say_hello()"
   ]
  },
  {
   "cell_type": "code",
   "execution_count": null,
   "metadata": {
    "scrolled": true
   },
   "outputs": [],
   "source": []
  },
  {
   "cell_type": "code",
   "execution_count": 93,
   "metadata": {
    "scrolled": true
   },
   "outputs": [
    {
     "ename": "TypeError",
     "evalue": "Cat.say_hello() takes 0 positional arguments but 1 was given",
     "output_type": "error",
     "traceback": [
      "\u001b[0;31m---------------------------------------------------------------------------\u001b[0m",
      "\u001b[0;31mTypeError\u001b[0m                                 Traceback (most recent call last)",
      "\u001b[1;32m/Users/ivan.niekipielov/courses/basic-25102023/l_15_OOP_part_1.ipynb Cell 81\u001b[0m line \u001b[0;36m2\n\u001b[1;32m      <a href='vscode-notebook-cell:/Users/ivan.niekipielov/courses/basic-25102023/l_15_OOP_part_1.ipynb#Y142sZmlsZQ%3D%3D?line=0'>1</a>\u001b[0m cat \u001b[39m=\u001b[39m Cat(\u001b[39m'\u001b[39m\u001b[39mBarsik\u001b[39m\u001b[39m'\u001b[39m, \u001b[39m5\u001b[39m, \u001b[39m'\u001b[39m\u001b[39mblack\u001b[39m\u001b[39m'\u001b[39m)\n\u001b[0;32m----> <a href='vscode-notebook-cell:/Users/ivan.niekipielov/courses/basic-25102023/l_15_OOP_part_1.ipynb#Y142sZmlsZQ%3D%3D?line=1'>2</a>\u001b[0m cat\u001b[39m.\u001b[39;49msay_hello() \u001b[39m# error\u001b[39;00m\n",
      "\u001b[0;31mTypeError\u001b[0m: Cat.say_hello() takes 0 positional arguments but 1 was given"
     ]
    }
   ],
   "source": [
    "cat = Cat('Barsik', 5, 'black')\n",
    "cat.say_hello() # error"
   ]
  },
  {
   "cell_type": "code",
   "execution_count": 94,
   "metadata": {},
   "outputs": [
    {
     "ename": "TypeError",
     "evalue": "Cat.say_hello() takes 0 positional arguments but 1 was given",
     "output_type": "error",
     "traceback": [
      "\u001b[0;31m---------------------------------------------------------------------------\u001b[0m",
      "\u001b[0;31mTypeError\u001b[0m                                 Traceback (most recent call last)",
      "\u001b[1;32m/Users/ivan.niekipielov/courses/basic-25102023/l_15_OOP_part_1.ipynb Cell 82\u001b[0m line \u001b[0;36m1\n\u001b[0;32m----> <a href='vscode-notebook-cell:/Users/ivan.niekipielov/courses/basic-25102023/l_15_OOP_part_1.ipynb#Y143sZmlsZQ%3D%3D?line=0'>1</a>\u001b[0m Cat(\u001b[39m'\u001b[39;49m\u001b[39mBarsik\u001b[39;49m\u001b[39m'\u001b[39;49m, \u001b[39m5\u001b[39;49m, \u001b[39m'\u001b[39;49m\u001b[39mblack\u001b[39;49m\u001b[39m'\u001b[39;49m)\u001b[39m.\u001b[39;49msay_hello()\u001b[39m# error\u001b[39;00m\n",
      "\u001b[0;31mTypeError\u001b[0m: Cat.say_hello() takes 0 positional arguments but 1 was given"
     ]
    }
   ],
   "source": [
    "Cat('Barsik', 5, 'black').say_hello()# error"
   ]
  },
  {
   "cell_type": "code",
   "execution_count": 95,
   "metadata": {},
   "outputs": [],
   "source": [
    "class Cat:\n",
    "\n",
    "    def __init__(self, name, age, color):\n",
    "        self.name = name\n",
    "        self.age = age\n",
    "        self.color = color\n",
    "\n",
    "    def meow(self):\n",
    "        print(\"Meow meow\")\n",
    "\n",
    "    def __str__(self):\n",
    "        return f\"Cat [name = {self.name}, age = {self.age}, color = {self.color}]\"\n",
    "\n",
    "    @staticmethod\n",
    "    def say_hello():\n",
    "        print(\"Hello\")"
   ]
  },
  {
   "cell_type": "code",
   "execution_count": 96,
   "metadata": {},
   "outputs": [
    {
     "name": "stdout",
     "output_type": "stream",
     "text": [
      "Hello\n",
      "Hello\n"
     ]
    }
   ],
   "source": [
    "Cat.say_hello()\n",
    "\n",
    "cat = Cat('Barsik', 5, 'black')\n",
    "cat.say_hello()\n",
    "# print(cat.say_hello())"
   ]
  },
  {
   "cell_type": "code",
   "execution_count": 97,
   "metadata": {},
   "outputs": [
    {
     "name": "stdout",
     "output_type": "stream",
     "text": [
      "Hello\n"
     ]
    }
   ],
   "source": [
    "Cat.say_hello()"
   ]
  },
  {
   "cell_type": "code",
   "execution_count": 103,
   "metadata": {},
   "outputs": [
    {
     "name": "stdout",
     "output_type": "stream",
     "text": [
      "Cat [name = Barsik, age = 5, color = black]\n",
      "Meow meow - Hi\n",
      "Hello Barsik\n"
     ]
    }
   ],
   "source": [
    "class Cat:\n",
    "    name = 'Mark'\n",
    "    def __init__(self, name, age, color):\n",
    "        self.name = name\n",
    "        self.age = age\n",
    "        self.color = color\n",
    "\n",
    "    def meow(self, tmp):\n",
    "        print(f\"Meow meow - {tmp}\")\n",
    "        self.say_hello(self.name)\n",
    "\n",
    "    def __str__(ins):  # Название не имеет значения.\n",
    "        return f\"Cat [name = {ins.name}, age = {ins.age}, color = {ins.color}]\"\n",
    "\n",
    "    @staticmethod\n",
    "    def say_hello(name):\n",
    "        print(f\"Hello {name}\")\n",
    "\n",
    "cat = Cat('Barsik', 5, 'black')\n",
    "print(cat)\n",
    "cat.meow('Hi')"
   ]
  },
  {
   "cell_type": "code",
   "execution_count": 99,
   "metadata": {},
   "outputs": [
    {
     "name": "stdout",
     "output_type": "stream",
     "text": [
      "Hello Bob\n"
     ]
    }
   ],
   "source": [
    "cat.say_hello('Bob')"
   ]
  },
  {
   "cell_type": "code",
   "execution_count": 100,
   "metadata": {},
   "outputs": [
    {
     "name": "stdout",
     "output_type": "stream",
     "text": [
      "Hello Dob\n"
     ]
    }
   ],
   "source": [
    "Cat.say_hello('Dob')"
   ]
  },
  {
   "cell_type": "code",
   "execution_count": 101,
   "metadata": {},
   "outputs": [
    {
     "name": "stdout",
     "output_type": "stream",
     "text": [
      "Hello Mark\n"
     ]
    }
   ],
   "source": [
    "Cat.say_hello(Cat.name)"
   ]
  },
  {
   "cell_type": "markdown",
   "metadata": {
    "pycharm": {
     "name": "#%% md\n"
    }
   },
   "source": [
    "### Статический метод\n",
    "В Python — обычный метод класса (с первым аргументом self ) при вызове\n",
    "через имя объекта автоматически подставляет ссылку на объект в качестве\n",
    "первого параметра. Если вызывать такой метод через имя класса, тогда нужно\n",
    "вручную подставлять объект этого класса в качестве первого параметра.\n",
    "\n",
    "Статический метод - простая функция без аргумента **self**, вложенная в тело\n",
    "класса и предназначенная для работы с членами класса, а не экземпляром. Не имеет\n",
    "доступа к значению полей объекта. Может быть вызвана через имя класса."
   ]
  },
  {
   "cell_type": "code",
   "execution_count": null,
   "metadata": {
    "pycharm": {
     "name": "#%%\n"
    }
   },
   "outputs": [],
   "source": [
    "class Box:\n",
    "    def __init__(self, x, y, z):\n",
    "        self.x = x\n",
    "        self.y = y\n",
    "        self.z = z\n",
    "\n",
    "    def __str__(self):\n",
    "        return f\"Box [x = {self.x}, y = {self.y}, z = {self.z}]\"\n",
    "\n",
    "    def volume(self): # Обычный метод \n",
    "        return self.x * self.y * self.z\n",
    "\n",
    "    def up(): #  Статический метод класса\n",
    "        print(\"up\")"
   ]
  },
  {
   "cell_type": "code",
   "execution_count": null,
   "metadata": {
    "pycharm": {
     "name": "#%%\n"
    }
   },
   "outputs": [],
   "source": [
    "box_1 = Box(1, 2, 3)\n",
    "print(box_1.volume())\n",
    "print(Box.volume(box_1)) # Вызов обычного метода через имя класса. Объект подставлен явно\n",
    "Box.up() # Вызов статического метода через имя класса."
   ]
  },
  {
   "cell_type": "code",
   "execution_count": null,
   "metadata": {
    "pycharm": {
     "name": "#%%\n"
    }
   },
   "outputs": [],
   "source": [
    "box_1.up() # TypeError"
   ]
  },
  {
   "cell_type": "code",
   "execution_count": null,
   "metadata": {
    "pycharm": {
     "name": "#%%\n"
    }
   },
   "outputs": [],
   "source": [
    "print(Box.volume())  # TypeError"
   ]
  },
  {
   "cell_type": "code",
   "execution_count": null,
   "metadata": {
    "pycharm": {
     "name": "#%%\n"
    }
   },
   "outputs": [],
   "source": [
    "class Box:\n",
    "    def __init__(self, x, y, z):\n",
    "        self.x = x\n",
    "        self.y = y\n",
    "        self.z = z\n",
    "\n",
    "    def __str__(self):\n",
    "        return f\"Box [x = {self.x}, y = {self.y}, z = {self.z}]\"\n",
    "\n",
    "    def volume(self): # Обычный метод класса\n",
    "        return self.x * self.y * self.z\n",
    "\n",
    "    @staticmethod\n",
    "    def up(word): #  Статический метод класса\n",
    "        print(f\"up {word}\")\n",
    "\n",
    "    up = staticmethod(up)"
   ]
  },
  {
   "cell_type": "code",
   "execution_count": null,
   "metadata": {
    "pycharm": {
     "name": "#%%\n"
    }
   },
   "outputs": [],
   "source": [
    "box_1 = Box(1, 2, 3)\n",
    "box_1.up('hi')"
   ]
  },
  {
   "cell_type": "markdown",
   "metadata": {},
   "source": [
    "### Метод Класса (classmethod)\n",
    "Метод класса — методы которым в качестве первого параметра автоматически передается класс объекта. Вызывать\n",
    "такие методы можно через имя объекта и через имя класса.\n",
    "Создаются такие методы с помощью встроенной функции — **classmethod**. Этот же метод можно использовать в качестве\n",
    "декоратора."
   ]
  },
  {
   "cell_type": "code",
   "execution_count": 108,
   "metadata": {
    "pycharm": {
     "name": "#%%\n"
    }
   },
   "outputs": [
    {
     "name": "stdout",
     "output_type": "stream",
     "text": [
      "Box [x = 1, y = 2, z = 3]\n"
     ]
    }
   ],
   "source": [
    "class Box:\n",
    "    def __init__(self, x, y, z):\n",
    "        self.x = x\n",
    "        self.y = y\n",
    "        self.z = z\n",
    "\n",
    "    def __str__(self):\n",
    "        return f\"Box [x = {self.x}, y = {self.y}, z = {self.z}]\"\n",
    "\n",
    "    def volume(self): # Обычный метод класса\n",
    "        return self.x * self.y * self.z\n",
    "\n",
    "    @staticmethod\n",
    "    def up(): #  Статический метод класса\n",
    "        print(\"up\")\n",
    "\n",
    "    @classmethod\n",
    "    def print_class_info(cls):\n",
    "        print(str(cls))\n"
   ]
  },
  {
   "cell_type": "code",
   "execution_count": 105,
   "metadata": {
    "pycharm": {
     "name": "#%%\n"
    }
   },
   "outputs": [
    {
     "name": "stdout",
     "output_type": "stream",
     "text": [
      "<class '__main__.Box'>\n",
      "<class '__main__.Box'>\n"
     ]
    }
   ],
   "source": [
    "box_1 = Box(1, 2, 3)\n",
    "box_1.print_class_info() # Вызов метода класса через имя объекта\n",
    "Box.print_class_info() # Вызов метода класса через имя класса\n"
   ]
  },
  {
   "cell_type": "code",
   "execution_count": 106,
   "metadata": {
    "pycharm": {
     "name": "#%%\n"
    }
   },
   "outputs": [],
   "source": [
    "from datetime import date\n",
    "\n",
    "class Person:\n",
    "    def __init__(self, name, age):\n",
    "        self.name = name\n",
    "        self.age = age\n",
    "\n",
    "    # Позволяет вычислить данные, и вернуть новый экземпляр класса,\n",
    "    # с этими данными\n",
    "    @classmethod\n",
    "    def from_birth_year(cls, name, year):\n",
    "        return cls(name, date.today().year - year)\n",
    "\n",
    "    # Метод, который не связан с переменными ни этого класса,\n",
    "    # ни его экземпляров\n",
    "    @staticmethod\n",
    "    def is_adult(age):\n",
    "        return age > 18\n"
   ]
  },
  {
   "cell_type": "code",
   "execution_count": 107,
   "metadata": {
    "pycharm": {
     "name": "#%%\n"
    }
   },
   "outputs": [
    {
     "name": "stdout",
     "output_type": "stream",
     "text": [
      "21\n",
      "27\n",
      "23\n",
      "True\n",
      "True\n"
     ]
    }
   ],
   "source": [
    "person1 = Person('mayank', 21)\n",
    "person2 = Person.from_birth_year('mayank2', 1996)\n",
    "person3 = person2.from_birth_year('mayank3', 2000)\n",
    "\n",
    "print(person1.age)\n",
    "print( person2.age)\n",
    "print( person3.age)\n",
    "\n",
    "# можно вызвать этот метод как из класса, так и из его экземпляров.\n",
    "# Но данные для него нужно передавать явно!\n",
    "print( Person.is_adult(22))\n",
    "print(person1.is_adult(person1.age))"
   ]
  },
  {
   "cell_type": "code",
   "execution_count": null,
   "metadata": {
    "pycharm": {
     "name": "#%%\n"
    }
   },
   "outputs": [],
   "source": [
    "class MyClass:\n",
    "\n",
    "    TOTAL_OBJECTS = 0\n",
    "\n",
    "    def __init__(self):\n",
    "        MyClass.TOTAL_OBJECTS += 1\n",
    "\n",
    "    @classmethod\n",
    "    def total_objects(cls):\n",
    "        print(\"Total objects: \", cls.TOTAL_OBJECTS)\n",
    "\n",
    "# Создаем объекты\n",
    "my_obj1 = MyClass()\n",
    "my_obj2 = MyClass()\n",
    "my_obj3 = MyClass()\n",
    "\n",
    "# Вызываем classmethod\n",
    "MyClass.total_objects()"
   ]
  },
  {
   "cell_type": "code",
   "execution_count": null,
   "metadata": {},
   "outputs": [],
   "source": [
    "my_obj1.TOTAL_OBJECTS"
   ]
  },
  {
   "cell_type": "code",
   "execution_count": null,
   "metadata": {
    "pycharm": {
     "name": "#%%\n"
    }
   },
   "outputs": [],
   "source": [
    "MyClass.TOTAL_OBJECTS\n"
   ]
  },
  {
   "cell_type": "markdown",
   "metadata": {},
   "source": [
    "### Задача.\n",
    "Создать два класса - один это автомобиль, второй - гараж. Обязательное условие - в гараже должны находиться только уникальные экземпляры автомобилей.\n"
   ]
  },
  {
   "cell_type": "code",
   "execution_count": null,
   "metadata": {},
   "outputs": [],
   "source": [
    "class Car:\n",
    "\n",
    "    def __init__(self, color, engine, brand, name):\n",
    "        self.color = color\n",
    "        self.engine = engine\n",
    "        self.brand = brand\n",
    "        self.name = name\n",
    "\n",
    "    def __str__(self):\n",
    "        return f'{self.brand} {self.name}'\n",
    "\n",
    "\n",
    "car1 = Car('red', 2.8, \"Ford\", \"Mustang\")\n",
    "car2 = Car('black', 4.2, \"Porsche\", \"911\")\n",
    "car3 = Car('green', 5.0, \"BMW\", \"850\")\n",
    "car4 = Car('red', 2.8, \"Ford\", \"Mustang\")"
   ]
  },
  {
   "cell_type": "code",
   "execution_count": null,
   "metadata": {},
   "outputs": [],
   "source": [
    "class Garage:\n",
    "\n",
    "    def __init__(self, owner):\n",
    "        self.owner = owner\n",
    "        self.car_set = set()  # Можно и через список, но тогда необходимо проверять, что такая машина уже есть\n",
    "\n",
    "    def add_car(self, car):\n",
    "        self.car_set.add(car)\n",
    "\n",
    "    def __str__(self):\n",
    "        if not self.car_set:\n",
    "            return \"Garage is empty\"\n",
    "        tmp = ''\n",
    "        for car in self.car_set:\n",
    "            tmp += f\"{str(car)}\\n\"\n",
    "            # tmp += f\"{car.brand} {car.name} {car.engine}\\n\"\n",
    "        return tmp\n",
    "\n",
    "\n",
    "garage = Garage(\"Bob Marley\")\n",
    "print(garage)"
   ]
  },
  {
   "cell_type": "code",
   "execution_count": null,
   "metadata": {},
   "outputs": [],
   "source": [
    "garage.add_car(car1)\n",
    "garage.add_car(car2)\n",
    "print(garage)"
   ]
  },
  {
   "cell_type": "code",
   "execution_count": null,
   "metadata": {},
   "outputs": [],
   "source": [
    "garage.add_car(car3)\n",
    "print(garage)"
   ]
  },
  {
   "cell_type": "code",
   "execution_count": null,
   "metadata": {},
   "outputs": [],
   "source": [
    "garage.add_car(car1)\n",
    "garage.add_car(car1)\n",
    "garage.add_car(car1)\n",
    "print(garage)"
   ]
  },
  {
   "cell_type": "code",
   "execution_count": null,
   "metadata": {},
   "outputs": [],
   "source": [
    "garage.add_car(car4)\n",
    "print(garage)"
   ]
  },
  {
   "cell_type": "markdown",
   "metadata": {},
   "source": [
    "Если бы стояла задача подсчитывать количество одинаковых экземпляров машин, тогда можно было реализовать не через множество, а через словарь, где ключом был бы экземпляр автомобиля, а значением - его количество.\n"
   ]
  }
 ],
 "metadata": {
  "kernelspec": {
   "display_name": "Python 3 (ipykernel)",
   "language": "python",
   "name": "python3"
  },
  "language_info": {
   "codemirror_mode": {
    "name": "ipython",
    "version": 3
   },
   "file_extension": ".py",
   "mimetype": "text/x-python",
   "name": "python",
   "nbconvert_exporter": "python",
   "pygments_lexer": "ipython3",
   "version": "3.8.10"
  }
 },
 "nbformat": 4,
 "nbformat_minor": 2
}
