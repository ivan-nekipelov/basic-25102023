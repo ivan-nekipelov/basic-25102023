{
 "cells": [
  {
   "cell_type": "markdown",
   "metadata": {},
   "source": [
    "## Функции"
   ]
  },
  {
   "cell_type": "markdown",
   "metadata": {},
   "source": [
    "### Создание функций"
   ]
  },
  {
   "cell_type": "code",
   "execution_count": 1,
   "metadata": {},
   "outputs": [
    {
     "name": "stdout",
     "output_type": "stream",
     "text": [
      "4420397920\n",
      "<class 'function'>\n",
      "<function fun at 0x10779eb60>\n"
     ]
    }
   ],
   "source": [
    "def fun():\n",
    "    pass\n",
    "    # ... # Ellipsis\n",
    "\n",
    "print(id(fun))\n",
    "print(type(fun))\n",
    "print(fun) # Адрес функции в шестнадцатиричном формате"
   ]
  },
  {
   "cell_type": "code",
   "execution_count": 2,
   "metadata": {},
   "outputs": [
    {
     "name": "stdout",
     "output_type": "stream",
     "text": [
      "1\n",
      "4420398080\n"
     ]
    }
   ],
   "source": [
    "def fun():\n",
    "    return 1\n",
    "\n",
    "print(fun()) # Вызов функции на выполенение\n",
    "print(id(fun)) # Адрес функции в десятичном формате\n"
   ]
  },
  {
   "cell_type": "code",
   "execution_count": 3,
   "metadata": {
    "scrolled": true
   },
   "outputs": [
    {
     "name": "stdout",
     "output_type": "stream",
     "text": [
      "<function fun at 0x10779ec00>\n"
     ]
    }
   ],
   "source": [
    "print(fun)"
   ]
  },
  {
   "cell_type": "code",
   "execution_count": 4,
   "metadata": {
    "scrolled": true
   },
   "outputs": [
    {
     "data": {
      "text/plain": [
       "<function print(*args, sep=' ', end='\\n', file=None, flush=False)>"
      ]
     },
     "execution_count": 4,
     "metadata": {},
     "output_type": "execute_result"
    }
   ],
   "source": [
    "print"
   ]
  },
  {
   "cell_type": "code",
   "execution_count": 5,
   "metadata": {},
   "outputs": [
    {
     "name": "stdout",
     "output_type": "stream",
     "text": [
      "\n"
     ]
    }
   ],
   "source": [
    "print()\n"
   ]
  },
  {
   "cell_type": "code",
   "execution_count": null,
   "metadata": {},
   "outputs": [],
   "source": [
    "i = id(fun)\n",
    "print(hex(i))"
   ]
  },
  {
   "cell_type": "code",
   "execution_count": 6,
   "metadata": {},
   "outputs": [
    {
     "name": "stdout",
     "output_type": "stream",
     "text": [
      "1\n"
     ]
    }
   ],
   "source": [
    "res = fun()\n",
    "print(res)"
   ]
  },
  {
   "cell_type": "code",
   "execution_count": 7,
   "metadata": {
    "scrolled": true
   },
   "outputs": [
    {
     "name": "stdout",
     "output_type": "stream",
     "text": [
      "1\n",
      "<function fun at 0x10779ec00>\n"
     ]
    }
   ],
   "source": [
    "b = fun\n",
    "print(b())\n",
    "print(b)"
   ]
  },
  {
   "cell_type": "code",
   "execution_count": 8,
   "metadata": {},
   "outputs": [
    {
     "name": "stdout",
     "output_type": "stream",
     "text": [
      "2 4\n"
     ]
    }
   ],
   "source": [
    "a = print\n",
    "a(2, 4)"
   ]
  },
  {
   "cell_type": "code",
   "execution_count": 10,
   "metadata": {},
   "outputs": [
    {
     "name": "stdout",
     "output_type": "stream",
     "text": [
      "30\n",
      "10353\n"
     ]
    }
   ],
   "source": [
    "def calculate_summa(a, b):\n",
    "    c = b + a\n",
    "    return c\n",
    "\n",
    "print(calculate_summa(10, 20))\n",
    "n = calculate_summa(10333, 20)\n",
    "print(n)"
   ]
  },
  {
   "cell_type": "code",
   "execution_count": 11,
   "metadata": {},
   "outputs": [
    {
     "name": "stdout",
     "output_type": "stream",
     "text": [
      "9\n"
     ]
    }
   ],
   "source": [
    "x = 2\n",
    "y = 7\n",
    "d = calculate_summa(x, y)\n",
    "print(d)"
   ]
  },
  {
   "cell_type": "markdown",
   "metadata": {},
   "source": [
    "## Оператор assert\n",
    "часто используют при отладке программы или при написании простейших тестов для приложения."
   ]
  },
  {
   "cell_type": "code",
   "execution_count": 12,
   "metadata": {},
   "outputs": [
    {
     "name": "stdout",
     "output_type": "stream",
     "text": [
      "OK\n"
     ]
    }
   ],
   "source": [
    "assert calculate_summa(20, 10) == 30, \"Первый тест\"\n",
    "assert calculate_summa(20, 40) == 60, \"Второй тест\"\n",
    "print('OK')"
   ]
  },
  {
   "cell_type": "code",
   "execution_count": 13,
   "metadata": {},
   "outputs": [
    {
     "ename": "AssertionError",
     "evalue": "Второй тест",
     "output_type": "error",
     "traceback": [
      "\u001b[0;31m---------------------------------------------------------------------------\u001b[0m",
      "\u001b[0;31mAssertionError\u001b[0m                            Traceback (most recent call last)",
      "\u001b[1;32m/Users/ivan.niekipielov/courses/basic-25102023/l_9_func_part_1.ipynb Cell 16\u001b[0m line \u001b[0;36m1\n\u001b[0;32m----> <a href='vscode-notebook-cell:/Users/ivan.niekipielov/courses/basic-25102023/l_9_func_part_1.ipynb#X21sZmlsZQ%3D%3D?line=0'>1</a>\u001b[0m \u001b[39massert\u001b[39;00m calculate_summa(\u001b[39m20\u001b[39m, \u001b[39m10\u001b[39m) \u001b[39m==\u001b[39m \u001b[39m33\u001b[39m, \u001b[39m\"\u001b[39m\u001b[39mВторой тест\u001b[39m\u001b[39m\"\u001b[39m\n",
      "\u001b[0;31mAssertionError\u001b[0m: Второй тест"
     ]
    }
   ],
   "source": [
    "assert calculate_summa(20, 10) == 33, \"Второй тест\""
   ]
  },
  {
   "cell_type": "code",
   "execution_count": 14,
   "metadata": {},
   "outputs": [
    {
     "ename": "NameError",
     "evalue": "name 'add' is not defined",
     "output_type": "error",
     "traceback": [
      "\u001b[0;31m---------------------------------------------------------------------------\u001b[0m",
      "\u001b[0;31mNameError\u001b[0m                                 Traceback (most recent call last)",
      "\u001b[1;32m/Users/ivan.niekipielov/courses/basic-25102023/l_9_func_part_1.ipynb Cell 17\u001b[0m line \u001b[0;36m1\n\u001b[0;32m----> <a href='vscode-notebook-cell:/Users/ivan.niekipielov/courses/basic-25102023/l_9_func_part_1.ipynb#X22sZmlsZQ%3D%3D?line=0'>1</a>\u001b[0m d \u001b[39m=\u001b[39m add(\u001b[39m10\u001b[39m, \u001b[39m10\u001b[39m) \u001b[39m# Функцию нельзя использовать до тех пор, пока вы ее не объявите\u001b[39;00m\n\u001b[1;32m      <a href='vscode-notebook-cell:/Users/ivan.niekipielov/courses/basic-25102023/l_9_func_part_1.ipynb#X22sZmlsZQ%3D%3D?line=1'>2</a>\u001b[0m \u001b[39mprint\u001b[39m(d)\n\u001b[1;32m      <a href='vscode-notebook-cell:/Users/ivan.niekipielov/courses/basic-25102023/l_9_func_part_1.ipynb#X22sZmlsZQ%3D%3D?line=3'>4</a>\u001b[0m \u001b[39mdef\u001b[39;00m \u001b[39madd\u001b[39m(a, b):\n",
      "\u001b[0;31mNameError\u001b[0m: name 'add' is not defined"
     ]
    }
   ],
   "source": [
    "d = add(10, 10) # Функцию нельзя использовать до тех пор, пока вы ее не объявите\n",
    "print(d)\n",
    "\n",
    "def add(a, b):\n",
    "    c = a + b\n",
    "    return c"
   ]
  },
  {
   "cell_type": "markdown",
   "metadata": {},
   "source": [
    "## Оператор *return* не обязательный"
   ]
  },
  {
   "cell_type": "code",
   "execution_count": 15,
   "metadata": {},
   "outputs": [
    {
     "name": "stdout",
     "output_type": "stream",
     "text": [
      "20\n"
     ]
    }
   ],
   "source": [
    "\n",
    "def add(a, b):\n",
    "    c = a + b\n",
    "    print(c)\n",
    "\n",
    "d = add(10, 10)\n"
   ]
  },
  {
   "cell_type": "code",
   "execution_count": 16,
   "metadata": {
    "scrolled": true
   },
   "outputs": [
    {
     "name": "stdout",
     "output_type": "stream",
     "text": [
      "None\n"
     ]
    }
   ],
   "source": [
    "print(d)\n"
   ]
  },
  {
   "cell_type": "code",
   "execution_count": 17,
   "metadata": {},
   "outputs": [
    {
     "name": "stdout",
     "output_type": "stream",
     "text": [
      "30\n",
      "None\n"
     ]
    }
   ],
   "source": [
    "print(add(20, 10))"
   ]
  },
  {
   "cell_type": "code",
   "execution_count": 20,
   "metadata": {},
   "outputs": [
    {
     "name": "stdout",
     "output_type": "stream",
     "text": [
      "(20, 40)\n"
     ]
    }
   ],
   "source": [
    "# Сколько значений может возвращать функция? Произвольное количество.\n",
    "def mul(a, b):\n",
    "    a *= 2\n",
    "    b *= 2\n",
    "    return a, b\n",
    "    print('Hi') #  Этот print никогда не выполнится\n",
    "\n",
    "\n",
    "a = mul(10, 20)\n",
    "print(a)\n"
   ]
  },
  {
   "cell_type": "code",
   "execution_count": 23,
   "metadata": {},
   "outputs": [
    {
     "ename": "TypeError",
     "evalue": "mul() missing 1 required positional argument: 'b'",
     "output_type": "error",
     "traceback": [
      "\u001b[0;31m---------------------------------------------------------------------------\u001b[0m",
      "\u001b[0;31mTypeError\u001b[0m                                 Traceback (most recent call last)",
      "\u001b[1;32m/Users/ivan.niekipielov/courses/basic-25102023/l_9_func_part_1.ipynb Cell 23\u001b[0m line \u001b[0;36m4\n\u001b[1;32m      <a href='vscode-notebook-cell:/Users/ivan.niekipielov/courses/basic-25102023/l_9_func_part_1.ipynb#X31sZmlsZQ%3D%3D?line=1'>2</a>\u001b[0m y \u001b[39m=\u001b[39m \u001b[39m40\u001b[39m\n\u001b[1;32m      <a href='vscode-notebook-cell:/Users/ivan.niekipielov/courses/basic-25102023/l_9_func_part_1.ipynb#X31sZmlsZQ%3D%3D?line=2'>3</a>\u001b[0m a, b \u001b[39m=\u001b[39m mul(x, y)\n\u001b[0;32m----> <a href='vscode-notebook-cell:/Users/ivan.niekipielov/courses/basic-25102023/l_9_func_part_1.ipynb#X31sZmlsZQ%3D%3D?line=3'>4</a>\u001b[0m mul(x)\n\u001b[1;32m      <a href='vscode-notebook-cell:/Users/ivan.niekipielov/courses/basic-25102023/l_9_func_part_1.ipynb#X31sZmlsZQ%3D%3D?line=4'>5</a>\u001b[0m \u001b[39mprint\u001b[39m(a, b)\n",
      "\u001b[0;31mTypeError\u001b[0m: mul() missing 1 required positional argument: 'b'"
     ]
    }
   ],
   "source": [
    "x = 30\n",
    "y = 40\n",
    "a, b = mul(x, y)\n",
    "print(a, b)"
   ]
  },
  {
   "cell_type": "markdown",
   "metadata": {},
   "source": [
    "Параметры, которые использовались при описании функции, называются **формальными** параметрами.\n",
    "\n",
    "\n",
    "Параметры, которые были использованы при вызове функции, называются **фактическими** параметрами.\n",
    "\n",
    "\n",
    "Переменные, объявленные внутри функции, а также формальные параметры являются **локальными** для этой функции.\n",
    "\n",
    "\n",
    "Это означает, что за пределами функции к этим переменным обратиться нельзя.\n",
    "\n",
    "\n",
    "При вызове функции сначала проверяется соответствие количества фактических и формальных параметров. После этого формальные параметры присваиваются фактическими и управление передается в тело функции. Когда работа функции заканчивается, то управление возвращается в тело вызывающей программы."
   ]
  },
  {
   "cell_type": "code",
   "execution_count": 24,
   "metadata": {},
   "outputs": [
    {
     "ename": "TypeError",
     "evalue": "mul() takes 2 positional arguments but 3 were given",
     "output_type": "error",
     "traceback": [
      "\u001b[0;31m---------------------------------------------------------------------------\u001b[0m",
      "\u001b[0;31mTypeError\u001b[0m                                 Traceback (most recent call last)",
      "\u001b[1;32m/Users/ivan.niekipielov/courses/basic-25102023/l_9_func_part_1.ipynb Cell 25\u001b[0m line \u001b[0;36m1\n\u001b[0;32m----> <a href='vscode-notebook-cell:/Users/ivan.niekipielov/courses/basic-25102023/l_9_func_part_1.ipynb#X33sZmlsZQ%3D%3D?line=0'>1</a>\u001b[0m a, b \u001b[39m=\u001b[39m mul(\u001b[39m1\u001b[39;49m, \u001b[39m5\u001b[39;49m, \u001b[39m8\u001b[39;49m)\n\u001b[1;32m      <a href='vscode-notebook-cell:/Users/ivan.niekipielov/courses/basic-25102023/l_9_func_part_1.ipynb#X33sZmlsZQ%3D%3D?line=1'>2</a>\u001b[0m \u001b[39mprint\u001b[39m(a, b)\n",
      "\u001b[0;31mTypeError\u001b[0m: mul() takes 2 positional arguments but 3 were given"
     ]
    }
   ],
   "source": [
    "a, b = mul(1, 5, 8)\n",
    "print(a, b)"
   ]
  },
  {
   "cell_type": "code",
   "execution_count": 25,
   "metadata": {},
   "outputs": [
    {
     "ename": "TypeError",
     "evalue": "mul() missing 1 required positional argument: 'b'",
     "output_type": "error",
     "traceback": [
      "\u001b[0;31m---------------------------------------------------------------------------\u001b[0m",
      "\u001b[0;31mTypeError\u001b[0m                                 Traceback (most recent call last)",
      "\u001b[1;32m/Users/ivan.niekipielov/courses/basic-25102023/l_9_func_part_1.ipynb Cell 26\u001b[0m line \u001b[0;36m1\n\u001b[0;32m----> <a href='vscode-notebook-cell:/Users/ivan.niekipielov/courses/basic-25102023/l_9_func_part_1.ipynb#X34sZmlsZQ%3D%3D?line=0'>1</a>\u001b[0m a, b \u001b[39m=\u001b[39m mul(\u001b[39m1\u001b[39;49m)\n",
      "\u001b[0;31mTypeError\u001b[0m: mul() missing 1 required positional argument: 'b'"
     ]
    }
   ],
   "source": [
    "a, b = mul(1)"
   ]
  },
  {
   "cell_type": "markdown",
   "metadata": {},
   "source": [
    "1) Старайтесь описывать функции так, чтобы их длина не превышала 30-ти строк. В случае, когда тело функции превышает предел в 30-ть строк, лучшим решением будет разбиение этой функции на две и более функций с меньшей длиной.\n",
    "\n",
    "2) Старайтесь чтобы ваша функция выполняла только одно логически завершенное действие. Не нужно объединять несколько разных завершенных действий. Пусть одна функция считывает данные с клавиатуры, вторая ищет введенные данные в списке и т.д.\n",
    "\n",
    "3) Давайте функциям названия, которые бы максимально точно описывали те действия, которые данная функция совершает. Поскольку большинство фукнций - это некое действие, то неплохо, чтобы функция начаналась с глаголов - set, get, update ...\n"
   ]
  },
  {
   "cell_type": "markdown",
   "metadata": {},
   "source": [
    "### Локальные переменные функции"
   ]
  },
  {
   "cell_type": "code",
   "execution_count": 26,
   "metadata": {
    "scrolled": true
   },
   "outputs": [
    {
     "name": "stdout",
     "output_type": "stream",
     "text": [
      "{'a': 2, 'b': 5, 'summa': 7}\n",
      "7\n",
      "10\n",
      "{'__name__': '__main__', '__doc__': 'Automatically created module for IPython interactive environment', '__package__': None, '__loader__': None, '__spec__': None, '__builtin__': <module 'builtins' (built-in)>, '__builtins__': <module 'builtins' (built-in)>, '_ih': ['', 'def fun():\\n    pass\\n    # ... # Ellipsis\\n\\nprint(id(fun))\\nprint(type(fun))\\nprint(fun) # Адрес функции в шестнадцатиричном формате', 'def fun():\\n    return 1\\n\\nprint(fun()) # Вызов функции на выполенение\\nprint(id(fun)) # Адрес функции в десятичном формате', 'print(fun)', 'print', 'print()', 'res = fun()\\nprint(res)', 'b = fun\\nprint(b())\\nprint(b)', 'a = print\\na(2, 4)', 'def calculate_summa(a, b):\\n    c = b + a\\n    return c\\n\\nd = calculate_summa(10, 20)\\nprint(d)\\nn = calculate_summa(10333, 20)\\nprint(n)', 'def calculate_summa(a, b):\\n    c = b + a\\n    return c\\n\\nprint(calculate_summa(10, 20))\\nn = calculate_summa(10333, 20)\\nprint(n)', 'x = 2\\ny = 7\\nd = calculate_summa(x, y)\\nprint(d)', 'assert calculate_summa(20, 10) == 30, \"Первый тест\"\\nassert calculate_summa(20, 40) == 60, \"Второй тест\"\\nprint(\\'OK\\')', 'assert calculate_summa(20, 10) == 33, \"Второй тест\"', 'd = add(10, 10) # Функцию нельзя использовать до тех пор, пока вы ее не объявите\\nprint(d)\\n\\ndef add(a, b):\\n    c = a + b\\n    return c', 'def add(a, b):\\n    c = a + b\\n    print(c)\\n\\nd = add(10, 10)', 'print(d)', 'print(add(20, 10))', \"# Сколько значений может возвращать функция? Произвольное количество.\\ndef mul(a, b):\\n    a *= 2\\n    b *= 2\\n    return a, b\\n    print('Hi') #  Этот print никогда не выполнится\\n\\n\\na = mul(10, 20)\\nprint(a)\", \"# Сколько значений может возвращать функция? Произвольное количество.\\ndef mul(a, b):\\n    a *= 2\\n    b *= 2\\n    while True:\\n        return a, b\\n    print('Hi') #  Этот print никогда не выполнится\\n\\n\\na = mul(10, 20)\\nprint(a)\", \"# Сколько значений может возвращать функция? Произвольное количество.\\ndef mul(a, b):\\n    a *= 2\\n    b *= 2\\n    return a, b\\n    print('Hi') #  Этот print никогда не выполнится\\n\\n\\na = mul(10, 20)\\nprint(a)\", 'x = 30\\ny = 40\\na, b = mul(x, y)\\nprint(a, b)', 'x = 30\\ny = 40\\na, b = mul(x, y)\\nmul(x,y,x)\\nprint(a, b)', 'x = 30\\ny = 40\\na, b = mul(x, y)\\nmul(x)\\nprint(a, b)', 'a, b = mul(1, 5, 8)\\nprint(a, b)', 'a, b = mul(1)', 'def calculate_summa(a, b):\\n    summa = a + b # calculate_summa.summa\\n    print(locals())\\n    return summa\\n\\nsumma = 10\\n\\nprint(calculate_summa(2, 5))\\nprint(summa)\\nprint(locals())'], '_oh': {4: <built-in function print>}, '_dh': [PosixPath('/Users/ivan.niekipielov/courses/basic-25102023'), PosixPath('/Users/ivan.niekipielov/courses/basic-25102023')], 'In': ['', 'def fun():\\n    pass\\n    # ... # Ellipsis\\n\\nprint(id(fun))\\nprint(type(fun))\\nprint(fun) # Адрес функции в шестнадцатиричном формате', 'def fun():\\n    return 1\\n\\nprint(fun()) # Вызов функции на выполенение\\nprint(id(fun)) # Адрес функции в десятичном формате', 'print(fun)', 'print', 'print()', 'res = fun()\\nprint(res)', 'b = fun\\nprint(b())\\nprint(b)', 'a = print\\na(2, 4)', 'def calculate_summa(a, b):\\n    c = b + a\\n    return c\\n\\nd = calculate_summa(10, 20)\\nprint(d)\\nn = calculate_summa(10333, 20)\\nprint(n)', 'def calculate_summa(a, b):\\n    c = b + a\\n    return c\\n\\nprint(calculate_summa(10, 20))\\nn = calculate_summa(10333, 20)\\nprint(n)', 'x = 2\\ny = 7\\nd = calculate_summa(x, y)\\nprint(d)', 'assert calculate_summa(20, 10) == 30, \"Первый тест\"\\nassert calculate_summa(20, 40) == 60, \"Второй тест\"\\nprint(\\'OK\\')', 'assert calculate_summa(20, 10) == 33, \"Второй тест\"', 'd = add(10, 10) # Функцию нельзя использовать до тех пор, пока вы ее не объявите\\nprint(d)\\n\\ndef add(a, b):\\n    c = a + b\\n    return c', 'def add(a, b):\\n    c = a + b\\n    print(c)\\n\\nd = add(10, 10)', 'print(d)', 'print(add(20, 10))', \"# Сколько значений может возвращать функция? Произвольное количество.\\ndef mul(a, b):\\n    a *= 2\\n    b *= 2\\n    return a, b\\n    print('Hi') #  Этот print никогда не выполнится\\n\\n\\na = mul(10, 20)\\nprint(a)\", \"# Сколько значений может возвращать функция? Произвольное количество.\\ndef mul(a, b):\\n    a *= 2\\n    b *= 2\\n    while True:\\n        return a, b\\n    print('Hi') #  Этот print никогда не выполнится\\n\\n\\na = mul(10, 20)\\nprint(a)\", \"# Сколько значений может возвращать функция? Произвольное количество.\\ndef mul(a, b):\\n    a *= 2\\n    b *= 2\\n    return a, b\\n    print('Hi') #  Этот print никогда не выполнится\\n\\n\\na = mul(10, 20)\\nprint(a)\", 'x = 30\\ny = 40\\na, b = mul(x, y)\\nprint(a, b)', 'x = 30\\ny = 40\\na, b = mul(x, y)\\nmul(x,y,x)\\nprint(a, b)', 'x = 30\\ny = 40\\na, b = mul(x, y)\\nmul(x)\\nprint(a, b)', 'a, b = mul(1, 5, 8)\\nprint(a, b)', 'a, b = mul(1)', 'def calculate_summa(a, b):\\n    summa = a + b # calculate_summa.summa\\n    print(locals())\\n    return summa\\n\\nsumma = 10\\n\\nprint(calculate_summa(2, 5))\\nprint(summa)\\nprint(locals())'], 'Out': {4: <built-in function print>}, 'get_ipython': <bound method InteractiveShell.get_ipython of <ipykernel.zmqshell.ZMQInteractiveShell object at 0x107749130>>, 'exit': <IPython.core.autocall.ZMQExitAutocall object at 0x107749dc0>, 'quit': <IPython.core.autocall.ZMQExitAutocall object at 0x107749dc0>, 'open': <function open at 0x106014b80>, '_': <built-in function print>, '__': '', '___': '', '__vsc_ipynb_file__': '/Users/ivan.niekipielov/courses/basic-25102023/l_9_func_part_1.ipynb', '_i': 'a, b = mul(1)', '_ii': 'a, b = mul(1, 5, 8)\\nprint(a, b)', '_iii': 'x = 30\\ny = 40\\na, b = mul(x, y)\\nmul(x)\\nprint(a, b)', '_i1': 'def fun():\\n    pass\\n    # ... # Ellipsis\\n\\nprint(id(fun))\\nprint(type(fun))\\nprint(fun) # Адрес функции в шестнадцатиричном формате', 'fun': <function fun at 0x10779ec00>, '_i2': 'def fun():\\n    return 1\\n\\nprint(fun()) # Вызов функции на выполенение\\nprint(id(fun)) # Адрес функции в десятичном формате', '_i3': 'print(fun)', '_i4': 'print', '_4': <built-in function print>, '_i5': 'print()', '_i6': 'res = fun()\\nprint(res)', 'res': 1, '_i7': 'b = fun\\nprint(b())\\nprint(b)', 'b': 80, '_i8': 'a = print\\na(2, 4)', 'a': 60, '_i9': 'def calculate_summa(a, b):\\n    c = b + a\\n    return c\\n\\nd = calculate_summa(10, 20)\\nprint(d)\\nn = calculate_summa(10333, 20)\\nprint(n)', 'calculate_summa': <function calculate_summa at 0x107873060>, 'd': None, 'n': 10353, '_i10': 'def calculate_summa(a, b):\\n    c = b + a\\n    return c\\n\\nprint(calculate_summa(10, 20))\\nn = calculate_summa(10333, 20)\\nprint(n)', '_i11': 'x = 2\\ny = 7\\nd = calculate_summa(x, y)\\nprint(d)', 'x': 30, 'y': 40, '_i12': 'assert calculate_summa(20, 10) == 30, \"Первый тест\"\\nassert calculate_summa(20, 40) == 60, \"Второй тест\"\\nprint(\\'OK\\')', '_i13': 'assert calculate_summa(20, 10) == 33, \"Второй тест\"', '_i14': 'd = add(10, 10) # Функцию нельзя использовать до тех пор, пока вы ее не объявите\\nprint(d)\\n\\ndef add(a, b):\\n    c = a + b\\n    return c', '_i15': '\\ndef add(a, b):\\n    c = a + b\\n    print(c)\\n\\nd = add(10, 10)', 'add': <function add at 0x1078728e0>, '_i16': 'print(d)', '_i17': 'print(add(20, 10))', '_i18': \"# Сколько значений может возвращать функция? Произвольное количество.\\ndef mul(a, b):\\n    a *= 2\\n    b *= 2\\n    return a, b\\n    print('Hi') #  Этот print никогда не выполнится\\n\\n\\na = mul(10, 20)\\nprint(a)\", 'mul': <function mul at 0x107871da0>, '_i19': \"# Сколько значений может возвращать функция? Произвольное количество.\\ndef mul(a, b):\\n    a *= 2\\n    b *= 2\\n    while True:\\n        return a, b\\n    print('Hi') #  Этот print никогда не выполнится\\n\\n\\na = mul(10, 20)\\nprint(a)\", '_i20': \"# Сколько значений может возвращать функция? Произвольное количество.\\ndef mul(a, b):\\n    a *= 2\\n    b *= 2\\n    return a, b\\n    print('Hi') #  Этот print никогда не выполнится\\n\\n\\na = mul(10, 20)\\nprint(a)\", '_i21': 'x = 30\\ny = 40\\na, b = mul(x, y)\\nprint(a, b)', '_i22': 'x = 30\\ny = 40\\na, b = mul(x, y)\\nmul(x,y,x)\\nprint(a, b)', '_i23': 'x = 30\\ny = 40\\na, b = mul(x, y)\\nmul(x)\\nprint(a, b)', '_i24': 'a, b = mul(1, 5, 8)\\nprint(a, b)', '_i25': 'a, b = mul(1)', '_i26': 'def calculate_summa(a, b):\\n    summa = a + b # calculate_summa.summa\\n    print(locals())\\n    return summa\\n\\nsumma = 10\\n\\nprint(calculate_summa(2, 5))\\nprint(summa)\\nprint(locals())', 'summa': 10}\n"
     ]
    }
   ],
   "source": [
    "def calculate_summa(a, b):\n",
    "    summa = a + b # calculate_summa.summa\n",
    "    print(locals())\n",
    "    return summa\n",
    "\n",
    "summa = 10\n",
    "\n",
    "print(calculate_summa(2, 5))\n",
    "print(summa)\n",
    "print(locals())"
   ]
  },
  {
   "cell_type": "code",
   "execution_count": 27,
   "metadata": {},
   "outputs": [
    {
     "name": "stdout",
     "output_type": "stream",
     "text": [
      "{'a': 8, 'b': 3, 'summa': 11}\n",
      "11\n",
      "5\n"
     ]
    }
   ],
   "source": [
    "# функция с параметрами неизменяемого типа данных\n",
    "\n",
    "def calculate_summa(a, b):\n",
    "    a = a + 3\n",
    "    summa = a + b\n",
    "    print(locals())\n",
    "    return summa\n",
    "\n",
    "a = 5\n",
    "b = 3\n",
    "\n",
    "print(calculate_summa(a, b))\n",
    "print(a)"
   ]
  },
  {
   "cell_type": "code",
   "execution_count": 31,
   "metadata": {},
   "outputs": [
    {
     "name": "stdout",
     "output_type": "stream",
     "text": [
      "21\n",
      "[6, 5, 10]\n"
     ]
    }
   ],
   "source": [
    "# функция с параметрами изменяемого типа данных\n",
    "\n",
    "def calculate_summa(a):\n",
    "    a[0] = a[0] + 3\n",
    "    summa = 0\n",
    "    for element in a:\n",
    "        summa = summa + element\n",
    "    return summa\n",
    "\n",
    "a = [3, 5, 10]\n",
    "print(calculate_summa(a))\n",
    "print(a)"
   ]
  },
  {
   "cell_type": "code",
   "execution_count": 32,
   "metadata": {},
   "outputs": [
    {
     "name": "stdout",
     "output_type": "stream",
     "text": [
      "21\n",
      "[6, 5, 10]\n"
     ]
    }
   ],
   "source": [
    "# функция с параметрами изменяемого типа данных. Имя переменной не имеет значение\n",
    "\n",
    "def calculate_summa(a):\n",
    "    a[0] = a[0] + 3\n",
    "    summa = 0\n",
    "    for element in a:\n",
    "        summa = summa + element\n",
    "    return summa\n",
    "\n",
    "b = [3, 5, 10]\n",
    "print(calculate_summa(b))\n",
    "print(b)"
   ]
  },
  {
   "cell_type": "code",
   "execution_count": 33,
   "metadata": {},
   "outputs": [
    {
     "name": "stdout",
     "output_type": "stream",
     "text": [
      "21\n",
      "[3, 5, 10]\n"
     ]
    }
   ],
   "source": [
    "import copy\n",
    "\n",
    "def calculate_summa(tmp):\n",
    "    a = copy.deepcopy(tmp)\n",
    "    a[0] = a[0] + 3\n",
    "    summa = 0\n",
    "    for element in a:\n",
    "        summa = summa + element\n",
    "    return summa\n",
    "\n",
    "b = [3, 5, 10]\n",
    "print(calculate_summa(b))\n",
    "print(b)"
   ]
  },
  {
   "cell_type": "code",
   "execution_count": 34,
   "metadata": {},
   "outputs": [
    {
     "name": "stdout",
     "output_type": "stream",
     "text": [
      "36\n",
      "[6, 10, 20]\n"
     ]
    }
   ],
   "source": [
    "a = [3, 5, 10]\n",
    "\n",
    "def mul():\n",
    "    summa = 0\n",
    "    for i in range(len(a)):\n",
    "        a[i] *= b # Доступ к значению переменной вне функции\n",
    "        summa = summa + a[i]\n",
    "    return summa\n",
    "\n",
    "b = 2\n",
    "print(mul())\n",
    "print(a)"
   ]
  },
  {
   "cell_type": "markdown",
   "metadata": {},
   "source": [
    "## Правило доступа к переменным LEGB\n",
    "**L** – Local. Включает в себя имена (идентификатор / переменные), указанные в функции (с использованием def или lambda), а не объявляются с помощью ключевого слова global.\n",
    "\n",
    "**E** – Enclosing. Включает в себя имя из локальной области видимости объемлющих функций  (например, с использованием def или lambda).\n",
    "\n",
    "**G** – Global. Включает в себя имена, работающих на верхнем уровне модуля или определенных с помощью ключевого слова global.\n",
    "\n",
    "**B** – Built-in . Встроенные встроенные функции, такие как print, input, open и т.д\n",
    "\n",
    "Согласно LEGB, для поиска имен в Python определен следующий порядок: **Local -> Enclosing-> Global -> Built-in**"
   ]
  },
  {
   "cell_type": "code",
   "execution_count": 35,
   "metadata": {},
   "outputs": [
    {
     "name": "stdout",
     "output_type": "stream",
     "text": [
      "Local\n",
      "global\n"
     ]
    }
   ],
   "source": [
    "pi = 'global'\n",
    "def inner():\n",
    "    pi = 'Local'\n",
    "    print(pi)\n",
    "\n",
    "inner()\n",
    "print(pi)"
   ]
  },
  {
   "cell_type": "code",
   "execution_count": 39,
   "metadata": {},
   "outputs": [
    {
     "name": "stdout",
     "output_type": "stream",
     "text": [
      "global\n",
      "global\n"
     ]
    }
   ],
   "source": [
    "pi = 'global'\n",
    "\n",
    "def inner():\n",
    "    # pi = 'Local' # Есть нюансы\n",
    "    print(pi)\n",
    "\n",
    "inner()\n",
    "print(pi)"
   ]
  },
  {
   "cell_type": "code",
   "execution_count": 41,
   "metadata": {},
   "outputs": [
    {
     "name": "stdout",
     "output_type": "stream",
     "text": [
      "outer\n",
      "global\n"
     ]
    }
   ],
   "source": [
    "# Enclosing\n",
    "pi = 'global'\n",
    "\n",
    "def outer():\n",
    "    pi = 'outer'\n",
    "    def inner():\n",
    "        # pi = 'Local'\n",
    "        print(pi)\n",
    "    inner()\n",
    "\n",
    "outer()\n",
    "print(pi)"
   ]
  },
  {
   "cell_type": "code",
   "execution_count": 44,
   "metadata": {},
   "outputs": [
    {
     "ename": "UnboundLocalError",
     "evalue": "cannot access local variable 'pi' where it is not associated with a value",
     "output_type": "error",
     "traceback": [
      "\u001b[0;31m---------------------------------------------------------------------------\u001b[0m",
      "\u001b[0;31mUnboundLocalError\u001b[0m                         Traceback (most recent call last)",
      "\u001b[1;32m/Users/ivan.niekipielov/courses/basic-25102023/l_9_func_part_1.ipynb Cell 39\u001b[0m line \u001b[0;36m1\n\u001b[1;32m      <a href='vscode-notebook-cell:/Users/ivan.niekipielov/courses/basic-25102023/l_9_func_part_1.ipynb#X53sZmlsZQ%3D%3D?line=6'>7</a>\u001b[0m         \u001b[39mprint\u001b[39m(pi)\n\u001b[1;32m      <a href='vscode-notebook-cell:/Users/ivan.niekipielov/courses/basic-25102023/l_9_func_part_1.ipynb#X53sZmlsZQ%3D%3D?line=7'>8</a>\u001b[0m     inner()\n\u001b[0;32m---> <a href='vscode-notebook-cell:/Users/ivan.niekipielov/courses/basic-25102023/l_9_func_part_1.ipynb#X53sZmlsZQ%3D%3D?line=9'>10</a>\u001b[0m outer()\n\u001b[1;32m     <a href='vscode-notebook-cell:/Users/ivan.niekipielov/courses/basic-25102023/l_9_func_part_1.ipynb#X53sZmlsZQ%3D%3D?line=10'>11</a>\u001b[0m \u001b[39mprint\u001b[39m(pi)\n",
      "\u001b[1;32m/Users/ivan.niekipielov/courses/basic-25102023/l_9_func_part_1.ipynb Cell 39\u001b[0m line \u001b[0;36m8\n\u001b[1;32m      <a href='vscode-notebook-cell:/Users/ivan.niekipielov/courses/basic-25102023/l_9_func_part_1.ipynb#X53sZmlsZQ%3D%3D?line=5'>6</a>\u001b[0m     pi \u001b[39m=\u001b[39m pi \u001b[39m+\u001b[39m \u001b[39m'\u001b[39m\u001b[39mOUT\u001b[39m\u001b[39m'\u001b[39m \u001b[39m# Менять переменную, которой нет в функции нельзя.\u001b[39;00m\n\u001b[1;32m      <a href='vscode-notebook-cell:/Users/ivan.niekipielov/courses/basic-25102023/l_9_func_part_1.ipynb#X53sZmlsZQ%3D%3D?line=6'>7</a>\u001b[0m     \u001b[39mprint\u001b[39m(pi)\n\u001b[0;32m----> <a href='vscode-notebook-cell:/Users/ivan.niekipielov/courses/basic-25102023/l_9_func_part_1.ipynb#X53sZmlsZQ%3D%3D?line=7'>8</a>\u001b[0m inner()\n",
      "\u001b[1;32m/Users/ivan.niekipielov/courses/basic-25102023/l_9_func_part_1.ipynb Cell 39\u001b[0m line \u001b[0;36m6\n\u001b[1;32m      <a href='vscode-notebook-cell:/Users/ivan.niekipielov/courses/basic-25102023/l_9_func_part_1.ipynb#X53sZmlsZQ%3D%3D?line=2'>3</a>\u001b[0m \u001b[39mdef\u001b[39;00m \u001b[39minner\u001b[39m():\n\u001b[1;32m      <a href='vscode-notebook-cell:/Users/ivan.niekipielov/courses/basic-25102023/l_9_func_part_1.ipynb#X53sZmlsZQ%3D%3D?line=3'>4</a>\u001b[0m     \u001b[39m# pi = 'Local'\u001b[39;00m\n\u001b[1;32m      <a href='vscode-notebook-cell:/Users/ivan.niekipielov/courses/basic-25102023/l_9_func_part_1.ipynb#X53sZmlsZQ%3D%3D?line=4'>5</a>\u001b[0m     \u001b[39m# nonlocal pi\u001b[39;00m\n\u001b[0;32m----> <a href='vscode-notebook-cell:/Users/ivan.niekipielov/courses/basic-25102023/l_9_func_part_1.ipynb#X53sZmlsZQ%3D%3D?line=5'>6</a>\u001b[0m     pi \u001b[39m=\u001b[39m pi \u001b[39m+\u001b[39m \u001b[39m'\u001b[39m\u001b[39mOUT\u001b[39m\u001b[39m'\u001b[39m \u001b[39m# Менять переменную, которой нет в функции нельзя.\u001b[39;00m\n\u001b[1;32m      <a href='vscode-notebook-cell:/Users/ivan.niekipielov/courses/basic-25102023/l_9_func_part_1.ipynb#X53sZmlsZQ%3D%3D?line=6'>7</a>\u001b[0m     \u001b[39mprint\u001b[39m(pi)\n",
      "\u001b[0;31mUnboundLocalError\u001b[0m: cannot access local variable 'pi' where it is not associated with a value"
     ]
    }
   ],
   "source": [
    "def outer():\n",
    "    pi = 'outer'\n",
    "    def inner():\n",
    "        # pi = 'Local'\n",
    "        nonlocal pi\n",
    "        pi = pi + 'OUT' # Менять переменную, которой нет в функции нельзя.\n",
    "        print(pi)\n",
    "    inner()\n",
    "\n",
    "outer()\n",
    "print(pi)"
   ]
  },
  {
   "cell_type": "code",
   "execution_count": 48,
   "metadata": {},
   "outputs": [
    {
     "name": "stdout",
     "output_type": "stream",
     "text": [
      "Local\n"
     ]
    }
   ],
   "source": [
    "# Built-in\n",
    "from math import pi\n",
    "\n",
    "# pi = 'global'\n",
    "\n",
    "def outer():\n",
    "    # pi = 'outer'\n",
    "    def inner():\n",
    "        # pi = 'Local'\n",
    "        print(pi)\n",
    "    inner()\n",
    "\n",
    "outer()"
   ]
  },
  {
   "cell_type": "code",
   "execution_count": null,
   "metadata": {},
   "outputs": [],
   "source": [
    "# Built-in\n",
    "# from math import pi\n",
    "\n",
    "# pi = 'global'\n",
    "\n",
    "def inner():\n",
    "    # pi = 'Local'\n",
    "    print(pi)\n",
    "inner()\n",
    "\n"
   ]
  },
  {
   "cell_type": "code",
   "execution_count": null,
   "metadata": {},
   "outputs": [],
   "source": [
    "# No error\n",
    "\n",
    "pi = 5\n",
    "def inner():\n",
    "    a = 10 + pi\n",
    "    print(a)\n",
    "\n",
    "inner()\n"
   ]
  },
  {
   "cell_type": "code",
   "execution_count": null,
   "metadata": {
    "scrolled": false
   },
   "outputs": [],
   "source": [
    "pi = 5\n",
    "def inner():\n",
    "#     nonlocal pi # SyntaxError:\n",
    "    a = 10 + pi\n",
    "    print(a)\n",
    "    pi = 3 + 10 # error\n",
    "    print(pi)\n",
    "\n",
    "inner()"
   ]
  },
  {
   "cell_type": "code",
   "execution_count": null,
   "metadata": {},
   "outputs": [],
   "source": [
    "x = x + 1\n",
    "x = 10\n"
   ]
  },
  {
   "cell_type": "markdown",
   "metadata": {},
   "source": [
    "### *global*"
   ]
  },
  {
   "cell_type": "code",
   "execution_count": 53,
   "metadata": {},
   "outputs": [
    {
     "name": "stdout",
     "output_type": "stream",
     "text": [
      "15\n",
      "01234567891011121314"
     ]
    }
   ],
   "source": [
    "\n",
    "def inner(pi):\n",
    "    a = 60 + pi\n",
    "    pi += 10 # no error!\n",
    "    return pi\n",
    "#     print(a)\n",
    "#     print(pi)\n",
    "\n",
    "pi = 5\n",
    "pi = inner(pi)\n",
    "print(pi)\n",
    "for i in range(pi):\n",
    "    print(i, end='')"
   ]
  },
  {
   "cell_type": "markdown",
   "metadata": {
    "pycharm": {
     "name": "#%% md\n"
    }
   },
   "source": [
    "### Внимание!! Это хоть и существующая возможность, но применение global при написании функций, считается не самой удачной практикой. Поэтому используйте эту возможность только в случае, когда иных решений нет.\n"
   ]
  },
  {
   "cell_type": "markdown",
   "metadata": {},
   "source": [
    "### Калькулятор на основе словаря\n"
   ]
  },
  {
   "cell_type": "code",
   "execution_count": null,
   "metadata": {},
   "outputs": [],
   "source": [
    "import operator\n",
    "actions = {\n",
    "    \"+\": operator.add,\n",
    "    \"-\": operator.sub,\n",
    "    \"*\": operator.mul,\n",
    "    \"/\": operator.truediv,\n",
    "    \"//\": operator.floordiv,\n",
    "    \"%\": operator.mod,\n",
    "    \"**\": operator.pow,\n",
    "}\n",
    "x = float(input('Type X: '))\n",
    "action = input('Type Action: ')\n",
    "y = float(input('Type Y: '))\n",
    "if y == 0.0 and action in ['/', '//', '%']:\n",
    "    print('Error. Division by zero!')\n",
    "else:\n",
    "    action = actions.get(action)\n",
    "    if not action:\n",
    "        print('Not supported action')\n",
    "    else:\n",
    "        print(action(x, y))\n"
   ]
  }
 ],
 "metadata": {
  "kernelspec": {
   "display_name": "Python 3 (ipykernel)",
   "language": "python",
   "name": "python3"
  },
  "language_info": {
   "codemirror_mode": {
    "name": "ipython",
    "version": 3
   },
   "file_extension": ".py",
   "mimetype": "text/x-python",
   "name": "python",
   "nbconvert_exporter": "python",
   "pygments_lexer": "ipython3",
   "version": "3.12.0"
  }
 },
 "nbformat": 4,
 "nbformat_minor": 2
}
