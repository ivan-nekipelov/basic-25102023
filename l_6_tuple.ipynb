{
 "cells": [
  {
   "cell_type": "markdown",
   "metadata": {},
   "source": [
    "# Кортежи"
   ]
  },
  {
   "cell_type": "markdown",
   "metadata": {
    "pycharm": {
     "name": "#%% raw\n"
    }
   },
   "source": [
    "## Кортежи (tuple)\n",
    "Кортеж (tuple) – это неизменяемая структура данных, которая по своему подобию очень похожа на список. Но в отличии от списка, кортеж намного быстрее и занимает меньше места."
   ]
  },
  {
   "cell_type": "code",
   "execution_count": 5,
   "metadata": {
    "pycharm": {
     "name": "#%%\n"
    }
   },
   "outputs": [
    {
     "name": "stdout",
     "output_type": "stream",
     "text": [
      "<class 'tuple'>\n",
      "<class 'tuple'>\n",
      "<class 'tuple'>\n",
      "(2, 6, 'tr') [2, 6, 'tr']\n"
     ]
    }
   ],
   "source": [
    "a = ()\n",
    "print(type(a))\n",
    "\n",
    "b = tuple()\n",
    "print(type(b))\n",
    "\n",
    "c = (2, 6, 'tr')\n",
    "print(type(c))"
   ]
  },
  {
   "cell_type": "code",
   "execution_count": 7,
   "metadata": {
    "pycharm": {
     "name": "#%%\n"
    }
   },
   "outputs": [
    {
     "name": "stdout",
     "output_type": "stream",
     "text": [
      "<class 'tuple'>\n"
     ]
    }
   ],
   "source": [
    "a = (6)  # not a tuple\n",
    "print(type(a))"
   ]
  },
  {
   "cell_type": "code",
   "execution_count": 8,
   "metadata": {
    "pycharm": {
     "name": "#%%\n"
    }
   },
   "outputs": [
    {
     "name": "stdout",
     "output_type": "stream",
     "text": [
      "<class 'list'>\n"
     ]
    }
   ],
   "source": [
    "b = [6]\n",
    "print(type(b))"
   ]
  },
  {
   "cell_type": "code",
   "execution_count": 9,
   "metadata": {
    "pycharm": {
     "name": "#%%\n"
    }
   },
   "outputs": [
    {
     "name": "stdout",
     "output_type": "stream",
     "text": [
      "<class 'tuple'>\n"
     ]
    }
   ],
   "source": [
    "a = 6,  # tuple\n",
    "print(type(a))"
   ]
  },
  {
   "cell_type": "code",
   "execution_count": 10,
   "metadata": {
    "pycharm": {
     "name": "#%%\n"
    }
   },
   "outputs": [
    {
     "name": "stdout",
     "output_type": "stream",
     "text": [
      "<class 'tuple'>\n"
     ]
    }
   ],
   "source": [
    "a = (6,)\n",
    "print(type(a))"
   ]
  },
  {
   "cell_type": "code",
   "execution_count": 11,
   "metadata": {
    "pycharm": {
     "name": "#%%\n"
    }
   },
   "outputs": [],
   "source": [
    "b, t = 0, 1"
   ]
  },
  {
   "cell_type": "code",
   "execution_count": 12,
   "metadata": {
    "pycharm": {
     "name": "#%%\n"
    }
   },
   "outputs": [
    {
     "data": {
      "text/plain": [
       "1"
      ]
     },
     "execution_count": 12,
     "metadata": {},
     "output_type": "execute_result"
    }
   ],
   "source": [
    "t"
   ]
  },
  {
   "cell_type": "code",
   "execution_count": 18,
   "metadata": {
    "pycharm": {
     "name": "#%%\n"
    }
   },
   "outputs": [
    {
     "name": "stdout",
     "output_type": "stream",
     "text": [
      "<class 'tuple'>\n"
     ]
    }
   ],
   "source": [
    "t = 4,\n",
    "type(t)"
   ]
  },
  {
   "cell_type": "code",
   "execution_count": null,
   "metadata": {
    "pycharm": {
     "name": "#%%\n"
    },
    "scrolled": true
   },
   "outputs": [],
   "source": [
    "a = 6,\n",
    "a += 1  # TypeError"
   ]
  },
  {
   "cell_type": "code",
   "execution_count": 19,
   "metadata": {
    "pycharm": {
     "name": "#%%\n"
    }
   },
   "outputs": [
    {
     "name": "stdout",
     "output_type": "stream",
     "text": [
      "<class 'tuple'>\n"
     ]
    }
   ],
   "source": [
    "b = tuple([7])\n",
    "print(type(b))"
   ]
  },
  {
   "cell_type": "code",
   "execution_count": 20,
   "metadata": {
    "pycharm": {
     "name": "#%%\n"
    }
   },
   "outputs": [
    {
     "ename": "TypeError",
     "evalue": "'int' object is not iterable",
     "output_type": "error",
     "traceback": [
      "\u001b[0;31m---------------------------------------------------------------------------\u001b[0m",
      "\u001b[0;31mTypeError\u001b[0m                                 Traceback (most recent call last)",
      "\u001b[1;32m/Users/ivan.niekipielov/courses/basic-25102023/l_6_tuple.ipynb Cell 13\u001b[0m line \u001b[0;36m1\n\u001b[0;32m----> <a href='vscode-notebook-cell:/Users/ivan.niekipielov/courses/basic-25102023/l_6_tuple.ipynb#X15sZmlsZQ%3D%3D?line=0'>1</a>\u001b[0m b \u001b[39m=\u001b[39m \u001b[39mtuple\u001b[39;49m(\u001b[39m7\u001b[39;49m,)\n\u001b[1;32m      <a href='vscode-notebook-cell:/Users/ivan.niekipielov/courses/basic-25102023/l_6_tuple.ipynb#X15sZmlsZQ%3D%3D?line=1'>2</a>\u001b[0m \u001b[39mprint\u001b[39m(\u001b[39mtype\u001b[39m(b)) \u001b[39m#error\u001b[39;00m\n",
      "\u001b[0;31mTypeError\u001b[0m: 'int' object is not iterable"
     ]
    }
   ],
   "source": [
    "b = tuple(7,)\n",
    "print(type(b)) #error"
   ]
  },
  {
   "cell_type": "code",
   "execution_count": 21,
   "metadata": {
    "pycharm": {
     "name": "#%%\n"
    }
   },
   "outputs": [
    {
     "name": "stdout",
     "output_type": "stream",
     "text": [
      "('h', 'e', 'l', 'l', 'o', ' ', 'w', 'o', 'r', 'l', 'd')\n"
     ]
    }
   ],
   "source": [
    "my_tuple = tuple('hello world')\n",
    "print(my_tuple)\n",
    "\n"
   ]
  },
  {
   "cell_type": "code",
   "execution_count": 27,
   "metadata": {
    "pycharm": {
     "name": "#%%\n"
    }
   },
   "outputs": [
    {
     "name": "stdout",
     "output_type": "stream",
     "text": [
      "88\n",
      "64\n"
     ]
    }
   ],
   "source": [
    "import sys\n",
    "lst = [10, 20, 30]\n",
    "tpl = tuple(lst) # from list to tuple\n",
    "\n",
    "print(sys.getsizeof(lst))\n",
    "print(sys.getsizeof(tpl))"
   ]
  },
  {
   "cell_type": "code",
   "execution_count": 23,
   "metadata": {
    "pycharm": {
     "name": "#%%\n"
    }
   },
   "outputs": [
    {
     "name": "stdout",
     "output_type": "stream",
     "text": [
      "56\n",
      "40\n"
     ]
    }
   ],
   "source": [
    "\n",
    "l = []\n",
    "print(sys.getsizeof(l))\n",
    "t = ()\n",
    "print(sys.getsizeof(t))"
   ]
  },
  {
   "cell_type": "code",
   "execution_count": 32,
   "metadata": {
    "pycharm": {
     "name": "#%%\n"
    }
   },
   "outputs": [
    {
     "name": "stdout",
     "output_type": "stream",
     "text": [
      "<class 'tuple'>\n",
      "<class 'list'>\n",
      "[2, 4, 6, 8, 10]\n"
     ]
    }
   ],
   "source": [
    "a = 8\n",
    "tpl = 2, 4, 6, a, 10\n",
    "print(type(tpl))\n",
    "\n",
    "lst = list(tpl) #from tuple to list\n",
    "print(type(lst))\n",
    "print(lst)"
   ]
  },
  {
   "cell_type": "code",
   "execution_count": null,
   "metadata": {
    "pycharm": {
     "name": "#%%\n"
    }
   },
   "outputs": [],
   "source": [
    "t = , # SyntaxError: invalid syntax\n",
    "print(type(t))"
   ]
  },
  {
   "cell_type": "markdown",
   "metadata": {},
   "source": [
    "### Возможности кортежей\n"
   ]
  },
  {
   "cell_type": "code",
   "execution_count": 33,
   "metadata": {
    "pycharm": {
     "name": "#%%\n"
    }
   },
   "outputs": [
    {
     "name": "stdout",
     "output_type": "stream",
     "text": [
      "('h', 'e', 'l', 'l', 'o', ' ', 'w', 'o', 'r', 'l', 'd', 2, 4, 6, 8, 10)\n",
      "('h', 'e', 'l', 'l', 'o', ' ', 'w', 'o', 'r', 'l', 'd')\n",
      "(2, 4, 6, 8, 10)\n"
     ]
    }
   ],
   "source": [
    "new_tuple = my_tuple + tpl\n",
    "print(new_tuple)\n",
    "print(my_tuple)\n",
    "print(tpl)"
   ]
  },
  {
   "cell_type": "code",
   "execution_count": 34,
   "metadata": {
    "pycharm": {
     "name": "#%%\n"
    }
   },
   "outputs": [
    {
     "name": "stdout",
     "output_type": "stream",
     "text": [
      "(1, 2, ['a', 'b'], 4, 5)\n",
      "('mouse', [8, 4, 6], (1, 2, 3))\n"
     ]
    }
   ],
   "source": [
    "my_tuple = (1, 2, ['a', 'b'], 4, 5) # Есть нюансы, о них позже\n",
    "print(my_tuple)\n",
    "\n",
    "my_tuple = (\"mouse\", [8, 4, 6], (1, 2, 3))\n",
    "print(my_tuple)"
   ]
  },
  {
   "cell_type": "code",
   "execution_count": 36,
   "metadata": {
    "pycharm": {
     "name": "#%%\n"
    }
   },
   "outputs": [
    {
     "name": "stdout",
     "output_type": "stream",
     "text": [
      "1\n",
      "(2, 4)\n",
      "5\n",
      "mouse\n",
      "4\n"
     ]
    }
   ],
   "source": [
    "a = (1, 2, 3, 4, 5)\n",
    "\n",
    "print(a[0])\n",
    "\n",
    "print(a[1:5:2])\n",
    "\n",
    "print(a[-1])\n",
    "\n",
    "print(my_tuple[0])\n",
    "\n",
    "print(my_tuple[1][1])\n"
   ]
  },
  {
   "cell_type": "code",
   "execution_count": 37,
   "metadata": {
    "pycharm": {
     "name": "#%%\n"
    }
   },
   "outputs": [
    {
     "ename": "TypeError",
     "evalue": "'tuple' object does not support item assignment",
     "output_type": "error",
     "traceback": [
      "\u001b[0;31m---------------------------------------------------------------------------\u001b[0m",
      "\u001b[0;31mTypeError\u001b[0m                                 Traceback (most recent call last)",
      "\u001b[1;32m/Users/ivan.niekipielov/courses/basic-25102023/l_6_tuple.ipynb Cell 23\u001b[0m line \u001b[0;36m1\n\u001b[0;32m----> <a href='vscode-notebook-cell:/Users/ivan.niekipielov/courses/basic-25102023/l_6_tuple.ipynb#X31sZmlsZQ%3D%3D?line=0'>1</a>\u001b[0m a[\u001b[39m1\u001b[39;49m] \u001b[39m=\u001b[39m \u001b[39m3\u001b[39m \u001b[39m# error\u001b[39;00m\n",
      "\u001b[0;31mTypeError\u001b[0m: 'tuple' object does not support item assignment"
     ]
    }
   ],
   "source": [
    "a[1] = 3 # error"
   ]
  },
  {
   "cell_type": "code",
   "execution_count": 38,
   "metadata": {
    "pycharm": {
     "name": "#%%\n"
    }
   },
   "outputs": [
    {
     "ename": "TypeError",
     "evalue": "'tuple' object doesn't support item deletion",
     "output_type": "error",
     "traceback": [
      "\u001b[0;31m---------------------------------------------------------------------------\u001b[0m",
      "\u001b[0;31mTypeError\u001b[0m                                 Traceback (most recent call last)",
      "\u001b[1;32m/Users/ivan.niekipielov/courses/basic-25102023/l_6_tuple.ipynb Cell 24\u001b[0m line \u001b[0;36m1\n\u001b[0;32m----> <a href='vscode-notebook-cell:/Users/ivan.niekipielov/courses/basic-25102023/l_6_tuple.ipynb#X32sZmlsZQ%3D%3D?line=0'>1</a>\u001b[0m \u001b[39mdel\u001b[39;00m a[\u001b[39m0\u001b[39;49m] \u001b[39m# error\u001b[39;00m\n",
      "\u001b[0;31mTypeError\u001b[0m: 'tuple' object doesn't support item deletion"
     ]
    }
   ],
   "source": [
    "del a[0] # error"
   ]
  },
  {
   "cell_type": "code",
   "execution_count": 39,
   "metadata": {
    "pycharm": {
     "name": "#%%\n"
    }
   },
   "outputs": [],
   "source": [
    "del a\n"
   ]
  },
  {
   "cell_type": "code",
   "execution_count": 40,
   "metadata": {
    "pycharm": {
     "name": "#%%\n"
    }
   },
   "outputs": [
    {
     "name": "stdout",
     "output_type": "stream",
     "text": [
      "(1, 2, ['a', 'b'], 4, 5)\n",
      "(1, 2, ['a', 999], 4, 5)\n"
     ]
    }
   ],
   "source": [
    "lst = ['a', 'b']\n",
    "my_tuple = (1, 2, lst, 4, 5)\n",
    "print(my_tuple)\n",
    "\n",
    "my_tuple[2][1] = 999 # bug\n",
    "print(my_tuple)"
   ]
  },
  {
   "cell_type": "code",
   "execution_count": 41,
   "metadata": {
    "pycharm": {
     "name": "#%%\n"
    }
   },
   "outputs": [
    {
     "name": "stdout",
     "output_type": "stream",
     "text": [
      "(1, 2, ['a'], 4, 5)\n"
     ]
    }
   ],
   "source": [
    "lst.pop()\n",
    "print(my_tuple)"
   ]
  },
  {
   "cell_type": "code",
   "execution_count": 42,
   "metadata": {},
   "outputs": [],
   "source": [
    "del lst"
   ]
  },
  {
   "cell_type": "code",
   "execution_count": 43,
   "metadata": {},
   "outputs": [
    {
     "name": "stdout",
     "output_type": "stream",
     "text": [
      "(1, 2, ['a'], 4, 5)\n"
     ]
    }
   ],
   "source": [
    "print(my_tuple)"
   ]
  },
  {
   "cell_type": "code",
   "execution_count": 44,
   "metadata": {
    "scrolled": true
   },
   "outputs": [
    {
     "ename": "NameError",
     "evalue": "name 'lst' is not defined",
     "output_type": "error",
     "traceback": [
      "\u001b[0;31m---------------------------------------------------------------------------\u001b[0m",
      "\u001b[0;31mNameError\u001b[0m                                 Traceback (most recent call last)",
      "\u001b[1;32m/Users/ivan.niekipielov/courses/basic-25102023/l_6_tuple.ipynb Cell 30\u001b[0m line \u001b[0;36m1\n\u001b[0;32m----> <a href='vscode-notebook-cell:/Users/ivan.niekipielov/courses/basic-25102023/l_6_tuple.ipynb#X41sZmlsZQ%3D%3D?line=0'>1</a>\u001b[0m lst \u001b[39m# NameError: name 'lst' is not defined\u001b[39;00m\n",
      "\u001b[0;31mNameError\u001b[0m: name 'lst' is not defined"
     ]
    }
   ],
   "source": [
    "lst # NameError: name 'lst' is not defined"
   ]
  },
  {
   "cell_type": "code",
   "execution_count": 45,
   "metadata": {
    "pycharm": {
     "name": "#%%\n"
    }
   },
   "outputs": [
    {
     "name": "stdout",
     "output_type": "stream",
     "text": [
      "('mouse', [8, 4, 6], (1, 2, 3))\n",
      "('mouse', [8, 4, 6], (1, 2, 3))\n"
     ]
    }
   ],
   "source": [
    "a = \"mouse\"\n",
    "my_tuple = (a, [8, 4, 6], (1, 2, 3))\n",
    "print(my_tuple)\n",
    "\n",
    "a = 'cat'\n",
    "print(my_tuple) # not changed"
   ]
  },
  {
   "cell_type": "markdown",
   "metadata": {},
   "source": [
    "### *Доступные методы*"
   ]
  },
  {
   "cell_type": "code",
   "execution_count": 46,
   "metadata": {
    "pycharm": {
     "name": "#%%\n"
    }
   },
   "outputs": [
    {
     "name": "stdout",
     "output_type": "stream",
     "text": [
      "2\n",
      "3\n"
     ]
    }
   ],
   "source": [
    "my_tuple = ('a', 'p', 'p', 'l', 'e',)\n",
    "\n",
    "print(my_tuple.count('p'))\n",
    "print(my_tuple.index('l'))"
   ]
  },
  {
   "cell_type": "code",
   "execution_count": 47,
   "metadata": {
    "pycharm": {
     "name": "#%%\n"
    }
   },
   "outputs": [
    {
     "ename": "ValueError",
     "evalue": "tuple.index(x): x not in tuple",
     "output_type": "error",
     "traceback": [
      "\u001b[0;31m---------------------------------------------------------------------------\u001b[0m",
      "\u001b[0;31mValueError\u001b[0m                                Traceback (most recent call last)",
      "\u001b[1;32m/Users/ivan.niekipielov/courses/basic-25102023/l_6_tuple.ipynb Cell 34\u001b[0m line \u001b[0;36m1\n\u001b[0;32m----> <a href='vscode-notebook-cell:/Users/ivan.niekipielov/courses/basic-25102023/l_6_tuple.ipynb#X45sZmlsZQ%3D%3D?line=0'>1</a>\u001b[0m \u001b[39mprint\u001b[39m(my_tuple\u001b[39m.\u001b[39;49mindex(\u001b[39m'\u001b[39;49m\u001b[39mt\u001b[39;49m\u001b[39m'\u001b[39;49m)) \u001b[39m# error\u001b[39;00m\n",
      "\u001b[0;31mValueError\u001b[0m: tuple.index(x): x not in tuple"
     ]
    }
   ],
   "source": [
    "print(my_tuple.index('t')) # error"
   ]
  },
  {
   "cell_type": "code",
   "execution_count": 48,
   "metadata": {
    "pycharm": {
     "name": "#%%\n"
    }
   },
   "outputs": [
    {
     "name": "stdout",
     "output_type": "stream",
     "text": [
      "True\n",
      "False\n",
      "True\n"
     ]
    }
   ],
   "source": [
    "print('a' in my_tuple)\n",
    "print('b' in my_tuple)\n",
    "\n",
    "\n",
    "print('g' not in my_tuple)"
   ]
  },
  {
   "cell_type": "markdown",
   "metadata": {},
   "source": [
    "### когда уместно использовать кортежи\n",
    "В Python объекты передаются по ссылке. Это значит, что не создается копия объекта, а переменной-параметру присваивается ссылка на уже существующий объект."
   ]
  },
  {
   "cell_type": "code",
   "execution_count": 49,
   "metadata": {
    "pycharm": {
     "name": "#%%\n"
    }
   },
   "outputs": [
    {
     "name": "stdout",
     "output_type": "stream",
     "text": [
      "[7, 10, 6, 10]\n",
      "[7, 10, 6, 10]\n"
     ]
    }
   ],
   "source": [
    "num = 4\n",
    "origin = [3, 6, 2, 6]\n",
    "changed = origin\n",
    "for i in range(len(changed)):\n",
    "    changed[i] += num\n",
    "\n",
    "\n",
    "print(origin)\n",
    "print(changed)"
   ]
  },
  {
   "cell_type": "code",
   "execution_count": 55,
   "metadata": {
    "pycharm": {
     "name": "#%%\n"
    }
   },
   "outputs": [
    {
     "name": "stdout",
     "output_type": "stream",
     "text": [
      "(3, 6, 2, 6)\n",
      "[7, 10, 6, 10]\n",
      "⠅\n"
     ]
    }
   ],
   "source": [
    "origin = tuple([3, 6, 2, 6])\n",
    "changed = list(origin)\n",
    "for i in range(len(changed)):\n",
    "    changed[i] += num\n",
    "print(origin)\n",
    "print(changed)"
   ]
  }
 ],
 "metadata": {
  "kernelspec": {
   "display_name": "Python 3 (ipykernel)",
   "language": "python",
   "name": "python3"
  },
  "language_info": {
   "codemirror_mode": {
    "name": "ipython",
    "version": 3
   },
   "file_extension": ".py",
   "mimetype": "text/x-python",
   "name": "python",
   "nbconvert_exporter": "python",
   "pygments_lexer": "ipython3",
   "version": "3.12.0"
  }
 },
 "nbformat": 4,
 "nbformat_minor": 1
}
