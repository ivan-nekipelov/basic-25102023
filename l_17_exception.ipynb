{
 "cells": [
  {
   "cell_type": "markdown",
   "metadata": {},
   "source": [
    "## Исключения\n",
    "**Исключение** — событие (по сути обычная переменная), которое возбуждается интерпретатором Python, когда выполняется программный код, приводящий к ошибке.\n",
    "Исключения могут возбуждаться и перехватываться самим программным кодом."
   ]
  },
  {
   "cell_type": "code",
   "execution_count": null,
   "metadata": {
    "scrolled": true
   },
   "outputs": [],
   "source": [
    "1 / 0 # ZeroDivisionError"
   ]
  },
  {
   "cell_type": "code",
   "execution_count": null,
   "metadata": {
    "scrolled": true
   },
   "outputs": [],
   "source": [
    "lst = []\n",
    "lst[0] # IndexError"
   ]
  },
  {
   "cell_type": "markdown",
   "metadata": {},
   "source": [
    "### Для чего нужны исключения?\n",
    "*Обработка ошибок*\n",
    "\n",
    "Интерпретатор возбуждает исключение, когда обнаруживает ошибку во время выполнения программы. Программа может перехватывать такие ошибки и обрабатывать их или просто игнорировать. Если ошибка игнорируется, интерпретатор останавливает выполнение программы и выводит сообщение об ошибке. Если не нужно завершать выполнение программы можно\n",
    "добавить инструкцию **try**, которая позволит перехватывать обнаруженные ошибки и продолжить выполнение программы\n",
    "после инструкции **try**."
   ]
  },
  {
   "cell_type": "code",
   "execution_count": null,
   "metadata": {},
   "outputs": [],
   "source": [
    "index = int(input(\"Input index \"))\n",
    "my_list = [0, 3, 9]\n",
    "try:\n",
    "    print(my_list[index])\n",
    "\n",
    "except IndexError:\n",
    "    print(\"You input wrong index\")\n",
    "print('Ok')"
   ]
  },
  {
   "cell_type": "code",
   "execution_count": null,
   "metadata": {},
   "outputs": [],
   "source": [
    "index = int(input(\"Input index \"))\n",
    "my_list = [0, 3, 9]\n",
    "print(my_list[index])"
   ]
  },
  {
   "cell_type": "code",
   "execution_count": null,
   "metadata": {},
   "outputs": [],
   "source": [
    "index = 5\n",
    "try:\n",
    "    print(my_list[index])\n",
    "\n",
    "except Exception: # Тоже работает, но так делать не нужно!!! В крайнем случае с Exception.\n",
    "    print(\"You input wrong index\")"
   ]
  },
  {
   "cell_type": "code",
   "execution_count": null,
   "metadata": {},
   "outputs": [],
   "source": [
    "index = int(input(\"Input index \"))\n",
    "my_list = [0, 3, 9]\n",
    "try:\n",
    "    t = my_list[index]\n",
    "    print(t)\n",
    "    t += 23\n",
    "    print(\"OK\") # if no error!\n",
    "except IndexError:\n",
    "    print(\"You input wrong index\")\n",
    "f = 2 + t\n",
    "print(f)"
   ]
  },
  {
   "cell_type": "code",
   "execution_count": null,
   "metadata": {},
   "outputs": [],
   "source": [
    "index = int(input(\"Input index \"))\n",
    "my_list = [0, 3, 9]\n",
    "t = 0\n",
    "try:\n",
    "    t = my_list[index]\n",
    "except IndexError:\n",
    "    print(\"You input wrong index\")\n",
    "\n",
    "print(t)\n",
    "t += 23\n",
    "print(\"OK\") # if no error!\n",
    "f = 2 + t\n",
    "print(f)"
   ]
  },
  {
   "cell_type": "code",
   "execution_count": null,
   "metadata": {},
   "outputs": [],
   "source": []
  },
  {
   "cell_type": "markdown",
   "metadata": {},
   "source": [
    "### Перехват нескольких исключений"
   ]
  },
  {
   "cell_type": "code",
   "execution_count": null,
   "metadata": {},
   "outputs": [],
   "source": [
    "\n",
    "def sub100(index):\n",
    "    my_list = [0, 3, 9]\n",
    "    return 100 / my_list[index]\n"
   ]
  },
  {
   "cell_type": "code",
   "execution_count": null,
   "metadata": {},
   "outputs": [],
   "source": [
    "index = int(input(\"Input index \"))\n",
    "try:\n",
    "    print(sub100(index))\n",
    "\n",
    "except IndexError:\n",
    "    print(\"You input wrong index\")\n"
   ]
  },
  {
   "cell_type": "code",
   "execution_count": null,
   "metadata": {},
   "outputs": [],
   "source": [
    "index = int(input(\"Input index \"))\n",
    "try:\n",
    "    print(sub100(index))\n",
    "\n",
    "except (IndexError, ZeroDivisionError):\n",
    "    print(\"Что-то пошло не так :( \")"
   ]
  },
  {
   "cell_type": "code",
   "execution_count": null,
   "metadata": {},
   "outputs": [],
   "source": [
    "index = int(input(\"Input index \"))\n",
    "try:\n",
    "    print(sub100(index))\n",
    "\n",
    "except IndexError:\n",
    "    print(\"Вы не угадали :Р\")\n",
    "except ZeroDivisionError: # ArithmeticError\n",
    "    print(\"На ноль делить нельзя!\")"
   ]
  },
  {
   "cell_type": "markdown",
   "metadata": {},
   "source": [
    "### Получение доступа к перехваченному исключению"
   ]
  },
  {
   "cell_type": "code",
   "execution_count": null,
   "metadata": {},
   "outputs": [],
   "source": [
    "index = 5\n",
    "try:\n",
    "    print(sub100(index))\n",
    "except IndexError as err: # Часто используется с пользовательскими исключениями\n",
    "    print(type(err))\n",
    "    print(err)"
   ]
  },
  {
   "cell_type": "markdown",
   "metadata": {},
   "source": [
    "#### Важно! Переменная err живет только внутри блока except!"
   ]
  },
  {
   "cell_type": "code",
   "execution_count": null,
   "metadata": {},
   "outputs": [],
   "source": [
    "index = 5\n",
    "try:\n",
    "    print(sub100(index))\n",
    "except IndexError as err:\n",
    "    print(type(err))\n",
    "    print(err)\n",
    "print(err) # name 'err' is not defined"
   ]
  },
  {
   "cell_type": "markdown",
   "metadata": {},
   "source": [
    "### Блок else"
   ]
  },
  {
   "cell_type": "code",
   "execution_count": null,
   "metadata": {
    "pycharm": {
     "name": "#%%\n"
    }
   },
   "outputs": [],
   "source": [
    "index = int(input(\"Input index \"))\n",
    "\n",
    "try:\n",
    "    res = sub100(index)\n",
    "except IndexError:\n",
    "    print(\"Вы не угадали :Р\")\n",
    "except ZeroDivisionError: # ArithmeticError\n",
    "    print(\"На ноль делить нельзя!\")\n",
    "else:\n",
    "    print(res)\n"
   ]
  },
  {
   "cell_type": "code",
   "execution_count": null,
   "metadata": {},
   "outputs": [],
   "source": [
    "# Без блока else, потенциально можно получить ошибку!\n",
    "index = 4\n",
    "\n",
    "try:\n",
    "    rez = sub100(index)\n",
    "except (IndexError, ZeroDivisionError):\n",
    "    print(\"Что-то пошло не так :( \")\n",
    "print(rez) # NameError: name 'rez' is not defined"
   ]
  },
  {
   "cell_type": "code",
   "execution_count": null,
   "metadata": {},
   "outputs": [],
   "source": [
    "index = 4\n",
    "\n",
    "try:\n",
    "    rez = sub100(index)\n",
    "except (IndexError, ZeroDivisionError):\n",
    "    print(\"Что-то пошло не так :( \")\n",
    "else:\n",
    "    print(rez)"
   ]
  },
  {
   "cell_type": "markdown",
   "metadata": {},
   "source": [
    "### Блок try/finally\n",
    "Блок **try** может быть также дополнен блоком **finally**. Можно использовать как вместо блока **except**, так и в дополнение к нему. Блок **finally** служит для описания кода, который должен быть выполнен в любом случае, в независимости от того, произошло исключение в блоке **try** или нет."
   ]
  },
  {
   "cell_type": "code",
   "execution_count": null,
   "metadata": {
    "scrolled": true
   },
   "outputs": [],
   "source": [
    "index = int(input(\"Input index \"))\n",
    "res = None\n",
    "try:\n",
    "    res = sub100(index)\n",
    "finally:\n",
    "    print('-' * 10, res)"
   ]
  },
  {
   "cell_type": "markdown",
   "metadata": {},
   "source": [
    "### Блок try/except/finally"
   ]
  },
  {
   "cell_type": "code",
   "execution_count": 1,
   "metadata": {
    "scrolled": true
   },
   "outputs": [
    {
     "ename": "NameError",
     "evalue": "name 'res' is not defined",
     "output_type": "error",
     "traceback": [
      "\u001b[0;31m---------------------------------------------------------------------------\u001b[0m",
      "\u001b[0;31mNameError\u001b[0m                                 Traceback (most recent call last)",
      "\u001b[1;32m/Users/ivan.niekipielov/courses/basic-25102023/l_17_exception.ipynb Cell 27\u001b[0m line \u001b[0;36m3\n\u001b[1;32m      <a href='vscode-notebook-cell:/Users/ivan.niekipielov/courses/basic-25102023/l_17_exception.ipynb#X35sZmlsZQ%3D%3D?line=1'>2</a>\u001b[0m \u001b[39mtry\u001b[39;00m:\n\u001b[0;32m----> <a href='vscode-notebook-cell:/Users/ivan.niekipielov/courses/basic-25102023/l_17_exception.ipynb#X35sZmlsZQ%3D%3D?line=2'>3</a>\u001b[0m     res \u001b[39m=\u001b[39m sub100(index)\n\u001b[1;32m      <a href='vscode-notebook-cell:/Users/ivan.niekipielov/courses/basic-25102023/l_17_exception.ipynb#X35sZmlsZQ%3D%3D?line=3'>4</a>\u001b[0m \u001b[39mexcept\u001b[39;00m (\u001b[39mIndexError\u001b[39;00m, \u001b[39mZeroDivisionError\u001b[39;00m):\n",
      "\u001b[0;31mNameError\u001b[0m: name 'sub100' is not defined",
      "\nDuring handling of the above exception, another exception occurred:\n",
      "\u001b[0;31mNameError\u001b[0m                                 Traceback (most recent call last)",
      "\u001b[1;32m/Users/ivan.niekipielov/courses/basic-25102023/l_17_exception.ipynb Cell 27\u001b[0m line \u001b[0;36m9\n\u001b[1;32m      <a href='vscode-notebook-cell:/Users/ivan.niekipielov/courses/basic-25102023/l_17_exception.ipynb#X35sZmlsZQ%3D%3D?line=6'>7</a>\u001b[0m     \u001b[39mprint\u001b[39m(res)\n\u001b[1;32m      <a href='vscode-notebook-cell:/Users/ivan.niekipielov/courses/basic-25102023/l_17_exception.ipynb#X35sZmlsZQ%3D%3D?line=7'>8</a>\u001b[0m \u001b[39mfinally\u001b[39;00m:\n\u001b[0;32m----> <a href='vscode-notebook-cell:/Users/ivan.niekipielov/courses/basic-25102023/l_17_exception.ipynb#X35sZmlsZQ%3D%3D?line=8'>9</a>\u001b[0m     \u001b[39mprint\u001b[39m(\u001b[39m'\u001b[39m\u001b[39m-\u001b[39m\u001b[39m'\u001b[39m \u001b[39m*\u001b[39m \u001b[39m10\u001b[39m, res)\n",
      "\u001b[0;31mNameError\u001b[0m: name 'res' is not defined"
     ]
    }
   ],
   "source": [
    "index = int(input(\"Input index \"))\n",
    "res = None\n",
    "try:\n",
    "    res = sub100(index)\n",
    "except (IndexError, ZeroDivisionError):\n",
    "    print(\"Что-то пошло не так :( \")\n",
    "else:\n",
    "    print(res)\n",
    "finally:\n",
    "    print('-' * 10, res)"
   ]
  },
  {
   "cell_type": "code",
   "execution_count": null,
   "metadata": {},
   "outputs": [],
   "source": [
    "text = \"\"\"Beautiful is better than ugly.\n",
    "Explicit is better than implicit.\n",
    "Simple is better than complex.\n",
    "Complex is better than complicated.\n",
    "Flat is better than nested.\n",
    "Sparse is better than dense.\n",
    "Readability counts.\n",
    "Special cases aren't special enough to break the rules.\n",
    "Although practicality beats purity.\n",
    "Errors should never pass silently.\n",
    "Unless explicitly silenced.\n",
    "In the face of ambiguity, refuse the temptation to guess.\n",
    "There should be one-- and preferably only one --obvious way to do it.\n",
    "Although that way may not be obvious at first unless you're Dutch.\n",
    "Now is better than never.\n",
    "Although never is often better than *right* now.\n",
    "If the implementation is hard to explain, it's a bad idea.\n",
    "If the implementation is easy to explain, it may be a good idea.\n",
    "Namespaces are one honking great idea -- let's do more of those!\n",
    "\"\"\"\n",
    "with open('zen.txt', 'w+') as f:\n",
    "    f.write(text)"
   ]
  },
  {
   "cell_type": "code",
   "execution_count": null,
   "metadata": {},
   "outputs": [],
   "source": [
    "import time\n",
    "\n",
    "try:\n",
    "    f = open('zen.txt')\n",
    "    while True: # наш обычный способ читать файлы\n",
    "        line = f.readline()\n",
    "        if len(line) == 0:\n",
    "            break\n",
    "        print(line, end='')\n",
    "        time.sleep(2) # Пусть подождёт некоторое время\n",
    "except KeyboardInterrupt: # Здесь не работает. Запустить в PyCharm\n",
    "    print('!! Вы отменили чтение файла.')\n",
    "finally:\n",
    "    f.close()\n",
    "    print('(Очистка: Закрытие файла)')"
   ]
  },
  {
   "cell_type": "code",
   "execution_count": null,
   "metadata": {},
   "outputs": [],
   "source": []
  },
  {
   "cell_type": "markdown",
   "metadata": {},
   "source": [
    "## Иерархия исключений"
   ]
  },
  {
   "cell_type": "markdown",
   "metadata": {},
   "source": [
    "На самом деле исключения являются экземплярами самых обычных классов. Т.е. существует ряд классов созданных\n",
    "специально для описания типа аварийной ситуации. И когда заданная аварийная ситуация возникает, то интерпретатор\n",
    "Python просто создает экземпляр одного из этих классов. Это дает некоторые преимущества:\n",
    "\n",
    "* Возможность создавать иерархии исключений.\n",
    "* Возможность хранить информацию в исключении. Это просто одно из свойств класса.\n",
    "* Возможность создания собственных исключений, используя для этого механизм наследования.\n",
    "\n",
    "*Рис. https://i.imgur.com/2755APp.png*"
   ]
  },
  {
   "cell_type": "code",
   "execution_count": null,
   "metadata": {
    "pycharm": {
     "name": "#%%\n"
    }
   },
   "outputs": [],
   "source": [
    "issubclass(ArithmeticError, Exception)"
   ]
  },
  {
   "cell_type": "code",
   "execution_count": null,
   "metadata": {
    "pycharm": {
     "name": "#%%\n"
    }
   },
   "outputs": [],
   "source": [
    "issubclass(ZeroDivisionError, BaseException)"
   ]
  },
  {
   "cell_type": "code",
   "execution_count": null,
   "metadata": {
    "pycharm": {
     "name": "#%%\n"
    }
   },
   "outputs": [],
   "source": [
    "IndexError.mro()"
   ]
  },
  {
   "cell_type": "code",
   "execution_count": null,
   "metadata": {
    "pycharm": {
     "name": "#%%\n"
    }
   },
   "outputs": [],
   "source": [
    "ZeroDivisionError.mro()"
   ]
  },
  {
   "cell_type": "markdown",
   "metadata": {},
   "source": [
    "### Использование оператора raise\n",
    "Для явного возбуждения исключения оператор **raise**. Его синтаксис таков:\n",
    "\n",
    "используется **raise Класс_исключения** - в таком случае экземпляр класса исключения создается неявно.\n",
    "\n",
    "**raise Класс_исключения()** - в таком случае экземпляр класса исключения создается явно"
   ]
  },
  {
   "cell_type": "code",
   "execution_count": null,
   "metadata": {},
   "outputs": [],
   "source": [
    "def magic_func(x):\n",
    "    if x == 1:\n",
    "        raise ValueError('This is trouble! x = 1!!!')\n",
    "    else:\n",
    "        return [x]\n",
    "\n",
    "\n",
    "y = int(input('Type some integer: '))\n",
    "\n",
    "try:\n",
    "    lst = magic_func(y)\n",
    "except ValueError as e:\n",
    "    print(str(e))\n",
    "except Exception as e:\n",
    "    print(str(e))\n",
    "else:\n",
    "    print(lst)"
   ]
  },
  {
   "cell_type": "code",
   "execution_count": null,
   "metadata": {},
   "outputs": [],
   "source": []
  },
  {
   "cell_type": "markdown",
   "metadata": {},
   "source": [
    "*Применяется для возбуждения пользовательских исключений. Т.е. это уже не реакция на аварийную ситуацию, а создание логики реакций на действия вашей программы.*"
   ]
  },
  {
   "cell_type": "markdown",
   "metadata": {},
   "source": [
    "## Пользовательское исключение\n",
    "Пользовательское исключение - это класс наследник от базового класса Exception."
   ]
  },
  {
   "cell_type": "code",
   "execution_count": null,
   "metadata": {},
   "outputs": [],
   "source": [
    "class UserException(Exception):\n",
    "    \n",
    "    def __init__(self, message, x):\n",
    "        super().__init__()\n",
    "        self.message = message\n",
    "        self.x = x\n",
    "\n",
    "    def get_exception_message(self):\n",
    "        return self.message"
   ]
  },
  {
   "cell_type": "code",
   "execution_count": null,
   "metadata": {},
   "outputs": [],
   "source": [
    "number = int(input(\"Input positive number: \"))\n",
    "\n",
    "def positiv(num):\n",
    "    if num < 0:\n",
    "        raise UserException(\"Negative number value\", num)\n",
    "    return num\n",
    "\n",
    "try:\n",
    "    a = positiv(number)\n",
    "except UserException as err:\n",
    "#     print(err.get_exception_message())\n",
    "    print(err.x)\n",
    "    print(err.message)\n",
    "\n",
    "# print(number)"
   ]
  },
  {
   "cell_type": "markdown",
   "metadata": {},
   "source": [
    "## Оператор assert\n",
    "часто используют при отладке программы или при написании тестов для приложения."
   ]
  },
  {
   "cell_type": "code",
   "execution_count": null,
   "metadata": {
    "scrolled": true
   },
   "outputs": [],
   "source": [
    "# assert False, \"Some error\" # Реагирует на невыполнение условия!\n",
    "assert 2 == 3, \"Some error\""
   ]
  },
  {
   "cell_type": "code",
   "execution_count": null,
   "metadata": {
    "scrolled": false
   },
   "outputs": [],
   "source": [
    "# Почти аналог assert\n",
    "if not 2 == 3:\n",
    "    raise AssertionError('Some error')"
   ]
  },
  {
   "cell_type": "code",
   "execution_count": null,
   "metadata": {},
   "outputs": [],
   "source": [
    "assert 3 == 3, \"Some error\""
   ]
  },
  {
   "cell_type": "markdown",
   "metadata": {},
   "source": [
    "Создать функцию, которая принимает на вход кортеж и возвращает кортеж из 3 элементов: первого, третьего и второго с конца элементов заданного массива."
   ]
  },
  {
   "cell_type": "code",
   "execution_count": null,
   "metadata": {},
   "outputs": [],
   "source": [
    "def easy_unpack(elements: tuple) -> tuple:\n",
    "    \"\"\"\n",
    "        returns a tuple with 3 elements - first, third and second to the last\n",
    "    \"\"\"\n",
    "    return elements[0], elements[2], elements[-2]\n"
   ]
  },
  {
   "cell_type": "code",
   "execution_count": null,
   "metadata": {
    "scrolled": true
   },
   "outputs": [],
   "source": [
    "assert easy_unpack((1, 2, 3, 4, 5, 6, 7, 9)) == (1, 3, 7)\n",
    "assert easy_unpack((1, 1, 1, 1)) == (1, 1, 1)\n",
    "assert easy_unpack((6, 3, 7)) == (6, 7, 3)\n",
    "print('Ok')"
   ]
  },
  {
   "cell_type": "code",
   "execution_count": null,
   "metadata": {
    "scrolled": true
   },
   "outputs": [],
   "source": [
    "assert easy_unpack((1, 2, 3, 4, 5, 6, 7, 9)) == (1, 3, 7)\n",
    "assert easy_unpack((1, 1, 1, 1)) == (1, 1, 5)\n",
    "assert easy_unpack((6, 3, 7)) == (6, 7, 3)"
   ]
  },
  {
   "cell_type": "code",
   "execution_count": null,
   "metadata": {
    "pycharm": {
     "name": "#%%\n"
    }
   },
   "outputs": [],
   "source": [
    "assert easy_unpack((1, 2, 3, 4, 5, 6, 7, 9)) == (1, 3, 7), 'First test'\n",
    "assert easy_unpack((1, 1, 1, 1)) == (1, 1, 1), 'Second test'\n",
    "assert easy_unpack((6, 3, 7)) == (6, 7, 7), 'Third test'\n"
   ]
  }
 ],
 "metadata": {
  "kernelspec": {
   "display_name": "Python 3 (ipykernel)",
   "language": "python",
   "name": "python3"
  },
  "language_info": {
   "codemirror_mode": {
    "name": "ipython",
    "version": 3
   },
   "file_extension": ".py",
   "mimetype": "text/x-python",
   "name": "python",
   "nbconvert_exporter": "python",
   "pygments_lexer": "ipython3",
   "version": "3.12.1"
  }
 },
 "nbformat": 4,
 "nbformat_minor": 2
}
