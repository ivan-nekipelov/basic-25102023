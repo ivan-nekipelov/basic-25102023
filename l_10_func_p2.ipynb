{
 "cells": [
  {
   "cell_type": "markdown",
   "metadata": {},
   "source": [
    "## Использование именованных параметров"
   ]
  },
  {
   "cell_type": "markdown",
   "metadata": {},
   "source": [
    "### Обычный вызов. Присвоение позиционное."
   ]
  },
  {
   "cell_type": "code",
   "execution_count": null,
   "metadata": {},
   "outputs": [],
   "source": [
    "def print_line(w, fill):\n",
    "    for i in range(w):\n",
    "        print(fill, end = \"\")\n",
    "    return\n",
    "\n",
    "print_line(6, \"*\")"
   ]
  },
  {
   "cell_type": "code",
   "execution_count": null,
   "metadata": {},
   "outputs": [],
   "source": [
    "print_line(\"*\", 6)"
   ]
  },
  {
   "cell_type": "markdown",
   "metadata": {},
   "source": [
    "### Именованный вызов. Присвоение по именам."
   ]
  },
  {
   "cell_type": "code",
   "execution_count": null,
   "metadata": {},
   "outputs": [],
   "source": [
    "print_line(fill=\"+\", w=10)"
   ]
  },
  {
   "cell_type": "markdown",
   "metadata": {},
   "source": [
    "## Функции c параметрами по умолчанию\n",
    "Иногда возникает необходимость в использовании параметра по умолчанию. Т.е. если при вызове такой параметр не указывается, то берется значение по умолчанию. Однако если при вызове его значение указывается, то будет использовано значение, указанное в качестве параметра."
   ]
  },
  {
   "cell_type": "code",
   "execution_count": null,
   "metadata": {},
   "outputs": [],
   "source": [
    "def draw_rectangle(w, h, fill=\"*\"):\n",
    "    for i in range(w):\n",
    "        for j in range(h):\n",
    "            print(fill, end=\"\")\n",
    "        print()\n",
    "    return\n",
    "\n",
    "draw_rectangle(7, 5)"
   ]
  },
  {
   "cell_type": "code",
   "execution_count": null,
   "metadata": {},
   "outputs": [],
   "source": [
    "draw_rectangle(7, 5, \"@\")"
   ]
  },
  {
   "cell_type": "code",
   "execution_count": null,
   "metadata": {
    "scrolled": true
   },
   "outputs": [],
   "source": [
    "draw_rectangle(7, 5, fill=\"+\")"
   ]
  },
  {
   "cell_type": "code",
   "execution_count": null,
   "metadata": {},
   "outputs": [],
   "source": [
    "def some(a, b=[]):\n",
    "    b.append(a)\n",
    "    return b\n",
    "\n",
    "print(some(1))"
   ]
  },
  {
   "cell_type": "code",
   "execution_count": null,
   "metadata": {},
   "outputs": [],
   "source": [
    "print(some(2))"
   ]
  },
  {
   "cell_type": "code",
   "execution_count": null,
   "metadata": {},
   "outputs": [],
   "source": [
    "print(some(3))"
   ]
  },
  {
   "cell_type": "code",
   "execution_count": null,
   "metadata": {},
   "outputs": [],
   "source": [
    "print(some(2, []))"
   ]
  },
  {
   "cell_type": "code",
   "execution_count": null,
   "metadata": {},
   "outputs": [],
   "source": [
    "print(some(4))\n"
   ]
  },
  {
   "cell_type": "code",
   "execution_count": null,
   "metadata": {},
   "outputs": [],
   "source": [
    "def some(a, b=None):\n",
    "    if b is None:\n",
    "        b = []\n",
    "    b.append(a)\n",
    "    return b"
   ]
  },
  {
   "cell_type": "code",
   "execution_count": null,
   "metadata": {},
   "outputs": [],
   "source": [
    "print(some(1))"
   ]
  },
  {
   "cell_type": "code",
   "execution_count": null,
   "metadata": {},
   "outputs": [],
   "source": [
    "print(some(2))\n"
   ]
  },
  {
   "cell_type": "code",
   "execution_count": null,
   "metadata": {},
   "outputs": [],
   "source": [
    "print(some(2, [4, 6]))"
   ]
  },
  {
   "cell_type": "code",
   "execution_count": null,
   "metadata": {},
   "outputs": [],
   "source": [
    "print(1, 2, 3, 4, 5, 6)\n"
   ]
  },
  {
   "cell_type": "markdown",
   "metadata": {},
   "source": [
    "## Использование переменного числа аргументов\n",
    "В случае, когда нужно написать функцию, которая может принимать заранее неизвестное количество аргументов, можно\n",
    "использовать следующую возможность языка Python - если при объявлении функции в качестве одного из аргументов указать параметр вида **\\*args** ,то все параметры, которые не попадают в именованные или позиционные, будут упакованы в кортеж с именем **args**."
   ]
  },
  {
   "cell_type": "code",
   "execution_count": null,
   "metadata": {},
   "outputs": [],
   "source": [
    "def get_class_list(teacher, *args):\n",
    "    result = {\"teacher\": teacher, \"student_list\":[]}\n",
    "    for student in args:\n",
    "        result.get(\"student_list\").append(student)\n",
    "    return result\n",
    "\n",
    "class_list_1 = get_class_list(\"Petr Ivanovich\", \"Nikolay\", \"Olga\", \"Bogdan\", \"Dmytro\")\n",
    "print(class_list_1)"
   ]
  },
  {
   "cell_type": "code",
   "execution_count": null,
   "metadata": {},
   "outputs": [],
   "source": [
    "def get_class_list(teacher, *args):\n",
    "    print(args)\n",
    "    result = {\"teacher\":teacher,\"student_list\":[]}\n",
    "    for student in args:\n",
    "        result.get(\"student_list\").append(student)\n",
    "    return result\n",
    "\n",
    "class_list_1 = get_class_list(\"Petr Ivanovich\", \"Nikolay\", \"Olga\", \"Bogdan\", 'Vova')"
   ]
  },
  {
   "cell_type": "code",
   "execution_count": null,
   "metadata": {},
   "outputs": [],
   "source": [
    "def get_class_list(teacher, *args):\n",
    "    print(args)\n",
    "    result = {\"teacher\":teacher,\"student_list\":[]}\n",
    "    for student in args:\n",
    "        result.get(\"student_list\").append(student)\n",
    "    return result\n",
    "\n",
    "class_list_1 = get_class_list( \"Petr Ivanovich\" )\n",
    "print(class_list_1)"
   ]
  },
  {
   "cell_type": "code",
   "execution_count": null,
   "metadata": {},
   "outputs": [],
   "source": [
    "class_list_1 = get_class_list() # error\n",
    "print(class_list_1)"
   ]
  },
  {
   "cell_type": "code",
   "execution_count": null,
   "metadata": {},
   "outputs": [],
   "source": [
    "def get_class_list(*args):\n",
    "    print(args)\n",
    "    result = {\"teacher\": 'Teacher', \"student_list\": []}\n",
    "    for student in args:\n",
    "        result.get(\"student_list\").append(student)\n",
    "    return result\n",
    "\n",
    "class_list_1 = get_class_list(\"Nikolay\", \"Olga\", \"Bogdan\", 'Vova' )\n",
    "print(class_list_1)"
   ]
  },
  {
   "cell_type": "code",
   "execution_count": null,
   "metadata": {},
   "outputs": [],
   "source": [
    "class_list_1 = get_class_list()\n",
    "print(class_list_1)"
   ]
  },
  {
   "cell_type": "code",
   "execution_count": null,
   "metadata": {},
   "outputs": [],
   "source": [
    "# Более простой вариант функции\n",
    "def get_class_list(teacher, *args):\n",
    "    result = {\"teacher\": teacher, \"student_list\": list(args)}\n",
    "    # for student in args:\n",
    "    #     result.get(\"student_list\").append(student)\n",
    "    return result"
   ]
  },
  {
   "cell_type": "code",
   "execution_count": null,
   "metadata": {},
   "outputs": [],
   "source": [
    "class_list_1 = get_class_list( \"Petr Ivanovich\", \"Nikolay\", \"Olga\", \"Bogdan\", 'Vova')\n",
    "print(class_list_1)"
   ]
  },
  {
   "cell_type": "code",
   "execution_count": null,
   "metadata": {},
   "outputs": [],
   "source": [
    "# использования переменного числа аргументов\n",
    "def get_min(*args): # упаковка аргументов в кортеж\n",
    "    min_element = args[0] # Ошибка, если элементов не будет\n",
    "    for element in args:\n",
    "        if element < min_element:\n",
    "            min_element = element\n",
    "    return min_element\n",
    "\n",
    "a = get_min(0, 6, 2, -5)\n",
    "print(a)"
   ]
  },
  {
   "cell_type": "code",
   "execution_count": null,
   "metadata": {
    "scrolled": true
   },
   "outputs": [],
   "source": [
    "a = get_min()"
   ]
  },
  {
   "cell_type": "code",
   "execution_count": null,
   "metadata": {},
   "outputs": [],
   "source": [
    "def get_min(*args): # упаковка аргументов в кортеж\n",
    "    min_element = None\n",
    "    if args:\n",
    "        min_element = args[0]\n",
    "    for element in args:\n",
    "        if element < min_element:\n",
    "            min_element = element\n",
    "    return min_element\n",
    "\n",
    "a = get_min()\n",
    "print(a)"
   ]
  },
  {
   "cell_type": "code",
   "execution_count": null,
   "metadata": {},
   "outputs": [],
   "source": [
    "a = get_min(1)\n",
    "print(a)"
   ]
  },
  {
   "cell_type": "code",
   "execution_count": null,
   "metadata": {},
   "outputs": [],
   "source": [
    "x = 4\n",
    "y = 5\n",
    "x, y = y, x\n",
    "print(x, y)"
   ]
  },
  {
   "cell_type": "code",
   "execution_count": null,
   "metadata": {},
   "outputs": [],
   "source": [
    "x, y, z = [1, 3, 3.36]\n",
    "print(x, y, z)"
   ]
  },
  {
   "cell_type": "code",
   "execution_count": null,
   "metadata": {},
   "outputs": [],
   "source": [
    "x, y, z = [1, 3, 3.36, 4] # error\n",
    "print(x, y, z)"
   ]
  },
  {
   "cell_type": "code",
   "execution_count": null,
   "metadata": {},
   "outputs": [],
   "source": [
    "lst = (0, 6, 2, -5, 0, 56)\n",
    "x, y, *_ = lst\n",
    "print(x, y, _)"
   ]
  },
  {
   "cell_type": "code",
   "execution_count": null,
   "metadata": {},
   "outputs": [],
   "source": [
    "lst = (0, 6, 2, -5)\n",
    "x, *_, y = lst\n",
    "print(x, y, _)"
   ]
  },
  {
   "cell_type": "code",
   "execution_count": null,
   "metadata": {},
   "outputs": [],
   "source": [
    "lst = (0, 6, 2, -5)\n",
    "*_, y = lst\n",
    "print( y, _)"
   ]
  },
  {
   "cell_type": "code",
   "execution_count": null,
   "metadata": {},
   "outputs": [],
   "source": [
    "lst = (0, 6)\n",
    "x, y, *_ = lst\n",
    "print(x, y, _)"
   ]
  },
  {
   "cell_type": "code",
   "execution_count": null,
   "metadata": {},
   "outputs": [],
   "source": [
    "lst = (0,) # error\n",
    "x, y, *_ = lst\n",
    "print(x, y, _)"
   ]
  },
  {
   "cell_type": "code",
   "execution_count": null,
   "metadata": {
    "scrolled": true
   },
   "outputs": [],
   "source": [
    "lst = (0, 6, 2, -5, 0, 56)\n",
    "*_, c, *d  = lst # Середина не работает\n",
    "print(_, c)"
   ]
  },
  {
   "cell_type": "markdown",
   "metadata": {},
   "source": [
    "### Использование переменного числа именованных аргументов\n",
    "В случае когда, нужно написать функцию, которая может принимать заранее неизвестное количество именованных аргументов, можно использовать следующую возможность языка Python - если при объявлении функции в качестве одного из аргументов указать параметр вида **\\**kwargs** то все параметры, которые не попадают в позиционные и будут\n",
    "вызваны как именованные, будут упакованы в словарь с именем **kwargs**."
   ]
  },
  {
   "cell_type": "code",
   "execution_count": null,
   "metadata": {},
   "outputs": [],
   "source": [
    "def draw_rectangle(w, h, fill=\"X\"):\n",
    "    for i in range(w):\n",
    "        for j in range(h):\n",
    "            print(fill, end=\"\")\n",
    "        print()\n",
    "    return\n",
    "\n",
    "draw_rectangle(7, 5, '*', sep='++') # TypeError:"
   ]
  },
  {
   "cell_type": "code",
   "execution_count": null,
   "metadata": {
    "scrolled": true
   },
   "outputs": [],
   "source": [
    "def draw_rectangle(w, h, fill=\"X\", **kwargs):\n",
    "    print(kwargs)\n",
    "    for i in range(w):\n",
    "        for j in range(h):\n",
    "            print(fill, end=\"\")\n",
    "        print()\n",
    "    return\n",
    "\n",
    "draw_rectangle(7, 5, '*', end='++')"
   ]
  },
  {
   "cell_type": "code",
   "execution_count": null,
   "metadata": {},
   "outputs": [],
   "source": [
    "def print_student(**kwargs): # (sep, *args, **kwargs)\n",
    "    print(kwargs)\n",
    "    name = kwargs.get('name')\n",
    "    print(name)\n",
    "    for key in kwargs.keys():\n",
    "        print(key,\" -> \" , kwargs.get(key))\n",
    "    return\n",
    "# dict(name=\"Alexander\", age=36)\n",
    "print_student(name=\"Alexander\", age=36, specialty=\"Physicist\", last_name=\"Ts\")"
   ]
  },
  {
   "cell_type": "code",
   "execution_count": null,
   "metadata": {},
   "outputs": [],
   "source": [
    "d = dict(name=\"Alexander\", age=36, specialty=\"Physicist\", last_name=\"Ts\")\n",
    "print(d)"
   ]
  },
  {
   "cell_type": "code",
   "execution_count": null,
   "metadata": {},
   "outputs": [],
   "source": [
    "print_student()"
   ]
  },
  {
   "cell_type": "markdown",
   "metadata": {},
   "source": [
    "### Тонкости использования аргументов\n",
    "**При вызове функции аргументы должны указываться в следующем порядке:**\n",
    "\n",
    "1) любые позиционные аргументы (значения)\n",
    "\n",
    "2) именованные аргументы (name=value)\n",
    "\n",
    "3) аргументы в форме \\*sequence (\\*args)\n",
    "\n",
    "4) аргументы в форме \\**dict. (\\**kwargs)\n",
    "\n",
    "\n",
    "**При описании функции аргументы должны указываться в следующем порядке:**\n",
    "\n",
    "1) любые обычные аргументы (name)\n",
    "\n",
    "2) аргументы со значениями по умолчанию (name=value)\n",
    "\n",
    "3) аргументы в форме *args\n",
    "\n",
    "4) любые имена или пары name=value аргументов, которые передаются только по имени\n",
    "\n",
    "5) аргументы в форме \\**kwargs\n",
    "\n",
    "\n",
    "#### Внимание!!! При нарушении работать не будет."
   ]
  },
  {
   "cell_type": "markdown",
   "metadata": {},
   "source": [
    "### Параметр parametr_1 может быть вызван только по имени, так как все позиционные аргументы будут собраны в arg."
   ]
  },
  {
   "cell_type": "code",
   "execution_count": null,
   "metadata": {},
   "outputs": [],
   "source": [
    "def some_function (*args, parametr_1):\n",
    "    return parametr_1\n",
    "\n",
    "print(some_function(1, 2)) # error"
   ]
  },
  {
   "cell_type": "code",
   "execution_count": null,
   "metadata": {},
   "outputs": [],
   "source": [
    "print(some_function(1, 4, parametr_1=2))"
   ]
  },
  {
   "cell_type": "markdown",
   "metadata": {},
   "source": [
    "### Распаковка кортежа в ряд фактических параметров\n",
    "При необходимости можно выполнить эту задачу наоборот. Т.е. распаковать кортеж, который используется в качестве\n",
    "фактического параметра, в ряд формальных позиционных параметров."
   ]
  },
  {
   "cell_type": "code",
   "execution_count": null,
   "metadata": {},
   "outputs": [],
   "source": [
    "def draw_rectangle(w, h, fill):\n",
    "    for i in range(w):\n",
    "        for j in range(h):\n",
    "            print(fill, end=\"\")\n",
    "        print()\n",
    "    return\n",
    "\n",
    "\n",
    "lst = (7, 5, \"#\") # Кортеж который будет распакован в ряд параметров\n",
    "draw_rectangle(*lst) # Распаковка"
   ]
  },
  {
   "cell_type": "code",
   "execution_count": null,
   "metadata": {},
   "outputs": [],
   "source": [
    "draw_rectangle(lst)"
   ]
  },
  {
   "cell_type": "code",
   "execution_count": null,
   "metadata": {
    "scrolled": true
   },
   "outputs": [],
   "source": [
    "# Тоже работает\n",
    "args = 7, 5, \"@\"\n",
    "draw_rectangle(*args)\n",
    "\n",
    "args = [7, 5, \"*\"]\n",
    "draw_rectangle(*args)"
   ]
  },
  {
   "cell_type": "code",
   "execution_count": null,
   "metadata": {},
   "outputs": [],
   "source": [
    "args = [7, 5, \"@\"]  # TypeError\n",
    "draw_rectangle(args)"
   ]
  },
  {
   "cell_type": "markdown",
   "metadata": {},
   "source": [
    "### Распаковка словаря в ряд фактических параметров\n",
    "При необходимости можно выполнить распаковку словаря в ряд формальных именованных параметров."
   ]
  },
  {
   "cell_type": "code",
   "execution_count": null,
   "metadata": {},
   "outputs": [],
   "source": [
    "def draw_rectangle(w, h, fill, **kwargs):\n",
    "    for i in range(w):\n",
    "        for j in range(h):\n",
    "            print(fill, end=\"\")\n",
    "        print()\n",
    "    return\n",
    "dct = {\"fill\": \"#\", \"w\": 5, \"h\": 8}\n",
    "draw_rectangle(**dct)"
   ]
  },
  {
   "cell_type": "code",
   "execution_count": null,
   "metadata": {},
   "outputs": [],
   "source": [
    "dct = {\"fill\": \"#\", \"w\": 5, \"h\": 8, 'j': 234, \"data\": {\"a\": 1}}\n",
    "draw_rectangle(**dct)"
   ]
  },
  {
   "cell_type": "code",
   "execution_count": null,
   "metadata": {},
   "outputs": [],
   "source": [
    "lst = ['w', 'h', 'fill']\n",
    "dct = {}\n",
    "for name in lst:\n",
    "    val = input(f'Input {name}: ')\n",
    "    if name in ['w', 'h']:\n",
    "        val = int(val)\n",
    "    dct[name] = val\n",
    "    \n",
    "draw_rectangle(**dct)"
   ]
  },
  {
   "cell_type": "markdown",
   "metadata": {},
   "source": [
    "### Особенности использования функций\n",
    "На самом деле оператор объявления функции def — выполняет ту же функцию, что и объявление переменной. А именно название функции - это имя переменной, а тело функции - это ее значение. Следовательно, с функциями можно обращаться как с обычными переменными.\n",
    "\n",
    "Функции в Python являются полноправными объектами.\n",
    "Как и любой объект функции могут:\n",
    "* Быть созданы во время выполнения\n",
    "\n",
    "* Могут быть присвоены переменной\n",
    "\n",
    "* Могут быть переданы другой функции как аргументы\n",
    "\n",
    "* Могут быть возвращены функцией в качестве результата"
   ]
  },
  {
   "cell_type": "code",
   "execution_count": null,
   "metadata": {},
   "outputs": [],
   "source": [
    "def add(x, y):\n",
    "    return x + y\n",
    "\n",
    "print(add(2, 3))\n"
   ]
  },
  {
   "cell_type": "code",
   "execution_count": null,
   "metadata": {},
   "outputs": [],
   "source": [
    "a = add # Без скобок!!!\n",
    "print(a(2, 3))\n"
   ]
  },
  {
   "cell_type": "code",
   "execution_count": null,
   "metadata": {},
   "outputs": [],
   "source": [
    "print(add)\n",
    "print(a)"
   ]
  },
  {
   "cell_type": "code",
   "execution_count": null,
   "metadata": {},
   "outputs": [],
   "source": [
    "def mul(x, y):\n",
    "    return x * y\n",
    "\n",
    "def sub(x, y):\n",
    "    return x - y\n",
    "\n",
    "functions = [add, mul, sub]\n",
    "print(functions)"
   ]
  },
  {
   "cell_type": "code",
   "execution_count": null,
   "metadata": {
    "scrolled": true
   },
   "outputs": [],
   "source": [
    "for func in functions:\n",
    "    print(func(6, 2))\n"
   ]
  },
  {
   "cell_type": "markdown",
   "metadata": {},
   "source": [
    "### Пример из реальной жизни\n",
    "https://github.com/olegJF/scraping_service/blob/master/src/run_scraping.py"
   ]
  },
  {
   "cell_type": "markdown",
   "metadata": {},
   "source": [
    "### Функция как параметр для другой функции"
   ]
  },
  {
   "cell_type": "code",
   "execution_count": null,
   "metadata": {},
   "outputs": [],
   "source": [
    "def mul(x):\n",
    "    return 2 * x\n",
    "\n",
    "def map_function(number_list, func):\n",
    "    for i in range(len(number_list)):\n",
    "        number_list[i] = func(number_list[i])\n",
    "    return\n",
    "\n",
    "number_list = [1, 2, 3, 4]\n",
    "map_function(number_list, mul) # Функция как параметр для другой функции\n",
    "print (number_list)"
   ]
  },
  {
   "cell_type": "code",
   "execution_count": null,
   "metadata": {},
   "outputs": [],
   "source": [
    "def add(x):\n",
    "    return x + 2\n",
    "\n",
    "number_list = [1, 2, 3, 4]\n",
    "map_function(number_list, add)\n",
    "print (number_list)"
   ]
  },
  {
   "cell_type": "code",
   "execution_count": null,
   "metadata": {},
   "outputs": [],
   "source": [
    "def map_function(_list, func):\n",
    "    tmp = []\n",
    "    for i in _list:\n",
    "        res = func(i)\n",
    "#         if not i % 2:\n",
    "        if res:\n",
    "            tmp.append(i)\n",
    "    return tmp\n",
    "\n",
    "def odd_2(x):\n",
    "    if not x % 2: # x == 0\n",
    "        return True\n",
    "    return False"
   ]
  },
  {
   "cell_type": "code",
   "execution_count": null,
   "metadata": {},
   "outputs": [],
   "source": [
    "number_list = [1, 2, 3, 4]\n",
    "new_lst = map_function(number_list, odd_2)\n",
    "print (new_lst)"
   ]
  },
  {
   "cell_type": "code",
   "execution_count": null,
   "metadata": {},
   "outputs": [],
   "source": [
    "def biggest(i):\n",
    "    if i > 0:\n",
    "        return True\n",
    "    return False"
   ]
  },
  {
   "cell_type": "code",
   "execution_count": null,
   "metadata": {},
   "outputs": [],
   "source": [
    "number_list = [1, 2, -3, 4]\n",
    "new_lst = map_function(number_list, biggest)\n",
    "print (new_lst)"
   ]
  },
  {
   "cell_type": "code",
   "execution_count": null,
   "metadata": {},
   "outputs": [],
   "source": [
    "def func (x):\n",
    "    return 2 * x\n",
    "\n",
    "def func(x):\n",
    "    return x * 3\n",
    "\n",
    "print(func(6)) # Почему такой результат?"
   ]
  },
  {
   "cell_type": "markdown",
   "metadata": {},
   "source": [
    "### Создание функций во время выполнения в Runtime"
   ]
  },
  {
   "cell_type": "code",
   "execution_count": 2,
   "metadata": {},
   "outputs": [
    {
     "name": "stdout",
     "output_type": "stream",
     "text": [
      "<class 'function'>\n"
     ]
    }
   ],
   "source": [
    "choice = int(input(\"Put 1 and create function: \"))\n",
    "\n",
    "if choice == 1:\n",
    "    def factorial2(n):\n",
    "        if n <= 1:\n",
    "            return 1\n",
    "        else:\n",
    "            return n * factorial(n-1)\n",
    "        \n",
    "\n",
    "print(type(factorial2)) # NameError if choice != 1 !!!"
   ]
  },
  {
   "cell_type": "code",
   "execution_count": null,
   "metadata": {},
   "outputs": [],
   "source": [
    "factorial2.__name__"
   ]
  },
  {
   "cell_type": "code",
   "execution_count": null,
   "metadata": {},
   "outputs": [],
   "source": [
    "factorial2.__module__"
   ]
  },
  {
   "cell_type": "code",
   "execution_count": null,
   "metadata": {},
   "outputs": [],
   "source": [
    "from math import pow\n",
    "pow.__module__"
   ]
  },
  {
   "cell_type": "markdown",
   "metadata": {},
   "source": [
    "У объекта функции есть ряд атрибутов свойственный всем объектам в Python. Чтобы получить список атрибутов функции, стоит вызвать встроенную функцию *dir()*."
   ]
  },
  {
   "cell_type": "code",
   "execution_count": 3,
   "metadata": {},
   "outputs": [
    {
     "name": "stdout",
     "output_type": "stream",
     "text": [
      "['__annotations__', '__builtins__', '__call__', '__class__', '__closure__', '__code__', '__defaults__', '__delattr__', '__dict__', '__dir__', '__doc__', '__eq__', '__format__', '__ge__', '__get__', '__getattribute__', '__getstate__', '__globals__', '__gt__', '__hash__', '__init__', '__init_subclass__', '__kwdefaults__', '__le__', '__lt__', '__module__', '__name__', '__ne__', '__new__', '__qualname__', '__reduce__', '__reduce_ex__', '__repr__', '__setattr__', '__sizeof__', '__str__', '__subclasshook__', '__type_params__']\n"
     ]
    }
   ],
   "source": [
    "def calculate_sum(a, b):\n",
    "    return a + b\n",
    "\n",
    "print(dir(calculate_sum))"
   ]
  },
  {
   "cell_type": "markdown",
   "metadata": {},
   "source": [
    "### Документирование функций\n"
   ]
  },
  {
   "cell_type": "code",
   "execution_count": 4,
   "metadata": {},
   "outputs": [
    {
     "name": "stdout",
     "output_type": "stream",
     "text": [
      "This function calculates the sum of an iterative sequence.\n",
      "    \n"
     ]
    }
   ],
   "source": [
    "def calculate_sum(my_list):\n",
    "    # Строка-документирование\n",
    "    \"\"\"This function calculates the sum of an iterative sequence.\n",
    "    \"\"\"\n",
    "    result = my_list[0]\n",
    "    for i in range(1,len(my_list)):\n",
    "        result = result + my_list[i]\n",
    "    return result\n",
    "\n",
    "print(calculate_sum.__doc__)"
   ]
  },
  {
   "cell_type": "code",
   "execution_count": 5,
   "metadata": {},
   "outputs": [
    {
     "name": "stdout",
     "output_type": "stream",
     "text": [
      "Help on function calculate_sum in module __main__:\n",
      "\n",
      "calculate_sum(my_list)\n",
      "    This function calculates the sum of an iterative sequence.\n",
      "\n"
     ]
    }
   ],
   "source": [
    "help(calculate_sum)"
   ]
  },
  {
   "cell_type": "code",
   "execution_count": 6,
   "metadata": {},
   "outputs": [
    {
     "name": "stdout",
     "output_type": "stream",
     "text": [
      "str(object='') -> str\n",
      "str(bytes_or_buffer[, encoding[, errors]]) -> str\n",
      "\n",
      "Create a new string object from the given object. If encoding or\n",
      "errors is specified, then the object must expose a data buffer\n",
      "that will be decoded using the given encoding and error handler.\n",
      "Otherwise, returns the result of object.__str__() (if defined)\n",
      "or repr(object).\n",
      "encoding defaults to sys.getdefaultencoding().\n",
      "errors defaults to 'strict'.\n"
     ]
    }
   ],
   "source": [
    "print(str.__doc__)"
   ]
  },
  {
   "cell_type": "code",
   "execution_count": 7,
   "metadata": {},
   "outputs": [
    {
     "name": "stdout",
     "output_type": "stream",
     "text": [
      "S.find(sub[, start[, end]]) -> int\n",
      "\n",
      "Return the lowest index in S where substring sub is found,\n",
      "such that sub is contained within S[start:end].  Optional\n",
      "arguments start and end are interpreted as in slice notation.\n",
      "\n",
      "Return -1 on failure.\n"
     ]
    }
   ],
   "source": [
    "print(str.find.__doc__)"
   ]
  },
  {
   "cell_type": "markdown",
   "metadata": {},
   "source": [
    "### Аннотирование типов в функциях"
   ]
  },
  {
   "cell_type": "code",
   "execution_count": 14,
   "metadata": {},
   "outputs": [],
   "source": [
    "def calculate_sum(numbers: list) -> int:\n",
    "\n",
    "    \"\"\"\n",
    "    This function calculates the sum of an iterative sequence.\n",
    "    \"\"\"\n",
    "    result = numbers[0]\n",
    "    for i in range(1,len(numbers)):\n",
    "        result = result + numbers[i]\n",
    "    return result"
   ]
  },
  {
   "cell_type": "code",
   "execution_count": 15,
   "metadata": {},
   "outputs": [
    {
     "name": "stdout",
     "output_type": "stream",
     "text": [
      "9\n"
     ]
    }
   ],
   "source": [
    "lst = [1, 3, 5]\n",
    "print(calculate_sum(lst))"
   ]
  },
  {
   "cell_type": "code",
   "execution_count": 10,
   "metadata": {},
   "outputs": [
    {
     "name": "stdout",
     "output_type": "stream",
     "text": [
      "9\n"
     ]
    }
   ],
   "source": [
    "tpl = tuple([1, 3, 5])\n",
    "print(calculate_sum(tpl)) # no errors (mypy)"
   ]
  },
  {
   "cell_type": "markdown",
   "metadata": {},
   "source": [
    "### *from typing import List, Callable*"
   ]
  },
  {
   "cell_type": "markdown",
   "metadata": {
    "pycharm": {
     "name": "#%% md\n"
    }
   },
   "source": [
    "## Рекурсия"
   ]
  },
  {
   "cell_type": "markdown",
   "metadata": {},
   "source": [
    "В программировании **рекурсия** — вызов функции (процедуры) из нее же самой непосредственно (простая рекурсия) или через другие функции (сложная или косвенная рекурсия).\n",
    "\n",
    "Количество вложенных вызовов функции или процедуры называется\n",
    "глубиной рекурсии. Структурно рекурсивная функция на верхнем уровне всегда представляет собой команду ветвления (выбор одной из двух или более альтернатив в зависимости от условия (условий), которое в данном случае уместно назвать «условием прекращения рекурсии»), имеющей две или более альтернативные ветви, из которых хотя бы одна является\n",
    "**рекурсивной** и хотя бы одна **терминальной**.\n",
    "\n",
    "**Рекурсивная** ветвь выполняется, когда условие прекращения рекурсии ложно, и содержит хотя бы один рекурсивный вызов — прямой или опосредованный вызов функцией самой себя.\n",
    "\n",
    "**Терминальная** ветвь выполняется, когда условие прекращения рекурсии истинно. Она возвращает некоторое значение, не выполняя рекурсивного вызова.\n",
    "\n",
    "Любая задача, которая может быть решена с помощью рекурсивной функции, может быть решена с использованием циклов и наоборот."
   ]
  },
  {
   "cell_type": "code",
   "execution_count": null,
   "metadata": {
    "pycharm": {
     "name": "#%%\n"
    }
   },
   "outputs": [],
   "source": [
    "# рекурсивная функция, которая подсчитает сумму элементов списка без использования циклов\n",
    "def summa (_list, i):\n",
    "    if i == len(_list) - 1:\n",
    "        return _list[i] # Терминальная ветвь когда дойдем до конца списка\n",
    "\n",
    "    else:\n",
    "        return _list[i] + summa(_list, i+1) # Рекурсивная ветвь\n",
    "\n",
    "list_one = [2, 6, 9]\n",
    "\n",
    "print(summa(list_one, 0))\n",
    "\n",
    "# number_list[0] + summa(number_list, 1) +  summa(number_list, 2)"
   ]
  },
  {
   "cell_type": "code",
   "execution_count": null,
   "metadata": {
    "pycharm": {
     "name": "#%%\n"
    }
   },
   "outputs": [],
   "source": [
    "# Числа Фибоначчи – это ряд чисел, в котором каждое следующее число равно сумме двух предыдущих: 1, 1, 2, 3, 5, 8, 13\n",
    "def fibo(n):\n",
    "    a = 0\n",
    "    b = 1\n",
    "    for i in range(2, n + 1):\n",
    "        a, b = b, a + b\n",
    "    return b\n",
    "\n",
    "print(fibo(10))"
   ]
  },
  {
   "cell_type": "code",
   "execution_count": null,
   "metadata": {
    "pycharm": {
     "name": "#%%\n"
    }
   },
   "outputs": [],
   "source": [
    "def fibonacci(n):\n",
    "    print(n)\n",
    "    if n in (1, 2):\n",
    "        return 1\n",
    "    return fibonacci(n - 1) + fibonacci(n - 2)\n",
    "\n",
    "print(fibonacci(10))\n"
   ]
  },
  {
   "cell_type": "markdown",
   "metadata": {
    "pycharm": {
     "name": "#%% md\n"
    }
   },
   "source": [
    "### Анонимные функции в Python\n",
    "В Python анонимные функции реализованы в виде **lambda** функций. Для этого используется синтаксис вида:\n",
    "\n",
    "*lambda parameter: result*\n",
    "\n",
    "*lambda* — ключевое слово\n",
    "\n",
    "*parameter* — параметр функции\n",
    "\n",
    "*result* — возвращаемое значение\n",
    "\n",
    "В Python тело лямбда функции может быть только чистым выражением. Т.е. нельзя производить присваивание или\n",
    "использование циклов."
   ]
  },
  {
   "cell_type": "code",
   "execution_count": 16,
   "metadata": {
    "pycharm": {
     "name": "#%%\n"
    }
   },
   "outputs": [
    {
     "name": "stdout",
     "output_type": "stream",
     "text": [
      "[7, 4, 11, 17, 24, 3]\n"
     ]
    }
   ],
   "source": [
    "def my_filter( _sequence, predicate):\n",
    "    result = []\n",
    "    for element in _sequence:\n",
    "        if predicate(element):\n",
    "            result.append(element)\n",
    "    return result\n",
    "\n",
    "sequence = [0, 7, 4, 11, -4, 17, 24, 3]\n",
    "\n",
    "b = my_filter(sequence, lambda x: x > 0)\n",
    "print(b)\n"
   ]
  },
  {
   "cell_type": "code",
   "execution_count": null,
   "metadata": {
    "pycharm": {
     "name": "#%%\n"
    }
   },
   "outputs": [],
   "source": [
    "c = my_filter(sequence, lambda x: x % 2)\n",
    "print(c)"
   ]
  },
  {
   "cell_type": "code",
   "execution_count": null,
   "metadata": {
    "pycharm": {
     "name": "#%%\n"
    }
   },
   "outputs": [],
   "source": [
    "c = my_filter(sequence, lambda x: not x % 2)\n",
    "print(c)"
   ]
  },
  {
   "cell_type": "code",
   "execution_count": 26,
   "metadata": {
    "pycharm": {
     "name": "#%%\n"
    }
   },
   "outputs": [
    {
     "name": "stdout",
     "output_type": "stream",
     "text": [
      "<class 'function'> <function <lambda> at 0x1067c9da0>\n"
     ]
    }
   ],
   "source": [
    "# лямбда функции компилируются так же как и обычные функции\n",
    "\n",
    "g = lambda x: x**2\n",
    "\n",
    "print(type(g), g)\n",
    "\n",
    "def pow(x):\n",
    "    return x**2"
   ]
  },
  {
   "cell_type": "code",
   "execution_count": 22,
   "metadata": {
    "pycharm": {
     "name": "#%%\n"
    }
   },
   "outputs": [
    {
     "name": "stdout",
     "output_type": "stream",
     "text": [
      "9 9\n"
     ]
    }
   ],
   "source": [
    "assert g(3) == pow(3)\n",
    "print(g(3), pow(3))\n"
   ]
  },
  {
   "cell_type": "code",
   "execution_count": null,
   "metadata": {
    "pycharm": {
     "name": "#%%\n"
    }
   },
   "outputs": [],
   "source": [
    "q = lambda x, y: x**2 + y if y <= 5 else x**3 + y"
   ]
  },
  {
   "cell_type": "code",
   "execution_count": null,
   "metadata": {
    "pycharm": {
     "name": "#%%\n"
    }
   },
   "outputs": [],
   "source": [
    "q(3, 5)"
   ]
  },
  {
   "cell_type": "code",
   "execution_count": null,
   "metadata": {
    "pycharm": {
     "name": "#%%\n"
    }
   },
   "outputs": [],
   "source": [
    "q(3, 6)\n"
   ]
  },
  {
   "cell_type": "markdown",
   "metadata": {
    "pycharm": {
     "name": "#%% md\n"
    }
   },
   "source": [
    "### map()\n",
    "**map()** — это встроенная функция, которая позволяет обрабатывать и преобразовывать\n",
    " все элементы в итерируемом объекте без использования явного цикла for,\n",
    " метода, широко известного как сопоставление (mapping). map() полезен,\n",
    " когда вам нужно применить функцию преобразования к каждому элементу в\n",
    " коллекции или в массиве и преобразовать их в новый массив.\n",
    "\n",
    "**map()** — один из инструментов, поддерживающих стиль ***функционального\n",
    "программирования*** в Python."
   ]
  },
  {
   "cell_type": "markdown",
   "metadata": {},
   "source": [
    "В ***функциональном программировании*** вычисления выполняются путем объединения\n",
    "функций, которые принимают аргументы и возвращают конкретное значение\n",
    "(или значения). Эти функции не изменяют свои входные аргументы и\n",
    "не изменяют состояние программы. Они просто предоставляют результат\n",
    "данного вычисления. Такие функции обычно называются чистыми функциями\n",
    "(pure functions)."
   ]
  },
  {
   "cell_type": "markdown",
   "metadata": {},
   "source": [
    "#### Что такое map()\n",
    "\n",
    "**map()** перебирает элементы итерируемого массива (или коллекции) и возвращает\n",
    "новый массив (или итерируемый объект), который является результатом\n",
    "применения функции преобразования к каждому элементу исходного итерабельного массива.\n",
    "\n",
    "Согласно документации, **map()** принимает функцию и итерацию\n",
    "(или несколько итераций) в качестве аргументов и возвращает итератор,\n",
    "который выдает преобразованные элементы по запросу. Сигнатура функции map\n",
    "определяется следующим образом:\n",
    "\n",
    "`map(function, iterable[, iterable1, iterable2,..., iterableN])`\n",
    "\n",
    "map() применяет функцию к каждому элементу в итерируемом цикле и\n",
    "возвращает новый итератор, который по запросу возвращает преобразованные\n",
    "элементы. **function** может быть любая функция Python, которая принимает\n",
    "аргументы, равное количеству итераций, которые вы передаете map().\n",
    "\n",
    "***Примечание***. Первый аргумент map() — это объект функция, что\n",
    "означает, что вам нужно передать функцию, не вызывая ее. То есть без пары скобок."
   ]
  },
  {
   "cell_type": "code",
   "execution_count": null,
   "metadata": {
    "pycharm": {
     "name": "#%%\n"
    }
   },
   "outputs": [],
   "source": [
    "# предположим, что вам нужно взять список числовых значений и\n",
    "# преобразовать его в список, содержащий квадратное значение каждого числа в\n",
    "# исходном списке. В этом случае вы можете использовать цикл for и написать\n",
    "# что-то вроде этого\n",
    "numbers = [1, 2, 3, 4, 5]\n",
    "squared = []\n",
    "\n",
    "for num in numbers:\n",
    "    squared.append(num ** 2)\n",
    "\n",
    "print(squared)"
   ]
  },
  {
   "cell_type": "code",
   "execution_count": null,
   "metadata": {
    "pycharm": {
     "name": "#%%\n"
    }
   },
   "outputs": [],
   "source": [
    "# можете добиться того же результата без использования явного цикла for, используя map().\n",
    "def square(number):\n",
    "    return number ** 2\n",
    "\n",
    "numbers = [1, 2, 3, 4, 5]\n",
    "squared = map(square, numbers)\n",
    "list(squared)\n",
    "# print(squared)"
   ]
  },
  {
   "cell_type": "markdown",
   "metadata": {},
   "source": [
    "С помощью цикла **for** вам нужно сохранить весь список в памяти вашей системы.\n",
    "С помощью **map()** вы получаете элементы по запросу, и только один элемент находится в памяти вашей системы в данный момент.\n"
   ]
  },
  {
   "cell_type": "code",
   "execution_count": null,
   "metadata": {
    "pycharm": {
     "name": "#%%\n"
    }
   },
   "outputs": [],
   "source": [
    "# нужно преобразовать все элементы в списке из строки в целое число.\n",
    "str_nums = [\"4\", \"8\", \"6\", \"5\", \"3\", \"2\", \"8\", \"9\", \"2\", \"5\"]\n",
    "int_nums = map(int, str_nums) # map() применяет int() к каждому значению в str_nums."
   ]
  },
  {
   "cell_type": "code",
   "execution_count": null,
   "metadata": {
    "pycharm": {
     "name": "#%%\n"
    }
   },
   "outputs": [],
   "source": [
    "int_nums # генератор"
   ]
  },
  {
   "cell_type": "code",
   "execution_count": null,
   "metadata": {
    "pycharm": {
     "name": "#%%\n"
    }
   },
   "outputs": [],
   "source": [
    "list(int_nums)"
   ]
  },
  {
   "cell_type": "code",
   "execution_count": null,
   "metadata": {
    "pycharm": {
     "name": "#%%\n"
    }
   },
   "outputs": [],
   "source": [
    "str_nums\n"
   ]
  },
  {
   "cell_type": "code",
   "execution_count": null,
   "metadata": {
    "pycharm": {
     "name": "#%%\n"
    }
   },
   "outputs": [],
   "source": [
    "numbers = [-2, -1, 0, 1, 2]\n",
    "abs_values = list(map(abs, numbers))\n",
    "abs_values"
   ]
  },
  {
   "cell_type": "code",
   "execution_count": null,
   "metadata": {
    "pycharm": {
     "name": "#%%\n"
    }
   },
   "outputs": [],
   "source": [
    "list(map(float, numbers))"
   ]
  },
  {
   "cell_type": "code",
   "execution_count": null,
   "metadata": {
    "pycharm": {
     "name": "#%%\n"
    },
    "scrolled": true
   },
   "outputs": [],
   "source": [
    "words = [\"Welcome\", \"to\", \"Real\", \"Python\"]\n",
    "list(map(len, words))"
   ]
  },
  {
   "cell_type": "code",
   "execution_count": null,
   "metadata": {
    "pycharm": {
     "name": "#%%\n"
    }
   },
   "outputs": [],
   "source": [
    "# реализовать пример квадратных значений с помощью лямбда-функции\n",
    "numbers = [1, 2, 3, 4, 5]\n",
    "squared = map(lambda num: num ** 5, numbers)\n",
    "list(squared)"
   ]
  },
  {
   "cell_type": "markdown",
   "metadata": {
    "pycharm": {
     "name": "#%% md\n"
    }
   },
   "source": [
    "#### Обработка множественных итераций с помощью map()"
   ]
  },
  {
   "cell_type": "code",
   "execution_count": null,
   "metadata": {
    "pycharm": {
     "name": "#%%\n"
    }
   },
   "outputs": [],
   "source": [
    "\n",
    "first_it = [1, 2, 3]\n",
    "second_it = [4, 5, 6, 7]\n",
    "list(map(pow, first_it, second_it))\n"
   ]
  },
  {
   "cell_type": "code",
   "execution_count": null,
   "metadata": {
    "pycharm": {
     "name": "#%%\n"
    }
   },
   "outputs": [],
   "source": [
    "\n",
    "# pow() принимает два аргумента, x и y, и возвращает x в степени y.\n",
    "# На первой итерации x будет 1, y будет 4, а результат будет 1\n",
    "first_it = [1, 2, 3]\n",
    "second_it = [4, 5, 6, 7]\n",
    "list(map(pow, second_it, first_it))\n"
   ]
  },
  {
   "cell_type": "code",
   "execution_count": null,
   "metadata": {
    "pycharm": {
     "name": "#%%\n"
    },
    "scrolled": true
   },
   "outputs": [],
   "source": [
    "list(map(lambda x, y: x - y, [9, 4, 2], [1, 3, 5]))\n"
   ]
  },
  {
   "cell_type": "code",
   "execution_count": null,
   "metadata": {
    "pycharm": {
     "name": "#%%\n"
    }
   },
   "outputs": [],
   "source": [
    "list(map(lambda x, y, z: x + y + z, [2, 4], [1, 3], [7, 8]))"
   ]
  },
  {
   "cell_type": "markdown",
   "metadata": {
    "pycharm": {
     "name": "#%% md\n"
    }
   },
   "source": [
    "### map() и filter()"
   ]
  },
  {
   "cell_type": "markdown",
   "metadata": {
    "pycharm": {
     "name": "#%% md\n"
    }
   },
   "source": [
    "\n",
    "Иногда нужно обработать массив и вернуть другой массив, которая является\n",
    "результатом фильтрации нежелательных значений во входной итерации.\n",
    "В этом случае может подойти filter().\n",
    "**filter()** — это встроенная функция, которая принимает два позиционных аргумента:\n",
    "\n",
    "***function*** будет предикатом или функцией с логическим значением, функцией,\n",
    "которая возвращает True или False в соответствии с входными данными.\n",
    "\n",
    "***iterable*** будет любым итерабельным объектом Python.\n",
    "\n",
    "**filter()** возвращает элементы итерации, для которых функция возвращает True.\n",
    "Если вы передадите None в функцию, тогда filter() будет использовать\n",
    "функцию идентификации. Это означает, что filter() проверяет значение\n",
    "истинности каждого элемента в итерации и отфильтровывает все элементы,\n",
    "которые являются ложными."
   ]
  },
  {
   "cell_type": "code",
   "execution_count": null,
   "metadata": {
    "pycharm": {
     "name": "#%%\n"
    }
   },
   "outputs": [],
   "source": [
    "# нужно вычислить квадратный корень из всех значений в списке.\n",
    "# Поскольку ваш список может содержать отрицательные значения,\n",
    "# вы получите сообщение об ошибке, потому что квадратный корень не\n",
    "# определен для отрицательных чисел\n",
    "\n",
    "import math\n",
    "math.sqrt(-16) # ValueError"
   ]
  },
  {
   "cell_type": "markdown",
   "metadata": {},
   "source": [
    "`is_positive()` — это функция-предикат, которая принимает число в качестве\n",
    "аргумента и возвращает **True**, если число больше или равно нулю.\n",
    "Вы можете передать `is_positive()` в `filter()`, чтобы удалить все отрицательные\n",
    "числа. Таким образом, вызов `map()` будет обрабатывать только положительные числа,\n",
    "а `math.sqrt()` не выдаст вам **ValueError**."
   ]
  },
  {
   "cell_type": "code",
   "execution_count": null,
   "metadata": {
    "pycharm": {
     "name": "#%%\n"
    }
   },
   "outputs": [],
   "source": [
    "import math\n",
    "def is_positive(num):\n",
    "    return num >= 0\n",
    "\n",
    "def sanitized_sqrt(numbers):\n",
    "    cleaned_iter = map(math.sqrt, filter(is_positive, numbers))\n",
    "    return list(cleaned_iter)\n",
    "\n",
    "sanitized_sqrt([25, 9, 81, -16, 0])"
   ]
  },
  {
   "cell_type": "code",
   "execution_count": null,
   "metadata": {
    "pycharm": {
     "name": "#%%\n"
    }
   },
   "outputs": [],
   "source": [
    "#  Ещё одна встроенная функция - zip\n",
    "for i in zip([11, 12, 13],['j','k','l', 't'], [1, 3, 5]):\n",
    "            print(i)"
   ]
  }
 ],
 "metadata": {
  "kernelspec": {
   "display_name": "Python 3 (ipykernel)",
   "language": "python",
   "name": "python3"
  },
  "language_info": {
   "codemirror_mode": {
    "name": "ipython",
    "version": 3
   },
   "file_extension": ".py",
   "mimetype": "text/x-python",
   "name": "python",
   "nbconvert_exporter": "python",
   "pygments_lexer": "ipython3",
   "version": "3.12.0"
  }
 },
 "nbformat": 4,
 "nbformat_minor": 2
}
