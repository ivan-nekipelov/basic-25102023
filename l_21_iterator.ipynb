{
 "cells": [
  {
   "cell_type": "markdown",
   "metadata": {
    "collapsed": true,
    "pycharm": {
     "name": "#%% md\n"
    }
   },
   "source": [
    "## Итераторы и итерационный протокол"
   ]
  },
  {
   "cell_type": "markdown",
   "metadata": {
    "pycharm": {
     "name": "#%% md\n"
    }
   },
   "source": [
    "Для того чтобы пользовательский метод мог выполнять роль последовательности, нужна реализация следующих\n",
    "методов или, как еще говорят, реализован интерфейс последовательностей:\n",
    "\n",
    "`__getitem__(self, index)` - «Магический» метод, который перегружает получение элемента по индексу\n",
    "\n",
    "`__len__(self)` - «Магический» метод, который возвращает длину последовательности"
   ]
  },
  {
   "cell_type": "code",
   "execution_count": 1,
   "metadata": {
    "pycharm": {
     "name": "#%%\n"
    }
   },
   "outputs": [],
   "source": [
    "class UserSequence:\n",
    "    def __init__(self, number):\n",
    "        self.number = number\n",
    "\n",
    "    def __getitem__(self, index):\n",
    "        if index < self.number:\n",
    "            return index ** 2 # вернет квадрат значения index\n",
    "        else:\n",
    "            raise IndexError\n",
    "\n",
    "    def __len__(self):\n",
    "        return self.number\n"
   ]
  },
  {
   "cell_type": "code",
   "execution_count": 2,
   "metadata": {
    "pycharm": {
     "name": "#%%\n"
    },
    "scrolled": true
   },
   "outputs": [
    {
     "name": "stdout",
     "output_type": "stream",
     "text": [
      "0\n",
      "1\n",
      "4\n",
      "9\n",
      "16\n",
      "25\n",
      "36\n",
      "49\n",
      "64\n",
      "81\n"
     ]
    }
   ],
   "source": [
    "\n",
    "seq = UserSequence(10)\n",
    "\n",
    "for i in range(len(seq)):\n",
    "    print(seq[i])"
   ]
  },
  {
   "cell_type": "code",
   "execution_count": 3,
   "metadata": {},
   "outputs": [
    {
     "data": {
      "text/plain": [
       "81"
      ]
     },
     "execution_count": 3,
     "metadata": {},
     "output_type": "execute_result"
    }
   ],
   "source": [
    "seq[9]\n"
   ]
  },
  {
   "cell_type": "code",
   "execution_count": 4,
   "metadata": {
    "scrolled": true
   },
   "outputs": [
    {
     "data": {
      "text/plain": [
       "[0, 1, 4, 9, 16, 25, 36, 49, 64, 81]"
      ]
     },
     "execution_count": 4,
     "metadata": {},
     "output_type": "execute_result"
    }
   ],
   "source": [
    "list(seq)"
   ]
  },
  {
   "cell_type": "code",
   "execution_count": 5,
   "metadata": {},
   "outputs": [
    {
     "data": {
      "text/plain": [
       "4"
      ]
     },
     "execution_count": 5,
     "metadata": {},
     "output_type": "execute_result"
    }
   ],
   "source": [
    "seq[2]"
   ]
  },
  {
   "cell_type": "code",
   "execution_count": 6,
   "metadata": {},
   "outputs": [
    {
     "name": "stdout",
     "output_type": "stream",
     "text": [
      "0\n",
      "1\n",
      "4\n",
      "9\n",
      "16\n",
      "25\n",
      "36\n",
      "49\n",
      "64\n",
      "81\n"
     ]
    }
   ],
   "source": [
    "seq = UserSequence(10)\n",
    "\n",
    "for i in seq:\n",
    "    print(i)"
   ]
  },
  {
   "cell_type": "code",
   "execution_count": 9,
   "metadata": {},
   "outputs": [
    {
     "ename": "TypeError",
     "evalue": "'<' not supported between instances of 'slice' and 'int'",
     "output_type": "error",
     "traceback": [
      "\u001b[0;31m---------------------------------------------------------------------------\u001b[0m",
      "\u001b[0;31mTypeError\u001b[0m                                 Traceback (most recent call last)",
      "Cell \u001b[0;32mIn[9], line 1\u001b[0m\n\u001b[0;32m----> 1\u001b[0m \u001b[43mseq\u001b[49m\u001b[43m[\u001b[49m\u001b[38;5;241;43m2\u001b[39;49m\u001b[43m:\u001b[49m\u001b[43m \u001b[49m\u001b[38;5;241;43m4\u001b[39;49m\u001b[43m]\u001b[49m\n",
      "Cell \u001b[0;32mIn[1], line 6\u001b[0m, in \u001b[0;36mUserSequence.__getitem__\u001b[0;34m(self, index)\u001b[0m\n\u001b[1;32m      5\u001b[0m \u001b[38;5;28;01mdef\u001b[39;00m \u001b[38;5;21m__getitem__\u001b[39m(\u001b[38;5;28mself\u001b[39m, index):\n\u001b[0;32m----> 6\u001b[0m     \u001b[38;5;28;01mif\u001b[39;00m \u001b[43mindex\u001b[49m\u001b[43m \u001b[49m\u001b[38;5;241;43m<\u001b[39;49m\u001b[43m \u001b[49m\u001b[38;5;28;43mself\u001b[39;49m\u001b[38;5;241;43m.\u001b[39;49m\u001b[43mnumber\u001b[49m:\n\u001b[1;32m      7\u001b[0m         \u001b[38;5;28;01mreturn\u001b[39;00m index \u001b[38;5;241m*\u001b[39m\u001b[38;5;241m*\u001b[39m \u001b[38;5;241m2\u001b[39m \u001b[38;5;66;03m# вернет квадрат значения index\u001b[39;00m\n\u001b[1;32m      8\u001b[0m     \u001b[38;5;28;01melse\u001b[39;00m:\n",
      "\u001b[0;31mTypeError\u001b[0m: '<' not supported between instances of 'slice' and 'int'"
     ]
    }
   ],
   "source": [
    "seq[2: 4]"
   ]
  },
  {
   "cell_type": "markdown",
   "metadata": {},
   "source": [
    "### Объекты среза."
   ]
  },
  {
   "cell_type": "code",
   "execution_count": 8,
   "metadata": {
    "pycharm": {
     "name": "#%%\n"
    }
   },
   "outputs": [
    {
     "name": "stdout",
     "output_type": "stream",
     "text": [
      "[5, 6, 7]\n"
     ]
    }
   ],
   "source": [
    "a = [5, 6, 7, 8, 9]\n",
    "b = a[0: 3]\n",
    "print(b)"
   ]
  },
  {
   "cell_type": "markdown",
   "metadata": {
    "pycharm": {
     "name": "#%% md\n"
    }
   },
   "source": [
    "#### *slice()*\n",
    "\n"
   ]
  },
  {
   "cell_type": "code",
   "execution_count": 10,
   "metadata": {
    "pycharm": {
     "name": "#%%\n"
    }
   },
   "outputs": [
    {
     "name": "stdout",
     "output_type": "stream",
     "text": [
      "0\n",
      "3\n",
      "None\n"
     ]
    }
   ],
   "source": [
    "slice_ = slice(0, 3)\n",
    "print(slice_.start)  # 0\n",
    "print(slice_.stop)  # 3\n",
    "print(slice_.step)  # None"
   ]
  },
  {
   "cell_type": "code",
   "execution_count": 11,
   "metadata": {
    "pycharm": {
     "name": "#%%\n"
    }
   },
   "outputs": [
    {
     "name": "stdout",
     "output_type": "stream",
     "text": [
      "[5, 6, 7]\n",
      "[5, 6, 7]\n"
     ]
    }
   ],
   "source": [
    "print(a[slice_])\n",
    "print(a[0:3])\n"
   ]
  },
  {
   "cell_type": "code",
   "execution_count": null,
   "metadata": {
    "pycharm": {
     "name": "#%%\n"
    }
   },
   "outputs": [],
   "source": [
    "print(a[slice(1, None)])\n",
    "print(a[1:])\n",
    "# [6, 7, 8, 9]"
   ]
  },
  {
   "cell_type": "code",
   "execution_count": null,
   "metadata": {
    "pycharm": {
     "name": "#%%\n"
    }
   },
   "outputs": [],
   "source": [
    "print(a[slice(None, -1)])\n",
    "print(a[:-1])\n",
    "# [5, 6, 7, 8]"
   ]
  },
  {
   "cell_type": "code",
   "execution_count": null,
   "metadata": {
    "pycharm": {
     "name": "#%%\n"
    }
   },
   "outputs": [],
   "source": [
    "print(a[slice(None, None, 2)])\n",
    "print(a[::2])\n",
    "# [5, 7, 9]"
   ]
  },
  {
   "cell_type": "code",
   "execution_count": null,
   "metadata": {
    "pycharm": {
     "name": "#%%\n"
    }
   },
   "outputs": [],
   "source": [
    "print(a[slice(None)])\n",
    "print(a[::])\n",
    "# [5, 6, 7, 8, 9]"
   ]
  },
  {
   "cell_type": "code",
   "execution_count": null,
   "metadata": {
    "pycharm": {
     "name": "#%%\n"
    }
   },
   "outputs": [],
   "source": [
    "print(a[slice(2)])\n",
    "print(a[:2:])\n",
    "# [5, 6]"
   ]
  },
  {
   "cell_type": "code",
   "execution_count": null,
   "metadata": {
    "pycharm": {
     "name": "#%%\n"
    }
   },
   "outputs": [],
   "source": [
    "print(a[slice(None, None, -1)])\n",
    "print(a[::-1])\n",
    "# [9, 8, 7, 6, 5]"
   ]
  },
  {
   "cell_type": "code",
   "execution_count": null,
   "metadata": {},
   "outputs": [],
   "source": [
    "sl = slice(None, None, -1)\n",
    "print(sl.start)"
   ]
  },
  {
   "cell_type": "code",
   "execution_count": null,
   "metadata": {},
   "outputs": [],
   "source": [
    "sl.start < -1"
   ]
  },
  {
   "cell_type": "code",
   "execution_count": 12,
   "metadata": {
    "pycharm": {
     "name": "#%%\n"
    }
   },
   "outputs": [],
   "source": [
    "# при такой реализации методов пользовательский класс может выступать\n",
    "# в качестве индексируемой последовательности.\n",
    "\n",
    "class UserSequence:\n",
    "    def __init__(self, number):\n",
    "        self.number = number\n",
    "\n",
    "    def __getitem__(self, index):\n",
    "        \n",
    "        if isinstance(index, slice):\n",
    "            if index.start  and index.start < 0:\n",
    "                raise IndexError\n",
    "            elif index.stop  and index.stop > self.number:\n",
    "                raise IndexError\n",
    "            else:\n",
    "                result = []\n",
    "            start = 0 if index.start is None else index.start\n",
    "            stop = self.number if index.stop is None else index.stop\n",
    "            reverse = False\n",
    "            if index.step and index.step < 0:\n",
    "                reverse = True\n",
    "                step = index.step * (-1)\n",
    "            else:\n",
    "                step = 1 if index.step is None else index.step\n",
    "\n",
    "            for i in range(start, stop, step):\n",
    "                result.append(i ** 2)\n",
    "            return list(reversed(result)) if reverse else result\n",
    "        if isinstance(index, int):\n",
    "            if index < self.number:\n",
    "                return index ** 2\n",
    "            else:\n",
    "                raise IndexError\n",
    "        raise TypeError\n",
    "\n",
    "    def __len__(self):\n",
    "        return self.number"
   ]
  },
  {
   "cell_type": "code",
   "execution_count": 15,
   "metadata": {
    "pycharm": {
     "name": "#%%\n"
    }
   },
   "outputs": [
    {
     "name": "stdout",
     "output_type": "stream",
     "text": [
      "[1, 4, 9, 16, 25, 36, 49]\n",
      "[1, 4, 9, 16, 25, 36, 49]\n",
      "[1, 4, 9, 16, 25, 36, 49]\n",
      "[0, 4, 16, 36, 64]\n",
      "[0, 1, 4, 9, 16, 25, 36, 49, 64, 81]\n",
      "[81, 64, 49, 36, 25, 16, 9, 4, 1, 0]\n"
     ]
    }
   ],
   "source": [
    "seq = UserSequence(10)\n",
    "\n",
    "print(seq[1:8])\n",
    "print(seq[slice(1, 8)])\n",
    "print(seq.__getitem__(slice(1, 8)))\n",
    "print(seq[:10:2])\n",
    "print(seq[:])\n",
    "print(seq[::-1])"
   ]
  },
  {
   "cell_type": "markdown",
   "metadata": {
    "pycharm": {
     "name": "#%% md\n"
    }
   },
   "source": [
    "### Итераторы\n",
    "Итератор (от англ. iterator ― перечислитель) — интерфейс, предоставляющий доступ к элементам коллекции (массива или контейнера) и навигацию по ним."
   ]
  },
  {
   "cell_type": "markdown",
   "metadata": {},
   "source": [
    "#### *iter()*, *next()*"
   ]
  },
  {
   "cell_type": "code",
   "execution_count": 16,
   "metadata": {
    "pycharm": {
     "name": "#%%\n"
    }
   },
   "outputs": [
    {
     "name": "stdout",
     "output_type": "stream",
     "text": [
      "<class 'str_ascii_iterator'>\n"
     ]
    }
   ],
   "source": [
    "_str = 'Hello'\n",
    "i = iter(_str)\n",
    "print(type(i))"
   ]
  },
  {
   "cell_type": "code",
   "execution_count": 17,
   "metadata": {
    "pycharm": {
     "name": "#%%\n"
    }
   },
   "outputs": [
    {
     "name": "stdout",
     "output_type": "stream",
     "text": [
      "H\n"
     ]
    }
   ],
   "source": [
    "print(next(i))\n",
    "a = 3 + 5\n"
   ]
  },
  {
   "cell_type": "code",
   "execution_count": 18,
   "metadata": {},
   "outputs": [
    {
     "name": "stdout",
     "output_type": "stream",
     "text": [
      "e\n",
      "l\n",
      "l\n",
      "o\n"
     ]
    }
   ],
   "source": [
    "print(next(i))\n",
    "print(next(i))\n",
    "print(next(i))\n",
    "print(next(i))"
   ]
  },
  {
   "cell_type": "code",
   "execution_count": 19,
   "metadata": {
    "pycharm": {
     "name": "#%%\n"
    }
   },
   "outputs": [
    {
     "ename": "StopIteration",
     "evalue": "",
     "output_type": "error",
     "traceback": [
      "\u001b[0;31m---------------------------------------------------------------------------\u001b[0m",
      "\u001b[0;31mStopIteration\u001b[0m                             Traceback (most recent call last)",
      "Cell \u001b[0;32mIn[19], line 1\u001b[0m\n\u001b[0;32m----> 1\u001b[0m \u001b[38;5;28mprint\u001b[39m(\u001b[38;5;28;43mnext\u001b[39;49m\u001b[43m(\u001b[49m\u001b[43mi\u001b[49m\u001b[43m)\u001b[49m) \u001b[38;5;66;03m# StopIteratio\u001b[39;00m\n",
      "\u001b[0;31mStopIteration\u001b[0m: "
     ]
    }
   ],
   "source": [
    "print(next(i)) # StopIteratio\n"
   ]
  },
  {
   "cell_type": "code",
   "execution_count": 20,
   "metadata": {
    "pycharm": {
     "name": "#%%\n"
    }
   },
   "outputs": [
    {
     "name": "stdout",
     "output_type": "stream",
     "text": [
      "<class 'str_ascii_iterator'>\n"
     ]
    },
    {
     "ename": "StopIteration",
     "evalue": "",
     "output_type": "error",
     "traceback": [
      "\u001b[0;31m---------------------------------------------------------------------------\u001b[0m",
      "\u001b[0;31mStopIteration\u001b[0m                             Traceback (most recent call last)",
      "Cell \u001b[0;32mIn[20], line 2\u001b[0m\n\u001b[1;32m      1\u001b[0m \u001b[38;5;28mprint\u001b[39m(\u001b[38;5;28mtype\u001b[39m(i))\n\u001b[0;32m----> 2\u001b[0m \u001b[38;5;28mprint\u001b[39m(\u001b[38;5;28;43mnext\u001b[39;49m\u001b[43m(\u001b[49m\u001b[43mi\u001b[49m\u001b[43m)\u001b[49m)\n",
      "\u001b[0;31mStopIteration\u001b[0m: "
     ]
    }
   ],
   "source": [
    "print(type(i))\n",
    "print(next(i))"
   ]
  },
  {
   "cell_type": "code",
   "execution_count": 21,
   "metadata": {
    "pycharm": {
     "name": "#%%\n"
    }
   },
   "outputs": [
    {
     "name": "stdout",
     "output_type": "stream",
     "text": [
      "<class 'list_iterator'>\n"
     ]
    }
   ],
   "source": [
    "a = [1, 2]\n",
    "b = a.__iter__()\n",
    "print(type(b))"
   ]
  },
  {
   "cell_type": "code",
   "execution_count": 22,
   "metadata": {},
   "outputs": [
    {
     "name": "stdout",
     "output_type": "stream",
     "text": [
      "<class 'tuple_iterator'>\n"
     ]
    }
   ],
   "source": [
    "a = (2, 4)\n",
    "b = a.__iter__()\n",
    "print(type(b))"
   ]
  },
  {
   "cell_type": "code",
   "execution_count": 23,
   "metadata": {},
   "outputs": [
    {
     "name": "stdout",
     "output_type": "stream",
     "text": [
      "<tuple_iterator object at 0x10b211bd0>\n"
     ]
    }
   ],
   "source": [
    "print(b)"
   ]
  },
  {
   "cell_type": "markdown",
   "metadata": {
    "pycharm": {
     "name": "#%% md\n"
    }
   },
   "source": [
    "У итерируемого объекта нет метода `__next__()`, который используется при итерации\n"
   ]
  },
  {
   "cell_type": "code",
   "execution_count": 24,
   "metadata": {
    "pycharm": {
     "name": "#%%\n"
    }
   },
   "outputs": [
    {
     "ename": "AttributeError",
     "evalue": "'tuple' object has no attribute '__next__'",
     "output_type": "error",
     "traceback": [
      "\u001b[0;31m---------------------------------------------------------------------------\u001b[0m",
      "\u001b[0;31mAttributeError\u001b[0m                            Traceback (most recent call last)",
      "Cell \u001b[0;32mIn[24], line 1\u001b[0m\n\u001b[0;32m----> 1\u001b[0m \u001b[43ma\u001b[49m\u001b[38;5;241;43m.\u001b[39;49m\u001b[38;5;21;43m__next__\u001b[39;49m()\n",
      "\u001b[0;31mAttributeError\u001b[0m: 'tuple' object has no attribute '__next__'"
     ]
    }
   ],
   "source": [
    "a.__next__()"
   ]
  },
  {
   "cell_type": "markdown",
   "metadata": {
    "pycharm": {
     "name": "#%% md\n"
    }
   },
   "source": [
    "У итератора есть метод __next__(), который извлекает из итератора очередной элемент."
   ]
  },
  {
   "cell_type": "code",
   "execution_count": 25,
   "metadata": {
    "pycharm": {
     "name": "#%%\n"
    }
   },
   "outputs": [
    {
     "name": "stdout",
     "output_type": "stream",
     "text": [
      "2\n",
      "4\n"
     ]
    }
   ],
   "source": [
    "print(b.__next__())\n",
    "print(b.__next__())\n"
   ]
  },
  {
   "cell_type": "markdown",
   "metadata": {},
   "source": [
    "У итераторов, также как у итерируемых объектов, есть метод __iter__(). Однако в данном случае он возвращает сам объект-итератор"
   ]
  },
  {
   "cell_type": "code",
   "execution_count": 26,
   "metadata": {
    "pycharm": {
     "name": "#%%\n"
    }
   },
   "outputs": [
    {
     "name": "stdout",
     "output_type": "stream",
     "text": [
      "<str_ascii_iterator object at 0x10b1ed7b0>\n"
     ]
    }
   ],
   "source": [
    "a = \"hi\"\n",
    "b = a.__iter__()\n",
    "\n",
    "print(b)\n"
   ]
  },
  {
   "cell_type": "code",
   "execution_count": 27,
   "metadata": {},
   "outputs": [
    {
     "name": "stdout",
     "output_type": "stream",
     "text": [
      "<str_ascii_iterator object at 0x10b1ed7b0>\n"
     ]
    }
   ],
   "source": [
    "c = b.__iter__()\n",
    "\n",
    "print(c)"
   ]
  },
  {
   "cell_type": "markdown",
   "metadata": {},
   "source": [
    "### Как превратить класс в итератор?\n",
    "Для того чтобы пользовательский класс мог выступать в качестве итератора необходимо, что бы в классе были\n",
    "определены или унаследованы следующие методы:\n",
    "\n",
    "`__iter__(self)` - Метод, который указывает, на то, что класс является итератором (т. е. поддерживает итерационный протокол). Метод должен вернуть итератор.\n",
    "\n",
    "`__next__(self)` - Вызывается при каждой итерации и должен вернуть очередное значение из последовательности. Если последовательность значений окончена, генерируется исключение StopIteration.\n",
    "\n",
    "Метод `__getitem__(self, index)` вызывается только в случае отсутствия указанных выше. В таком случае Python сам создает итератор на основе процедуры извлечения по индексу, начиная с 0.\n",
    "Однако этот способ является не рекомендованным."
   ]
  },
  {
   "cell_type": "markdown",
   "metadata": {},
   "source": [
    "**Итерируемый объект** — любой объект, у которого реализован метод `__iter__`, и который возвращает итератор для этого объекта.\n",
    "Именно этот метод и использует функция *iter()* для получения итератора.\n",
    "\n",
    "**Итератор** — объект обладающий методом `__next__ `. Данный метод должен возвращать следующее доступное значение.\n",
    "В случае когда доступных значений не осталось, следует возбудить исключение StopIteration. Также желательно наличия метода `__iter__`, который должен вернуть экземпляр итератора."
   ]
  },
  {
   "cell_type": "markdown",
   "metadata": {
    "pycharm": {
     "name": "#%% md\n"
    }
   },
   "source": [
    "*Пример создания пользовательского итерируемеого класса и итератора*\n",
    "\n",
    "Товар (название, цена) для хранения списка товаров.\n",
    "\n",
    "Корзина (список товаров, Имя пользователя). Класс Корзина сделаем итерируемым для возможности прохода по нему с\n",
    "помощью цикла for.\n",
    "\n"
   ]
  },
  {
   "cell_type": "code",
   "execution_count": 28,
   "metadata": {},
   "outputs": [],
   "source": [
    "class Goods:\n",
    "    \n",
    "    def __init__(self, name, price):\n",
    "        self.name = name\n",
    "        self.price = price\n",
    "    \n",
    "    def __str__(self):\n",
    "        return f\"Goods [name = {self.name}, price = {self.price}]\"\n",
    "    \n",
    "    \n",
    "class Basket1:\n",
    "    def __init__(self, user):\n",
    "        self.user = user\n",
    "        self.goods_list = list()\n",
    "\n",
    "    def add_good(self, good):\n",
    "        self.goods_list.append(good)\n",
    "\n",
    "    def __str__(self):\n",
    "        result = f\"User: {self.user}\\n\"\n",
    "        for good in self.goods_list:\n",
    "            result += str(good)+\"\\n\"\n",
    "        return result\n"
   ]
  },
  {
   "cell_type": "code",
   "execution_count": 29,
   "metadata": {
    "scrolled": true
   },
   "outputs": [
    {
     "name": "stdout",
     "output_type": "stream",
     "text": [
      "User: Alexander_Ts\n",
      "Goods [name = Apple, price = 35]\n",
      "Goods [name = Milk, price = 50]\n",
      "\n"
     ]
    }
   ],
   "source": [
    "basket = Basket1(\"Alexander_Ts\")\n",
    "\n",
    "a = Goods(\"Apple\", 35)\n",
    "b = Goods(\"Milk\", 50)\n",
    "\n",
    "basket.add_good(a)\n",
    "basket.add_good(b)\n",
    "\n",
    "print(basket)"
   ]
  },
  {
   "cell_type": "code",
   "execution_count": 30,
   "metadata": {},
   "outputs": [
    {
     "ename": "TypeError",
     "evalue": "'Basket1' object is not iterable",
     "output_type": "error",
     "traceback": [
      "\u001b[0;31m---------------------------------------------------------------------------\u001b[0m",
      "\u001b[0;31mTypeError\u001b[0m                                 Traceback (most recent call last)",
      "Cell \u001b[0;32mIn[30], line 1\u001b[0m\n\u001b[0;32m----> 1\u001b[0m \u001b[38;5;28;43;01mfor\u001b[39;49;00m\u001b[43m \u001b[49m\u001b[43mgood\u001b[49m\u001b[43m \u001b[49m\u001b[38;5;129;43;01min\u001b[39;49;00m\u001b[43m \u001b[49m\u001b[43mbasket\u001b[49m\u001b[43m:\u001b[49m\n\u001b[1;32m      2\u001b[0m \u001b[43m    \u001b[49m\u001b[38;5;28;43mprint\u001b[39;49m\u001b[43m(\u001b[49m\u001b[43mgood\u001b[49m\u001b[43m)\u001b[49m\n",
      "\u001b[0;31mTypeError\u001b[0m: 'Basket1' object is not iterable"
     ]
    }
   ],
   "source": [
    "for good in basket:\n",
    "    print(good)"
   ]
  },
  {
   "cell_type": "code",
   "execution_count": 41,
   "metadata": {
    "pycharm": {
     "name": "#%%\n"
    }
   },
   "outputs": [],
   "source": [
    "class BasketIterator:\n",
    "    \n",
    "    def __init__(self, goods_list):\n",
    "        self.goods_list = goods_list\n",
    "        self.current_index = 0\n",
    "\n",
    "    def __next__(self):\n",
    "        if self.current_index < len(self.goods_list):\n",
    "            res = self.goods_list[self.current_index]\n",
    "            self.current_index = self.current_index + 1\n",
    "            return res\n",
    "        else:\n",
    "            raise StopIteration\n",
    "\n",
    "    def __iter__(self):\n",
    "        return self\n",
    "\n",
    "\n",
    "class Basket:\n",
    "    def __init__(self, user):\n",
    "        self.user = user\n",
    "        self.goods_list = list()\n",
    "\n",
    "    def add_good(self, good):\n",
    "        self.goods_list.append(good)\n",
    "\n",
    "    def __str__(self):\n",
    "        result = f\"User: {self.user}\\n\"\n",
    "        for good in self.goods_list:\n",
    "            result += str(good)+\"\\n\"\n",
    "        return result\n",
    "\n",
    "    def __iter__(self):\n",
    "        return BasketIterator(self.goods_list)"
   ]
  },
  {
   "cell_type": "code",
   "execution_count": 32,
   "metadata": {
    "pycharm": {
     "name": "#%%\n"
    }
   },
   "outputs": [
    {
     "name": "stdout",
     "output_type": "stream",
     "text": [
      "Goods [name = Apple, price = 35]\n",
      "Goods [name = Milk, price = 50]\n",
      "************\n",
      "Goods [name = Apple, price = 35]\n",
      "Goods [name = Milk, price = 50]\n",
      "Goods [name = Oil, price = 100]\n"
     ]
    }
   ],
   "source": [
    "basket = Basket(\"Alexander_Ts\")\n",
    "\n",
    "a = Goods(\"Apple\", 35)\n",
    "b = Goods(\"Milk\", 50)\n",
    "\n",
    "basket.add_good(a)\n",
    "basket.add_good(b)\n",
    "\n",
    "for good in basket:\n",
    "    print(good)\n",
    "print('**' * 6)\n",
    "c = Goods(\"Oil\", 100)\n",
    "basket.add_good(c)\n",
    "\n",
    "for good in basket:\n",
    "    print(good)"
   ]
  },
  {
   "cell_type": "code",
   "execution_count": 33,
   "metadata": {
    "pycharm": {
     "name": "#%%\n"
    },
    "scrolled": true
   },
   "outputs": [
    {
     "name": "stdout",
     "output_type": "stream",
     "text": [
      "User: Alexander_Ts\n",
      "Goods [name = Apple, price = 35]\n",
      "Goods [name = Milk, price = 50]\n",
      "Goods [name = Oil, price = 100]\n",
      "\n"
     ]
    }
   ],
   "source": [
    "print(basket)"
   ]
  },
  {
   "cell_type": "code",
   "execution_count": 42,
   "metadata": {
    "scrolled": true
   },
   "outputs": [
    {
     "name": "stdout",
     "output_type": "stream",
     "text": [
      "Goods [name = Apple, price = 35]\n",
      "Goods [name = Milk, price = 50]\n",
      "Goods [name = Oil, price = 100]\n"
     ]
    }
   ],
   "source": [
    "it = iter(basket)\n",
    "print(next(it))\n",
    "print(next(it))\n",
    "print(next(it))"
   ]
  },
  {
   "cell_type": "code",
   "execution_count": 60,
   "metadata": {},
   "outputs": [
    {
     "name": "stdout",
     "output_type": "stream",
     "text": [
      "[]\n"
     ]
    }
   ],
   "source": [
    "next(it)"
   ]
  },
  {
   "cell_type": "code",
   "execution_count": 61,
   "metadata": {
    "pycharm": {
     "name": "#%%\n"
    }
   },
   "outputs": [
    {
     "name": "stdout",
     "output_type": "stream",
     "text": [
      "Goods [name = Apple, price = 35]\n",
      "Goods [name = Milk, price = 50]\n",
      "Goods [name = Oil, price = 100]\n"
     ]
    }
   ],
   "source": [
    "itr = iter(basket)\n",
    "# print(itr)\n",
    "while True:\n",
    "    try:\n",
    "        good = next(itr)\n",
    "        print(good)\n",
    "    except StopIteration:\n",
    "        break"
   ]
  },
  {
   "cell_type": "code",
   "execution_count": 62,
   "metadata": {},
   "outputs": [
    {
     "name": "stdout",
     "output_type": "stream",
     "text": [
      "Goods [name = Apple, price = 35]\n",
      "Goods [name = Milk, price = 50]\n",
      "Goods [name = Oil, price = 100]\n"
     ]
    }
   ],
   "source": [
    "for i in basket:\n",
    "    print(i)"
   ]
  }
 ],
 "metadata": {
  "kernelspec": {
   "display_name": "Python 3 (ipykernel)",
   "language": "python",
   "name": "python3"
  },
  "language_info": {
   "codemirror_mode": {
    "name": "ipython",
    "version": 3
   },
   "file_extension": ".py",
   "mimetype": "text/x-python",
   "name": "python",
   "nbconvert_exporter": "python",
   "pygments_lexer": "ipython3",
   "version": "3.12.1"
  }
 },
 "nbformat": 4,
 "nbformat_minor": 1
}
