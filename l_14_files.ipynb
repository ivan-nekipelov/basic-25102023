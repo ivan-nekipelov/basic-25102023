{
 "cells": [
  {
   "cell_type": "markdown",
   "metadata": {},
   "source": [
    "## Чтение и запись данных в файл"
   ]
  },
  {
   "cell_type": "markdown",
   "metadata": {},
   "source": [
    "### Переменные указывающие на файл\n",
    "В Python для чтения и записи строковой информации в файл сначала нужно создать переменную, указывающую на этот файл на\n",
    "диске.\n",
    "Для создания переменных такого типа используется встроенная функция **open**.\n",
    "Синтаксис ее использования таков:\n",
    "***variable_name = open (file_address, access_mode)***\n",
    "Где\n",
    "**variable_name** - имя переменной указывающей на файл\n",
    "**file_address** - абсолютный или относительный адрес файла на диске\n",
    "**access_mode** - режим доступа в виде строки"
   ]
  },
  {
   "cell_type": "markdown",
   "metadata": {},
   "source": [
    "### Адресация файла\n",
    "Для указания, где на диске расположен или должен быть создан\n",
    "файл, используется его адрес в виде строки.\n",
    "Адрес бывает :\n",
    "\n",
    "● Абсолютный — вы указываете расположение файла относительно верха дисковой иерархии. Например, в ОС\n",
    "Windows это может выглядеть как **«C:\\temp\\a.txt»**\n",
    "/root/data/filename.txt\n",
    "../../../filename.txt\n",
    "\n",
    "● Относительный — адрес вычисляется относительно места, из которого запускается ваша программа. Так адрес вида «a.txt»\n",
    "указывает на то, что файл **«a.txt»** расположен в той же папке, что и ваша программа.\n",
    "\n",
    "***Внимание!*** Если вы используете абсолютную адресацию, то перед строковым литералом адреса нужно поставить букву r. Такая\n",
    "запись позволит Python корректно обработать адрес.\n",
    "\n",
    "Например, **open(r\"C:\\temp\\a.txt\",\"r\"))**"
   ]
  },
  {
   "cell_type": "markdown",
   "metadata": {},
   "source": [
    "### Режим доступа\n",
    "Для указания того, с применением каких атрибутов (режимов доступа) будет открыт файл, используется строка, в которой буквой указывается тип применяемого атрибута.\n",
    "\n",
    "● «r» - Открывает файл только для чтения. Указатель стоит в начале файла.\n",
    "\n",
    "● «w» - Открывает файл только для записи. Указатель стоит в начале файла. Создает файл, если его не существует.\n",
    "\n",
    "\n",
    "● «a» - Открывает файл для добавления информации в файл. Указатель стоит в конце файла. Создает файл, если его не  существует.\n",
    "\n",
    "\n",
    "\n",
    "Внимание! Эти режимы применяются только для символьных данных! Существуют режимы и для двоичных данных, но в этом курсе мы их не рассматриваем."
   ]
  },
  {
   "cell_type": "markdown",
   "metadata": {},
   "source": [
    "### Указатель в файле\n",
    "Вы можете представлять файл, как последовательность символов. Каждому символу присваивается порядковый номер, начиная с 0, и далее по возрастанию с шагом 1."
   ]
  },
  {
   "cell_type": "code",
   "execution_count": null,
   "metadata": {},
   "outputs": [],
   "source": [
    "file_one = open(\"a.txt\",\"w\")"
   ]
  },
  {
   "cell_type": "markdown",
   "metadata": {},
   "source": [
    "В данном примере переменная с именем file_one указывает на файл с адресом «a.txt». Это - относительный адрес, следовательно этот файл появится в той же папке, из которой запущена ваша программа. Тут выбран режим доступа «w», что означает, что файл открыт для записи, а если такого файла нет, то он будет создан."
   ]
  },
  {
   "cell_type": "markdown",
   "metadata": {},
   "source": [
    "#### Запись данных в файл\n",
    "Для записи данных в файл нужно выполнить следующую последовательность действий:\n",
    "\n",
    "1) Открыть файл в режиме записи\n",
    "\n",
    "2) С помощью методов ***write*** и ***writelines*** записать требуемые данные в файл\n",
    "\n",
    "3) С помощью метода ***close*** закрыть файл"
   ]
  },
  {
   "cell_type": "code",
   "execution_count": null,
   "metadata": {},
   "outputs": [],
   "source": [
    "file_one.write(\"Hello world\")"
   ]
  },
  {
   "cell_type": "code",
   "execution_count": null,
   "metadata": {
    "scrolled": true
   },
   "outputs": [],
   "source": [
    "file_one.write(\"Hello world\")\n",
    "file_one.write(\"CLOSED\")"
   ]
  },
  {
   "cell_type": "code",
   "execution_count": null,
   "metadata": {},
   "outputs": [],
   "source": [
    "file_one.close()\n"
   ]
  },
  {
   "cell_type": "markdown",
   "metadata": {},
   "source": [
    "**write(string)** запишет в файл строку str. Внимание! В отличие от **print()** он не переводит строку автоматически."
   ]
  },
  {
   "cell_type": "code",
   "execution_count": null,
   "metadata": {},
   "outputs": [],
   "source": [
    "file_one = open(\"a.txt\",\"w\")\n",
    "file_one.write(\"Hello world\\n\")\n",
    "file_one.write(\"\\t\\tHello world\\n\")\n",
    "file_one.write(\"Hello world\\n\")\n",
    "file_one.close()\n"
   ]
  },
  {
   "cell_type": "code",
   "execution_count": null,
   "metadata": {},
   "outputs": [],
   "source": [
    "students_list = [\"Olga\",\"Sergiy\",\"Petr\",\"Lidia\"]\n",
    "file_one = open(\"Students.txt\",\"w\")\n",
    "for i in range(len(students_list)):\n",
    "    file_one.write(f'{i+1})  {students_list[i]}\\n')\n",
    "file_one.close()"
   ]
  },
  {
   "cell_type": "code",
   "execution_count": null,
   "metadata": {
    "scrolled": true
   },
   "outputs": [],
   "source": [
    "file_one = open(\"Students.txt\",\"w\")\n",
    "for i, st in enumerate(students_list, 100):\n",
    "    file_one.write(f'{i})  {st}\\n')\n",
    "file_one.close()"
   ]
  },
  {
   "cell_type": "markdown",
   "metadata": {},
   "source": [
    "**writelines(list_str)** запишет в файл все строки, расположенные в списке *list_str*"
   ]
  },
  {
   "cell_type": "code",
   "execution_count": null,
   "metadata": {},
   "outputs": [],
   "source": [
    "students_list = [\"Olga\",\"Sergiy\",\"Petr\",\"Lidia\"]\n",
    "file_one = open(\"Students2.txt\",\"w\")\n",
    "file_one.write(students_list) # error\n",
    "file_one.close()"
   ]
  },
  {
   "cell_type": "code",
   "execution_count": null,
   "metadata": {},
   "outputs": [],
   "source": [
    "students_list = [\"Olga\",\"Sergiy\",\"Petr\",\"Lidia\"]\n",
    "file_one = open(\"Students2.txt\",\"w\")\n",
    "file_one.write(str(students_list))\n",
    "file_one.close()"
   ]
  },
  {
   "cell_type": "code",
   "execution_count": null,
   "metadata": {
    "scrolled": true
   },
   "outputs": [],
   "source": [
    "a = str(students_list)\n",
    "print(a)\n",
    "print(type(a))"
   ]
  },
  {
   "cell_type": "code",
   "execution_count": null,
   "metadata": {},
   "outputs": [],
   "source": [
    "students_list = [\"Olga\",\"Sergiy\",\"Petr\",\"Lidia\"]\n",
    "file_one = open(\"Students2.txt\",\"w\")\n",
    "file_one.writelines(students_list)\n",
    "file_one.close()"
   ]
  },
  {
   "cell_type": "markdown",
   "metadata": {},
   "source": [
    "#### Запись в файл с кодировкой «UTF-8»\n",
    "import codecs\n",
    "\n",
    "data = „unknow codec text“\n",
    "\n",
    "handle = codecs.open('some.txt', \"w\", 'utf-8')\n",
    "\n",
    "handle.write(str(data))\n",
    "\n",
    "handle.close()"
   ]
  },
  {
   "cell_type": "markdown",
   "metadata": {},
   "source": [
    "### Чтение данных из файла\n",
    "Для чтения данных из файла нужно выполнить следующую последовательность действий:\n",
    "\n",
    "1) Открыть файл в режиме чтения\n",
    "\n",
    "2) С помощью методов **read, readline и readlines** считать требуемые данные из файла\n",
    "\n",
    "3) С помощью метода **close** закрыть файл"
   ]
  },
  {
   "cell_type": "markdown",
   "metadata": {},
   "source": [
    "#### Методы для чтения из файла\n",
    "**read()** - возвращает строку содержащую все символы, хранящиеся в файле.\n",
    "\n",
    "**read(N)** - возвращает строку содержащую очередные N символов из файла.\n",
    "\n",
    "**readline()** - читает содержимое файла до ближайшего символа \\n и возвращает строку.\n",
    "\n",
    "**readlines()** - читает файл целиком и возвращает список строк."
   ]
  },
  {
   "cell_type": "code",
   "execution_count": 17,
   "metadata": {
    "scrolled": true
   },
   "outputs": [
    {
     "name": "stdout",
     "output_type": "stream",
     "text": [
      "['My awesome line\\n', 'Another line\\n', 'One more line']\n"
     ]
    }
   ],
   "source": [
    "file_one = open(\"a.txt\",\"r\")\n",
    "lst = file_one.readlines()\n",
    "file_one.close()\n",
    "print(lst)"
   ]
  },
  {
   "cell_type": "code",
   "execution_count": 19,
   "metadata": {},
   "outputs": [
    {
     "name": "stdout",
     "output_type": "stream",
     "text": [
      "'My awesome line\\n'\n"
     ]
    }
   ],
   "source": [
    "file_one = open(\"a.txt\",\"r\")\n",
    "lst = file_one.readline()\n",
    "\n",
    "print(lst)"
   ]
  },
  {
   "cell_type": "code",
   "execution_count": 20,
   "metadata": {},
   "outputs": [
    {
     "name": "stdout",
     "output_type": "stream",
     "text": [
      "Another line\n",
      "\n"
     ]
    }
   ],
   "source": [
    "lst = file_one.readline()\n",
    "print(lst)"
   ]
  },
  {
   "cell_type": "code",
   "execution_count": 21,
   "metadata": {
    "scrolled": true
   },
   "outputs": [
    {
     "name": "stdout",
     "output_type": "stream",
     "text": [
      "One more line\n"
     ]
    }
   ],
   "source": [
    "lst = file_one.readline()\n",
    "print(lst)"
   ]
  },
  {
   "cell_type": "code",
   "execution_count": 28,
   "metadata": {},
   "outputs": [
    {
     "ename": "ValueError",
     "evalue": "I/O operation on closed file.",
     "output_type": "error",
     "traceback": [
      "\u001b[0;31m---------------------------------------------------------------------------\u001b[0m",
      "\u001b[0;31mValueError\u001b[0m                                Traceback (most recent call last)",
      "\u001b[1;32m/Users/ivan.niekipielov/courses/basic-25102023/l_14_files.ipynb Cell 28\u001b[0m line \u001b[0;36m1\n\u001b[0;32m----> <a href='vscode-notebook-cell:/Users/ivan.niekipielov/courses/basic-25102023/l_14_files.ipynb#X36sZmlsZQ%3D%3D?line=0'>1</a>\u001b[0m lst \u001b[39m=\u001b[39m file_one\u001b[39m.\u001b[39;49mreadline()\n\u001b[1;32m      <a href='vscode-notebook-cell:/Users/ivan.niekipielov/courses/basic-25102023/l_14_files.ipynb#X36sZmlsZQ%3D%3D?line=1'>2</a>\u001b[0m \u001b[39mprint\u001b[39m(lst)\n",
      "\u001b[0;31mValueError\u001b[0m: I/O operation on closed file."
     ]
    }
   ],
   "source": [
    "lst = file_one.readline()\n",
    "print(lst)"
   ]
  },
  {
   "cell_type": "code",
   "execution_count": 27,
   "metadata": {},
   "outputs": [],
   "source": [
    "file_one.close()\n"
   ]
  },
  {
   "cell_type": "code",
   "execution_count": 29,
   "metadata": {},
   "outputs": [
    {
     "name": "stdout",
     "output_type": "stream",
     "text": [
      "My awesome line\n",
      "Another line\n",
      "One more line\n"
     ]
    }
   ],
   "source": [
    "file_one = open(\"a.txt\",\"r\")\n",
    "lst = file_one.read()\n",
    "print(lst)"
   ]
  },
  {
   "cell_type": "markdown",
   "metadata": {},
   "source": [
    "#### Удобный способ чтения из файла\n",
    "В случае, когда нужно построчно вычитать текстовый файл, существует удобный способ. Для этого нужно получить переменную\n",
    "связанную с файлом, и использовать цикл for для построчной вычитки из файла."
   ]
  },
  {
   "cell_type": "code",
   "execution_count": 31,
   "metadata": {
    "scrolled": false
   },
   "outputs": [
    {
     "name": "stdout",
     "output_type": "stream",
     "text": [
      "Line #0 My awesome line\n",
      "Line #1 Another line\n",
      "Line #2 One more line"
     ]
    }
   ],
   "source": [
    "file_one = open(\"a.txt\",\"r\")\n",
    "for text in file_one:\n",
    "    print(text, end='')\n",
    "file_one.close()"
   ]
  },
  {
   "cell_type": "code",
   "execution_count": 36,
   "metadata": {},
   "outputs": [
    {
     "name": "stdout",
     "output_type": "stream",
     "text": [
      "{0: 'My awesome line\\n', 1: 'Another line\\n', 2: 'One more line'}\n"
     ]
    }
   ],
   "source": [
    "f = open(\"a.txt\", 'r')\n",
    "print({i: s for i, s in enumerate(f)})\n",
    "f.close()"
   ]
  },
  {
   "cell_type": "markdown",
   "metadata": {},
   "source": [
    "### Как перемещаться по файлу\n",
    "При чтении или записи действие всегда происходит от текущего положения указателя. После записи или чтения из файла n\n",
    "символов, указатель сдвигается на n позиций. Т.е. получается последовательное продвижение файлового указателя от начала\n",
    "файла к его концу.\n",
    "В случае возникновения необходимости, вы можете передвинуть указатель. Для этого используется метод **seek**.\n",
    "Синтаксис его использования:\n",
    "\n",
    "**seek(N)** — установит указатель на *N-й* символ от начала файла.\n",
    "\n",
    "Например, **seek(0)** установит указатель в начало файла. **seek(5)** установит указатель на **5** символ."
   ]
  },
  {
   "cell_type": "code",
   "execution_count": 37,
   "metadata": {},
   "outputs": [
    {
     "name": "stdout",
     "output_type": "stream",
     "text": [
      "My a\n",
      "My aw\n",
      " line\n"
     ]
    }
   ],
   "source": [
    "file_one = open(\"a.txt\",\"r\")\n",
    "text = file_one.read(4)\n",
    "print(text)\n",
    "file_one.seek(0)\n",
    "\n",
    "text = file_one.read(5)\n",
    "print(text)\n",
    "\n",
    "file_one.seek(10)\n",
    "text = file_one.read(5)\n",
    "print(text)"
   ]
  },
  {
   "cell_type": "code",
   "execution_count": 38,
   "metadata": {},
   "outputs": [],
   "source": [
    "file_one.close()"
   ]
  },
  {
   "cell_type": "markdown",
   "metadata": {},
   "source": [
    "### Работа с файлом с помощью контекстного менеджера *with*"
   ]
  },
  {
   "cell_type": "code",
   "execution_count": 39,
   "metadata": {},
   "outputs": [],
   "source": [
    "with open('b.txt', 'w') as file_one:\n",
    "    file_one.write(\"Hi there!\")\n",
    "    file_one.write(\"Hi there!\")\n",
    "    file_one.write(\"Hi there!\")\n",
    "    file_one.write(\"Hi there!\")\n",
    "# нет необходимости закрывать файл в явном виде\n",
    "\n",
    "# file_one = open('b.txt', 'w')\n",
    "# file_one.write(\"Hi there!\")\n",
    "# file_one.write(\"Hi there!\")\n",
    "# file_one.write(\"Hi there!\")\n",
    "# file_one.write(\"Hi there!\")\n",
    "# file_one.close()"
   ]
  },
  {
   "cell_type": "code",
   "execution_count": 46,
   "metadata": {},
   "outputs": [],
   "source": [
    "from contextlib import contextmanager\n",
    "\n",
    "@contextmanager\n",
    "def file_context_manager(filename: str, mode: str):\n",
    "    f = open(filename, mode)\n",
    "    yield f\n",
    "    f.close()\n",
    "\n",
    "with file_context_manager(\"b.txt\", \"w\") as file_one:\n",
    "    file_one.write(\"Something!\")"
   ]
  },
  {
   "cell_type": "code",
   "execution_count": null,
   "metadata": {},
   "outputs": [],
   "source": [
    "for row in ws.iter_rows(min_row=1, max_col=3, max_row=2):\n",
    "    code = row[0].value\n",
    "    name = row[1].value"
   ]
  },
  {
   "cell_type": "markdown",
   "metadata": {},
   "source": [
    "### shelve — збереження об’єкта Python\n",
    "https://docs.python.org/uk/3/library/shelve.html"
   ]
  }
 ],
 "metadata": {
  "kernelspec": {
   "display_name": "Python 3 (ipykernel)",
   "language": "python",
   "name": "python3"
  },
  "language_info": {
   "codemirror_mode": {
    "name": "ipython",
    "version": 3
   },
   "file_extension": ".py",
   "mimetype": "text/x-python",
   "name": "python",
   "nbconvert_exporter": "python",
   "pygments_lexer": "ipython3",
   "version": "3.12.0"
  }
 },
 "nbformat": 4,
 "nbformat_minor": 2
}
